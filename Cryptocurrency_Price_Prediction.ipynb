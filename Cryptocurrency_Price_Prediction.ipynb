{
  "nbformat": 4,
  "nbformat_minor": 0,
  "metadata": {
    "colab": {
      "provenance": []
    },
    "kernelspec": {
      "name": "python3",
      "display_name": "Python 3"
    },
    "language_info": {
      "name": "python"
    }
  },
  "cells": [
    {
      "cell_type": "markdown",
      "source": [
        "**IMPORTING LIBRARIES**"
      ],
      "metadata": {
        "id": "v18Os07Lc_z4"
      }
    },
    {
      "cell_type": "code",
      "execution_count": 38,
      "metadata": {
        "id": "_moYvHqHbiNL"
      },
      "outputs": [],
      "source": [
        "# First we will import the necessary Library \n",
        "\n",
        "import os\n",
        "import pandas as pd\n",
        "import numpy as np\n",
        "import math\n",
        "import datetime as dt\n",
        "import matplotlib.pyplot as plt\n",
        "\n",
        "# For Evalution we will use these library\n",
        "\n",
        "from sklearn.metrics import mean_squared_error, mean_absolute_error, explained_variance_score, r2_score \n",
        "from sklearn.metrics import mean_poisson_deviance, mean_gamma_deviance, accuracy_score\n",
        "from sklearn.preprocessing import MinMaxScaler\n",
        "\n",
        "# For model building we will use these library\n",
        "\n",
        "import tensorflow as tf\n",
        "from tensorflow.keras.models import Sequential\n",
        "from tensorflow.keras.layers import Dense, Dropout\n",
        "from tensorflow.keras.layers import LSTM\n",
        "\n",
        "\n",
        "# For PLotting we will use these library\n",
        "\n",
        "import matplotlib.pyplot as plt\n",
        "from itertools import cycle\n",
        "import plotly.graph_objects as go\n",
        "import plotly.express as px\n",
        "from plotly.subplots import make_subplots"
      ]
    },
    {
      "cell_type": "markdown",
      "source": [
        "**LOAD DATASET**"
      ],
      "metadata": {
        "id": "Kla-Ntv5dIwS"
      }
    },
    {
      "cell_type": "code",
      "source": [
        "# Load our dataset \n",
        "# Note it should be in same dir\n",
        "\n",
        "\n",
        "maindf=pd.read_csv('Binance_BTCUSDT_d(12_2017_12_2022).csv')"
      ],
      "metadata": {
        "id": "TB87GuAWb-EO"
      },
      "execution_count": 39,
      "outputs": []
    },
    {
      "cell_type": "code",
      "source": [
        "print('Total number of days present in the dataset: ',maindf.shape[0])\n",
        "print('Total number of fields present in the dataset: ',maindf.shape[1])"
      ],
      "metadata": {
        "colab": {
          "base_uri": "https://localhost:8080/"
        },
        "id": "oiPS04bhcUxl",
        "outputId": "37d60d8c-ea0a-471f-d579-7f73b24de709"
      },
      "execution_count": 40,
      "outputs": [
        {
          "output_type": "stream",
          "name": "stdout",
          "text": [
            "Total number of days present in the dataset:  1840\n",
            "Total number of fields present in the dataset:  9\n"
          ]
        }
      ]
    },
    {
      "cell_type": "code",
      "source": [
        "maindf.shape"
      ],
      "metadata": {
        "colab": {
          "base_uri": "https://localhost:8080/"
        },
        "id": "3PcFaTMEccHz",
        "outputId": "175553ab-d04d-4f7b-eaa1-a717e6495d02"
      },
      "execution_count": 41,
      "outputs": [
        {
          "output_type": "execute_result",
          "data": {
            "text/plain": [
              "(1840, 9)"
            ]
          },
          "metadata": {},
          "execution_count": 41
        }
      ]
    },
    {
      "cell_type": "code",
      "source": [
        "maindf.head()"
      ],
      "metadata": {
        "colab": {
          "base_uri": "https://localhost:8080/",
          "height": 206
        },
        "id": "ff0teAWfcd31",
        "outputId": "be0818c3-9f27-4a5c-9213-e5449e98c68d"
      },
      "execution_count": 42,
      "outputs": [
        {
          "output_type": "execute_result",
          "data": {
            "text/plain": [
              "         date    symbol      open      high       low     close   Volume BTC  \\\n",
              "0  2017-12-18  BTC/USDT  18860.04  19300.00  17029.98  18856.25  10624.63307   \n",
              "1  2017-12-19  BTC/USDT  18856.25  18950.00  16300.00  17295.20  13210.74822   \n",
              "2  2017-12-20  BTC/USDT  17295.20  17720.35  14777.66  16488.98  13450.49669   \n",
              "3  2017-12-21  BTC/USDT  16480.52  17309.50  14022.00  15492.64  20324.21730   \n",
              "4  2017-12-22  BTC/USDT  15514.03  15699.34  10961.00  13326.61  36076.27118   \n",
              "\n",
              "   Volume USDT  tradecount  \n",
              "0  196339245.7       91956  \n",
              "1  232790625.9      116569  \n",
              "2  221193892.5      129762  \n",
              "3  320176825.3      117731  \n",
              "4  477509934.7      243261  "
            ],
            "text/html": [
              "\n",
              "  <div id=\"df-8771c2d4-8ff7-44cb-a1e1-d526e93d98e6\">\n",
              "    <div class=\"colab-df-container\">\n",
              "      <div>\n",
              "<style scoped>\n",
              "    .dataframe tbody tr th:only-of-type {\n",
              "        vertical-align: middle;\n",
              "    }\n",
              "\n",
              "    .dataframe tbody tr th {\n",
              "        vertical-align: top;\n",
              "    }\n",
              "\n",
              "    .dataframe thead th {\n",
              "        text-align: right;\n",
              "    }\n",
              "</style>\n",
              "<table border=\"1\" class=\"dataframe\">\n",
              "  <thead>\n",
              "    <tr style=\"text-align: right;\">\n",
              "      <th></th>\n",
              "      <th>date</th>\n",
              "      <th>symbol</th>\n",
              "      <th>open</th>\n",
              "      <th>high</th>\n",
              "      <th>low</th>\n",
              "      <th>close</th>\n",
              "      <th>Volume BTC</th>\n",
              "      <th>Volume USDT</th>\n",
              "      <th>tradecount</th>\n",
              "    </tr>\n",
              "  </thead>\n",
              "  <tbody>\n",
              "    <tr>\n",
              "      <th>0</th>\n",
              "      <td>2017-12-18</td>\n",
              "      <td>BTC/USDT</td>\n",
              "      <td>18860.04</td>\n",
              "      <td>19300.00</td>\n",
              "      <td>17029.98</td>\n",
              "      <td>18856.25</td>\n",
              "      <td>10624.63307</td>\n",
              "      <td>196339245.7</td>\n",
              "      <td>91956</td>\n",
              "    </tr>\n",
              "    <tr>\n",
              "      <th>1</th>\n",
              "      <td>2017-12-19</td>\n",
              "      <td>BTC/USDT</td>\n",
              "      <td>18856.25</td>\n",
              "      <td>18950.00</td>\n",
              "      <td>16300.00</td>\n",
              "      <td>17295.20</td>\n",
              "      <td>13210.74822</td>\n",
              "      <td>232790625.9</td>\n",
              "      <td>116569</td>\n",
              "    </tr>\n",
              "    <tr>\n",
              "      <th>2</th>\n",
              "      <td>2017-12-20</td>\n",
              "      <td>BTC/USDT</td>\n",
              "      <td>17295.20</td>\n",
              "      <td>17720.35</td>\n",
              "      <td>14777.66</td>\n",
              "      <td>16488.98</td>\n",
              "      <td>13450.49669</td>\n",
              "      <td>221193892.5</td>\n",
              "      <td>129762</td>\n",
              "    </tr>\n",
              "    <tr>\n",
              "      <th>3</th>\n",
              "      <td>2017-12-21</td>\n",
              "      <td>BTC/USDT</td>\n",
              "      <td>16480.52</td>\n",
              "      <td>17309.50</td>\n",
              "      <td>14022.00</td>\n",
              "      <td>15492.64</td>\n",
              "      <td>20324.21730</td>\n",
              "      <td>320176825.3</td>\n",
              "      <td>117731</td>\n",
              "    </tr>\n",
              "    <tr>\n",
              "      <th>4</th>\n",
              "      <td>2017-12-22</td>\n",
              "      <td>BTC/USDT</td>\n",
              "      <td>15514.03</td>\n",
              "      <td>15699.34</td>\n",
              "      <td>10961.00</td>\n",
              "      <td>13326.61</td>\n",
              "      <td>36076.27118</td>\n",
              "      <td>477509934.7</td>\n",
              "      <td>243261</td>\n",
              "    </tr>\n",
              "  </tbody>\n",
              "</table>\n",
              "</div>\n",
              "      <button class=\"colab-df-convert\" onclick=\"convertToInteractive('df-8771c2d4-8ff7-44cb-a1e1-d526e93d98e6')\"\n",
              "              title=\"Convert this dataframe to an interactive table.\"\n",
              "              style=\"display:none;\">\n",
              "        \n",
              "  <svg xmlns=\"http://www.w3.org/2000/svg\" height=\"24px\"viewBox=\"0 0 24 24\"\n",
              "       width=\"24px\">\n",
              "    <path d=\"M0 0h24v24H0V0z\" fill=\"none\"/>\n",
              "    <path d=\"M18.56 5.44l.94 2.06.94-2.06 2.06-.94-2.06-.94-.94-2.06-.94 2.06-2.06.94zm-11 1L8.5 8.5l.94-2.06 2.06-.94-2.06-.94L8.5 2.5l-.94 2.06-2.06.94zm10 10l.94 2.06.94-2.06 2.06-.94-2.06-.94-.94-2.06-.94 2.06-2.06.94z\"/><path d=\"M17.41 7.96l-1.37-1.37c-.4-.4-.92-.59-1.43-.59-.52 0-1.04.2-1.43.59L10.3 9.45l-7.72 7.72c-.78.78-.78 2.05 0 2.83L4 21.41c.39.39.9.59 1.41.59.51 0 1.02-.2 1.41-.59l7.78-7.78 2.81-2.81c.8-.78.8-2.07 0-2.86zM5.41 20L4 18.59l7.72-7.72 1.47 1.35L5.41 20z\"/>\n",
              "  </svg>\n",
              "      </button>\n",
              "      \n",
              "  <style>\n",
              "    .colab-df-container {\n",
              "      display:flex;\n",
              "      flex-wrap:wrap;\n",
              "      gap: 12px;\n",
              "    }\n",
              "\n",
              "    .colab-df-convert {\n",
              "      background-color: #E8F0FE;\n",
              "      border: none;\n",
              "      border-radius: 50%;\n",
              "      cursor: pointer;\n",
              "      display: none;\n",
              "      fill: #1967D2;\n",
              "      height: 32px;\n",
              "      padding: 0 0 0 0;\n",
              "      width: 32px;\n",
              "    }\n",
              "\n",
              "    .colab-df-convert:hover {\n",
              "      background-color: #E2EBFA;\n",
              "      box-shadow: 0px 1px 2px rgba(60, 64, 67, 0.3), 0px 1px 3px 1px rgba(60, 64, 67, 0.15);\n",
              "      fill: #174EA6;\n",
              "    }\n",
              "\n",
              "    [theme=dark] .colab-df-convert {\n",
              "      background-color: #3B4455;\n",
              "      fill: #D2E3FC;\n",
              "    }\n",
              "\n",
              "    [theme=dark] .colab-df-convert:hover {\n",
              "      background-color: #434B5C;\n",
              "      box-shadow: 0px 1px 3px 1px rgba(0, 0, 0, 0.15);\n",
              "      filter: drop-shadow(0px 1px 2px rgba(0, 0, 0, 0.3));\n",
              "      fill: #FFFFFF;\n",
              "    }\n",
              "  </style>\n",
              "\n",
              "      <script>\n",
              "        const buttonEl =\n",
              "          document.querySelector('#df-8771c2d4-8ff7-44cb-a1e1-d526e93d98e6 button.colab-df-convert');\n",
              "        buttonEl.style.display =\n",
              "          google.colab.kernel.accessAllowed ? 'block' : 'none';\n",
              "\n",
              "        async function convertToInteractive(key) {\n",
              "          const element = document.querySelector('#df-8771c2d4-8ff7-44cb-a1e1-d526e93d98e6');\n",
              "          const dataTable =\n",
              "            await google.colab.kernel.invokeFunction('convertToInteractive',\n",
              "                                                     [key], {});\n",
              "          if (!dataTable) return;\n",
              "\n",
              "          const docLinkHtml = 'Like what you see? Visit the ' +\n",
              "            '<a target=\"_blank\" href=https://colab.research.google.com/notebooks/data_table.ipynb>data table notebook</a>'\n",
              "            + ' to learn more about interactive tables.';\n",
              "          element.innerHTML = '';\n",
              "          dataTable['output_type'] = 'display_data';\n",
              "          await google.colab.output.renderOutput(dataTable, element);\n",
              "          const docLink = document.createElement('div');\n",
              "          docLink.innerHTML = docLinkHtml;\n",
              "          element.appendChild(docLink);\n",
              "        }\n",
              "      </script>\n",
              "    </div>\n",
              "  </div>\n",
              "  "
            ]
          },
          "metadata": {},
          "execution_count": 42
        }
      ]
    },
    {
      "cell_type": "code",
      "source": [
        "maindf.tail()"
      ],
      "metadata": {
        "colab": {
          "base_uri": "https://localhost:8080/",
          "height": 206
        },
        "id": "4oqBh9m3cg2a",
        "outputId": "24921375-775e-4b54-84a2-f72c97259ac5"
      },
      "execution_count": 43,
      "outputs": [
        {
          "output_type": "execute_result",
          "data": {
            "text/plain": [
              "            date    symbol      open      high       low     close  \\\n",
              "1835  2022-12-27  BTC/USDT  16919.39  16972.83  16592.37  16706.36   \n",
              "1836  2022-12-28  BTC/USDT  16706.06  16785.19  16465.33  16547.31   \n",
              "1837  2022-12-29  BTC/USDT  16547.32  16664.41  16488.91  16633.47   \n",
              "1838  2022-12-30  BTC/USDT  16633.47  16677.35  16333.00  16607.48   \n",
              "1839  2022-12-31  BTC/USDT  16607.48  16644.09  16470.00  16542.40   \n",
              "\n",
              "       Volume BTC   Volume USDT  tradecount  \n",
              "1835  173749.5862  2.918380e+09     5047628  \n",
              "1836  193037.5658  3.210894e+09     5465468  \n",
              "1837  160998.4716  2.671666e+09     4553877  \n",
              "1838  164916.3117  2.726831e+09     4310415  \n",
              "1839  114490.4286  1.897048e+09     3344374  "
            ],
            "text/html": [
              "\n",
              "  <div id=\"df-c88b7bca-84ef-49b6-a563-819952ce9687\">\n",
              "    <div class=\"colab-df-container\">\n",
              "      <div>\n",
              "<style scoped>\n",
              "    .dataframe tbody tr th:only-of-type {\n",
              "        vertical-align: middle;\n",
              "    }\n",
              "\n",
              "    .dataframe tbody tr th {\n",
              "        vertical-align: top;\n",
              "    }\n",
              "\n",
              "    .dataframe thead th {\n",
              "        text-align: right;\n",
              "    }\n",
              "</style>\n",
              "<table border=\"1\" class=\"dataframe\">\n",
              "  <thead>\n",
              "    <tr style=\"text-align: right;\">\n",
              "      <th></th>\n",
              "      <th>date</th>\n",
              "      <th>symbol</th>\n",
              "      <th>open</th>\n",
              "      <th>high</th>\n",
              "      <th>low</th>\n",
              "      <th>close</th>\n",
              "      <th>Volume BTC</th>\n",
              "      <th>Volume USDT</th>\n",
              "      <th>tradecount</th>\n",
              "    </tr>\n",
              "  </thead>\n",
              "  <tbody>\n",
              "    <tr>\n",
              "      <th>1835</th>\n",
              "      <td>2022-12-27</td>\n",
              "      <td>BTC/USDT</td>\n",
              "      <td>16919.39</td>\n",
              "      <td>16972.83</td>\n",
              "      <td>16592.37</td>\n",
              "      <td>16706.36</td>\n",
              "      <td>173749.5862</td>\n",
              "      <td>2.918380e+09</td>\n",
              "      <td>5047628</td>\n",
              "    </tr>\n",
              "    <tr>\n",
              "      <th>1836</th>\n",
              "      <td>2022-12-28</td>\n",
              "      <td>BTC/USDT</td>\n",
              "      <td>16706.06</td>\n",
              "      <td>16785.19</td>\n",
              "      <td>16465.33</td>\n",
              "      <td>16547.31</td>\n",
              "      <td>193037.5658</td>\n",
              "      <td>3.210894e+09</td>\n",
              "      <td>5465468</td>\n",
              "    </tr>\n",
              "    <tr>\n",
              "      <th>1837</th>\n",
              "      <td>2022-12-29</td>\n",
              "      <td>BTC/USDT</td>\n",
              "      <td>16547.32</td>\n",
              "      <td>16664.41</td>\n",
              "      <td>16488.91</td>\n",
              "      <td>16633.47</td>\n",
              "      <td>160998.4716</td>\n",
              "      <td>2.671666e+09</td>\n",
              "      <td>4553877</td>\n",
              "    </tr>\n",
              "    <tr>\n",
              "      <th>1838</th>\n",
              "      <td>2022-12-30</td>\n",
              "      <td>BTC/USDT</td>\n",
              "      <td>16633.47</td>\n",
              "      <td>16677.35</td>\n",
              "      <td>16333.00</td>\n",
              "      <td>16607.48</td>\n",
              "      <td>164916.3117</td>\n",
              "      <td>2.726831e+09</td>\n",
              "      <td>4310415</td>\n",
              "    </tr>\n",
              "    <tr>\n",
              "      <th>1839</th>\n",
              "      <td>2022-12-31</td>\n",
              "      <td>BTC/USDT</td>\n",
              "      <td>16607.48</td>\n",
              "      <td>16644.09</td>\n",
              "      <td>16470.00</td>\n",
              "      <td>16542.40</td>\n",
              "      <td>114490.4286</td>\n",
              "      <td>1.897048e+09</td>\n",
              "      <td>3344374</td>\n",
              "    </tr>\n",
              "  </tbody>\n",
              "</table>\n",
              "</div>\n",
              "      <button class=\"colab-df-convert\" onclick=\"convertToInteractive('df-c88b7bca-84ef-49b6-a563-819952ce9687')\"\n",
              "              title=\"Convert this dataframe to an interactive table.\"\n",
              "              style=\"display:none;\">\n",
              "        \n",
              "  <svg xmlns=\"http://www.w3.org/2000/svg\" height=\"24px\"viewBox=\"0 0 24 24\"\n",
              "       width=\"24px\">\n",
              "    <path d=\"M0 0h24v24H0V0z\" fill=\"none\"/>\n",
              "    <path d=\"M18.56 5.44l.94 2.06.94-2.06 2.06-.94-2.06-.94-.94-2.06-.94 2.06-2.06.94zm-11 1L8.5 8.5l.94-2.06 2.06-.94-2.06-.94L8.5 2.5l-.94 2.06-2.06.94zm10 10l.94 2.06.94-2.06 2.06-.94-2.06-.94-.94-2.06-.94 2.06-2.06.94z\"/><path d=\"M17.41 7.96l-1.37-1.37c-.4-.4-.92-.59-1.43-.59-.52 0-1.04.2-1.43.59L10.3 9.45l-7.72 7.72c-.78.78-.78 2.05 0 2.83L4 21.41c.39.39.9.59 1.41.59.51 0 1.02-.2 1.41-.59l7.78-7.78 2.81-2.81c.8-.78.8-2.07 0-2.86zM5.41 20L4 18.59l7.72-7.72 1.47 1.35L5.41 20z\"/>\n",
              "  </svg>\n",
              "      </button>\n",
              "      \n",
              "  <style>\n",
              "    .colab-df-container {\n",
              "      display:flex;\n",
              "      flex-wrap:wrap;\n",
              "      gap: 12px;\n",
              "    }\n",
              "\n",
              "    .colab-df-convert {\n",
              "      background-color: #E8F0FE;\n",
              "      border: none;\n",
              "      border-radius: 50%;\n",
              "      cursor: pointer;\n",
              "      display: none;\n",
              "      fill: #1967D2;\n",
              "      height: 32px;\n",
              "      padding: 0 0 0 0;\n",
              "      width: 32px;\n",
              "    }\n",
              "\n",
              "    .colab-df-convert:hover {\n",
              "      background-color: #E2EBFA;\n",
              "      box-shadow: 0px 1px 2px rgba(60, 64, 67, 0.3), 0px 1px 3px 1px rgba(60, 64, 67, 0.15);\n",
              "      fill: #174EA6;\n",
              "    }\n",
              "\n",
              "    [theme=dark] .colab-df-convert {\n",
              "      background-color: #3B4455;\n",
              "      fill: #D2E3FC;\n",
              "    }\n",
              "\n",
              "    [theme=dark] .colab-df-convert:hover {\n",
              "      background-color: #434B5C;\n",
              "      box-shadow: 0px 1px 3px 1px rgba(0, 0, 0, 0.15);\n",
              "      filter: drop-shadow(0px 1px 2px rgba(0, 0, 0, 0.3));\n",
              "      fill: #FFFFFF;\n",
              "    }\n",
              "  </style>\n",
              "\n",
              "      <script>\n",
              "        const buttonEl =\n",
              "          document.querySelector('#df-c88b7bca-84ef-49b6-a563-819952ce9687 button.colab-df-convert');\n",
              "        buttonEl.style.display =\n",
              "          google.colab.kernel.accessAllowed ? 'block' : 'none';\n",
              "\n",
              "        async function convertToInteractive(key) {\n",
              "          const element = document.querySelector('#df-c88b7bca-84ef-49b6-a563-819952ce9687');\n",
              "          const dataTable =\n",
              "            await google.colab.kernel.invokeFunction('convertToInteractive',\n",
              "                                                     [key], {});\n",
              "          if (!dataTable) return;\n",
              "\n",
              "          const docLinkHtml = 'Like what you see? Visit the ' +\n",
              "            '<a target=\"_blank\" href=https://colab.research.google.com/notebooks/data_table.ipynb>data table notebook</a>'\n",
              "            + ' to learn more about interactive tables.';\n",
              "          element.innerHTML = '';\n",
              "          dataTable['output_type'] = 'display_data';\n",
              "          await google.colab.output.renderOutput(dataTable, element);\n",
              "          const docLink = document.createElement('div');\n",
              "          docLink.innerHTML = docLinkHtml;\n",
              "          element.appendChild(docLink);\n",
              "        }\n",
              "      </script>\n",
              "    </div>\n",
              "  </div>\n",
              "  "
            ]
          },
          "metadata": {},
          "execution_count": 43
        }
      ]
    },
    {
      "cell_type": "code",
      "source": [
        "maindf.info()"
      ],
      "metadata": {
        "colab": {
          "base_uri": "https://localhost:8080/"
        },
        "id": "4vZyKKncckpq",
        "outputId": "8e669873-d120-464a-bf1f-7a7773a18943"
      },
      "execution_count": 44,
      "outputs": [
        {
          "output_type": "stream",
          "name": "stdout",
          "text": [
            "<class 'pandas.core.frame.DataFrame'>\n",
            "RangeIndex: 1840 entries, 0 to 1839\n",
            "Data columns (total 9 columns):\n",
            " #   Column       Non-Null Count  Dtype  \n",
            "---  ------       --------------  -----  \n",
            " 0   date         1840 non-null   object \n",
            " 1   symbol       1840 non-null   object \n",
            " 2   open         1840 non-null   float64\n",
            " 3   high         1840 non-null   float64\n",
            " 4   low          1840 non-null   float64\n",
            " 5   close        1840 non-null   float64\n",
            " 6   Volume BTC   1840 non-null   float64\n",
            " 7   Volume USDT  1840 non-null   float64\n",
            " 8   tradecount   1840 non-null   int64  \n",
            "dtypes: float64(6), int64(1), object(2)\n",
            "memory usage: 129.5+ KB\n"
          ]
        }
      ]
    },
    {
      "cell_type": "code",
      "source": [
        "maindf.describe()"
      ],
      "metadata": {
        "colab": {
          "base_uri": "https://localhost:8080/",
          "height": 300
        },
        "id": "BWttTv6McnpW",
        "outputId": "33fd4038-3c8a-4a75-ce59-42b50fd6a2bb"
      },
      "execution_count": 45,
      "outputs": [
        {
          "output_type": "execute_result",
          "data": {
            "text/plain": [
              "               open          high           low         close     Volume BTC  \\\n",
              "count   1840.000000   1840.000000   1840.000000   1840.000000    1840.000000   \n",
              "mean   20274.189179  20831.269913  19626.359288  20272.595603   72439.890976   \n",
              "std    16921.786548  17393.964164  16375.931848  16922.159221   72279.716954   \n",
              "min     3211.710000   3276.500000   3156.260000   3211.720000    1521.537318   \n",
              "25%     7708.970000   7939.485000   7459.680000   7708.970000   33504.786670   \n",
              "50%    11034.475000  11410.905000  10652.950000  11034.480000   49359.195775   \n",
              "75%    33527.057500  34725.202500  31965.605000  33532.975000   79893.761678   \n",
              "max    67525.820000  69000.000000  66222.400000  67525.830000  760705.362800   \n",
              "\n",
              "        Volume USDT    tradecount  \n",
              "count  1.840000e+03  1.840000e+03  \n",
              "mean   1.552102e+09  1.304019e+06  \n",
              "std    1.806907e+09  1.624215e+06  \n",
              "min    1.177017e+07  1.241700e+04  \n",
              "25%    2.825812e+08  2.961682e+05  \n",
              "50%    6.707131e+08  7.321885e+05  \n",
              "75%    2.418677e+09  1.570384e+06  \n",
              "max    1.475838e+10  1.453060e+07  "
            ],
            "text/html": [
              "\n",
              "  <div id=\"df-0c3fa8de-af22-4a9c-b2f3-68be3cd456e2\">\n",
              "    <div class=\"colab-df-container\">\n",
              "      <div>\n",
              "<style scoped>\n",
              "    .dataframe tbody tr th:only-of-type {\n",
              "        vertical-align: middle;\n",
              "    }\n",
              "\n",
              "    .dataframe tbody tr th {\n",
              "        vertical-align: top;\n",
              "    }\n",
              "\n",
              "    .dataframe thead th {\n",
              "        text-align: right;\n",
              "    }\n",
              "</style>\n",
              "<table border=\"1\" class=\"dataframe\">\n",
              "  <thead>\n",
              "    <tr style=\"text-align: right;\">\n",
              "      <th></th>\n",
              "      <th>open</th>\n",
              "      <th>high</th>\n",
              "      <th>low</th>\n",
              "      <th>close</th>\n",
              "      <th>Volume BTC</th>\n",
              "      <th>Volume USDT</th>\n",
              "      <th>tradecount</th>\n",
              "    </tr>\n",
              "  </thead>\n",
              "  <tbody>\n",
              "    <tr>\n",
              "      <th>count</th>\n",
              "      <td>1840.000000</td>\n",
              "      <td>1840.000000</td>\n",
              "      <td>1840.000000</td>\n",
              "      <td>1840.000000</td>\n",
              "      <td>1840.000000</td>\n",
              "      <td>1.840000e+03</td>\n",
              "      <td>1.840000e+03</td>\n",
              "    </tr>\n",
              "    <tr>\n",
              "      <th>mean</th>\n",
              "      <td>20274.189179</td>\n",
              "      <td>20831.269913</td>\n",
              "      <td>19626.359288</td>\n",
              "      <td>20272.595603</td>\n",
              "      <td>72439.890976</td>\n",
              "      <td>1.552102e+09</td>\n",
              "      <td>1.304019e+06</td>\n",
              "    </tr>\n",
              "    <tr>\n",
              "      <th>std</th>\n",
              "      <td>16921.786548</td>\n",
              "      <td>17393.964164</td>\n",
              "      <td>16375.931848</td>\n",
              "      <td>16922.159221</td>\n",
              "      <td>72279.716954</td>\n",
              "      <td>1.806907e+09</td>\n",
              "      <td>1.624215e+06</td>\n",
              "    </tr>\n",
              "    <tr>\n",
              "      <th>min</th>\n",
              "      <td>3211.710000</td>\n",
              "      <td>3276.500000</td>\n",
              "      <td>3156.260000</td>\n",
              "      <td>3211.720000</td>\n",
              "      <td>1521.537318</td>\n",
              "      <td>1.177017e+07</td>\n",
              "      <td>1.241700e+04</td>\n",
              "    </tr>\n",
              "    <tr>\n",
              "      <th>25%</th>\n",
              "      <td>7708.970000</td>\n",
              "      <td>7939.485000</td>\n",
              "      <td>7459.680000</td>\n",
              "      <td>7708.970000</td>\n",
              "      <td>33504.786670</td>\n",
              "      <td>2.825812e+08</td>\n",
              "      <td>2.961682e+05</td>\n",
              "    </tr>\n",
              "    <tr>\n",
              "      <th>50%</th>\n",
              "      <td>11034.475000</td>\n",
              "      <td>11410.905000</td>\n",
              "      <td>10652.950000</td>\n",
              "      <td>11034.480000</td>\n",
              "      <td>49359.195775</td>\n",
              "      <td>6.707131e+08</td>\n",
              "      <td>7.321885e+05</td>\n",
              "    </tr>\n",
              "    <tr>\n",
              "      <th>75%</th>\n",
              "      <td>33527.057500</td>\n",
              "      <td>34725.202500</td>\n",
              "      <td>31965.605000</td>\n",
              "      <td>33532.975000</td>\n",
              "      <td>79893.761678</td>\n",
              "      <td>2.418677e+09</td>\n",
              "      <td>1.570384e+06</td>\n",
              "    </tr>\n",
              "    <tr>\n",
              "      <th>max</th>\n",
              "      <td>67525.820000</td>\n",
              "      <td>69000.000000</td>\n",
              "      <td>66222.400000</td>\n",
              "      <td>67525.830000</td>\n",
              "      <td>760705.362800</td>\n",
              "      <td>1.475838e+10</td>\n",
              "      <td>1.453060e+07</td>\n",
              "    </tr>\n",
              "  </tbody>\n",
              "</table>\n",
              "</div>\n",
              "      <button class=\"colab-df-convert\" onclick=\"convertToInteractive('df-0c3fa8de-af22-4a9c-b2f3-68be3cd456e2')\"\n",
              "              title=\"Convert this dataframe to an interactive table.\"\n",
              "              style=\"display:none;\">\n",
              "        \n",
              "  <svg xmlns=\"http://www.w3.org/2000/svg\" height=\"24px\"viewBox=\"0 0 24 24\"\n",
              "       width=\"24px\">\n",
              "    <path d=\"M0 0h24v24H0V0z\" fill=\"none\"/>\n",
              "    <path d=\"M18.56 5.44l.94 2.06.94-2.06 2.06-.94-2.06-.94-.94-2.06-.94 2.06-2.06.94zm-11 1L8.5 8.5l.94-2.06 2.06-.94-2.06-.94L8.5 2.5l-.94 2.06-2.06.94zm10 10l.94 2.06.94-2.06 2.06-.94-2.06-.94-.94-2.06-.94 2.06-2.06.94z\"/><path d=\"M17.41 7.96l-1.37-1.37c-.4-.4-.92-.59-1.43-.59-.52 0-1.04.2-1.43.59L10.3 9.45l-7.72 7.72c-.78.78-.78 2.05 0 2.83L4 21.41c.39.39.9.59 1.41.59.51 0 1.02-.2 1.41-.59l7.78-7.78 2.81-2.81c.8-.78.8-2.07 0-2.86zM5.41 20L4 18.59l7.72-7.72 1.47 1.35L5.41 20z\"/>\n",
              "  </svg>\n",
              "      </button>\n",
              "      \n",
              "  <style>\n",
              "    .colab-df-container {\n",
              "      display:flex;\n",
              "      flex-wrap:wrap;\n",
              "      gap: 12px;\n",
              "    }\n",
              "\n",
              "    .colab-df-convert {\n",
              "      background-color: #E8F0FE;\n",
              "      border: none;\n",
              "      border-radius: 50%;\n",
              "      cursor: pointer;\n",
              "      display: none;\n",
              "      fill: #1967D2;\n",
              "      height: 32px;\n",
              "      padding: 0 0 0 0;\n",
              "      width: 32px;\n",
              "    }\n",
              "\n",
              "    .colab-df-convert:hover {\n",
              "      background-color: #E2EBFA;\n",
              "      box-shadow: 0px 1px 2px rgba(60, 64, 67, 0.3), 0px 1px 3px 1px rgba(60, 64, 67, 0.15);\n",
              "      fill: #174EA6;\n",
              "    }\n",
              "\n",
              "    [theme=dark] .colab-df-convert {\n",
              "      background-color: #3B4455;\n",
              "      fill: #D2E3FC;\n",
              "    }\n",
              "\n",
              "    [theme=dark] .colab-df-convert:hover {\n",
              "      background-color: #434B5C;\n",
              "      box-shadow: 0px 1px 3px 1px rgba(0, 0, 0, 0.15);\n",
              "      filter: drop-shadow(0px 1px 2px rgba(0, 0, 0, 0.3));\n",
              "      fill: #FFFFFF;\n",
              "    }\n",
              "  </style>\n",
              "\n",
              "      <script>\n",
              "        const buttonEl =\n",
              "          document.querySelector('#df-0c3fa8de-af22-4a9c-b2f3-68be3cd456e2 button.colab-df-convert');\n",
              "        buttonEl.style.display =\n",
              "          google.colab.kernel.accessAllowed ? 'block' : 'none';\n",
              "\n",
              "        async function convertToInteractive(key) {\n",
              "          const element = document.querySelector('#df-0c3fa8de-af22-4a9c-b2f3-68be3cd456e2');\n",
              "          const dataTable =\n",
              "            await google.colab.kernel.invokeFunction('convertToInteractive',\n",
              "                                                     [key], {});\n",
              "          if (!dataTable) return;\n",
              "\n",
              "          const docLinkHtml = 'Like what you see? Visit the ' +\n",
              "            '<a target=\"_blank\" href=https://colab.research.google.com/notebooks/data_table.ipynb>data table notebook</a>'\n",
              "            + ' to learn more about interactive tables.';\n",
              "          element.innerHTML = '';\n",
              "          dataTable['output_type'] = 'display_data';\n",
              "          await google.colab.output.renderOutput(dataTable, element);\n",
              "          const docLink = document.createElement('div');\n",
              "          docLink.innerHTML = docLinkHtml;\n",
              "          element.appendChild(docLink);\n",
              "        }\n",
              "      </script>\n",
              "    </div>\n",
              "  </div>\n",
              "  "
            ]
          },
          "metadata": {},
          "execution_count": 45
        }
      ]
    },
    {
      "cell_type": "markdown",
      "source": [
        "CHECKING FOR NULL VALUES"
      ],
      "metadata": {
        "id": "LuOSYBIndOVG"
      }
    },
    {
      "cell_type": "code",
      "source": [
        "print('Null Values:',maindf.isnull().values.sum())"
      ],
      "metadata": {
        "colab": {
          "base_uri": "https://localhost:8080/"
        },
        "id": "HCGzRXApcszC",
        "outputId": "dca72694-9970-4a20-99e8-d7c945bd474d"
      },
      "execution_count": 46,
      "outputs": [
        {
          "output_type": "stream",
          "name": "stdout",
          "text": [
            "Null Values: 0\n"
          ]
        }
      ]
    },
    {
      "cell_type": "code",
      "source": [
        "print('NA values:',maindf.isnull().values.any())"
      ],
      "metadata": {
        "colab": {
          "base_uri": "https://localhost:8080/"
        },
        "id": "xYgLxu3mcxRo",
        "outputId": "088b69be-42bd-4574-c2b6-7bc81d65d1ac"
      },
      "execution_count": 47,
      "outputs": [
        {
          "output_type": "stream",
          "name": "stdout",
          "text": [
            "NA values: False\n"
          ]
        }
      ]
    },
    {
      "cell_type": "code",
      "source": [
        "# Printing the start date and End date of the dataset\n",
        "\n",
        "sd=maindf.iloc[0][0]\n",
        "ed=maindf.iloc[-1][0]\n",
        "\n",
        "\n",
        "print('Starting Date',sd)\n",
        "print('Ending Date',ed)"
      ],
      "metadata": {
        "colab": {
          "base_uri": "https://localhost:8080/"
        },
        "id": "aLBE2nJAdU-X",
        "outputId": "1ef15fc7-9b35-4b60-e406-1d6733b14847"
      },
      "execution_count": 48,
      "outputs": [
        {
          "output_type": "stream",
          "name": "stdout",
          "text": [
            "Starting Date 2017-12-18\n",
            "Ending Date 2022-12-31\n"
          ]
        }
      ]
    },
    {
      "cell_type": "markdown",
      "source": [
        "**BUILDING LSTM MODEL**"
      ],
      "metadata": {
        "id": "xh9y1qu7mAlh"
      }
    },
    {
      "cell_type": "code",
      "source": [
        "# Lets First Take all the Close Price \n",
        "closedf = maindf[['date','close']]\n",
        "print(\"Shape of close dataframe:\", closedf.shape)"
      ],
      "metadata": {
        "colab": {
          "base_uri": "https://localhost:8080/"
        },
        "id": "3HeZRe-Ql8NQ",
        "outputId": "0ea07af2-af11-4adb-8e62-f571d960d145"
      },
      "execution_count": 49,
      "outputs": [
        {
          "output_type": "stream",
          "name": "stdout",
          "text": [
            "Shape of close dataframe: (1840, 2)\n"
          ]
        }
      ]
    },
    {
      "cell_type": "code",
      "source": [
        "fig = px.line(closedf, x=closedf.date, y=closedf.close,labels={'date':'Date','close':'Close Bitcoin'})\n",
        "fig.update_traces(marker_line_width=2, opacity=0.8, marker_line_color='orange')\n",
        "fig.update_layout(title_text='Whole Period of Timeframe of Bitcoin Close Price 2017-2022', plot_bgcolor='white', \n",
        "                  font_size=15, font_color='black')\n",
        "fig.update_xaxes(showgrid=False)\n",
        "fig.update_yaxes(showgrid=False)\n",
        "fig.show()"
      ],
      "metadata": {
        "colab": {
          "base_uri": "https://localhost:8080/",
          "height": 542
        },
        "id": "RCoC3mPXmoRr",
        "outputId": "90c1b9b7-65bc-495a-fddc-299c8d3da1b4"
      },
      "execution_count": 50,
      "outputs": [
        {
          "output_type": "display_data",
          "data": {
            "text/html": [
              "<html>\n",
              "<head><meta charset=\"utf-8\" /></head>\n",
              "<body>\n",
              "    <div>            <script src=\"https://cdnjs.cloudflare.com/ajax/libs/mathjax/2.7.5/MathJax.js?config=TeX-AMS-MML_SVG\"></script><script type=\"text/javascript\">if (window.MathJax) {MathJax.Hub.Config({SVG: {font: \"STIX-Web\"}});}</script>                <script type=\"text/javascript\">window.PlotlyConfig = {MathJaxConfig: 'local'};</script>\n",
              "        <script src=\"https://cdn.plot.ly/plotly-2.8.3.min.js\"></script>                <div id=\"9fea0238-6e1a-4c72-9ec8-99074b7916a4\" class=\"plotly-graph-div\" style=\"height:525px; width:100%;\"></div>            <script type=\"text/javascript\">                                    window.PLOTLYENV=window.PLOTLYENV || {};                                    if (document.getElementById(\"9fea0238-6e1a-4c72-9ec8-99074b7916a4\")) {                    Plotly.newPlot(                        \"9fea0238-6e1a-4c72-9ec8-99074b7916a4\",                        [{\"hovertemplate\":\"Date=%{x}<br>Close Bitcoin=%{y}<extra></extra>\",\"legendgroup\":\"\",\"line\":{\"color\":\"#636efa\",\"dash\":\"solid\"},\"marker\":{\"symbol\":\"circle\",\"line\":{\"color\":\"orange\",\"width\":2}},\"mode\":\"lines\",\"name\":\"\",\"showlegend\":false,\"x\":[\"2017-12-18\",\"2017-12-19\",\"2017-12-20\",\"2017-12-21\",\"2017-12-22\",\"2017-12-23\",\"2017-12-24\",\"2017-12-25\",\"2017-12-26\",\"2017-12-27\",\"2017-12-28\",\"2017-12-29\",\"2017-12-30\",\"2017-12-31\",\"2018-01-01\",\"2018-01-02\",\"2018-01-03\",\"2018-01-04\",\"2018-01-05\",\"2018-01-06\",\"2018-01-07\",\"2018-01-08\",\"2018-01-09\",\"2018-01-10\",\"2018-01-11\",\"2018-01-12\",\"2018-01-13\",\"2018-01-14\",\"2018-01-15\",\"2018-01-16\",\"2018-01-17\",\"2018-01-18\",\"2018-01-19\",\"2018-01-20\",\"2018-01-21\",\"2018-01-22\",\"2018-01-23\",\"2018-01-24\",\"2018-01-25\",\"2018-01-26\",\"2018-01-27\",\"2018-01-28\",\"2018-01-29\",\"2018-01-30\",\"2018-01-31\",\"2018-02-01\",\"2018-02-02\",\"2018-02-03\",\"2018-02-04\",\"2018-02-05\",\"2018-02-06\",\"2018-02-07\",\"2018-02-08\",\"2018-02-09\",\"2018-02-10\",\"2018-02-11\",\"2018-02-12\",\"2018-02-13\",\"2018-02-14\",\"2018-02-15\",\"2018-02-16\",\"2018-02-17\",\"2018-02-18\",\"2018-02-19\",\"2018-02-20\",\"2018-02-21\",\"2018-02-22\",\"2018-02-23\",\"2018-02-24\",\"2018-02-25\",\"2018-02-26\",\"2018-02-27\",\"2018-02-28\",\"2018-03-01\",\"2018-03-02\",\"2018-03-03\",\"2018-03-04\",\"2018-03-05\",\"2018-03-06\",\"2018-03-07\",\"2018-03-08\",\"2018-03-09\",\"2018-03-10\",\"2018-03-11\",\"2018-03-12\",\"2018-03-13\",\"2018-03-14\",\"2018-03-15\",\"2018-03-16\",\"2018-03-17\",\"2018-03-18\",\"2018-03-19\",\"2018-03-20\",\"2018-03-21\",\"2018-03-22\",\"2018-03-23\",\"2018-03-24\",\"2018-03-25\",\"2018-03-26\",\"2018-03-27\",\"2018-03-28\",\"2018-03-29\",\"2018-03-30\",\"2018-03-31\",\"2018-04-01\",\"2018-04-02\",\"2018-04-03\",\"2018-04-04\",\"2018-04-05\",\"2018-04-06\",\"2018-04-07\",\"2018-04-08\",\"2018-04-09\",\"2018-04-10\",\"2018-04-11\",\"2018-04-12\",\"2018-04-13\",\"2018-04-14\",\"2018-04-15\",\"2018-04-16\",\"2018-04-17\",\"2018-04-18\",\"2018-04-19\",\"2018-04-20\",\"2018-04-21\",\"2018-04-22\",\"2018-04-23\",\"2018-04-24\",\"2018-04-25\",\"2018-04-26\",\"2018-04-27\",\"2018-04-28\",\"2018-04-29\",\"2018-04-30\",\"2018-05-01\",\"2018-05-02\",\"2018-05-03\",\"2018-05-04\",\"2018-05-05\",\"2018-05-06\",\"2018-05-07\",\"2018-05-08\",\"2018-05-09\",\"2018-05-10\",\"2018-05-11\",\"2018-05-12\",\"2018-05-13\",\"2018-05-14\",\"2018-05-15\",\"2018-05-16\",\"2018-05-17\",\"2018-05-18\",\"2018-05-19\",\"2018-05-20\",\"2018-05-21\",\"2018-05-22\",\"2018-05-23\",\"2018-05-24\",\"2018-05-25\",\"2018-05-26\",\"2018-05-27\",\"2018-05-28\",\"2018-05-29\",\"2018-05-30\",\"2018-05-31\",\"2018-06-01\",\"2018-06-02\",\"2018-06-03\",\"2018-06-04\",\"2018-06-05\",\"2018-06-06\",\"2018-06-07\",\"2018-06-08\",\"2018-06-09\",\"2018-06-10\",\"2018-06-11\",\"2018-06-12\",\"2018-06-13\",\"2018-06-14\",\"2018-06-15\",\"2018-06-16\",\"2018-06-17\",\"2018-06-18\",\"2018-06-19\",\"2018-06-20\",\"2018-06-21\",\"2018-06-22\",\"2018-06-23\",\"2018-06-24\",\"2018-06-25\",\"2018-06-26\",\"2018-06-27\",\"2018-06-28\",\"2018-06-29\",\"2018-06-30\",\"2018-07-01\",\"2018-07-02\",\"2018-07-03\",\"2018-07-04\",\"2018-07-05\",\"2018-07-06\",\"2018-07-07\",\"2018-07-08\",\"2018-07-09\",\"2018-07-10\",\"2018-07-11\",\"2018-07-12\",\"2018-07-13\",\"2018-07-14\",\"2018-07-15\",\"2018-07-16\",\"2018-07-17\",\"2018-07-18\",\"2018-07-19\",\"2018-07-20\",\"2018-07-21\",\"2018-07-22\",\"2018-07-23\",\"2018-07-24\",\"2018-07-25\",\"2018-07-26\",\"2018-07-27\",\"2018-07-28\",\"2018-07-29\",\"2018-07-30\",\"2018-07-31\",\"2018-08-01\",\"2018-08-02\",\"2018-08-03\",\"2018-08-04\",\"2018-08-05\",\"2018-08-06\",\"2018-08-07\",\"2018-08-08\",\"2018-08-09\",\"2018-08-10\",\"2018-08-11\",\"2018-08-12\",\"2018-08-13\",\"2018-08-14\",\"2018-08-15\",\"2018-08-16\",\"2018-08-17\",\"2018-08-18\",\"2018-08-19\",\"2018-08-20\",\"2018-08-21\",\"2018-08-22\",\"2018-08-23\",\"2018-08-24\",\"2018-08-25\",\"2018-08-26\",\"2018-08-27\",\"2018-08-28\",\"2018-08-29\",\"2018-08-30\",\"2018-08-31\",\"2018-09-01\",\"2018-09-02\",\"2018-09-03\",\"2018-09-04\",\"2018-09-05\",\"2018-09-06\",\"2018-09-07\",\"2018-09-08\",\"2018-09-09\",\"2018-09-10\",\"2018-09-11\",\"2018-09-12\",\"2018-09-13\",\"2018-09-14\",\"2018-09-15\",\"2018-09-16\",\"2018-09-17\",\"2018-09-18\",\"2018-09-19\",\"2018-09-20\",\"2018-09-21\",\"2018-09-22\",\"2018-09-23\",\"2018-09-24\",\"2018-09-25\",\"2018-09-26\",\"2018-09-27\",\"2018-09-28\",\"2018-09-29\",\"2018-09-30\",\"2018-10-01\",\"2018-10-02\",\"2018-10-03\",\"2018-10-04\",\"2018-10-05\",\"2018-10-06\",\"2018-10-07\",\"2018-10-08\",\"2018-10-09\",\"2018-10-10\",\"2018-10-11\",\"2018-10-12\",\"2018-10-13\",\"2018-10-14\",\"2018-10-15\",\"2018-10-16\",\"2018-10-17\",\"2018-10-18\",\"2018-10-19\",\"2018-10-20\",\"2018-10-21\",\"2018-10-22\",\"2018-10-23\",\"2018-10-24\",\"2018-10-25\",\"2018-10-26\",\"2018-10-27\",\"2018-10-28\",\"2018-10-29\",\"2018-10-30\",\"2018-10-31\",\"2018-11-01\",\"2018-11-02\",\"2018-11-03\",\"2018-11-04\",\"2018-11-05\",\"2018-11-06\",\"2018-11-07\",\"2018-11-08\",\"2018-11-09\",\"2018-11-10\",\"2018-11-11\",\"2018-11-12\",\"2018-11-13\",\"2018-11-14\",\"2018-11-15\",\"2018-11-16\",\"2018-11-17\",\"2018-11-18\",\"2018-11-19\",\"2018-11-20\",\"2018-11-21\",\"2018-11-22\",\"2018-11-23\",\"2018-11-24\",\"2018-11-25\",\"2018-11-26\",\"2018-11-27\",\"2018-11-28\",\"2018-11-29\",\"2018-11-30\",\"2018-12-01\",\"2018-12-02\",\"2018-12-03\",\"2018-12-04\",\"2018-12-05\",\"2018-12-06\",\"2018-12-07\",\"2018-12-08\",\"2018-12-09\",\"2018-12-10\",\"2018-12-11\",\"2018-12-12\",\"2018-12-13\",\"2018-12-14\",\"2018-12-15\",\"2018-12-16\",\"2018-12-17\",\"2018-12-18\",\"2018-12-19\",\"2018-12-20\",\"2018-12-21\",\"2018-12-22\",\"2018-12-23\",\"2018-12-24\",\"2018-12-25\",\"2018-12-26\",\"2018-12-27\",\"2018-12-28\",\"2018-12-29\",\"2018-12-30\",\"2018-12-31\",\"2019-01-01\",\"2019-01-02\",\"2019-01-03\",\"2019-01-04\",\"2019-01-05\",\"2019-01-06\",\"2019-01-07\",\"2019-01-08\",\"2019-01-09\",\"2019-01-10\",\"2019-01-11\",\"2019-01-12\",\"2019-01-13\",\"2019-01-14\",\"2019-01-15\",\"2019-01-16\",\"2019-01-17\",\"2019-01-18\",\"2019-01-19\",\"2019-01-20\",\"2019-01-21\",\"2019-01-22\",\"2019-01-23\",\"2019-01-24\",\"2019-01-25\",\"2019-01-26\",\"2019-01-27\",\"2019-01-28\",\"2019-01-29\",\"2019-01-30\",\"2019-01-31\",\"2019-02-01\",\"2019-02-02\",\"2019-02-03\",\"2019-02-04\",\"2019-02-05\",\"2019-02-06\",\"2019-02-07\",\"2019-02-08\",\"2019-02-09\",\"2019-02-10\",\"2019-02-11\",\"2019-02-12\",\"2019-02-13\",\"2019-02-14\",\"2019-02-15\",\"2019-02-16\",\"2019-02-17\",\"2019-02-18\",\"2019-02-19\",\"2019-02-20\",\"2019-02-21\",\"2019-02-22\",\"2019-02-23\",\"2019-02-24\",\"2019-02-25\",\"2019-02-26\",\"2019-02-27\",\"2019-02-28\",\"2019-03-01\",\"2019-03-02\",\"2019-03-03\",\"2019-03-04\",\"2019-03-05\",\"2019-03-06\",\"2019-03-07\",\"2019-03-08\",\"2019-03-09\",\"2019-03-10\",\"2019-03-11\",\"2019-03-12\",\"2019-03-13\",\"2019-03-14\",\"2019-03-15\",\"2019-03-16\",\"2019-03-17\",\"2019-03-18\",\"2019-03-19\",\"2019-03-20\",\"2019-03-21\",\"2019-03-22\",\"2019-03-23\",\"2019-03-24\",\"2019-03-25\",\"2019-03-26\",\"2019-03-27\",\"2019-03-28\",\"2019-03-29\",\"2019-03-30\",\"2019-03-31\",\"2019-04-01\",\"2019-04-02\",\"2019-04-03\",\"2019-04-04\",\"2019-04-05\",\"2019-04-06\",\"2019-04-07\",\"2019-04-08\",\"2019-04-09\",\"2019-04-10\",\"2019-04-11\",\"2019-04-12\",\"2019-04-13\",\"2019-04-14\",\"2019-04-15\",\"2019-04-16\",\"2019-04-17\",\"2019-04-18\",\"2019-04-19\",\"2019-04-20\",\"2019-04-21\",\"2019-04-22\",\"2019-04-23\",\"2019-04-24\",\"2019-04-25\",\"2019-04-26\",\"2019-04-27\",\"2019-04-28\",\"2019-04-29\",\"2019-04-30\",\"2019-05-01\",\"2019-05-02\",\"2019-05-03\",\"2019-05-04\",\"2019-05-05\",\"2019-05-06\",\"2019-05-07\",\"2019-05-08\",\"2019-05-09\",\"2019-05-10\",\"2019-05-11\",\"2019-05-12\",\"2019-05-13\",\"2019-05-14\",\"2019-05-15\",\"2019-05-16\",\"2019-05-17\",\"2019-05-18\",\"2019-05-19\",\"2019-05-20\",\"2019-05-21\",\"2019-05-22\",\"2019-05-23\",\"2019-05-24\",\"2019-05-25\",\"2019-05-26\",\"2019-05-27\",\"2019-05-28\",\"2019-05-29\",\"2019-05-30\",\"2019-05-31\",\"2019-06-01\",\"2019-06-02\",\"2019-06-03\",\"2019-06-04\",\"2019-06-05\",\"2019-06-06\",\"2019-06-07\",\"2019-06-08\",\"2019-06-09\",\"2019-06-10\",\"2019-06-11\",\"2019-06-12\",\"2019-06-13\",\"2019-06-14\",\"2019-06-15\",\"2019-06-16\",\"2019-06-17\",\"2019-06-18\",\"2019-06-19\",\"2019-06-20\",\"2019-06-21\",\"2019-06-22\",\"2019-06-23\",\"2019-06-24\",\"2019-06-25\",\"2019-06-26\",\"2019-06-27\",\"2019-06-28\",\"2019-06-29\",\"2019-06-30\",\"2019-07-01\",\"2019-07-02\",\"2019-07-03\",\"2019-07-04\",\"2019-07-05\",\"2019-07-06\",\"2019-07-07\",\"2019-07-08\",\"2019-07-09\",\"2019-07-10\",\"2019-07-11\",\"2019-07-12\",\"2019-07-13\",\"2019-07-14\",\"2019-07-15\",\"2019-07-16\",\"2019-07-17\",\"2019-07-18\",\"2019-07-19\",\"2019-07-20\",\"2019-07-21\",\"2019-07-22\",\"2019-07-23\",\"2019-07-24\",\"2019-07-25\",\"2019-07-26\",\"2019-07-27\",\"2019-07-28\",\"2019-07-29\",\"2019-07-30\",\"2019-07-31\",\"2019-08-01\",\"2019-08-02\",\"2019-08-03\",\"2019-08-04\",\"2019-08-05\",\"2019-08-06\",\"2019-08-07\",\"2019-08-08\",\"2019-08-09\",\"2019-08-10\",\"2019-08-11\",\"2019-08-12\",\"2019-08-13\",\"2019-08-14\",\"2019-08-15\",\"2019-08-16\",\"2019-08-17\",\"2019-08-18\",\"2019-08-19\",\"2019-08-20\",\"2019-08-21\",\"2019-08-22\",\"2019-08-23\",\"2019-08-24\",\"2019-08-25\",\"2019-08-26\",\"2019-08-27\",\"2019-08-28\",\"2019-08-29\",\"2019-08-30\",\"2019-08-31\",\"2019-09-01\",\"2019-09-02\",\"2019-09-03\",\"2019-09-04\",\"2019-09-05\",\"2019-09-06\",\"2019-09-07\",\"2019-09-08\",\"2019-09-09\",\"2019-09-10\",\"2019-09-11\",\"2019-09-12\",\"2019-09-13\",\"2019-09-14\",\"2019-09-15\",\"2019-09-16\",\"2019-09-17\",\"2019-09-18\",\"2019-09-19\",\"2019-09-20\",\"2019-09-21\",\"2019-09-22\",\"2019-09-23\",\"2019-09-24\",\"2019-09-25\",\"2019-09-26\",\"2019-09-27\",\"2019-09-28\",\"2019-09-29\",\"2019-09-30\",\"2019-10-01\",\"2019-10-02\",\"2019-10-03\",\"2019-10-04\",\"2019-10-05\",\"2019-10-06\",\"2019-10-07\",\"2019-10-08\",\"2019-10-09\",\"2019-10-10\",\"2019-10-11\",\"2019-10-12\",\"2019-10-13\",\"2019-10-14\",\"2019-10-15\",\"2019-10-16\",\"2019-10-17\",\"2019-10-18\",\"2019-10-19\",\"2019-10-20\",\"2019-10-21\",\"2019-10-22\",\"2019-10-23\",\"2019-10-24\",\"2019-10-25\",\"2019-10-26\",\"2019-10-27\",\"2019-10-28\",\"2019-10-29\",\"2019-10-30\",\"2019-10-31\",\"2019-11-01\",\"2019-11-02\",\"2019-11-03\",\"2019-11-04\",\"2019-11-05\",\"2019-11-06\",\"2019-11-07\",\"2019-11-08\",\"2019-11-09\",\"2019-11-10\",\"2019-11-11\",\"2019-11-12\",\"2019-11-13\",\"2019-11-14\",\"2019-11-15\",\"2019-11-16\",\"2019-11-17\",\"2019-11-18\",\"2019-11-19\",\"2019-11-20\",\"2019-11-21\",\"2019-11-22\",\"2019-11-23\",\"2019-11-24\",\"2019-11-25\",\"2019-11-26\",\"2019-11-27\",\"2019-11-28\",\"2019-11-29\",\"2019-11-30\",\"2019-12-01\",\"2019-12-02\",\"2019-12-03\",\"2019-12-04\",\"2019-12-05\",\"2019-12-06\",\"2019-12-07\",\"2019-12-08\",\"2019-12-09\",\"2019-12-10\",\"2019-12-11\",\"2019-12-12\",\"2019-12-13\",\"2019-12-14\",\"2019-12-15\",\"2019-12-16\",\"2019-12-17\",\"2019-12-18\",\"2019-12-19\",\"2019-12-20\",\"2019-12-21\",\"2019-12-22\",\"2019-12-23\",\"2019-12-24\",\"2019-12-25\",\"2019-12-26\",\"2019-12-27\",\"2019-12-28\",\"2019-12-29\",\"2019-12-30\",\"2019-12-31\",\"2020-01-01\",\"2020-01-02\",\"2020-01-03\",\"2020-01-04\",\"2020-01-05\",\"2020-01-06\",\"2020-01-07\",\"2020-01-08\",\"2020-01-09\",\"2020-01-10\",\"2020-01-11\",\"2020-01-12\",\"2020-01-13\",\"2020-01-14\",\"2020-01-15\",\"2020-01-16\",\"2020-01-17\",\"2020-01-18\",\"2020-01-19\",\"2020-01-20\",\"2020-01-21\",\"2020-01-22\",\"2020-01-23\",\"2020-01-24\",\"2020-01-25\",\"2020-01-26\",\"2020-01-27\",\"2020-01-28\",\"2020-01-29\",\"2020-01-30\",\"2020-01-31\",\"2020-02-01\",\"2020-02-02\",\"2020-02-03\",\"2020-02-04\",\"2020-02-05\",\"2020-02-06\",\"2020-02-07\",\"2020-02-08\",\"2020-02-09\",\"2020-02-10\",\"2020-02-11\",\"2020-02-12\",\"2020-02-13\",\"2020-02-14\",\"2020-02-15\",\"2020-02-16\",\"2020-02-17\",\"2020-02-18\",\"2020-02-19\",\"2020-02-20\",\"2020-02-21\",\"2020-02-22\",\"2020-02-23\",\"2020-02-24\",\"2020-02-25\",\"2020-02-26\",\"2020-02-27\",\"2020-02-28\",\"2020-02-29\",\"2020-03-01\",\"2020-03-02\",\"2020-03-03\",\"2020-03-04\",\"2020-03-05\",\"2020-03-06\",\"2020-03-07\",\"2020-03-08\",\"2020-03-09\",\"2020-03-10\",\"2020-03-11\",\"2020-03-12\",\"2020-03-13\",\"2020-03-14\",\"2020-03-15\",\"2020-03-16\",\"2020-03-17\",\"2020-03-18\",\"2020-03-19\",\"2020-03-20\",\"2020-03-21\",\"2020-03-22\",\"2020-03-23\",\"2020-03-24\",\"2020-03-25\",\"2020-03-26\",\"2020-03-27\",\"2020-03-28\",\"2020-03-29\",\"2020-03-30\",\"2020-03-31\",\"2020-04-01\",\"2020-04-02\",\"2020-04-03\",\"2020-04-04\",\"2020-04-05\",\"2020-04-06\",\"2020-04-07\",\"2020-04-08\",\"2020-04-09\",\"2020-04-10\",\"2020-04-11\",\"2020-04-12\",\"2020-04-13\",\"2020-04-14\",\"2020-04-15\",\"2020-04-16\",\"2020-04-17\",\"2020-04-18\",\"2020-04-19\",\"2020-04-20\",\"2020-04-21\",\"2020-04-22\",\"2020-04-23\",\"2020-04-24\",\"2020-04-25\",\"2020-04-26\",\"2020-04-27\",\"2020-04-28\",\"2020-04-29\",\"2020-04-30\",\"2020-05-01\",\"2020-05-02\",\"2020-05-03\",\"2020-05-04\",\"2020-05-05\",\"2020-05-06\",\"2020-05-07\",\"2020-05-08\",\"2020-05-09\",\"2020-05-10\",\"2020-05-11\",\"2020-05-12\",\"2020-05-13\",\"2020-05-14\",\"2020-05-15\",\"2020-05-16\",\"2020-05-17\",\"2020-05-18\",\"2020-05-19\",\"2020-05-20\",\"2020-05-21\",\"2020-05-22\",\"2020-05-23\",\"2020-05-24\",\"2020-05-25\",\"2020-05-26\",\"2020-05-27\",\"2020-05-28\",\"2020-05-29\",\"2020-05-30\",\"2020-05-31\",\"2020-06-01\",\"2020-06-02\",\"2020-06-03\",\"2020-06-04\",\"2020-06-05\",\"2020-06-06\",\"2020-06-07\",\"2020-06-08\",\"2020-06-09\",\"2020-06-10\",\"2020-06-11\",\"2020-06-12\",\"2020-06-13\",\"2020-06-14\",\"2020-06-15\",\"2020-06-16\",\"2020-06-17\",\"2020-06-18\",\"2020-06-19\",\"2020-06-20\",\"2020-06-21\",\"2020-06-22\",\"2020-06-23\",\"2020-06-24\",\"2020-06-25\",\"2020-06-26\",\"2020-06-27\",\"2020-06-28\",\"2020-06-29\",\"2020-06-30\",\"2020-07-01\",\"2020-07-02\",\"2020-07-03\",\"2020-07-04\",\"2020-07-05\",\"2020-07-06\",\"2020-07-07\",\"2020-07-08\",\"2020-07-09\",\"2020-07-10\",\"2020-07-11\",\"2020-07-12\",\"2020-07-13\",\"2020-07-14\",\"2020-07-15\",\"2020-07-16\",\"2020-07-17\",\"2020-07-18\",\"2020-07-19\",\"2020-07-20\",\"2020-07-21\",\"2020-07-22\",\"2020-07-23\",\"2020-07-24\",\"2020-07-25\",\"2020-07-26\",\"2020-07-27\",\"2020-07-28\",\"2020-07-29\",\"2020-07-30\",\"2020-07-31\",\"2020-08-01\",\"2020-08-02\",\"2020-08-03\",\"2020-08-04\",\"2020-08-05\",\"2020-08-06\",\"2020-08-07\",\"2020-08-08\",\"2020-08-09\",\"2020-08-10\",\"2020-08-11\",\"2020-08-12\",\"2020-08-13\",\"2020-08-14\",\"2020-08-15\",\"2020-08-16\",\"2020-08-17\",\"2020-08-18\",\"2020-08-19\",\"2020-08-20\",\"2020-08-21\",\"2020-08-22\",\"2020-08-23\",\"2020-08-24\",\"2020-08-25\",\"2020-08-26\",\"2020-08-27\",\"2020-08-28\",\"2020-08-29\",\"2020-08-30\",\"2020-08-31\",\"2020-09-01\",\"2020-09-02\",\"2020-09-03\",\"2020-09-04\",\"2020-09-05\",\"2020-09-06\",\"2020-09-07\",\"2020-09-08\",\"2020-09-09\",\"2020-09-10\",\"2020-09-11\",\"2020-09-12\",\"2020-09-13\",\"2020-09-14\",\"2020-09-15\",\"2020-09-16\",\"2020-09-17\",\"2020-09-18\",\"2020-09-19\",\"2020-09-20\",\"2020-09-21\",\"2020-09-22\",\"2020-09-23\",\"2020-09-24\",\"2020-09-25\",\"2020-09-26\",\"2020-09-27\",\"2020-09-28\",\"2020-09-29\",\"2020-09-30\",\"2020-10-01\",\"2020-10-02\",\"2020-10-03\",\"2020-10-04\",\"2020-10-05\",\"2020-10-06\",\"2020-10-07\",\"2020-10-08\",\"2020-10-09\",\"2020-10-10\",\"2020-10-11\",\"2020-10-12\",\"2020-10-13\",\"2020-10-14\",\"2020-10-15\",\"2020-10-16\",\"2020-10-17\",\"2020-10-18\",\"2020-10-19\",\"2020-10-20\",\"2020-10-21\",\"2020-10-22\",\"2020-10-23\",\"2020-10-24\",\"2020-10-25\",\"2020-10-26\",\"2020-10-27\",\"2020-10-28\",\"2020-10-29\",\"2020-10-30\",\"2020-10-31\",\"2020-11-01\",\"2020-11-02\",\"2020-11-03\",\"2020-11-04\",\"2020-11-05\",\"2020-11-06\",\"2020-11-07\",\"2020-11-08\",\"2020-11-09\",\"2020-11-10\",\"2020-11-11\",\"2020-11-12\",\"2020-11-13\",\"2020-11-14\",\"2020-11-15\",\"2020-11-16\",\"2020-11-17\",\"2020-11-18\",\"2020-11-19\",\"2020-11-20\",\"2020-11-21\",\"2020-11-22\",\"2020-11-23\",\"2020-11-24\",\"2020-11-25\",\"2020-11-26\",\"2020-11-27\",\"2020-11-28\",\"2020-11-29\",\"2020-11-30\",\"2020-12-01\",\"2020-12-02\",\"2020-12-03\",\"2020-12-04\",\"2020-12-05\",\"2020-12-06\",\"2020-12-07\",\"2020-12-08\",\"2020-12-09\",\"2020-12-10\",\"2020-12-11\",\"2020-12-12\",\"2020-12-13\",\"2020-12-14\",\"2020-12-15\",\"2020-12-16\",\"2020-12-17\",\"2020-12-18\",\"2020-12-19\",\"2020-12-20\",\"2020-12-21\",\"2020-12-22\",\"2020-12-23\",\"2020-12-24\",\"2020-12-25\",\"2020-12-26\",\"2020-12-27\",\"2020-12-28\",\"2020-12-29\",\"2020-12-30\",\"2020-12-31\",\"2021-01-01\",\"2021-01-02\",\"2021-01-03\",\"2021-01-04\",\"2021-01-05\",\"2021-01-06\",\"2021-01-07\",\"2021-01-08\",\"2021-01-09\",\"2021-01-10\",\"2021-01-11\",\"2021-01-12\",\"2021-01-13\",\"2021-01-14\",\"2021-01-15\",\"2021-01-16\",\"2021-01-17\",\"2021-01-18\",\"2021-01-19\",\"2021-01-20\",\"2021-01-21\",\"2021-01-22\",\"2021-01-23\",\"2021-01-24\",\"2021-01-25\",\"2021-01-26\",\"2021-01-27\",\"2021-01-28\",\"2021-01-29\",\"2021-01-30\",\"2021-01-31\",\"2021-02-01\",\"2021-02-02\",\"2021-02-03\",\"2021-02-04\",\"2021-02-05\",\"2021-02-06\",\"2021-02-07\",\"2021-02-08\",\"2021-02-09\",\"2021-02-10\",\"2021-02-11\",\"2021-02-12\",\"2021-02-13\",\"2021-02-14\",\"2021-02-15\",\"2021-02-16\",\"2021-02-17\",\"2021-02-18\",\"2021-02-19\",\"2021-02-20\",\"2021-02-21\",\"2021-02-22\",\"2021-02-23\",\"2021-02-24\",\"2021-02-25\",\"2021-02-26\",\"2021-02-27\",\"2021-02-28\",\"2021-03-01\",\"2021-03-02\",\"2021-03-03\",\"2021-03-04\",\"2021-03-05\",\"2021-03-06\",\"2021-03-07\",\"2021-03-08\",\"2021-03-09\",\"2021-03-10\",\"2021-03-11\",\"2021-03-12\",\"2021-03-13\",\"2021-03-14\",\"2021-03-15\",\"2021-03-16\",\"2021-03-17\",\"2021-03-18\",\"2021-03-19\",\"2021-03-20\",\"2021-03-21\",\"2021-03-22\",\"2021-03-23\",\"2021-03-24\",\"2021-03-25\",\"2021-03-26\",\"2021-03-27\",\"2021-03-28\",\"2021-03-29\",\"2021-03-30\",\"2021-03-31\",\"2021-04-01\",\"2021-04-02\",\"2021-04-03\",\"2021-04-04\",\"2021-04-05\",\"2021-04-06\",\"2021-04-07\",\"2021-04-08\",\"2021-04-09\",\"2021-04-10\",\"2021-04-11\",\"2021-04-12\",\"2021-04-13\",\"2021-04-14\",\"2021-04-15\",\"2021-04-16\",\"2021-04-17\",\"2021-04-18\",\"2021-04-19\",\"2021-04-20\",\"2021-04-21\",\"2021-04-22\",\"2021-04-23\",\"2021-04-24\",\"2021-04-25\",\"2021-04-26\",\"2021-04-27\",\"2021-04-28\",\"2021-04-29\",\"2021-04-30\",\"2021-05-01\",\"2021-05-02\",\"2021-05-03\",\"2021-05-04\",\"2021-05-05\",\"2021-05-06\",\"2021-05-07\",\"2021-05-08\",\"2021-05-09\",\"2021-05-10\",\"2021-05-11\",\"2021-05-12\",\"2021-05-13\",\"2021-05-14\",\"2021-05-15\",\"2021-05-16\",\"2021-05-17\",\"2021-05-18\",\"2021-05-19\",\"2021-05-20\",\"2021-05-21\",\"2021-05-22\",\"2021-05-23\",\"2021-05-24\",\"2021-05-25\",\"2021-05-26\",\"2021-05-27\",\"2021-05-28\",\"2021-05-29\",\"2021-05-30\",\"2021-05-31\",\"2021-06-01\",\"2021-06-02\",\"2021-06-03\",\"2021-06-04\",\"2021-06-05\",\"2021-06-06\",\"2021-06-07\",\"2021-06-08\",\"2021-06-09\",\"2021-06-10\",\"2021-06-11\",\"2021-06-12\",\"2021-06-13\",\"2021-06-14\",\"2021-06-15\",\"2021-06-16\",\"2021-06-17\",\"2021-06-18\",\"2021-06-19\",\"2021-06-20\",\"2021-06-21\",\"2021-06-22\",\"2021-06-23\",\"2021-06-24\",\"2021-06-25\",\"2021-06-26\",\"2021-06-27\",\"2021-06-28\",\"2021-06-29\",\"2021-06-30\",\"2021-07-01\",\"2021-07-02\",\"2021-07-03\",\"2021-07-04\",\"2021-07-05\",\"2021-07-06\",\"2021-07-07\",\"2021-07-08\",\"2021-07-09\",\"2021-07-10\",\"2021-07-11\",\"2021-07-12\",\"2021-07-13\",\"2021-07-14\",\"2021-07-15\",\"2021-07-16\",\"2021-07-17\",\"2021-07-18\",\"2021-07-19\",\"2021-07-20\",\"2021-07-21\",\"2021-07-22\",\"2021-07-23\",\"2021-07-24\",\"2021-07-25\",\"2021-07-26\",\"2021-07-27\",\"2021-07-28\",\"2021-07-29\",\"2021-07-30\",\"2021-07-31\",\"2021-08-01\",\"2021-08-02\",\"2021-08-03\",\"2021-08-04\",\"2021-08-05\",\"2021-08-06\",\"2021-08-07\",\"2021-08-08\",\"2021-08-09\",\"2021-08-10\",\"2021-08-11\",\"2021-08-12\",\"2021-08-13\",\"2021-08-14\",\"2021-08-15\",\"2021-08-16\",\"2021-08-17\",\"2021-08-18\",\"2021-08-19\",\"2021-08-20\",\"2021-08-21\",\"2021-08-22\",\"2021-08-23\",\"2021-08-24\",\"2021-08-25\",\"2021-08-26\",\"2021-08-27\",\"2021-08-28\",\"2021-08-29\",\"2021-08-30\",\"2021-08-31\",\"2021-09-01\",\"2021-09-02\",\"2021-09-03\",\"2021-09-04\",\"2021-09-05\",\"2021-09-06\",\"2021-09-07\",\"2021-09-08\",\"2021-09-09\",\"2021-09-10\",\"2021-09-11\",\"2021-09-12\",\"2021-09-13\",\"2021-09-14\",\"2021-09-15\",\"2021-09-16\",\"2021-09-17\",\"2021-09-18\",\"2021-09-19\",\"2021-09-20\",\"2021-09-21\",\"2021-09-22\",\"2021-09-23\",\"2021-09-24\",\"2021-09-25\",\"2021-09-26\",\"2021-09-27\",\"2021-09-28\",\"2021-09-29\",\"2021-09-30\",\"2021-10-01\",\"2021-10-02\",\"2021-10-03\",\"2021-10-04\",\"2021-10-05\",\"2021-10-06\",\"2021-10-07\",\"2021-10-08\",\"2021-10-09\",\"2021-10-10\",\"2021-10-11\",\"2021-10-12\",\"2021-10-13\",\"2021-10-14\",\"2021-10-15\",\"2021-10-16\",\"2021-10-17\",\"2021-10-18\",\"2021-10-19\",\"2021-10-20\",\"2021-10-21\",\"2021-10-22\",\"2021-10-23\",\"2021-10-24\",\"2021-10-25\",\"2021-10-26\",\"2021-10-27\",\"2021-10-28\",\"2021-10-29\",\"2021-10-30\",\"2021-10-31\",\"2021-11-01\",\"2021-11-02\",\"2021-11-03\",\"2021-11-04\",\"2021-11-05\",\"2021-11-06\",\"2021-11-07\",\"2021-11-08\",\"2021-11-09\",\"2021-11-10\",\"2021-11-11\",\"2021-11-12\",\"2021-11-13\",\"2021-11-14\",\"2021-11-15\",\"2021-11-16\",\"2021-11-17\",\"2021-11-18\",\"2021-11-19\",\"2021-11-20\",\"2021-11-21\",\"2021-11-22\",\"2021-11-23\",\"2021-11-24\",\"2021-11-25\",\"2021-11-26\",\"2021-11-27\",\"2021-11-28\",\"2021-11-29\",\"2021-11-30\",\"2021-12-01\",\"2021-12-02\",\"2021-12-03\",\"2021-12-04\",\"2021-12-05\",\"2021-12-06\",\"2021-12-07\",\"2021-12-08\",\"2021-12-09\",\"2021-12-10\",\"2021-12-11\",\"2021-12-12\",\"2021-12-13\",\"2021-12-14\",\"2021-12-15\",\"2021-12-16\",\"2021-12-17\",\"2021-12-18\",\"2021-12-19\",\"2021-12-20\",\"2021-12-21\",\"2021-12-22\",\"2021-12-23\",\"2021-12-24\",\"2021-12-25\",\"2021-12-26\",\"2021-12-27\",\"2021-12-28\",\"2021-12-29\",\"2021-12-30\",\"2021-12-31\",\"2022-01-01\",\"2022-01-02\",\"2022-01-03\",\"2022-01-04\",\"2022-01-05\",\"2022-01-06\",\"2022-01-07\",\"2022-01-08\",\"2022-01-09\",\"2022-01-10\",\"2022-01-11\",\"2022-01-12\",\"2022-01-13\",\"2022-01-14\",\"2022-01-15\",\"2022-01-16\",\"2022-01-17\",\"2022-01-18\",\"2022-01-19\",\"2022-01-20\",\"2022-01-21\",\"2022-01-22\",\"2022-01-23\",\"2022-01-24\",\"2022-01-25\",\"2022-01-26\",\"2022-01-27\",\"2022-01-28\",\"2022-01-29\",\"2022-01-30\",\"2022-01-31\",\"2022-02-01\",\"2022-02-02\",\"2022-02-03\",\"2022-02-04\",\"2022-02-05\",\"2022-02-06\",\"2022-02-07\",\"2022-02-08\",\"2022-02-09\",\"2022-02-10\",\"2022-02-11\",\"2022-02-12\",\"2022-02-13\",\"2022-02-14\",\"2022-02-15\",\"2022-02-16\",\"2022-02-17\",\"2022-02-18\",\"2022-02-19\",\"2022-02-20\",\"2022-02-21\",\"2022-02-22\",\"2022-02-23\",\"2022-02-24\",\"2022-02-25\",\"2022-02-26\",\"2022-02-27\",\"2022-02-28\",\"2022-03-01\",\"2022-03-02\",\"2022-03-03\",\"2022-03-04\",\"2022-03-05\",\"2022-03-06\",\"2022-03-07\",\"2022-03-08\",\"2022-03-09\",\"2022-03-10\",\"2022-03-11\",\"2022-03-12\",\"2022-03-13\",\"2022-03-14\",\"2022-03-15\",\"2022-03-16\",\"2022-03-17\",\"2022-03-18\",\"2022-03-19\",\"2022-03-20\",\"2022-03-21\",\"2022-03-22\",\"2022-03-23\",\"2022-03-24\",\"2022-03-25\",\"2022-03-26\",\"2022-03-27\",\"2022-03-28\",\"2022-03-29\",\"2022-03-30\",\"2022-03-31\",\"2022-04-01\",\"2022-04-02\",\"2022-04-03\",\"2022-04-04\",\"2022-04-05\",\"2022-04-06\",\"2022-04-07\",\"2022-04-08\",\"2022-04-09\",\"2022-04-10\",\"2022-04-11\",\"2022-04-12\",\"2022-04-13\",\"2022-04-14\",\"2022-04-15\",\"2022-04-16\",\"2022-04-17\",\"2022-04-18\",\"2022-04-19\",\"2022-04-20\",\"2022-04-21\",\"2022-04-22\",\"2022-04-23\",\"2022-04-24\",\"2022-04-25\",\"2022-04-26\",\"2022-04-27\",\"2022-04-28\",\"2022-04-29\",\"2022-04-30\",\"2022-05-01\",\"2022-05-02\",\"2022-05-03\",\"2022-05-04\",\"2022-05-05\",\"2022-05-06\",\"2022-05-07\",\"2022-05-08\",\"2022-05-09\",\"2022-05-10\",\"2022-05-11\",\"2022-05-12\",\"2022-05-13\",\"2022-05-14\",\"2022-05-15\",\"2022-05-16\",\"2022-05-17\",\"2022-05-18\",\"2022-05-19\",\"2022-05-20\",\"2022-05-21\",\"2022-05-22\",\"2022-05-23\",\"2022-05-24\",\"2022-05-25\",\"2022-05-26\",\"2022-05-27\",\"2022-05-28\",\"2022-05-29\",\"2022-05-30\",\"2022-05-31\",\"2022-06-01\",\"2022-06-02\",\"2022-06-03\",\"2022-06-04\",\"2022-06-05\",\"2022-06-06\",\"2022-06-07\",\"2022-06-08\",\"2022-06-09\",\"2022-06-10\",\"2022-06-11\",\"2022-06-12\",\"2022-06-13\",\"2022-06-14\",\"2022-06-15\",\"2022-06-16\",\"2022-06-17\",\"2022-06-18\",\"2022-06-19\",\"2022-06-20\",\"2022-06-21\",\"2022-06-22\",\"2022-06-23\",\"2022-06-24\",\"2022-06-25\",\"2022-06-26\",\"2022-06-27\",\"2022-06-28\",\"2022-06-29\",\"2022-06-30\",\"2022-07-01\",\"2022-07-02\",\"2022-07-03\",\"2022-07-04\",\"2022-07-05\",\"2022-07-06\",\"2022-07-07\",\"2022-07-08\",\"2022-07-09\",\"2022-07-10\",\"2022-07-11\",\"2022-07-12\",\"2022-07-13\",\"2022-07-14\",\"2022-07-15\",\"2022-07-16\",\"2022-07-17\",\"2022-07-18\",\"2022-07-19\",\"2022-07-20\",\"2022-07-21\",\"2022-07-22\",\"2022-07-23\",\"2022-07-24\",\"2022-07-25\",\"2022-07-26\",\"2022-07-27\",\"2022-07-28\",\"2022-07-29\",\"2022-07-30\",\"2022-07-31\",\"2022-08-01\",\"2022-08-02\",\"2022-08-03\",\"2022-08-04\",\"2022-08-05\",\"2022-08-06\",\"2022-08-07\",\"2022-08-08\",\"2022-08-09\",\"2022-08-10\",\"2022-08-11\",\"2022-08-12\",\"2022-08-13\",\"2022-08-14\",\"2022-08-15\",\"2022-08-16\",\"2022-08-17\",\"2022-08-18\",\"2022-08-19\",\"2022-08-20\",\"2022-08-21\",\"2022-08-22\",\"2022-08-23\",\"2022-08-24\",\"2022-08-25\",\"2022-08-26\",\"2022-08-27\",\"2022-08-28\",\"2022-08-29\",\"2022-08-30\",\"2022-08-31\",\"2022-09-01\",\"2022-09-02\",\"2022-09-03\",\"2022-09-04\",\"2022-09-05\",\"2022-09-06\",\"2022-09-07\",\"2022-09-08\",\"2022-09-09\",\"2022-09-10\",\"2022-09-11\",\"2022-09-12\",\"2022-09-13\",\"2022-09-14\",\"2022-09-15\",\"2022-09-16\",\"2022-09-17\",\"2022-09-18\",\"2022-09-19\",\"2022-09-20\",\"2022-09-21\",\"2022-09-22\",\"2022-09-23\",\"2022-09-24\",\"2022-09-25\",\"2022-09-26\",\"2022-09-27\",\"2022-09-28\",\"2022-09-29\",\"2022-09-30\",\"2022-10-01\",\"2022-10-02\",\"2022-10-03\",\"2022-10-04\",\"2022-10-05\",\"2022-10-06\",\"2022-10-07\",\"2022-10-08\",\"2022-10-09\",\"2022-10-10\",\"2022-10-11\",\"2022-10-12\",\"2022-10-13\",\"2022-10-14\",\"2022-10-15\",\"2022-10-16\",\"2022-10-17\",\"2022-10-18\",\"2022-10-19\",\"2022-10-20\",\"2022-10-21\",\"2022-10-22\",\"2022-10-23\",\"2022-10-24\",\"2022-10-25\",\"2022-10-26\",\"2022-10-27\",\"2022-10-28\",\"2022-10-29\",\"2022-10-30\",\"2022-10-31\",\"2022-11-01\",\"2022-11-02\",\"2022-11-03\",\"2022-11-04\",\"2022-11-05\",\"2022-11-06\",\"2022-11-07\",\"2022-11-08\",\"2022-11-09\",\"2022-11-10\",\"2022-11-11\",\"2022-11-12\",\"2022-11-13\",\"2022-11-14\",\"2022-11-15\",\"2022-11-16\",\"2022-11-17\",\"2022-11-18\",\"2022-11-19\",\"2022-11-20\",\"2022-11-21\",\"2022-11-22\",\"2022-11-23\",\"2022-11-24\",\"2022-11-25\",\"2022-11-26\",\"2022-11-27\",\"2022-11-28\",\"2022-11-29\",\"2022-11-30\",\"2022-12-01\",\"2022-12-02\",\"2022-12-03\",\"2022-12-04\",\"2022-12-05\",\"2022-12-06\",\"2022-12-07\",\"2022-12-08\",\"2022-12-09\",\"2022-12-10\",\"2022-12-11\",\"2022-12-12\",\"2022-12-13\",\"2022-12-14\",\"2022-12-15\",\"2022-12-16\",\"2022-12-17\",\"2022-12-18\",\"2022-12-19\",\"2022-12-20\",\"2022-12-21\",\"2022-12-22\",\"2022-12-23\",\"2022-12-24\",\"2022-12-25\",\"2022-12-26\",\"2022-12-27\",\"2022-12-28\",\"2022-12-29\",\"2022-12-30\",\"2022-12-31\"],\"xaxis\":\"x\",\"y\":[18856.25,17295.2,16488.98,15492.64,13326.61,13300.0,13500.0,13699.34,15689.01,15459.99,14182.11,14378.9,12440.01,13716.36,13380.0,14675.11,14919.51,15059.54,16960.39,17069.79,16150.03,14902.54,14400.0,14907.09,13238.78,13740.01,14210.0,13474.99,13539.93,10900.0,10988.79,10961.97,11474.98,12799.94,11530.0,10760.05,10799.18,11349.99,11175.27,11089.0,11491.0,11879.95,11251.0,10237.51,10285.1,9224.52,8873.03,9199.96,8184.81,6939.99,7652.14,7599.0,7784.02,8683.92,8533.98,8063.88,8903.0,8539.9,9449.99,10000.09,10159.98,11039.55,10383.43,11153.0,11200.99,10437.6,9811.04,10131.04,9694.51,9590.0,10324.0,10569.04,10326.76,10920.0,11039.0,11464.48,11515.0,11454.0,10716.48,9910.0,9271.64,9227.0,8770.22,9533.57,9131.34,9150.0,8170.0,8240.98,8260.0,7824.8,8189.99,8600.0,8909.98,8885.0,8722.9,8898.03,8546.86,8470.15,8134.23,7795.51,7949.3,7090.14,6840.23,6923.91,6813.01,7056.0,7405.21,6796.1,6770.76,6601.39,6895.8,7018.0,6782.72,6843.9,6953.79,7923.0,7877.41,7999.01,8355.0,8064.92,7885.02,8173.0,8278.0,8856.98,8915.31,8787.02,8934.01,9619.99,8869.99,9266.0,8915.35,9348.0,9419.0,9246.01,9071.48,9247.84,9750.0,9713.99,9864.0,9659.01,9365.0,9187.56,9310.0,9002.2,8400.0,8465.94,8679.71,8663.34,8462.0,8330.0,8041.46,8239.81,8233.49,8526.98,8381.24,7977.11,7501.95,7575.01,7457.0,7333.96,7338.99,7099.0,7461.29,7375.96,7485.01,7521.01,7640.03,7714.26,7487.0,7625.0,7658.84,7691.08,7603.44,7491.73,6764.99,6872.0,6530.0,6292.78,6635.98,6388.9,6483.98,6449.61,6712.46,6741.21,6761.51,6718.84,6045.0,6149.98,6136.97,6252.0,6070.78,6133.73,5853.98,6197.92,6390.07,6356.81,6615.29,6513.86,6586.98,6529.2,6609.78,6756.98,6712.1,6662.12,6296.91,6378.07,6250.57,6214.57,6251.99,6353.01,6723.35,7317.44,7381.9,7466.21,7337.53,7398.78,7394.79,7721.01,8397.24,8175.64,7920.0,8188.57,8225.04,8211.0,8173.92,7730.93,7604.58,7525.71,7418.78,7009.84,7024.19,6934.82,6720.06,6285.0,6529.79,6144.01,6232.35,6308.33,6246.35,6188.08,6267.16,6311.75,6584.49,6387.96,6477.53,6254.84,6480.0,6360.89,6525.01,6681.64,6733.64,6700.0,6908.64,7076.11,7031.22,6984.84,7011.21,7200.01,7302.01,7263.02,7359.06,6700.0,6516.01,6395.54,6185.05,6250.81,6312.0,6294.91,6338.62,6487.38,6476.63,6514.96,6505.0,6248.69,6336.45,6391.89,6492.0,6759.02,6723.05,6708.0,6581.39,6447.54,6465.12,6689.13,6634.58,6596.38,6626.57,6611.61,6525.79,6510.0,6593.79,6635.65,6594.27,6615.26,6673.01,6656.61,6631.0,6252.68,6298.01,6332.93,6339.34,6752.5,6759.27,6740.89,6618.96,6528.88,6588.4,6590.11,6581.2,6553.51,6565.5,6528.09,6538.63,6505.6,6489.93,6344.5,6330.87,6371.93,6410.0,6433.98,6387.09,6485.85,6468.99,6519.11,6578.46,6479.84,6419.99,6433.05,6449.81,6453.07,6457.66,5922.41,5753.4,5655.94,5628.29,5662.0,4910.03,4558.86,4661.07,4370.0,4420.61,3932.44,4085.78,3862.2,3875.21,4264.85,4295.84,4041.32,4190.02,4161.01,3884.01,3951.64,3769.84,3508.75,3403.55,3410.93,3545.37,3432.88,3380.39,3445.0,3302.06,3224.17,3211.72,3228.67,3509.08,3652.98,3662.22,4049.62,3838.66,3948.91,3929.71,4008.01,3745.79,3777.74,3567.91,3839.26,3695.32,3801.91,3702.9,3797.14,3858.56,3766.78,3792.01,3770.96,3987.6,3975.45,3955.13,3966.65,3585.88,3601.31,3583.13,3476.81,3626.09,3553.06,3591.84,3616.21,3594.87,3665.3,3539.28,3526.9,3570.93,3552.82,3569.62,3565.29,3565.25,3550.84,3434.15,3411.04,3458.18,3434.1,3462.07,3504.77,3458.11,3463.22,3471.59,3405.37,3398.4,3659.04,3665.18,3680.06,3631.05,3631.46,3609.4,3590.56,3602.47,3618.41,3667.58,3898.6,3907.79,3969.74,3937.31,3962.0,4117.76,3743.56,3827.92,3809.23,3818.07,3813.69,3823.0,3819.93,3807.75,3715.3,3857.73,3861.84,3873.64,3864.89,3943.04,3916.82,3871.61,3882.73,3866.0,3877.12,3923.76,4005.98,3981.14,3987.81,4015.53,4043.04,3980.64,3986.93,4006.01,3992.18,3936.12,3948.55,4038.05,4027.81,4103.25,4106.97,4103.95,4144.56,4857.29,4932.6,4898.66,5004.95,5043.89,5170.27,5236.9,5150.0,5308.25,5017.37,5048.01,5045.22,5131.3,5024.95,5173.72,5202.82,5258.44,5258.68,5291.73,5256.14,5357.14,5493.31,5415.0,5219.9,5314.1,5295.69,5307.52,5238.14,5320.81,5383.2,5492.87,5772.69,5829.45,5775.62,5747.79,5846.34,5987.29,6209.18,6373.33,7076.22,6967.31,7790.71,7947.56,8169.87,7866.59,7355.26,7257.45,8148.48,7938.15,7904.87,7628.43,7851.51,7964.87,8025.41,8614.43,8756.32,8715.64,8645.68,8269.54,8555.0,8544.07,8725.98,8115.82,7687.03,7776.5,7786.7,7980.53,7893.62,7628.13,7982.75,7884.9,8127.64,8218.54,8650.0,8808.7,8953.33,9313.96,9081.55,9255.49,9517.12,10159.86,10729.5,10906.07,11056.59,11820.86,13093.8,11329.99,12400.63,11903.13,10854.1,10624.93,10842.85,11940.0,11145.67,10970.73,11256.49,11406.24,12238.6,12543.41,12108.37,11342.89,11757.22,11355.76,10174.18,10838.72,9439.59,9667.92,10627.16,10504.29,10740.23,10589.45,10340.31,9864.91,9763.28,9879.87,9824.0,9476.52,9541.54,9507.64,9574.21,10080.53,10374.99,10523.75,10816.86,10929.23,11828.8,11481.69,11975.03,11999.77,11879.99,11309.31,11549.97,11396.08,10892.71,10050.37,10293.93,10331.54,10216.02,10306.78,10915.54,10760.51,10142.57,10099.88,10389.55,10134.35,10142.69,10372.25,10185.05,9721.0,9498.44,9584.54,9587.47,9724.98,10340.0,10615.28,10567.02,10564.49,10298.73,10455.88,10381.18,10303.12,10098.15,10158.33,10415.01,10342.06,10335.02,10302.01,10251.31,10187.82,10156.99,10244.29,10168.59,9986.39,10028.87,9702.25,8493.14,8430.05,8063.73,8177.91,8198.81,8043.82,8289.34,8292.44,8359.94,8223.96,8137.13,8126.19,7854.25,8190.09,8168.39,8560.74,8558.03,8258.5,8300.09,8275.01,8348.2,8159.29,7991.74,8070.58,7947.01,7948.01,8223.35,8197.27,8020.0,7466.62,7412.41,8655.02,9230.0,9529.93,9205.14,9407.62,9154.72,9140.85,9231.61,9289.52,9194.71,9393.35,9308.66,9339.05,9216.2,8773.73,8809.41,9039.47,8733.27,8821.94,8777.12,8646.68,8471.73,8491.02,8502.4,8187.17,8133.64,8098.01,7627.74,7268.23,7311.57,6903.28,7109.57,7156.14,7508.52,7419.49,7739.68,7541.89,7390.89,7294.28,7292.71,7194.32,7389.0,7527.47,7488.21,7510.11,7338.64,7224.13,7210.0,7198.08,7258.48,7064.05,7118.59,6891.72,6623.82,7277.83,7150.3,7187.83,7132.75,7501.44,7317.09,7255.77,7204.63,7202.0,7254.74,7316.14,7388.24,7246.0,7195.23,7200.85,6965.71,7344.96,7354.11,7358.75,7758.0,8145.28,8055.98,7817.76,8197.02,8020.01,8184.98,8110.34,8810.01,8821.41,8720.01,8913.28,8915.96,8701.7,8642.35,8736.03,8682.36,8404.52,8439.0,8340.58,8615.0,8907.57,9374.21,9301.53,9513.21,9352.89,9384.61,9331.51,9292.24,9197.02,9612.04,9772.0,9813.73,9895.05,10151.75,9851.83,10223.08,10326.46,10229.63,10344.36,9904.72,9917.27,9706.0,10164.71,9593.79,9596.42,9677.05,9650.86,9936.4,9656.13,9315.84,8785.25,8823.21,8692.91,8523.61,8531.88,8915.24,8760.07,8750.87,9054.68,9131.88,8886.66,8033.31,7929.87,7894.56,7934.52,4800.0,5578.6,5172.06,5361.3,5028.97,5312.64,5393.04,6162.37,6208.36,6186.98,5816.19,6467.31,6744.72,6677.43,6737.36,6359.11,6236.65,5881.42,6394.38,6410.44,6642.92,6794.09,6734.1,6856.99,6772.78,7329.9,7197.32,7361.28,7283.54,6858.92,6876.83,6903.79,6837.91,6868.7,6621.24,7101.94,7027.55,7248.6,7120.74,6826.83,6841.37,7125.14,7482.39,7505.0,7538.67,7693.1,7774.62,7738.98,8778.57,8620.0,8826.96,8972.05,8894.16,8871.96,9021.83,9142.92,9986.4,9800.01,9539.4,8722.77,8561.52,8810.79,9309.37,9791.98,9316.42,9381.27,9680.04,9733.93,9775.53,9511.43,9068.65,9170.0,9179.15,8720.34,8900.35,8841.18,9204.07,9575.89,9427.07,9697.72,9448.27,10200.77,9518.04,9666.24,9789.06,9621.16,9666.3,9746.99,9782.01,9772.43,9885.0,9280.4,9465.13,9473.34,9342.1,9426.02,9525.59,9465.14,9386.32,9310.23,9358.95,9294.69,9685.69,9624.89,9296.49,9249.49,9162.21,9012.0,9116.35,9192.56,9138.55,9232.0,9086.54,9058.26,9135.46,9069.41,9344.2,9257.39,9436.06,9232.43,9288.34,9234.03,9302.75,9242.62,9255.85,9197.6,9133.72,9154.32,9170.28,9208.99,9160.78,9390.0,9518.16,9603.27,9537.8,9700.42,9931.54,11029.96,10906.27,11100.53,11099.61,11335.46,11801.17,11071.35,11219.81,11191.97,11744.91,11762.46,11594.23,11761.41,11681.68,11892.92,11392.08,11564.33,11780.0,11760.54,11852.4,11911.0,12281.13,11945.01,11754.59,11853.55,11531.34,11662.96,11648.13,11748.2,11318.42,11461.43,11330.38,11526.91,11465.84,11711.16,11649.51,11921.97,11388.54,10140.85,10446.25,10166.69,10256.2,10373.44,10126.65,10219.2,10336.87,10387.89,10440.92,10332.83,10671.77,10785.31,10954.01,10939.99,10933.39,11080.65,10920.28,10417.22,10529.61,10241.46,10736.32,10686.67,10728.6,10774.25,10696.12,10840.48,10776.59,10619.13,10570.4,10542.06,10666.63,10792.21,10599.66,10666.39,10925.57,11050.64,11293.22,11369.02,11528.25,11420.56,11417.89,11505.12,11319.32,11360.2,11503.14,11751.47,11909.99,12780.96,12968.52,12923.07,13111.73,13028.83,13052.19,13636.17,13266.4,13455.7,13560.1,13791.0,13761.5,13549.37,14023.53,14144.01,15590.02,15579.92,14818.3,15475.1,15328.41,15297.21,15684.24,16291.86,16320.7,16070.45,15957.0,16713.57,17659.38,17776.12,17802.82,18655.67,18703.8,18414.43,18368.0,19160.01,18719.11,17149.47,17139.52,17719.85,18184.99,19695.87,18764.96,19204.09,19421.9,18650.52,19147.66,19359.4,19166.9,18324.11,18541.28,18254.63,18036.53,18808.69,19174.99,19273.14,19426.43,21335.52,22797.16,23107.39,23821.61,23455.52,22719.71,23810.79,23232.76,23729.2,24712.47,26493.39,26281.66,27079.41,27385.0,28875.54,28923.63,29331.69,32178.33,33000.05,31988.71,33949.53,36769.36,39432.28,40582.81,40088.22,38150.02,35404.47,34051.24,37371.38,39144.5,36742.22,35994.98,35828.61,36631.27,35891.49,35468.23,30850.13,32945.17,32078.0,32259.9,32254.2,32467.77,30366.15,33364.86,34252.2,34262.88,33092.98,33526.37,35466.24,37618.87,36936.66,38290.24,39186.94,38795.69,46374.87,46420.42,44807.58,47969.51,47287.6,47153.69,48577.79,47911.1,49133.45,52119.71,51552.6,55906.0,55841.19,57408.57,54087.67,48891.0,49676.2,47073.73,46276.87,46106.43,45135.66,49587.03,48440.65,50349.37,48374.09,48751.71,48882.2,50971.75,52375.17,54884.5,55851.59,57773.16,57221.72,61188.39,58968.31,55605.2,56900.75,58912.97,57648.16,58030.01,58102.28,57351.56,54083.25,54340.89,52303.65,51293.78,55025.59,55817.14,55777.63,57635.47,58746.57,58740.55,58720.44,58950.01,57051.94,58202.01,59129.99,57991.15,55953.45,58077.52,58142.54,59769.13,60002.43,59860.0,63575.0,62959.53,63159.98,61334.8,60006.66,56150.01,55633.14,56425.0,53787.63,51690.96,51125.14,50047.84,49066.77,54001.39,55011.97,54846.22,53555.0,57694.27,57800.37,56578.21,57169.39,53200.01,57436.11,56393.68,57314.75,58862.05,58240.84,55816.14,56670.02,49631.32,49670.97,49841.45,46762.99,46431.5,43538.04,42849.78,36690.09,40526.64,37252.01,37449.73,34655.25,38796.29,38324.72,39241.91,38529.98,35663.49,34605.15,35641.27,37253.81,36693.09,37568.68,39246.79,36829.0,35513.2,35796.31,33552.79,33380.81,37388.05,36675.72,37331.98,35546.11,39020.57,40516.29,40144.04,38349.01,38092.97,35819.84,35483.72,35600.16,31608.93,32509.56,33678.07,34663.09,31584.45,32283.65,34700.34,34494.89,35911.73,35045.0,33504.69,33786.55,34669.13,35286.51,33690.14,34220.01,33862.12,32875.71,33815.81,33502.87,34258.99,33086.63,32729.77,32820.02,31880.0,31383.87,31520.07,31778.56,30839.65,29790.35,32144.51,32287.83,33634.09,34258.14,35381.02,37237.6,39457.87,40019.56,40016.48,42206.37,41461.83,39845.44,39147.82,38207.05,39723.18,40862.46,42836.87,44572.54,43794.37,46253.4,45584.99,45511.0,44399.0,47800.0,47068.51,46973.82,45901.29,44695.95,44705.29,46760.62,49322.47,48821.87,49239.22,49488.85,47674.01,48973.32,46843.87,49069.9,48895.35,48767.83,46982.91,47100.89,48810.52,49246.64,49999.14,49915.64,51756.88,52663.9,46863.73,46048.31,46395.14,44850.91,45173.69,46025.24,44940.73,47111.52,48121.41,47737.82,47299.98,48292.74,47241.75,43015.62,40734.38,43543.61,44865.26,42810.57,42670.64,43160.9,42147.35,41026.54,41524.28,43824.1,48141.61,47634.9,48200.01,49224.94,51471.99,55315.0,53785.22,53951.43,54949.72,54659.0,57471.35,55996.93,57367.0,57347.94,61672.42,60875.57,61528.33,62009.84,64280.59,66001.41,62193.15,60688.22,61286.75,60852.22,63078.78,60328.81,58413.44,60575.89,62253.71,61859.19,61299.8,60911.11,63219.99,62896.48,61395.01,60937.12,61470.61,63273.59,67525.83,66947.66,64882.43,64774.26,64122.23,64380.0,65519.1,63606.74,60058.87,60344.87,56891.62,58052.24,59707.51,58622.02,56247.18,57541.27,57138.29,58960.36,53726.53,54721.03,57274.88,57776.25,56950.56,57184.07,56480.34,53601.05,49152.47,49396.33,50441.92,50588.95,50471.19,47545.59,47140.54,49389.99,50053.9,46702.75,48343.28,48864.98,47632.38,46131.2,46834.48,46681.23,46914.16,48889.88,48588.16,50838.81,50820.0,50399.66,50775.49,50701.44,47543.74,46464.66,47120.87,46216.93,47722.65,47286.18,46446.1,45832.01,43451.13,43082.31,41566.48,41679.74,41864.62,41822.49,42729.29,43902.66,42560.11,43059.96,43084.29,43071.66,42201.62,42352.12,41660.01,40680.91,36445.31,35071.42,36244.55,36660.35,36958.32,36809.34,37160.1,37716.56,38166.84,37881.76,38466.9,38694.59,36896.36,37311.61,41574.25,41382.59,42380.87,43839.99,44042.99,44372.72,43495.44,42373.73,42217.87,42053.66,42535.94,44544.86,43873.56,40515.7,39974.44,40079.17,38386.89,37008.16,38230.33,37250.01,38327.21,39219.17,39116.72,37699.07,43160.0,44421.2,43892.98,42454.0,39148.66,39397.96,38420.81,37988.0,38730.63,41941.71,39422.0,38729.57,38807.36,37777.34,39671.37,39280.33,41114.0,40917.9,41757.51,42201.13,41262.11,41002.25,42364.13,42882.76,43991.46,44313.16,44511.27,46827.76,47122.21,47434.8,47067.99,45510.34,46283.49,45811.0,46407.35,46580.51,45497.55,43170.47,43444.19,42252.01,42753.97,42158.85,39530.45,40074.94,41147.79,39942.38,40551.9,40378.71,39678.12,40801.13,41493.18,41358.19,40480.01,39709.18,39441.6,39450.13,40426.08,38112.65,39235.72,39742.07,38596.11,37630.8,38468.35,38525.16,37728.95,39690.0,36552.97,36013.77,35472.39,34038.4,30076.31,31017.1,29103.94,29029.75,29287.05,30086.74,31328.89,29874.01,30444.93,28715.32,30319.23,29201.01,29445.06,30293.94,29109.15,29654.58,29542.15,29201.35,28629.8,29031.33,29468.1,31734.22,31801.04,29805.83,30452.62,29700.21,29864.04,29919.21,31373.1,31125.33,30204.77,30109.93,29091.88,28424.7,26574.53,22487.41,22136.41,22583.72,20401.31,20468.81,18970.79,20574.0,20573.89,20723.52,19987.99,21110.13,21237.69,21491.19,21038.07,20742.56,20281.29,20123.01,19942.21,19279.8,19252.81,19315.83,20236.71,20175.83,20564.51,21624.98,21594.75,21591.83,20862.47,19963.61,19328.75,20234.87,20588.84,20830.04,21195.6,20798.16,22432.58,23396.62,23223.3,23152.19,22684.83,22451.07,22579.68,21310.9,21254.67,22952.45,23842.93,23773.75,23643.51,23293.32,23268.01,22987.79,22818.37,22622.98,23312.42,22954.21,23174.39,23810.0,23149.95,23954.05,23934.39,24403.68,24441.38,24305.24,24094.82,23854.74,23342.66,23191.2,20834.39,21140.07,21515.61,21399.83,21529.12,21368.08,21559.04,20241.05,20037.6,19555.61,20285.73,19811.66,20050.02,20131.46,19951.86,19831.9,20000.3,19796.84,18790.61,19292.84,19319.77,21360.11,21648.34,21826.87,22395.74,20173.57,20226.71,19701.88,19803.3,20113.62,19416.18,19537.02,18875.0,18461.36,19401.63,19289.91,18920.5,18807.38,19227.82,19079.13,19412.82,19591.51,19422.61,19310.95,19056.8,19629.08,20337.82,20158.26,19960.67,19530.09,19417.96,19439.02,19131.87,19060.0,19155.53,19375.13,19176.93,19069.39,19262.98,19549.86,19327.44,19123.97,19041.92,19164.37,19204.35,19570.4,19329.72,20080.07,20771.59,20295.11,20591.84,20809.67,20627.48,20490.74,20483.62,20151.84,20207.82,21148.52,21299.37,20905.58,20591.13,18547.23,15922.81,17601.15,17070.31,16812.08,16329.85,16619.46,16900.57,16662.76,16692.56,16700.45,16700.68,16280.23,15781.29,16226.94,16603.11,16598.95,16522.14,16458.57,16428.78,16212.91,16442.53,16443.6,16977.37,17092.74,16885.2,17105.7,16966.35,17088.96,16836.64,17224.1,17128.56,17127.49,17085.05,17209.83,17774.7,17803.15,17356.34,16632.12,16776.52,16738.21,16438.88,16895.56,16824.67,16821.43,16778.5,16836.12,16832.11,16919.39,16706.36,16547.31,16633.47,16607.48,16542.4],\"yaxis\":\"y\",\"type\":\"scattergl\",\"opacity\":0.8}],                        {\"template\":{\"data\":{\"bar\":[{\"error_x\":{\"color\":\"#2a3f5f\"},\"error_y\":{\"color\":\"#2a3f5f\"},\"marker\":{\"line\":{\"color\":\"#E5ECF6\",\"width\":0.5},\"pattern\":{\"fillmode\":\"overlay\",\"size\":10,\"solidity\":0.2}},\"type\":\"bar\"}],\"barpolar\":[{\"marker\":{\"line\":{\"color\":\"#E5ECF6\",\"width\":0.5},\"pattern\":{\"fillmode\":\"overlay\",\"size\":10,\"solidity\":0.2}},\"type\":\"barpolar\"}],\"carpet\":[{\"aaxis\":{\"endlinecolor\":\"#2a3f5f\",\"gridcolor\":\"white\",\"linecolor\":\"white\",\"minorgridcolor\":\"white\",\"startlinecolor\":\"#2a3f5f\"},\"baxis\":{\"endlinecolor\":\"#2a3f5f\",\"gridcolor\":\"white\",\"linecolor\":\"white\",\"minorgridcolor\":\"white\",\"startlinecolor\":\"#2a3f5f\"},\"type\":\"carpet\"}],\"choropleth\":[{\"colorbar\":{\"outlinewidth\":0,\"ticks\":\"\"},\"type\":\"choropleth\"}],\"contour\":[{\"colorbar\":{\"outlinewidth\":0,\"ticks\":\"\"},\"colorscale\":[[0.0,\"#0d0887\"],[0.1111111111111111,\"#46039f\"],[0.2222222222222222,\"#7201a8\"],[0.3333333333333333,\"#9c179e\"],[0.4444444444444444,\"#bd3786\"],[0.5555555555555556,\"#d8576b\"],[0.6666666666666666,\"#ed7953\"],[0.7777777777777778,\"#fb9f3a\"],[0.8888888888888888,\"#fdca26\"],[1.0,\"#f0f921\"]],\"type\":\"contour\"}],\"contourcarpet\":[{\"colorbar\":{\"outlinewidth\":0,\"ticks\":\"\"},\"type\":\"contourcarpet\"}],\"heatmap\":[{\"colorbar\":{\"outlinewidth\":0,\"ticks\":\"\"},\"colorscale\":[[0.0,\"#0d0887\"],[0.1111111111111111,\"#46039f\"],[0.2222222222222222,\"#7201a8\"],[0.3333333333333333,\"#9c179e\"],[0.4444444444444444,\"#bd3786\"],[0.5555555555555556,\"#d8576b\"],[0.6666666666666666,\"#ed7953\"],[0.7777777777777778,\"#fb9f3a\"],[0.8888888888888888,\"#fdca26\"],[1.0,\"#f0f921\"]],\"type\":\"heatmap\"}],\"heatmapgl\":[{\"colorbar\":{\"outlinewidth\":0,\"ticks\":\"\"},\"colorscale\":[[0.0,\"#0d0887\"],[0.1111111111111111,\"#46039f\"],[0.2222222222222222,\"#7201a8\"],[0.3333333333333333,\"#9c179e\"],[0.4444444444444444,\"#bd3786\"],[0.5555555555555556,\"#d8576b\"],[0.6666666666666666,\"#ed7953\"],[0.7777777777777778,\"#fb9f3a\"],[0.8888888888888888,\"#fdca26\"],[1.0,\"#f0f921\"]],\"type\":\"heatmapgl\"}],\"histogram\":[{\"marker\":{\"pattern\":{\"fillmode\":\"overlay\",\"size\":10,\"solidity\":0.2}},\"type\":\"histogram\"}],\"histogram2d\":[{\"colorbar\":{\"outlinewidth\":0,\"ticks\":\"\"},\"colorscale\":[[0.0,\"#0d0887\"],[0.1111111111111111,\"#46039f\"],[0.2222222222222222,\"#7201a8\"],[0.3333333333333333,\"#9c179e\"],[0.4444444444444444,\"#bd3786\"],[0.5555555555555556,\"#d8576b\"],[0.6666666666666666,\"#ed7953\"],[0.7777777777777778,\"#fb9f3a\"],[0.8888888888888888,\"#fdca26\"],[1.0,\"#f0f921\"]],\"type\":\"histogram2d\"}],\"histogram2dcontour\":[{\"colorbar\":{\"outlinewidth\":0,\"ticks\":\"\"},\"colorscale\":[[0.0,\"#0d0887\"],[0.1111111111111111,\"#46039f\"],[0.2222222222222222,\"#7201a8\"],[0.3333333333333333,\"#9c179e\"],[0.4444444444444444,\"#bd3786\"],[0.5555555555555556,\"#d8576b\"],[0.6666666666666666,\"#ed7953\"],[0.7777777777777778,\"#fb9f3a\"],[0.8888888888888888,\"#fdca26\"],[1.0,\"#f0f921\"]],\"type\":\"histogram2dcontour\"}],\"mesh3d\":[{\"colorbar\":{\"outlinewidth\":0,\"ticks\":\"\"},\"type\":\"mesh3d\"}],\"parcoords\":[{\"line\":{\"colorbar\":{\"outlinewidth\":0,\"ticks\":\"\"}},\"type\":\"parcoords\"}],\"pie\":[{\"automargin\":true,\"type\":\"pie\"}],\"scatter\":[{\"marker\":{\"colorbar\":{\"outlinewidth\":0,\"ticks\":\"\"}},\"type\":\"scatter\"}],\"scatter3d\":[{\"line\":{\"colorbar\":{\"outlinewidth\":0,\"ticks\":\"\"}},\"marker\":{\"colorbar\":{\"outlinewidth\":0,\"ticks\":\"\"}},\"type\":\"scatter3d\"}],\"scattercarpet\":[{\"marker\":{\"colorbar\":{\"outlinewidth\":0,\"ticks\":\"\"}},\"type\":\"scattercarpet\"}],\"scattergeo\":[{\"marker\":{\"colorbar\":{\"outlinewidth\":0,\"ticks\":\"\"}},\"type\":\"scattergeo\"}],\"scattergl\":[{\"marker\":{\"colorbar\":{\"outlinewidth\":0,\"ticks\":\"\"}},\"type\":\"scattergl\"}],\"scattermapbox\":[{\"marker\":{\"colorbar\":{\"outlinewidth\":0,\"ticks\":\"\"}},\"type\":\"scattermapbox\"}],\"scatterpolar\":[{\"marker\":{\"colorbar\":{\"outlinewidth\":0,\"ticks\":\"\"}},\"type\":\"scatterpolar\"}],\"scatterpolargl\":[{\"marker\":{\"colorbar\":{\"outlinewidth\":0,\"ticks\":\"\"}},\"type\":\"scatterpolargl\"}],\"scatterternary\":[{\"marker\":{\"colorbar\":{\"outlinewidth\":0,\"ticks\":\"\"}},\"type\":\"scatterternary\"}],\"surface\":[{\"colorbar\":{\"outlinewidth\":0,\"ticks\":\"\"},\"colorscale\":[[0.0,\"#0d0887\"],[0.1111111111111111,\"#46039f\"],[0.2222222222222222,\"#7201a8\"],[0.3333333333333333,\"#9c179e\"],[0.4444444444444444,\"#bd3786\"],[0.5555555555555556,\"#d8576b\"],[0.6666666666666666,\"#ed7953\"],[0.7777777777777778,\"#fb9f3a\"],[0.8888888888888888,\"#fdca26\"],[1.0,\"#f0f921\"]],\"type\":\"surface\"}],\"table\":[{\"cells\":{\"fill\":{\"color\":\"#EBF0F8\"},\"line\":{\"color\":\"white\"}},\"header\":{\"fill\":{\"color\":\"#C8D4E3\"},\"line\":{\"color\":\"white\"}},\"type\":\"table\"}]},\"layout\":{\"annotationdefaults\":{\"arrowcolor\":\"#2a3f5f\",\"arrowhead\":0,\"arrowwidth\":1},\"autotypenumbers\":\"strict\",\"coloraxis\":{\"colorbar\":{\"outlinewidth\":0,\"ticks\":\"\"}},\"colorscale\":{\"diverging\":[[0,\"#8e0152\"],[0.1,\"#c51b7d\"],[0.2,\"#de77ae\"],[0.3,\"#f1b6da\"],[0.4,\"#fde0ef\"],[0.5,\"#f7f7f7\"],[0.6,\"#e6f5d0\"],[0.7,\"#b8e186\"],[0.8,\"#7fbc41\"],[0.9,\"#4d9221\"],[1,\"#276419\"]],\"sequential\":[[0.0,\"#0d0887\"],[0.1111111111111111,\"#46039f\"],[0.2222222222222222,\"#7201a8\"],[0.3333333333333333,\"#9c179e\"],[0.4444444444444444,\"#bd3786\"],[0.5555555555555556,\"#d8576b\"],[0.6666666666666666,\"#ed7953\"],[0.7777777777777778,\"#fb9f3a\"],[0.8888888888888888,\"#fdca26\"],[1.0,\"#f0f921\"]],\"sequentialminus\":[[0.0,\"#0d0887\"],[0.1111111111111111,\"#46039f\"],[0.2222222222222222,\"#7201a8\"],[0.3333333333333333,\"#9c179e\"],[0.4444444444444444,\"#bd3786\"],[0.5555555555555556,\"#d8576b\"],[0.6666666666666666,\"#ed7953\"],[0.7777777777777778,\"#fb9f3a\"],[0.8888888888888888,\"#fdca26\"],[1.0,\"#f0f921\"]]},\"colorway\":[\"#636efa\",\"#EF553B\",\"#00cc96\",\"#ab63fa\",\"#FFA15A\",\"#19d3f3\",\"#FF6692\",\"#B6E880\",\"#FF97FF\",\"#FECB52\"],\"font\":{\"color\":\"#2a3f5f\"},\"geo\":{\"bgcolor\":\"white\",\"lakecolor\":\"white\",\"landcolor\":\"#E5ECF6\",\"showlakes\":true,\"showland\":true,\"subunitcolor\":\"white\"},\"hoverlabel\":{\"align\":\"left\"},\"hovermode\":\"closest\",\"mapbox\":{\"style\":\"light\"},\"paper_bgcolor\":\"white\",\"plot_bgcolor\":\"#E5ECF6\",\"polar\":{\"angularaxis\":{\"gridcolor\":\"white\",\"linecolor\":\"white\",\"ticks\":\"\"},\"bgcolor\":\"#E5ECF6\",\"radialaxis\":{\"gridcolor\":\"white\",\"linecolor\":\"white\",\"ticks\":\"\"}},\"scene\":{\"xaxis\":{\"backgroundcolor\":\"#E5ECF6\",\"gridcolor\":\"white\",\"gridwidth\":2,\"linecolor\":\"white\",\"showbackground\":true,\"ticks\":\"\",\"zerolinecolor\":\"white\"},\"yaxis\":{\"backgroundcolor\":\"#E5ECF6\",\"gridcolor\":\"white\",\"gridwidth\":2,\"linecolor\":\"white\",\"showbackground\":true,\"ticks\":\"\",\"zerolinecolor\":\"white\"},\"zaxis\":{\"backgroundcolor\":\"#E5ECF6\",\"gridcolor\":\"white\",\"gridwidth\":2,\"linecolor\":\"white\",\"showbackground\":true,\"ticks\":\"\",\"zerolinecolor\":\"white\"}},\"shapedefaults\":{\"line\":{\"color\":\"#2a3f5f\"}},\"ternary\":{\"aaxis\":{\"gridcolor\":\"white\",\"linecolor\":\"white\",\"ticks\":\"\"},\"baxis\":{\"gridcolor\":\"white\",\"linecolor\":\"white\",\"ticks\":\"\"},\"bgcolor\":\"#E5ECF6\",\"caxis\":{\"gridcolor\":\"white\",\"linecolor\":\"white\",\"ticks\":\"\"}},\"title\":{\"x\":0.05},\"xaxis\":{\"automargin\":true,\"gridcolor\":\"white\",\"linecolor\":\"white\",\"ticks\":\"\",\"title\":{\"standoff\":15},\"zerolinecolor\":\"white\",\"zerolinewidth\":2},\"yaxis\":{\"automargin\":true,\"gridcolor\":\"white\",\"linecolor\":\"white\",\"ticks\":\"\",\"title\":{\"standoff\":15},\"zerolinecolor\":\"white\",\"zerolinewidth\":2}}},\"xaxis\":{\"anchor\":\"y\",\"domain\":[0.0,1.0],\"title\":{\"text\":\"Date\"},\"showgrid\":false},\"yaxis\":{\"anchor\":\"x\",\"domain\":[0.0,1.0],\"title\":{\"text\":\"Close Bitcoin\"},\"showgrid\":false},\"legend\":{\"tracegroupgap\":0},\"margin\":{\"t\":60},\"title\":{\"text\":\"Whole Period of Timeframe of Bitcoin Close Price 2017-2022\"},\"font\":{\"size\":15,\"color\":\"black\"},\"plot_bgcolor\":\"white\"},                        {\"responsive\": true}                    ).then(function(){\n",
              "                            \n",
              "var gd = document.getElementById('9fea0238-6e1a-4c72-9ec8-99074b7916a4');\n",
              "var x = new MutationObserver(function (mutations, observer) {{\n",
              "        var display = window.getComputedStyle(gd).display;\n",
              "        if (!display || display === 'none') {{\n",
              "            console.log([gd, 'removed!']);\n",
              "            Plotly.purge(gd);\n",
              "            observer.disconnect();\n",
              "        }}\n",
              "}});\n",
              "\n",
              "// Listen for the removal of the full notebook cells\n",
              "var notebookContainer = gd.closest('#notebook-container');\n",
              "if (notebookContainer) {{\n",
              "    x.observe(notebookContainer, {childList: true});\n",
              "}}\n",
              "\n",
              "// Listen for the clearing of the current output cell\n",
              "var outputEl = gd.closest('.output');\n",
              "if (outputEl) {{\n",
              "    x.observe(outputEl, {childList: true});\n",
              "}}\n",
              "\n",
              "                        })                };                            </script>        </div>\n",
              "</body>\n",
              "</html>"
            ]
          },
          "metadata": {}
        }
      ]
    },
    {
      "cell_type": "code",
      "source": [
        "closedf = closedf[closedf['date'] > '2017-12-17']\n",
        "close_bitcoin = closedf.copy()\n",
        "print(\"Total data for prediction: \",closedf.shape[0])"
      ],
      "metadata": {
        "colab": {
          "base_uri": "https://localhost:8080/"
        },
        "id": "WSvpYX5FnFXP",
        "outputId": "cc382b19-935b-4f96-8218-45ea1a055584"
      },
      "execution_count": 51,
      "outputs": [
        {
          "output_type": "stream",
          "name": "stdout",
          "text": [
            "Total data for prediction:  1840\n"
          ]
        }
      ]
    },
    {
      "cell_type": "code",
      "source": [
        "closedf"
      ],
      "metadata": {
        "colab": {
          "base_uri": "https://localhost:8080/",
          "height": 424
        },
        "id": "8G90d8SZnrsv",
        "outputId": "d0edcd85-9f06-4038-e90c-b85e1c78010a"
      },
      "execution_count": 52,
      "outputs": [
        {
          "output_type": "execute_result",
          "data": {
            "text/plain": [
              "            date     close\n",
              "0     2017-12-18  18856.25\n",
              "1     2017-12-19  17295.20\n",
              "2     2017-12-20  16488.98\n",
              "3     2017-12-21  15492.64\n",
              "4     2017-12-22  13326.61\n",
              "...          ...       ...\n",
              "1835  2022-12-27  16706.36\n",
              "1836  2022-12-28  16547.31\n",
              "1837  2022-12-29  16633.47\n",
              "1838  2022-12-30  16607.48\n",
              "1839  2022-12-31  16542.40\n",
              "\n",
              "[1840 rows x 2 columns]"
            ],
            "text/html": [
              "\n",
              "  <div id=\"df-8df8d548-7a4c-462d-9515-fece734ccda0\">\n",
              "    <div class=\"colab-df-container\">\n",
              "      <div>\n",
              "<style scoped>\n",
              "    .dataframe tbody tr th:only-of-type {\n",
              "        vertical-align: middle;\n",
              "    }\n",
              "\n",
              "    .dataframe tbody tr th {\n",
              "        vertical-align: top;\n",
              "    }\n",
              "\n",
              "    .dataframe thead th {\n",
              "        text-align: right;\n",
              "    }\n",
              "</style>\n",
              "<table border=\"1\" class=\"dataframe\">\n",
              "  <thead>\n",
              "    <tr style=\"text-align: right;\">\n",
              "      <th></th>\n",
              "      <th>date</th>\n",
              "      <th>close</th>\n",
              "    </tr>\n",
              "  </thead>\n",
              "  <tbody>\n",
              "    <tr>\n",
              "      <th>0</th>\n",
              "      <td>2017-12-18</td>\n",
              "      <td>18856.25</td>\n",
              "    </tr>\n",
              "    <tr>\n",
              "      <th>1</th>\n",
              "      <td>2017-12-19</td>\n",
              "      <td>17295.20</td>\n",
              "    </tr>\n",
              "    <tr>\n",
              "      <th>2</th>\n",
              "      <td>2017-12-20</td>\n",
              "      <td>16488.98</td>\n",
              "    </tr>\n",
              "    <tr>\n",
              "      <th>3</th>\n",
              "      <td>2017-12-21</td>\n",
              "      <td>15492.64</td>\n",
              "    </tr>\n",
              "    <tr>\n",
              "      <th>4</th>\n",
              "      <td>2017-12-22</td>\n",
              "      <td>13326.61</td>\n",
              "    </tr>\n",
              "    <tr>\n",
              "      <th>...</th>\n",
              "      <td>...</td>\n",
              "      <td>...</td>\n",
              "    </tr>\n",
              "    <tr>\n",
              "      <th>1835</th>\n",
              "      <td>2022-12-27</td>\n",
              "      <td>16706.36</td>\n",
              "    </tr>\n",
              "    <tr>\n",
              "      <th>1836</th>\n",
              "      <td>2022-12-28</td>\n",
              "      <td>16547.31</td>\n",
              "    </tr>\n",
              "    <tr>\n",
              "      <th>1837</th>\n",
              "      <td>2022-12-29</td>\n",
              "      <td>16633.47</td>\n",
              "    </tr>\n",
              "    <tr>\n",
              "      <th>1838</th>\n",
              "      <td>2022-12-30</td>\n",
              "      <td>16607.48</td>\n",
              "    </tr>\n",
              "    <tr>\n",
              "      <th>1839</th>\n",
              "      <td>2022-12-31</td>\n",
              "      <td>16542.40</td>\n",
              "    </tr>\n",
              "  </tbody>\n",
              "</table>\n",
              "<p>1840 rows × 2 columns</p>\n",
              "</div>\n",
              "      <button class=\"colab-df-convert\" onclick=\"convertToInteractive('df-8df8d548-7a4c-462d-9515-fece734ccda0')\"\n",
              "              title=\"Convert this dataframe to an interactive table.\"\n",
              "              style=\"display:none;\">\n",
              "        \n",
              "  <svg xmlns=\"http://www.w3.org/2000/svg\" height=\"24px\"viewBox=\"0 0 24 24\"\n",
              "       width=\"24px\">\n",
              "    <path d=\"M0 0h24v24H0V0z\" fill=\"none\"/>\n",
              "    <path d=\"M18.56 5.44l.94 2.06.94-2.06 2.06-.94-2.06-.94-.94-2.06-.94 2.06-2.06.94zm-11 1L8.5 8.5l.94-2.06 2.06-.94-2.06-.94L8.5 2.5l-.94 2.06-2.06.94zm10 10l.94 2.06.94-2.06 2.06-.94-2.06-.94-.94-2.06-.94 2.06-2.06.94z\"/><path d=\"M17.41 7.96l-1.37-1.37c-.4-.4-.92-.59-1.43-.59-.52 0-1.04.2-1.43.59L10.3 9.45l-7.72 7.72c-.78.78-.78 2.05 0 2.83L4 21.41c.39.39.9.59 1.41.59.51 0 1.02-.2 1.41-.59l7.78-7.78 2.81-2.81c.8-.78.8-2.07 0-2.86zM5.41 20L4 18.59l7.72-7.72 1.47 1.35L5.41 20z\"/>\n",
              "  </svg>\n",
              "      </button>\n",
              "      \n",
              "  <style>\n",
              "    .colab-df-container {\n",
              "      display:flex;\n",
              "      flex-wrap:wrap;\n",
              "      gap: 12px;\n",
              "    }\n",
              "\n",
              "    .colab-df-convert {\n",
              "      background-color: #E8F0FE;\n",
              "      border: none;\n",
              "      border-radius: 50%;\n",
              "      cursor: pointer;\n",
              "      display: none;\n",
              "      fill: #1967D2;\n",
              "      height: 32px;\n",
              "      padding: 0 0 0 0;\n",
              "      width: 32px;\n",
              "    }\n",
              "\n",
              "    .colab-df-convert:hover {\n",
              "      background-color: #E2EBFA;\n",
              "      box-shadow: 0px 1px 2px rgba(60, 64, 67, 0.3), 0px 1px 3px 1px rgba(60, 64, 67, 0.15);\n",
              "      fill: #174EA6;\n",
              "    }\n",
              "\n",
              "    [theme=dark] .colab-df-convert {\n",
              "      background-color: #3B4455;\n",
              "      fill: #D2E3FC;\n",
              "    }\n",
              "\n",
              "    [theme=dark] .colab-df-convert:hover {\n",
              "      background-color: #434B5C;\n",
              "      box-shadow: 0px 1px 3px 1px rgba(0, 0, 0, 0.15);\n",
              "      filter: drop-shadow(0px 1px 2px rgba(0, 0, 0, 0.3));\n",
              "      fill: #FFFFFF;\n",
              "    }\n",
              "  </style>\n",
              "\n",
              "      <script>\n",
              "        const buttonEl =\n",
              "          document.querySelector('#df-8df8d548-7a4c-462d-9515-fece734ccda0 button.colab-df-convert');\n",
              "        buttonEl.style.display =\n",
              "          google.colab.kernel.accessAllowed ? 'block' : 'none';\n",
              "\n",
              "        async function convertToInteractive(key) {\n",
              "          const element = document.querySelector('#df-8df8d548-7a4c-462d-9515-fece734ccda0');\n",
              "          const dataTable =\n",
              "            await google.colab.kernel.invokeFunction('convertToInteractive',\n",
              "                                                     [key], {});\n",
              "          if (!dataTable) return;\n",
              "\n",
              "          const docLinkHtml = 'Like what you see? Visit the ' +\n",
              "            '<a target=\"_blank\" href=https://colab.research.google.com/notebooks/data_table.ipynb>data table notebook</a>'\n",
              "            + ' to learn more about interactive tables.';\n",
              "          element.innerHTML = '';\n",
              "          dataTable['output_type'] = 'display_data';\n",
              "          await google.colab.output.renderOutput(dataTable, element);\n",
              "          const docLink = document.createElement('div');\n",
              "          docLink.innerHTML = docLinkHtml;\n",
              "          element.appendChild(docLink);\n",
              "        }\n",
              "      </script>\n",
              "    </div>\n",
              "  </div>\n",
              "  "
            ]
          },
          "metadata": {},
          "execution_count": 52
        }
      ]
    },
    {
      "cell_type": "code",
      "source": [
        "fig = px.line(closedf, x=closedf.date, y=closedf.close,labels={'date':'Date','close':'Close Bitcoin'})\n",
        "fig.update_traces(marker_line_width=2, opacity=0.8, marker_line_color='orange')\n",
        "fig.update_layout(title_text='Considered period to predict Bitcoin close price', \n",
        "                  plot_bgcolor='white', font_size=15, font_color='black')\n",
        "fig.update_xaxes(showgrid=False)\n",
        "fig.update_yaxes(showgrid=False)\n",
        "fig.show()"
      ],
      "metadata": {
        "colab": {
          "base_uri": "https://localhost:8080/",
          "height": 542
        },
        "id": "8_pxT-_CnxgY",
        "outputId": "3ef5e7be-4f3c-4256-e782-201768e060e2"
      },
      "execution_count": 53,
      "outputs": [
        {
          "output_type": "display_data",
          "data": {
            "text/html": [
              "<html>\n",
              "<head><meta charset=\"utf-8\" /></head>\n",
              "<body>\n",
              "    <div>            <script src=\"https://cdnjs.cloudflare.com/ajax/libs/mathjax/2.7.5/MathJax.js?config=TeX-AMS-MML_SVG\"></script><script type=\"text/javascript\">if (window.MathJax) {MathJax.Hub.Config({SVG: {font: \"STIX-Web\"}});}</script>                <script type=\"text/javascript\">window.PlotlyConfig = {MathJaxConfig: 'local'};</script>\n",
              "        <script src=\"https://cdn.plot.ly/plotly-2.8.3.min.js\"></script>                <div id=\"8902787a-75d7-451a-9507-d094dbe61a3a\" class=\"plotly-graph-div\" style=\"height:525px; width:100%;\"></div>            <script type=\"text/javascript\">                                    window.PLOTLYENV=window.PLOTLYENV || {};                                    if (document.getElementById(\"8902787a-75d7-451a-9507-d094dbe61a3a\")) {                    Plotly.newPlot(                        \"8902787a-75d7-451a-9507-d094dbe61a3a\",                        [{\"hovertemplate\":\"Date=%{x}<br>Close Bitcoin=%{y}<extra></extra>\",\"legendgroup\":\"\",\"line\":{\"color\":\"#636efa\",\"dash\":\"solid\"},\"marker\":{\"symbol\":\"circle\",\"line\":{\"color\":\"orange\",\"width\":2}},\"mode\":\"lines\",\"name\":\"\",\"showlegend\":false,\"x\":[\"2017-12-18\",\"2017-12-19\",\"2017-12-20\",\"2017-12-21\",\"2017-12-22\",\"2017-12-23\",\"2017-12-24\",\"2017-12-25\",\"2017-12-26\",\"2017-12-27\",\"2017-12-28\",\"2017-12-29\",\"2017-12-30\",\"2017-12-31\",\"2018-01-01\",\"2018-01-02\",\"2018-01-03\",\"2018-01-04\",\"2018-01-05\",\"2018-01-06\",\"2018-01-07\",\"2018-01-08\",\"2018-01-09\",\"2018-01-10\",\"2018-01-11\",\"2018-01-12\",\"2018-01-13\",\"2018-01-14\",\"2018-01-15\",\"2018-01-16\",\"2018-01-17\",\"2018-01-18\",\"2018-01-19\",\"2018-01-20\",\"2018-01-21\",\"2018-01-22\",\"2018-01-23\",\"2018-01-24\",\"2018-01-25\",\"2018-01-26\",\"2018-01-27\",\"2018-01-28\",\"2018-01-29\",\"2018-01-30\",\"2018-01-31\",\"2018-02-01\",\"2018-02-02\",\"2018-02-03\",\"2018-02-04\",\"2018-02-05\",\"2018-02-06\",\"2018-02-07\",\"2018-02-08\",\"2018-02-09\",\"2018-02-10\",\"2018-02-11\",\"2018-02-12\",\"2018-02-13\",\"2018-02-14\",\"2018-02-15\",\"2018-02-16\",\"2018-02-17\",\"2018-02-18\",\"2018-02-19\",\"2018-02-20\",\"2018-02-21\",\"2018-02-22\",\"2018-02-23\",\"2018-02-24\",\"2018-02-25\",\"2018-02-26\",\"2018-02-27\",\"2018-02-28\",\"2018-03-01\",\"2018-03-02\",\"2018-03-03\",\"2018-03-04\",\"2018-03-05\",\"2018-03-06\",\"2018-03-07\",\"2018-03-08\",\"2018-03-09\",\"2018-03-10\",\"2018-03-11\",\"2018-03-12\",\"2018-03-13\",\"2018-03-14\",\"2018-03-15\",\"2018-03-16\",\"2018-03-17\",\"2018-03-18\",\"2018-03-19\",\"2018-03-20\",\"2018-03-21\",\"2018-03-22\",\"2018-03-23\",\"2018-03-24\",\"2018-03-25\",\"2018-03-26\",\"2018-03-27\",\"2018-03-28\",\"2018-03-29\",\"2018-03-30\",\"2018-03-31\",\"2018-04-01\",\"2018-04-02\",\"2018-04-03\",\"2018-04-04\",\"2018-04-05\",\"2018-04-06\",\"2018-04-07\",\"2018-04-08\",\"2018-04-09\",\"2018-04-10\",\"2018-04-11\",\"2018-04-12\",\"2018-04-13\",\"2018-04-14\",\"2018-04-15\",\"2018-04-16\",\"2018-04-17\",\"2018-04-18\",\"2018-04-19\",\"2018-04-20\",\"2018-04-21\",\"2018-04-22\",\"2018-04-23\",\"2018-04-24\",\"2018-04-25\",\"2018-04-26\",\"2018-04-27\",\"2018-04-28\",\"2018-04-29\",\"2018-04-30\",\"2018-05-01\",\"2018-05-02\",\"2018-05-03\",\"2018-05-04\",\"2018-05-05\",\"2018-05-06\",\"2018-05-07\",\"2018-05-08\",\"2018-05-09\",\"2018-05-10\",\"2018-05-11\",\"2018-05-12\",\"2018-05-13\",\"2018-05-14\",\"2018-05-15\",\"2018-05-16\",\"2018-05-17\",\"2018-05-18\",\"2018-05-19\",\"2018-05-20\",\"2018-05-21\",\"2018-05-22\",\"2018-05-23\",\"2018-05-24\",\"2018-05-25\",\"2018-05-26\",\"2018-05-27\",\"2018-05-28\",\"2018-05-29\",\"2018-05-30\",\"2018-05-31\",\"2018-06-01\",\"2018-06-02\",\"2018-06-03\",\"2018-06-04\",\"2018-06-05\",\"2018-06-06\",\"2018-06-07\",\"2018-06-08\",\"2018-06-09\",\"2018-06-10\",\"2018-06-11\",\"2018-06-12\",\"2018-06-13\",\"2018-06-14\",\"2018-06-15\",\"2018-06-16\",\"2018-06-17\",\"2018-06-18\",\"2018-06-19\",\"2018-06-20\",\"2018-06-21\",\"2018-06-22\",\"2018-06-23\",\"2018-06-24\",\"2018-06-25\",\"2018-06-26\",\"2018-06-27\",\"2018-06-28\",\"2018-06-29\",\"2018-06-30\",\"2018-07-01\",\"2018-07-02\",\"2018-07-03\",\"2018-07-04\",\"2018-07-05\",\"2018-07-06\",\"2018-07-07\",\"2018-07-08\",\"2018-07-09\",\"2018-07-10\",\"2018-07-11\",\"2018-07-12\",\"2018-07-13\",\"2018-07-14\",\"2018-07-15\",\"2018-07-16\",\"2018-07-17\",\"2018-07-18\",\"2018-07-19\",\"2018-07-20\",\"2018-07-21\",\"2018-07-22\",\"2018-07-23\",\"2018-07-24\",\"2018-07-25\",\"2018-07-26\",\"2018-07-27\",\"2018-07-28\",\"2018-07-29\",\"2018-07-30\",\"2018-07-31\",\"2018-08-01\",\"2018-08-02\",\"2018-08-03\",\"2018-08-04\",\"2018-08-05\",\"2018-08-06\",\"2018-08-07\",\"2018-08-08\",\"2018-08-09\",\"2018-08-10\",\"2018-08-11\",\"2018-08-12\",\"2018-08-13\",\"2018-08-14\",\"2018-08-15\",\"2018-08-16\",\"2018-08-17\",\"2018-08-18\",\"2018-08-19\",\"2018-08-20\",\"2018-08-21\",\"2018-08-22\",\"2018-08-23\",\"2018-08-24\",\"2018-08-25\",\"2018-08-26\",\"2018-08-27\",\"2018-08-28\",\"2018-08-29\",\"2018-08-30\",\"2018-08-31\",\"2018-09-01\",\"2018-09-02\",\"2018-09-03\",\"2018-09-04\",\"2018-09-05\",\"2018-09-06\",\"2018-09-07\",\"2018-09-08\",\"2018-09-09\",\"2018-09-10\",\"2018-09-11\",\"2018-09-12\",\"2018-09-13\",\"2018-09-14\",\"2018-09-15\",\"2018-09-16\",\"2018-09-17\",\"2018-09-18\",\"2018-09-19\",\"2018-09-20\",\"2018-09-21\",\"2018-09-22\",\"2018-09-23\",\"2018-09-24\",\"2018-09-25\",\"2018-09-26\",\"2018-09-27\",\"2018-09-28\",\"2018-09-29\",\"2018-09-30\",\"2018-10-01\",\"2018-10-02\",\"2018-10-03\",\"2018-10-04\",\"2018-10-05\",\"2018-10-06\",\"2018-10-07\",\"2018-10-08\",\"2018-10-09\",\"2018-10-10\",\"2018-10-11\",\"2018-10-12\",\"2018-10-13\",\"2018-10-14\",\"2018-10-15\",\"2018-10-16\",\"2018-10-17\",\"2018-10-18\",\"2018-10-19\",\"2018-10-20\",\"2018-10-21\",\"2018-10-22\",\"2018-10-23\",\"2018-10-24\",\"2018-10-25\",\"2018-10-26\",\"2018-10-27\",\"2018-10-28\",\"2018-10-29\",\"2018-10-30\",\"2018-10-31\",\"2018-11-01\",\"2018-11-02\",\"2018-11-03\",\"2018-11-04\",\"2018-11-05\",\"2018-11-06\",\"2018-11-07\",\"2018-11-08\",\"2018-11-09\",\"2018-11-10\",\"2018-11-11\",\"2018-11-12\",\"2018-11-13\",\"2018-11-14\",\"2018-11-15\",\"2018-11-16\",\"2018-11-17\",\"2018-11-18\",\"2018-11-19\",\"2018-11-20\",\"2018-11-21\",\"2018-11-22\",\"2018-11-23\",\"2018-11-24\",\"2018-11-25\",\"2018-11-26\",\"2018-11-27\",\"2018-11-28\",\"2018-11-29\",\"2018-11-30\",\"2018-12-01\",\"2018-12-02\",\"2018-12-03\",\"2018-12-04\",\"2018-12-05\",\"2018-12-06\",\"2018-12-07\",\"2018-12-08\",\"2018-12-09\",\"2018-12-10\",\"2018-12-11\",\"2018-12-12\",\"2018-12-13\",\"2018-12-14\",\"2018-12-15\",\"2018-12-16\",\"2018-12-17\",\"2018-12-18\",\"2018-12-19\",\"2018-12-20\",\"2018-12-21\",\"2018-12-22\",\"2018-12-23\",\"2018-12-24\",\"2018-12-25\",\"2018-12-26\",\"2018-12-27\",\"2018-12-28\",\"2018-12-29\",\"2018-12-30\",\"2018-12-31\",\"2019-01-01\",\"2019-01-02\",\"2019-01-03\",\"2019-01-04\",\"2019-01-05\",\"2019-01-06\",\"2019-01-07\",\"2019-01-08\",\"2019-01-09\",\"2019-01-10\",\"2019-01-11\",\"2019-01-12\",\"2019-01-13\",\"2019-01-14\",\"2019-01-15\",\"2019-01-16\",\"2019-01-17\",\"2019-01-18\",\"2019-01-19\",\"2019-01-20\",\"2019-01-21\",\"2019-01-22\",\"2019-01-23\",\"2019-01-24\",\"2019-01-25\",\"2019-01-26\",\"2019-01-27\",\"2019-01-28\",\"2019-01-29\",\"2019-01-30\",\"2019-01-31\",\"2019-02-01\",\"2019-02-02\",\"2019-02-03\",\"2019-02-04\",\"2019-02-05\",\"2019-02-06\",\"2019-02-07\",\"2019-02-08\",\"2019-02-09\",\"2019-02-10\",\"2019-02-11\",\"2019-02-12\",\"2019-02-13\",\"2019-02-14\",\"2019-02-15\",\"2019-02-16\",\"2019-02-17\",\"2019-02-18\",\"2019-02-19\",\"2019-02-20\",\"2019-02-21\",\"2019-02-22\",\"2019-02-23\",\"2019-02-24\",\"2019-02-25\",\"2019-02-26\",\"2019-02-27\",\"2019-02-28\",\"2019-03-01\",\"2019-03-02\",\"2019-03-03\",\"2019-03-04\",\"2019-03-05\",\"2019-03-06\",\"2019-03-07\",\"2019-03-08\",\"2019-03-09\",\"2019-03-10\",\"2019-03-11\",\"2019-03-12\",\"2019-03-13\",\"2019-03-14\",\"2019-03-15\",\"2019-03-16\",\"2019-03-17\",\"2019-03-18\",\"2019-03-19\",\"2019-03-20\",\"2019-03-21\",\"2019-03-22\",\"2019-03-23\",\"2019-03-24\",\"2019-03-25\",\"2019-03-26\",\"2019-03-27\",\"2019-03-28\",\"2019-03-29\",\"2019-03-30\",\"2019-03-31\",\"2019-04-01\",\"2019-04-02\",\"2019-04-03\",\"2019-04-04\",\"2019-04-05\",\"2019-04-06\",\"2019-04-07\",\"2019-04-08\",\"2019-04-09\",\"2019-04-10\",\"2019-04-11\",\"2019-04-12\",\"2019-04-13\",\"2019-04-14\",\"2019-04-15\",\"2019-04-16\",\"2019-04-17\",\"2019-04-18\",\"2019-04-19\",\"2019-04-20\",\"2019-04-21\",\"2019-04-22\",\"2019-04-23\",\"2019-04-24\",\"2019-04-25\",\"2019-04-26\",\"2019-04-27\",\"2019-04-28\",\"2019-04-29\",\"2019-04-30\",\"2019-05-01\",\"2019-05-02\",\"2019-05-03\",\"2019-05-04\",\"2019-05-05\",\"2019-05-06\",\"2019-05-07\",\"2019-05-08\",\"2019-05-09\",\"2019-05-10\",\"2019-05-11\",\"2019-05-12\",\"2019-05-13\",\"2019-05-14\",\"2019-05-15\",\"2019-05-16\",\"2019-05-17\",\"2019-05-18\",\"2019-05-19\",\"2019-05-20\",\"2019-05-21\",\"2019-05-22\",\"2019-05-23\",\"2019-05-24\",\"2019-05-25\",\"2019-05-26\",\"2019-05-27\",\"2019-05-28\",\"2019-05-29\",\"2019-05-30\",\"2019-05-31\",\"2019-06-01\",\"2019-06-02\",\"2019-06-03\",\"2019-06-04\",\"2019-06-05\",\"2019-06-06\",\"2019-06-07\",\"2019-06-08\",\"2019-06-09\",\"2019-06-10\",\"2019-06-11\",\"2019-06-12\",\"2019-06-13\",\"2019-06-14\",\"2019-06-15\",\"2019-06-16\",\"2019-06-17\",\"2019-06-18\",\"2019-06-19\",\"2019-06-20\",\"2019-06-21\",\"2019-06-22\",\"2019-06-23\",\"2019-06-24\",\"2019-06-25\",\"2019-06-26\",\"2019-06-27\",\"2019-06-28\",\"2019-06-29\",\"2019-06-30\",\"2019-07-01\",\"2019-07-02\",\"2019-07-03\",\"2019-07-04\",\"2019-07-05\",\"2019-07-06\",\"2019-07-07\",\"2019-07-08\",\"2019-07-09\",\"2019-07-10\",\"2019-07-11\",\"2019-07-12\",\"2019-07-13\",\"2019-07-14\",\"2019-07-15\",\"2019-07-16\",\"2019-07-17\",\"2019-07-18\",\"2019-07-19\",\"2019-07-20\",\"2019-07-21\",\"2019-07-22\",\"2019-07-23\",\"2019-07-24\",\"2019-07-25\",\"2019-07-26\",\"2019-07-27\",\"2019-07-28\",\"2019-07-29\",\"2019-07-30\",\"2019-07-31\",\"2019-08-01\",\"2019-08-02\",\"2019-08-03\",\"2019-08-04\",\"2019-08-05\",\"2019-08-06\",\"2019-08-07\",\"2019-08-08\",\"2019-08-09\",\"2019-08-10\",\"2019-08-11\",\"2019-08-12\",\"2019-08-13\",\"2019-08-14\",\"2019-08-15\",\"2019-08-16\",\"2019-08-17\",\"2019-08-18\",\"2019-08-19\",\"2019-08-20\",\"2019-08-21\",\"2019-08-22\",\"2019-08-23\",\"2019-08-24\",\"2019-08-25\",\"2019-08-26\",\"2019-08-27\",\"2019-08-28\",\"2019-08-29\",\"2019-08-30\",\"2019-08-31\",\"2019-09-01\",\"2019-09-02\",\"2019-09-03\",\"2019-09-04\",\"2019-09-05\",\"2019-09-06\",\"2019-09-07\",\"2019-09-08\",\"2019-09-09\",\"2019-09-10\",\"2019-09-11\",\"2019-09-12\",\"2019-09-13\",\"2019-09-14\",\"2019-09-15\",\"2019-09-16\",\"2019-09-17\",\"2019-09-18\",\"2019-09-19\",\"2019-09-20\",\"2019-09-21\",\"2019-09-22\",\"2019-09-23\",\"2019-09-24\",\"2019-09-25\",\"2019-09-26\",\"2019-09-27\",\"2019-09-28\",\"2019-09-29\",\"2019-09-30\",\"2019-10-01\",\"2019-10-02\",\"2019-10-03\",\"2019-10-04\",\"2019-10-05\",\"2019-10-06\",\"2019-10-07\",\"2019-10-08\",\"2019-10-09\",\"2019-10-10\",\"2019-10-11\",\"2019-10-12\",\"2019-10-13\",\"2019-10-14\",\"2019-10-15\",\"2019-10-16\",\"2019-10-17\",\"2019-10-18\",\"2019-10-19\",\"2019-10-20\",\"2019-10-21\",\"2019-10-22\",\"2019-10-23\",\"2019-10-24\",\"2019-10-25\",\"2019-10-26\",\"2019-10-27\",\"2019-10-28\",\"2019-10-29\",\"2019-10-30\",\"2019-10-31\",\"2019-11-01\",\"2019-11-02\",\"2019-11-03\",\"2019-11-04\",\"2019-11-05\",\"2019-11-06\",\"2019-11-07\",\"2019-11-08\",\"2019-11-09\",\"2019-11-10\",\"2019-11-11\",\"2019-11-12\",\"2019-11-13\",\"2019-11-14\",\"2019-11-15\",\"2019-11-16\",\"2019-11-17\",\"2019-11-18\",\"2019-11-19\",\"2019-11-20\",\"2019-11-21\",\"2019-11-22\",\"2019-11-23\",\"2019-11-24\",\"2019-11-25\",\"2019-11-26\",\"2019-11-27\",\"2019-11-28\",\"2019-11-29\",\"2019-11-30\",\"2019-12-01\",\"2019-12-02\",\"2019-12-03\",\"2019-12-04\",\"2019-12-05\",\"2019-12-06\",\"2019-12-07\",\"2019-12-08\",\"2019-12-09\",\"2019-12-10\",\"2019-12-11\",\"2019-12-12\",\"2019-12-13\",\"2019-12-14\",\"2019-12-15\",\"2019-12-16\",\"2019-12-17\",\"2019-12-18\",\"2019-12-19\",\"2019-12-20\",\"2019-12-21\",\"2019-12-22\",\"2019-12-23\",\"2019-12-24\",\"2019-12-25\",\"2019-12-26\",\"2019-12-27\",\"2019-12-28\",\"2019-12-29\",\"2019-12-30\",\"2019-12-31\",\"2020-01-01\",\"2020-01-02\",\"2020-01-03\",\"2020-01-04\",\"2020-01-05\",\"2020-01-06\",\"2020-01-07\",\"2020-01-08\",\"2020-01-09\",\"2020-01-10\",\"2020-01-11\",\"2020-01-12\",\"2020-01-13\",\"2020-01-14\",\"2020-01-15\",\"2020-01-16\",\"2020-01-17\",\"2020-01-18\",\"2020-01-19\",\"2020-01-20\",\"2020-01-21\",\"2020-01-22\",\"2020-01-23\",\"2020-01-24\",\"2020-01-25\",\"2020-01-26\",\"2020-01-27\",\"2020-01-28\",\"2020-01-29\",\"2020-01-30\",\"2020-01-31\",\"2020-02-01\",\"2020-02-02\",\"2020-02-03\",\"2020-02-04\",\"2020-02-05\",\"2020-02-06\",\"2020-02-07\",\"2020-02-08\",\"2020-02-09\",\"2020-02-10\",\"2020-02-11\",\"2020-02-12\",\"2020-02-13\",\"2020-02-14\",\"2020-02-15\",\"2020-02-16\",\"2020-02-17\",\"2020-02-18\",\"2020-02-19\",\"2020-02-20\",\"2020-02-21\",\"2020-02-22\",\"2020-02-23\",\"2020-02-24\",\"2020-02-25\",\"2020-02-26\",\"2020-02-27\",\"2020-02-28\",\"2020-02-29\",\"2020-03-01\",\"2020-03-02\",\"2020-03-03\",\"2020-03-04\",\"2020-03-05\",\"2020-03-06\",\"2020-03-07\",\"2020-03-08\",\"2020-03-09\",\"2020-03-10\",\"2020-03-11\",\"2020-03-12\",\"2020-03-13\",\"2020-03-14\",\"2020-03-15\",\"2020-03-16\",\"2020-03-17\",\"2020-03-18\",\"2020-03-19\",\"2020-03-20\",\"2020-03-21\",\"2020-03-22\",\"2020-03-23\",\"2020-03-24\",\"2020-03-25\",\"2020-03-26\",\"2020-03-27\",\"2020-03-28\",\"2020-03-29\",\"2020-03-30\",\"2020-03-31\",\"2020-04-01\",\"2020-04-02\",\"2020-04-03\",\"2020-04-04\",\"2020-04-05\",\"2020-04-06\",\"2020-04-07\",\"2020-04-08\",\"2020-04-09\",\"2020-04-10\",\"2020-04-11\",\"2020-04-12\",\"2020-04-13\",\"2020-04-14\",\"2020-04-15\",\"2020-04-16\",\"2020-04-17\",\"2020-04-18\",\"2020-04-19\",\"2020-04-20\",\"2020-04-21\",\"2020-04-22\",\"2020-04-23\",\"2020-04-24\",\"2020-04-25\",\"2020-04-26\",\"2020-04-27\",\"2020-04-28\",\"2020-04-29\",\"2020-04-30\",\"2020-05-01\",\"2020-05-02\",\"2020-05-03\",\"2020-05-04\",\"2020-05-05\",\"2020-05-06\",\"2020-05-07\",\"2020-05-08\",\"2020-05-09\",\"2020-05-10\",\"2020-05-11\",\"2020-05-12\",\"2020-05-13\",\"2020-05-14\",\"2020-05-15\",\"2020-05-16\",\"2020-05-17\",\"2020-05-18\",\"2020-05-19\",\"2020-05-20\",\"2020-05-21\",\"2020-05-22\",\"2020-05-23\",\"2020-05-24\",\"2020-05-25\",\"2020-05-26\",\"2020-05-27\",\"2020-05-28\",\"2020-05-29\",\"2020-05-30\",\"2020-05-31\",\"2020-06-01\",\"2020-06-02\",\"2020-06-03\",\"2020-06-04\",\"2020-06-05\",\"2020-06-06\",\"2020-06-07\",\"2020-06-08\",\"2020-06-09\",\"2020-06-10\",\"2020-06-11\",\"2020-06-12\",\"2020-06-13\",\"2020-06-14\",\"2020-06-15\",\"2020-06-16\",\"2020-06-17\",\"2020-06-18\",\"2020-06-19\",\"2020-06-20\",\"2020-06-21\",\"2020-06-22\",\"2020-06-23\",\"2020-06-24\",\"2020-06-25\",\"2020-06-26\",\"2020-06-27\",\"2020-06-28\",\"2020-06-29\",\"2020-06-30\",\"2020-07-01\",\"2020-07-02\",\"2020-07-03\",\"2020-07-04\",\"2020-07-05\",\"2020-07-06\",\"2020-07-07\",\"2020-07-08\",\"2020-07-09\",\"2020-07-10\",\"2020-07-11\",\"2020-07-12\",\"2020-07-13\",\"2020-07-14\",\"2020-07-15\",\"2020-07-16\",\"2020-07-17\",\"2020-07-18\",\"2020-07-19\",\"2020-07-20\",\"2020-07-21\",\"2020-07-22\",\"2020-07-23\",\"2020-07-24\",\"2020-07-25\",\"2020-07-26\",\"2020-07-27\",\"2020-07-28\",\"2020-07-29\",\"2020-07-30\",\"2020-07-31\",\"2020-08-01\",\"2020-08-02\",\"2020-08-03\",\"2020-08-04\",\"2020-08-05\",\"2020-08-06\",\"2020-08-07\",\"2020-08-08\",\"2020-08-09\",\"2020-08-10\",\"2020-08-11\",\"2020-08-12\",\"2020-08-13\",\"2020-08-14\",\"2020-08-15\",\"2020-08-16\",\"2020-08-17\",\"2020-08-18\",\"2020-08-19\",\"2020-08-20\",\"2020-08-21\",\"2020-08-22\",\"2020-08-23\",\"2020-08-24\",\"2020-08-25\",\"2020-08-26\",\"2020-08-27\",\"2020-08-28\",\"2020-08-29\",\"2020-08-30\",\"2020-08-31\",\"2020-09-01\",\"2020-09-02\",\"2020-09-03\",\"2020-09-04\",\"2020-09-05\",\"2020-09-06\",\"2020-09-07\",\"2020-09-08\",\"2020-09-09\",\"2020-09-10\",\"2020-09-11\",\"2020-09-12\",\"2020-09-13\",\"2020-09-14\",\"2020-09-15\",\"2020-09-16\",\"2020-09-17\",\"2020-09-18\",\"2020-09-19\",\"2020-09-20\",\"2020-09-21\",\"2020-09-22\",\"2020-09-23\",\"2020-09-24\",\"2020-09-25\",\"2020-09-26\",\"2020-09-27\",\"2020-09-28\",\"2020-09-29\",\"2020-09-30\",\"2020-10-01\",\"2020-10-02\",\"2020-10-03\",\"2020-10-04\",\"2020-10-05\",\"2020-10-06\",\"2020-10-07\",\"2020-10-08\",\"2020-10-09\",\"2020-10-10\",\"2020-10-11\",\"2020-10-12\",\"2020-10-13\",\"2020-10-14\",\"2020-10-15\",\"2020-10-16\",\"2020-10-17\",\"2020-10-18\",\"2020-10-19\",\"2020-10-20\",\"2020-10-21\",\"2020-10-22\",\"2020-10-23\",\"2020-10-24\",\"2020-10-25\",\"2020-10-26\",\"2020-10-27\",\"2020-10-28\",\"2020-10-29\",\"2020-10-30\",\"2020-10-31\",\"2020-11-01\",\"2020-11-02\",\"2020-11-03\",\"2020-11-04\",\"2020-11-05\",\"2020-11-06\",\"2020-11-07\",\"2020-11-08\",\"2020-11-09\",\"2020-11-10\",\"2020-11-11\",\"2020-11-12\",\"2020-11-13\",\"2020-11-14\",\"2020-11-15\",\"2020-11-16\",\"2020-11-17\",\"2020-11-18\",\"2020-11-19\",\"2020-11-20\",\"2020-11-21\",\"2020-11-22\",\"2020-11-23\",\"2020-11-24\",\"2020-11-25\",\"2020-11-26\",\"2020-11-27\",\"2020-11-28\",\"2020-11-29\",\"2020-11-30\",\"2020-12-01\",\"2020-12-02\",\"2020-12-03\",\"2020-12-04\",\"2020-12-05\",\"2020-12-06\",\"2020-12-07\",\"2020-12-08\",\"2020-12-09\",\"2020-12-10\",\"2020-12-11\",\"2020-12-12\",\"2020-12-13\",\"2020-12-14\",\"2020-12-15\",\"2020-12-16\",\"2020-12-17\",\"2020-12-18\",\"2020-12-19\",\"2020-12-20\",\"2020-12-21\",\"2020-12-22\",\"2020-12-23\",\"2020-12-24\",\"2020-12-25\",\"2020-12-26\",\"2020-12-27\",\"2020-12-28\",\"2020-12-29\",\"2020-12-30\",\"2020-12-31\",\"2021-01-01\",\"2021-01-02\",\"2021-01-03\",\"2021-01-04\",\"2021-01-05\",\"2021-01-06\",\"2021-01-07\",\"2021-01-08\",\"2021-01-09\",\"2021-01-10\",\"2021-01-11\",\"2021-01-12\",\"2021-01-13\",\"2021-01-14\",\"2021-01-15\",\"2021-01-16\",\"2021-01-17\",\"2021-01-18\",\"2021-01-19\",\"2021-01-20\",\"2021-01-21\",\"2021-01-22\",\"2021-01-23\",\"2021-01-24\",\"2021-01-25\",\"2021-01-26\",\"2021-01-27\",\"2021-01-28\",\"2021-01-29\",\"2021-01-30\",\"2021-01-31\",\"2021-02-01\",\"2021-02-02\",\"2021-02-03\",\"2021-02-04\",\"2021-02-05\",\"2021-02-06\",\"2021-02-07\",\"2021-02-08\",\"2021-02-09\",\"2021-02-10\",\"2021-02-11\",\"2021-02-12\",\"2021-02-13\",\"2021-02-14\",\"2021-02-15\",\"2021-02-16\",\"2021-02-17\",\"2021-02-18\",\"2021-02-19\",\"2021-02-20\",\"2021-02-21\",\"2021-02-22\",\"2021-02-23\",\"2021-02-24\",\"2021-02-25\",\"2021-02-26\",\"2021-02-27\",\"2021-02-28\",\"2021-03-01\",\"2021-03-02\",\"2021-03-03\",\"2021-03-04\",\"2021-03-05\",\"2021-03-06\",\"2021-03-07\",\"2021-03-08\",\"2021-03-09\",\"2021-03-10\",\"2021-03-11\",\"2021-03-12\",\"2021-03-13\",\"2021-03-14\",\"2021-03-15\",\"2021-03-16\",\"2021-03-17\",\"2021-03-18\",\"2021-03-19\",\"2021-03-20\",\"2021-03-21\",\"2021-03-22\",\"2021-03-23\",\"2021-03-24\",\"2021-03-25\",\"2021-03-26\",\"2021-03-27\",\"2021-03-28\",\"2021-03-29\",\"2021-03-30\",\"2021-03-31\",\"2021-04-01\",\"2021-04-02\",\"2021-04-03\",\"2021-04-04\",\"2021-04-05\",\"2021-04-06\",\"2021-04-07\",\"2021-04-08\",\"2021-04-09\",\"2021-04-10\",\"2021-04-11\",\"2021-04-12\",\"2021-04-13\",\"2021-04-14\",\"2021-04-15\",\"2021-04-16\",\"2021-04-17\",\"2021-04-18\",\"2021-04-19\",\"2021-04-20\",\"2021-04-21\",\"2021-04-22\",\"2021-04-23\",\"2021-04-24\",\"2021-04-25\",\"2021-04-26\",\"2021-04-27\",\"2021-04-28\",\"2021-04-29\",\"2021-04-30\",\"2021-05-01\",\"2021-05-02\",\"2021-05-03\",\"2021-05-04\",\"2021-05-05\",\"2021-05-06\",\"2021-05-07\",\"2021-05-08\",\"2021-05-09\",\"2021-05-10\",\"2021-05-11\",\"2021-05-12\",\"2021-05-13\",\"2021-05-14\",\"2021-05-15\",\"2021-05-16\",\"2021-05-17\",\"2021-05-18\",\"2021-05-19\",\"2021-05-20\",\"2021-05-21\",\"2021-05-22\",\"2021-05-23\",\"2021-05-24\",\"2021-05-25\",\"2021-05-26\",\"2021-05-27\",\"2021-05-28\",\"2021-05-29\",\"2021-05-30\",\"2021-05-31\",\"2021-06-01\",\"2021-06-02\",\"2021-06-03\",\"2021-06-04\",\"2021-06-05\",\"2021-06-06\",\"2021-06-07\",\"2021-06-08\",\"2021-06-09\",\"2021-06-10\",\"2021-06-11\",\"2021-06-12\",\"2021-06-13\",\"2021-06-14\",\"2021-06-15\",\"2021-06-16\",\"2021-06-17\",\"2021-06-18\",\"2021-06-19\",\"2021-06-20\",\"2021-06-21\",\"2021-06-22\",\"2021-06-23\",\"2021-06-24\",\"2021-06-25\",\"2021-06-26\",\"2021-06-27\",\"2021-06-28\",\"2021-06-29\",\"2021-06-30\",\"2021-07-01\",\"2021-07-02\",\"2021-07-03\",\"2021-07-04\",\"2021-07-05\",\"2021-07-06\",\"2021-07-07\",\"2021-07-08\",\"2021-07-09\",\"2021-07-10\",\"2021-07-11\",\"2021-07-12\",\"2021-07-13\",\"2021-07-14\",\"2021-07-15\",\"2021-07-16\",\"2021-07-17\",\"2021-07-18\",\"2021-07-19\",\"2021-07-20\",\"2021-07-21\",\"2021-07-22\",\"2021-07-23\",\"2021-07-24\",\"2021-07-25\",\"2021-07-26\",\"2021-07-27\",\"2021-07-28\",\"2021-07-29\",\"2021-07-30\",\"2021-07-31\",\"2021-08-01\",\"2021-08-02\",\"2021-08-03\",\"2021-08-04\",\"2021-08-05\",\"2021-08-06\",\"2021-08-07\",\"2021-08-08\",\"2021-08-09\",\"2021-08-10\",\"2021-08-11\",\"2021-08-12\",\"2021-08-13\",\"2021-08-14\",\"2021-08-15\",\"2021-08-16\",\"2021-08-17\",\"2021-08-18\",\"2021-08-19\",\"2021-08-20\",\"2021-08-21\",\"2021-08-22\",\"2021-08-23\",\"2021-08-24\",\"2021-08-25\",\"2021-08-26\",\"2021-08-27\",\"2021-08-28\",\"2021-08-29\",\"2021-08-30\",\"2021-08-31\",\"2021-09-01\",\"2021-09-02\",\"2021-09-03\",\"2021-09-04\",\"2021-09-05\",\"2021-09-06\",\"2021-09-07\",\"2021-09-08\",\"2021-09-09\",\"2021-09-10\",\"2021-09-11\",\"2021-09-12\",\"2021-09-13\",\"2021-09-14\",\"2021-09-15\",\"2021-09-16\",\"2021-09-17\",\"2021-09-18\",\"2021-09-19\",\"2021-09-20\",\"2021-09-21\",\"2021-09-22\",\"2021-09-23\",\"2021-09-24\",\"2021-09-25\",\"2021-09-26\",\"2021-09-27\",\"2021-09-28\",\"2021-09-29\",\"2021-09-30\",\"2021-10-01\",\"2021-10-02\",\"2021-10-03\",\"2021-10-04\",\"2021-10-05\",\"2021-10-06\",\"2021-10-07\",\"2021-10-08\",\"2021-10-09\",\"2021-10-10\",\"2021-10-11\",\"2021-10-12\",\"2021-10-13\",\"2021-10-14\",\"2021-10-15\",\"2021-10-16\",\"2021-10-17\",\"2021-10-18\",\"2021-10-19\",\"2021-10-20\",\"2021-10-21\",\"2021-10-22\",\"2021-10-23\",\"2021-10-24\",\"2021-10-25\",\"2021-10-26\",\"2021-10-27\",\"2021-10-28\",\"2021-10-29\",\"2021-10-30\",\"2021-10-31\",\"2021-11-01\",\"2021-11-02\",\"2021-11-03\",\"2021-11-04\",\"2021-11-05\",\"2021-11-06\",\"2021-11-07\",\"2021-11-08\",\"2021-11-09\",\"2021-11-10\",\"2021-11-11\",\"2021-11-12\",\"2021-11-13\",\"2021-11-14\",\"2021-11-15\",\"2021-11-16\",\"2021-11-17\",\"2021-11-18\",\"2021-11-19\",\"2021-11-20\",\"2021-11-21\",\"2021-11-22\",\"2021-11-23\",\"2021-11-24\",\"2021-11-25\",\"2021-11-26\",\"2021-11-27\",\"2021-11-28\",\"2021-11-29\",\"2021-11-30\",\"2021-12-01\",\"2021-12-02\",\"2021-12-03\",\"2021-12-04\",\"2021-12-05\",\"2021-12-06\",\"2021-12-07\",\"2021-12-08\",\"2021-12-09\",\"2021-12-10\",\"2021-12-11\",\"2021-12-12\",\"2021-12-13\",\"2021-12-14\",\"2021-12-15\",\"2021-12-16\",\"2021-12-17\",\"2021-12-18\",\"2021-12-19\",\"2021-12-20\",\"2021-12-21\",\"2021-12-22\",\"2021-12-23\",\"2021-12-24\",\"2021-12-25\",\"2021-12-26\",\"2021-12-27\",\"2021-12-28\",\"2021-12-29\",\"2021-12-30\",\"2021-12-31\",\"2022-01-01\",\"2022-01-02\",\"2022-01-03\",\"2022-01-04\",\"2022-01-05\",\"2022-01-06\",\"2022-01-07\",\"2022-01-08\",\"2022-01-09\",\"2022-01-10\",\"2022-01-11\",\"2022-01-12\",\"2022-01-13\",\"2022-01-14\",\"2022-01-15\",\"2022-01-16\",\"2022-01-17\",\"2022-01-18\",\"2022-01-19\",\"2022-01-20\",\"2022-01-21\",\"2022-01-22\",\"2022-01-23\",\"2022-01-24\",\"2022-01-25\",\"2022-01-26\",\"2022-01-27\",\"2022-01-28\",\"2022-01-29\",\"2022-01-30\",\"2022-01-31\",\"2022-02-01\",\"2022-02-02\",\"2022-02-03\",\"2022-02-04\",\"2022-02-05\",\"2022-02-06\",\"2022-02-07\",\"2022-02-08\",\"2022-02-09\",\"2022-02-10\",\"2022-02-11\",\"2022-02-12\",\"2022-02-13\",\"2022-02-14\",\"2022-02-15\",\"2022-02-16\",\"2022-02-17\",\"2022-02-18\",\"2022-02-19\",\"2022-02-20\",\"2022-02-21\",\"2022-02-22\",\"2022-02-23\",\"2022-02-24\",\"2022-02-25\",\"2022-02-26\",\"2022-02-27\",\"2022-02-28\",\"2022-03-01\",\"2022-03-02\",\"2022-03-03\",\"2022-03-04\",\"2022-03-05\",\"2022-03-06\",\"2022-03-07\",\"2022-03-08\",\"2022-03-09\",\"2022-03-10\",\"2022-03-11\",\"2022-03-12\",\"2022-03-13\",\"2022-03-14\",\"2022-03-15\",\"2022-03-16\",\"2022-03-17\",\"2022-03-18\",\"2022-03-19\",\"2022-03-20\",\"2022-03-21\",\"2022-03-22\",\"2022-03-23\",\"2022-03-24\",\"2022-03-25\",\"2022-03-26\",\"2022-03-27\",\"2022-03-28\",\"2022-03-29\",\"2022-03-30\",\"2022-03-31\",\"2022-04-01\",\"2022-04-02\",\"2022-04-03\",\"2022-04-04\",\"2022-04-05\",\"2022-04-06\",\"2022-04-07\",\"2022-04-08\",\"2022-04-09\",\"2022-04-10\",\"2022-04-11\",\"2022-04-12\",\"2022-04-13\",\"2022-04-14\",\"2022-04-15\",\"2022-04-16\",\"2022-04-17\",\"2022-04-18\",\"2022-04-19\",\"2022-04-20\",\"2022-04-21\",\"2022-04-22\",\"2022-04-23\",\"2022-04-24\",\"2022-04-25\",\"2022-04-26\",\"2022-04-27\",\"2022-04-28\",\"2022-04-29\",\"2022-04-30\",\"2022-05-01\",\"2022-05-02\",\"2022-05-03\",\"2022-05-04\",\"2022-05-05\",\"2022-05-06\",\"2022-05-07\",\"2022-05-08\",\"2022-05-09\",\"2022-05-10\",\"2022-05-11\",\"2022-05-12\",\"2022-05-13\",\"2022-05-14\",\"2022-05-15\",\"2022-05-16\",\"2022-05-17\",\"2022-05-18\",\"2022-05-19\",\"2022-05-20\",\"2022-05-21\",\"2022-05-22\",\"2022-05-23\",\"2022-05-24\",\"2022-05-25\",\"2022-05-26\",\"2022-05-27\",\"2022-05-28\",\"2022-05-29\",\"2022-05-30\",\"2022-05-31\",\"2022-06-01\",\"2022-06-02\",\"2022-06-03\",\"2022-06-04\",\"2022-06-05\",\"2022-06-06\",\"2022-06-07\",\"2022-06-08\",\"2022-06-09\",\"2022-06-10\",\"2022-06-11\",\"2022-06-12\",\"2022-06-13\",\"2022-06-14\",\"2022-06-15\",\"2022-06-16\",\"2022-06-17\",\"2022-06-18\",\"2022-06-19\",\"2022-06-20\",\"2022-06-21\",\"2022-06-22\",\"2022-06-23\",\"2022-06-24\",\"2022-06-25\",\"2022-06-26\",\"2022-06-27\",\"2022-06-28\",\"2022-06-29\",\"2022-06-30\",\"2022-07-01\",\"2022-07-02\",\"2022-07-03\",\"2022-07-04\",\"2022-07-05\",\"2022-07-06\",\"2022-07-07\",\"2022-07-08\",\"2022-07-09\",\"2022-07-10\",\"2022-07-11\",\"2022-07-12\",\"2022-07-13\",\"2022-07-14\",\"2022-07-15\",\"2022-07-16\",\"2022-07-17\",\"2022-07-18\",\"2022-07-19\",\"2022-07-20\",\"2022-07-21\",\"2022-07-22\",\"2022-07-23\",\"2022-07-24\",\"2022-07-25\",\"2022-07-26\",\"2022-07-27\",\"2022-07-28\",\"2022-07-29\",\"2022-07-30\",\"2022-07-31\",\"2022-08-01\",\"2022-08-02\",\"2022-08-03\",\"2022-08-04\",\"2022-08-05\",\"2022-08-06\",\"2022-08-07\",\"2022-08-08\",\"2022-08-09\",\"2022-08-10\",\"2022-08-11\",\"2022-08-12\",\"2022-08-13\",\"2022-08-14\",\"2022-08-15\",\"2022-08-16\",\"2022-08-17\",\"2022-08-18\",\"2022-08-19\",\"2022-08-20\",\"2022-08-21\",\"2022-08-22\",\"2022-08-23\",\"2022-08-24\",\"2022-08-25\",\"2022-08-26\",\"2022-08-27\",\"2022-08-28\",\"2022-08-29\",\"2022-08-30\",\"2022-08-31\",\"2022-09-01\",\"2022-09-02\",\"2022-09-03\",\"2022-09-04\",\"2022-09-05\",\"2022-09-06\",\"2022-09-07\",\"2022-09-08\",\"2022-09-09\",\"2022-09-10\",\"2022-09-11\",\"2022-09-12\",\"2022-09-13\",\"2022-09-14\",\"2022-09-15\",\"2022-09-16\",\"2022-09-17\",\"2022-09-18\",\"2022-09-19\",\"2022-09-20\",\"2022-09-21\",\"2022-09-22\",\"2022-09-23\",\"2022-09-24\",\"2022-09-25\",\"2022-09-26\",\"2022-09-27\",\"2022-09-28\",\"2022-09-29\",\"2022-09-30\",\"2022-10-01\",\"2022-10-02\",\"2022-10-03\",\"2022-10-04\",\"2022-10-05\",\"2022-10-06\",\"2022-10-07\",\"2022-10-08\",\"2022-10-09\",\"2022-10-10\",\"2022-10-11\",\"2022-10-12\",\"2022-10-13\",\"2022-10-14\",\"2022-10-15\",\"2022-10-16\",\"2022-10-17\",\"2022-10-18\",\"2022-10-19\",\"2022-10-20\",\"2022-10-21\",\"2022-10-22\",\"2022-10-23\",\"2022-10-24\",\"2022-10-25\",\"2022-10-26\",\"2022-10-27\",\"2022-10-28\",\"2022-10-29\",\"2022-10-30\",\"2022-10-31\",\"2022-11-01\",\"2022-11-02\",\"2022-11-03\",\"2022-11-04\",\"2022-11-05\",\"2022-11-06\",\"2022-11-07\",\"2022-11-08\",\"2022-11-09\",\"2022-11-10\",\"2022-11-11\",\"2022-11-12\",\"2022-11-13\",\"2022-11-14\",\"2022-11-15\",\"2022-11-16\",\"2022-11-17\",\"2022-11-18\",\"2022-11-19\",\"2022-11-20\",\"2022-11-21\",\"2022-11-22\",\"2022-11-23\",\"2022-11-24\",\"2022-11-25\",\"2022-11-26\",\"2022-11-27\",\"2022-11-28\",\"2022-11-29\",\"2022-11-30\",\"2022-12-01\",\"2022-12-02\",\"2022-12-03\",\"2022-12-04\",\"2022-12-05\",\"2022-12-06\",\"2022-12-07\",\"2022-12-08\",\"2022-12-09\",\"2022-12-10\",\"2022-12-11\",\"2022-12-12\",\"2022-12-13\",\"2022-12-14\",\"2022-12-15\",\"2022-12-16\",\"2022-12-17\",\"2022-12-18\",\"2022-12-19\",\"2022-12-20\",\"2022-12-21\",\"2022-12-22\",\"2022-12-23\",\"2022-12-24\",\"2022-12-25\",\"2022-12-26\",\"2022-12-27\",\"2022-12-28\",\"2022-12-29\",\"2022-12-30\",\"2022-12-31\"],\"xaxis\":\"x\",\"y\":[18856.25,17295.2,16488.98,15492.64,13326.61,13300.0,13500.0,13699.34,15689.01,15459.99,14182.11,14378.9,12440.01,13716.36,13380.0,14675.11,14919.51,15059.54,16960.39,17069.79,16150.03,14902.54,14400.0,14907.09,13238.78,13740.01,14210.0,13474.99,13539.93,10900.0,10988.79,10961.97,11474.98,12799.94,11530.0,10760.05,10799.18,11349.99,11175.27,11089.0,11491.0,11879.95,11251.0,10237.51,10285.1,9224.52,8873.03,9199.96,8184.81,6939.99,7652.14,7599.0,7784.02,8683.92,8533.98,8063.88,8903.0,8539.9,9449.99,10000.09,10159.98,11039.55,10383.43,11153.0,11200.99,10437.6,9811.04,10131.04,9694.51,9590.0,10324.0,10569.04,10326.76,10920.0,11039.0,11464.48,11515.0,11454.0,10716.48,9910.0,9271.64,9227.0,8770.22,9533.57,9131.34,9150.0,8170.0,8240.98,8260.0,7824.8,8189.99,8600.0,8909.98,8885.0,8722.9,8898.03,8546.86,8470.15,8134.23,7795.51,7949.3,7090.14,6840.23,6923.91,6813.01,7056.0,7405.21,6796.1,6770.76,6601.39,6895.8,7018.0,6782.72,6843.9,6953.79,7923.0,7877.41,7999.01,8355.0,8064.92,7885.02,8173.0,8278.0,8856.98,8915.31,8787.02,8934.01,9619.99,8869.99,9266.0,8915.35,9348.0,9419.0,9246.01,9071.48,9247.84,9750.0,9713.99,9864.0,9659.01,9365.0,9187.56,9310.0,9002.2,8400.0,8465.94,8679.71,8663.34,8462.0,8330.0,8041.46,8239.81,8233.49,8526.98,8381.24,7977.11,7501.95,7575.01,7457.0,7333.96,7338.99,7099.0,7461.29,7375.96,7485.01,7521.01,7640.03,7714.26,7487.0,7625.0,7658.84,7691.08,7603.44,7491.73,6764.99,6872.0,6530.0,6292.78,6635.98,6388.9,6483.98,6449.61,6712.46,6741.21,6761.51,6718.84,6045.0,6149.98,6136.97,6252.0,6070.78,6133.73,5853.98,6197.92,6390.07,6356.81,6615.29,6513.86,6586.98,6529.2,6609.78,6756.98,6712.1,6662.12,6296.91,6378.07,6250.57,6214.57,6251.99,6353.01,6723.35,7317.44,7381.9,7466.21,7337.53,7398.78,7394.79,7721.01,8397.24,8175.64,7920.0,8188.57,8225.04,8211.0,8173.92,7730.93,7604.58,7525.71,7418.78,7009.84,7024.19,6934.82,6720.06,6285.0,6529.79,6144.01,6232.35,6308.33,6246.35,6188.08,6267.16,6311.75,6584.49,6387.96,6477.53,6254.84,6480.0,6360.89,6525.01,6681.64,6733.64,6700.0,6908.64,7076.11,7031.22,6984.84,7011.21,7200.01,7302.01,7263.02,7359.06,6700.0,6516.01,6395.54,6185.05,6250.81,6312.0,6294.91,6338.62,6487.38,6476.63,6514.96,6505.0,6248.69,6336.45,6391.89,6492.0,6759.02,6723.05,6708.0,6581.39,6447.54,6465.12,6689.13,6634.58,6596.38,6626.57,6611.61,6525.79,6510.0,6593.79,6635.65,6594.27,6615.26,6673.01,6656.61,6631.0,6252.68,6298.01,6332.93,6339.34,6752.5,6759.27,6740.89,6618.96,6528.88,6588.4,6590.11,6581.2,6553.51,6565.5,6528.09,6538.63,6505.6,6489.93,6344.5,6330.87,6371.93,6410.0,6433.98,6387.09,6485.85,6468.99,6519.11,6578.46,6479.84,6419.99,6433.05,6449.81,6453.07,6457.66,5922.41,5753.4,5655.94,5628.29,5662.0,4910.03,4558.86,4661.07,4370.0,4420.61,3932.44,4085.78,3862.2,3875.21,4264.85,4295.84,4041.32,4190.02,4161.01,3884.01,3951.64,3769.84,3508.75,3403.55,3410.93,3545.37,3432.88,3380.39,3445.0,3302.06,3224.17,3211.72,3228.67,3509.08,3652.98,3662.22,4049.62,3838.66,3948.91,3929.71,4008.01,3745.79,3777.74,3567.91,3839.26,3695.32,3801.91,3702.9,3797.14,3858.56,3766.78,3792.01,3770.96,3987.6,3975.45,3955.13,3966.65,3585.88,3601.31,3583.13,3476.81,3626.09,3553.06,3591.84,3616.21,3594.87,3665.3,3539.28,3526.9,3570.93,3552.82,3569.62,3565.29,3565.25,3550.84,3434.15,3411.04,3458.18,3434.1,3462.07,3504.77,3458.11,3463.22,3471.59,3405.37,3398.4,3659.04,3665.18,3680.06,3631.05,3631.46,3609.4,3590.56,3602.47,3618.41,3667.58,3898.6,3907.79,3969.74,3937.31,3962.0,4117.76,3743.56,3827.92,3809.23,3818.07,3813.69,3823.0,3819.93,3807.75,3715.3,3857.73,3861.84,3873.64,3864.89,3943.04,3916.82,3871.61,3882.73,3866.0,3877.12,3923.76,4005.98,3981.14,3987.81,4015.53,4043.04,3980.64,3986.93,4006.01,3992.18,3936.12,3948.55,4038.05,4027.81,4103.25,4106.97,4103.95,4144.56,4857.29,4932.6,4898.66,5004.95,5043.89,5170.27,5236.9,5150.0,5308.25,5017.37,5048.01,5045.22,5131.3,5024.95,5173.72,5202.82,5258.44,5258.68,5291.73,5256.14,5357.14,5493.31,5415.0,5219.9,5314.1,5295.69,5307.52,5238.14,5320.81,5383.2,5492.87,5772.69,5829.45,5775.62,5747.79,5846.34,5987.29,6209.18,6373.33,7076.22,6967.31,7790.71,7947.56,8169.87,7866.59,7355.26,7257.45,8148.48,7938.15,7904.87,7628.43,7851.51,7964.87,8025.41,8614.43,8756.32,8715.64,8645.68,8269.54,8555.0,8544.07,8725.98,8115.82,7687.03,7776.5,7786.7,7980.53,7893.62,7628.13,7982.75,7884.9,8127.64,8218.54,8650.0,8808.7,8953.33,9313.96,9081.55,9255.49,9517.12,10159.86,10729.5,10906.07,11056.59,11820.86,13093.8,11329.99,12400.63,11903.13,10854.1,10624.93,10842.85,11940.0,11145.67,10970.73,11256.49,11406.24,12238.6,12543.41,12108.37,11342.89,11757.22,11355.76,10174.18,10838.72,9439.59,9667.92,10627.16,10504.29,10740.23,10589.45,10340.31,9864.91,9763.28,9879.87,9824.0,9476.52,9541.54,9507.64,9574.21,10080.53,10374.99,10523.75,10816.86,10929.23,11828.8,11481.69,11975.03,11999.77,11879.99,11309.31,11549.97,11396.08,10892.71,10050.37,10293.93,10331.54,10216.02,10306.78,10915.54,10760.51,10142.57,10099.88,10389.55,10134.35,10142.69,10372.25,10185.05,9721.0,9498.44,9584.54,9587.47,9724.98,10340.0,10615.28,10567.02,10564.49,10298.73,10455.88,10381.18,10303.12,10098.15,10158.33,10415.01,10342.06,10335.02,10302.01,10251.31,10187.82,10156.99,10244.29,10168.59,9986.39,10028.87,9702.25,8493.14,8430.05,8063.73,8177.91,8198.81,8043.82,8289.34,8292.44,8359.94,8223.96,8137.13,8126.19,7854.25,8190.09,8168.39,8560.74,8558.03,8258.5,8300.09,8275.01,8348.2,8159.29,7991.74,8070.58,7947.01,7948.01,8223.35,8197.27,8020.0,7466.62,7412.41,8655.02,9230.0,9529.93,9205.14,9407.62,9154.72,9140.85,9231.61,9289.52,9194.71,9393.35,9308.66,9339.05,9216.2,8773.73,8809.41,9039.47,8733.27,8821.94,8777.12,8646.68,8471.73,8491.02,8502.4,8187.17,8133.64,8098.01,7627.74,7268.23,7311.57,6903.28,7109.57,7156.14,7508.52,7419.49,7739.68,7541.89,7390.89,7294.28,7292.71,7194.32,7389.0,7527.47,7488.21,7510.11,7338.64,7224.13,7210.0,7198.08,7258.48,7064.05,7118.59,6891.72,6623.82,7277.83,7150.3,7187.83,7132.75,7501.44,7317.09,7255.77,7204.63,7202.0,7254.74,7316.14,7388.24,7246.0,7195.23,7200.85,6965.71,7344.96,7354.11,7358.75,7758.0,8145.28,8055.98,7817.76,8197.02,8020.01,8184.98,8110.34,8810.01,8821.41,8720.01,8913.28,8915.96,8701.7,8642.35,8736.03,8682.36,8404.52,8439.0,8340.58,8615.0,8907.57,9374.21,9301.53,9513.21,9352.89,9384.61,9331.51,9292.24,9197.02,9612.04,9772.0,9813.73,9895.05,10151.75,9851.83,10223.08,10326.46,10229.63,10344.36,9904.72,9917.27,9706.0,10164.71,9593.79,9596.42,9677.05,9650.86,9936.4,9656.13,9315.84,8785.25,8823.21,8692.91,8523.61,8531.88,8915.24,8760.07,8750.87,9054.68,9131.88,8886.66,8033.31,7929.87,7894.56,7934.52,4800.0,5578.6,5172.06,5361.3,5028.97,5312.64,5393.04,6162.37,6208.36,6186.98,5816.19,6467.31,6744.72,6677.43,6737.36,6359.11,6236.65,5881.42,6394.38,6410.44,6642.92,6794.09,6734.1,6856.99,6772.78,7329.9,7197.32,7361.28,7283.54,6858.92,6876.83,6903.79,6837.91,6868.7,6621.24,7101.94,7027.55,7248.6,7120.74,6826.83,6841.37,7125.14,7482.39,7505.0,7538.67,7693.1,7774.62,7738.98,8778.57,8620.0,8826.96,8972.05,8894.16,8871.96,9021.83,9142.92,9986.4,9800.01,9539.4,8722.77,8561.52,8810.79,9309.37,9791.98,9316.42,9381.27,9680.04,9733.93,9775.53,9511.43,9068.65,9170.0,9179.15,8720.34,8900.35,8841.18,9204.07,9575.89,9427.07,9697.72,9448.27,10200.77,9518.04,9666.24,9789.06,9621.16,9666.3,9746.99,9782.01,9772.43,9885.0,9280.4,9465.13,9473.34,9342.1,9426.02,9525.59,9465.14,9386.32,9310.23,9358.95,9294.69,9685.69,9624.89,9296.49,9249.49,9162.21,9012.0,9116.35,9192.56,9138.55,9232.0,9086.54,9058.26,9135.46,9069.41,9344.2,9257.39,9436.06,9232.43,9288.34,9234.03,9302.75,9242.62,9255.85,9197.6,9133.72,9154.32,9170.28,9208.99,9160.78,9390.0,9518.16,9603.27,9537.8,9700.42,9931.54,11029.96,10906.27,11100.53,11099.61,11335.46,11801.17,11071.35,11219.81,11191.97,11744.91,11762.46,11594.23,11761.41,11681.68,11892.92,11392.08,11564.33,11780.0,11760.54,11852.4,11911.0,12281.13,11945.01,11754.59,11853.55,11531.34,11662.96,11648.13,11748.2,11318.42,11461.43,11330.38,11526.91,11465.84,11711.16,11649.51,11921.97,11388.54,10140.85,10446.25,10166.69,10256.2,10373.44,10126.65,10219.2,10336.87,10387.89,10440.92,10332.83,10671.77,10785.31,10954.01,10939.99,10933.39,11080.65,10920.28,10417.22,10529.61,10241.46,10736.32,10686.67,10728.6,10774.25,10696.12,10840.48,10776.59,10619.13,10570.4,10542.06,10666.63,10792.21,10599.66,10666.39,10925.57,11050.64,11293.22,11369.02,11528.25,11420.56,11417.89,11505.12,11319.32,11360.2,11503.14,11751.47,11909.99,12780.96,12968.52,12923.07,13111.73,13028.83,13052.19,13636.17,13266.4,13455.7,13560.1,13791.0,13761.5,13549.37,14023.53,14144.01,15590.02,15579.92,14818.3,15475.1,15328.41,15297.21,15684.24,16291.86,16320.7,16070.45,15957.0,16713.57,17659.38,17776.12,17802.82,18655.67,18703.8,18414.43,18368.0,19160.01,18719.11,17149.47,17139.52,17719.85,18184.99,19695.87,18764.96,19204.09,19421.9,18650.52,19147.66,19359.4,19166.9,18324.11,18541.28,18254.63,18036.53,18808.69,19174.99,19273.14,19426.43,21335.52,22797.16,23107.39,23821.61,23455.52,22719.71,23810.79,23232.76,23729.2,24712.47,26493.39,26281.66,27079.41,27385.0,28875.54,28923.63,29331.69,32178.33,33000.05,31988.71,33949.53,36769.36,39432.28,40582.81,40088.22,38150.02,35404.47,34051.24,37371.38,39144.5,36742.22,35994.98,35828.61,36631.27,35891.49,35468.23,30850.13,32945.17,32078.0,32259.9,32254.2,32467.77,30366.15,33364.86,34252.2,34262.88,33092.98,33526.37,35466.24,37618.87,36936.66,38290.24,39186.94,38795.69,46374.87,46420.42,44807.58,47969.51,47287.6,47153.69,48577.79,47911.1,49133.45,52119.71,51552.6,55906.0,55841.19,57408.57,54087.67,48891.0,49676.2,47073.73,46276.87,46106.43,45135.66,49587.03,48440.65,50349.37,48374.09,48751.71,48882.2,50971.75,52375.17,54884.5,55851.59,57773.16,57221.72,61188.39,58968.31,55605.2,56900.75,58912.97,57648.16,58030.01,58102.28,57351.56,54083.25,54340.89,52303.65,51293.78,55025.59,55817.14,55777.63,57635.47,58746.57,58740.55,58720.44,58950.01,57051.94,58202.01,59129.99,57991.15,55953.45,58077.52,58142.54,59769.13,60002.43,59860.0,63575.0,62959.53,63159.98,61334.8,60006.66,56150.01,55633.14,56425.0,53787.63,51690.96,51125.14,50047.84,49066.77,54001.39,55011.97,54846.22,53555.0,57694.27,57800.37,56578.21,57169.39,53200.01,57436.11,56393.68,57314.75,58862.05,58240.84,55816.14,56670.02,49631.32,49670.97,49841.45,46762.99,46431.5,43538.04,42849.78,36690.09,40526.64,37252.01,37449.73,34655.25,38796.29,38324.72,39241.91,38529.98,35663.49,34605.15,35641.27,37253.81,36693.09,37568.68,39246.79,36829.0,35513.2,35796.31,33552.79,33380.81,37388.05,36675.72,37331.98,35546.11,39020.57,40516.29,40144.04,38349.01,38092.97,35819.84,35483.72,35600.16,31608.93,32509.56,33678.07,34663.09,31584.45,32283.65,34700.34,34494.89,35911.73,35045.0,33504.69,33786.55,34669.13,35286.51,33690.14,34220.01,33862.12,32875.71,33815.81,33502.87,34258.99,33086.63,32729.77,32820.02,31880.0,31383.87,31520.07,31778.56,30839.65,29790.35,32144.51,32287.83,33634.09,34258.14,35381.02,37237.6,39457.87,40019.56,40016.48,42206.37,41461.83,39845.44,39147.82,38207.05,39723.18,40862.46,42836.87,44572.54,43794.37,46253.4,45584.99,45511.0,44399.0,47800.0,47068.51,46973.82,45901.29,44695.95,44705.29,46760.62,49322.47,48821.87,49239.22,49488.85,47674.01,48973.32,46843.87,49069.9,48895.35,48767.83,46982.91,47100.89,48810.52,49246.64,49999.14,49915.64,51756.88,52663.9,46863.73,46048.31,46395.14,44850.91,45173.69,46025.24,44940.73,47111.52,48121.41,47737.82,47299.98,48292.74,47241.75,43015.62,40734.38,43543.61,44865.26,42810.57,42670.64,43160.9,42147.35,41026.54,41524.28,43824.1,48141.61,47634.9,48200.01,49224.94,51471.99,55315.0,53785.22,53951.43,54949.72,54659.0,57471.35,55996.93,57367.0,57347.94,61672.42,60875.57,61528.33,62009.84,64280.59,66001.41,62193.15,60688.22,61286.75,60852.22,63078.78,60328.81,58413.44,60575.89,62253.71,61859.19,61299.8,60911.11,63219.99,62896.48,61395.01,60937.12,61470.61,63273.59,67525.83,66947.66,64882.43,64774.26,64122.23,64380.0,65519.1,63606.74,60058.87,60344.87,56891.62,58052.24,59707.51,58622.02,56247.18,57541.27,57138.29,58960.36,53726.53,54721.03,57274.88,57776.25,56950.56,57184.07,56480.34,53601.05,49152.47,49396.33,50441.92,50588.95,50471.19,47545.59,47140.54,49389.99,50053.9,46702.75,48343.28,48864.98,47632.38,46131.2,46834.48,46681.23,46914.16,48889.88,48588.16,50838.81,50820.0,50399.66,50775.49,50701.44,47543.74,46464.66,47120.87,46216.93,47722.65,47286.18,46446.1,45832.01,43451.13,43082.31,41566.48,41679.74,41864.62,41822.49,42729.29,43902.66,42560.11,43059.96,43084.29,43071.66,42201.62,42352.12,41660.01,40680.91,36445.31,35071.42,36244.55,36660.35,36958.32,36809.34,37160.1,37716.56,38166.84,37881.76,38466.9,38694.59,36896.36,37311.61,41574.25,41382.59,42380.87,43839.99,44042.99,44372.72,43495.44,42373.73,42217.87,42053.66,42535.94,44544.86,43873.56,40515.7,39974.44,40079.17,38386.89,37008.16,38230.33,37250.01,38327.21,39219.17,39116.72,37699.07,43160.0,44421.2,43892.98,42454.0,39148.66,39397.96,38420.81,37988.0,38730.63,41941.71,39422.0,38729.57,38807.36,37777.34,39671.37,39280.33,41114.0,40917.9,41757.51,42201.13,41262.11,41002.25,42364.13,42882.76,43991.46,44313.16,44511.27,46827.76,47122.21,47434.8,47067.99,45510.34,46283.49,45811.0,46407.35,46580.51,45497.55,43170.47,43444.19,42252.01,42753.97,42158.85,39530.45,40074.94,41147.79,39942.38,40551.9,40378.71,39678.12,40801.13,41493.18,41358.19,40480.01,39709.18,39441.6,39450.13,40426.08,38112.65,39235.72,39742.07,38596.11,37630.8,38468.35,38525.16,37728.95,39690.0,36552.97,36013.77,35472.39,34038.4,30076.31,31017.1,29103.94,29029.75,29287.05,30086.74,31328.89,29874.01,30444.93,28715.32,30319.23,29201.01,29445.06,30293.94,29109.15,29654.58,29542.15,29201.35,28629.8,29031.33,29468.1,31734.22,31801.04,29805.83,30452.62,29700.21,29864.04,29919.21,31373.1,31125.33,30204.77,30109.93,29091.88,28424.7,26574.53,22487.41,22136.41,22583.72,20401.31,20468.81,18970.79,20574.0,20573.89,20723.52,19987.99,21110.13,21237.69,21491.19,21038.07,20742.56,20281.29,20123.01,19942.21,19279.8,19252.81,19315.83,20236.71,20175.83,20564.51,21624.98,21594.75,21591.83,20862.47,19963.61,19328.75,20234.87,20588.84,20830.04,21195.6,20798.16,22432.58,23396.62,23223.3,23152.19,22684.83,22451.07,22579.68,21310.9,21254.67,22952.45,23842.93,23773.75,23643.51,23293.32,23268.01,22987.79,22818.37,22622.98,23312.42,22954.21,23174.39,23810.0,23149.95,23954.05,23934.39,24403.68,24441.38,24305.24,24094.82,23854.74,23342.66,23191.2,20834.39,21140.07,21515.61,21399.83,21529.12,21368.08,21559.04,20241.05,20037.6,19555.61,20285.73,19811.66,20050.02,20131.46,19951.86,19831.9,20000.3,19796.84,18790.61,19292.84,19319.77,21360.11,21648.34,21826.87,22395.74,20173.57,20226.71,19701.88,19803.3,20113.62,19416.18,19537.02,18875.0,18461.36,19401.63,19289.91,18920.5,18807.38,19227.82,19079.13,19412.82,19591.51,19422.61,19310.95,19056.8,19629.08,20337.82,20158.26,19960.67,19530.09,19417.96,19439.02,19131.87,19060.0,19155.53,19375.13,19176.93,19069.39,19262.98,19549.86,19327.44,19123.97,19041.92,19164.37,19204.35,19570.4,19329.72,20080.07,20771.59,20295.11,20591.84,20809.67,20627.48,20490.74,20483.62,20151.84,20207.82,21148.52,21299.37,20905.58,20591.13,18547.23,15922.81,17601.15,17070.31,16812.08,16329.85,16619.46,16900.57,16662.76,16692.56,16700.45,16700.68,16280.23,15781.29,16226.94,16603.11,16598.95,16522.14,16458.57,16428.78,16212.91,16442.53,16443.6,16977.37,17092.74,16885.2,17105.7,16966.35,17088.96,16836.64,17224.1,17128.56,17127.49,17085.05,17209.83,17774.7,17803.15,17356.34,16632.12,16776.52,16738.21,16438.88,16895.56,16824.67,16821.43,16778.5,16836.12,16832.11,16919.39,16706.36,16547.31,16633.47,16607.48,16542.4],\"yaxis\":\"y\",\"type\":\"scattergl\",\"opacity\":0.8}],                        {\"template\":{\"data\":{\"bar\":[{\"error_x\":{\"color\":\"#2a3f5f\"},\"error_y\":{\"color\":\"#2a3f5f\"},\"marker\":{\"line\":{\"color\":\"#E5ECF6\",\"width\":0.5},\"pattern\":{\"fillmode\":\"overlay\",\"size\":10,\"solidity\":0.2}},\"type\":\"bar\"}],\"barpolar\":[{\"marker\":{\"line\":{\"color\":\"#E5ECF6\",\"width\":0.5},\"pattern\":{\"fillmode\":\"overlay\",\"size\":10,\"solidity\":0.2}},\"type\":\"barpolar\"}],\"carpet\":[{\"aaxis\":{\"endlinecolor\":\"#2a3f5f\",\"gridcolor\":\"white\",\"linecolor\":\"white\",\"minorgridcolor\":\"white\",\"startlinecolor\":\"#2a3f5f\"},\"baxis\":{\"endlinecolor\":\"#2a3f5f\",\"gridcolor\":\"white\",\"linecolor\":\"white\",\"minorgridcolor\":\"white\",\"startlinecolor\":\"#2a3f5f\"},\"type\":\"carpet\"}],\"choropleth\":[{\"colorbar\":{\"outlinewidth\":0,\"ticks\":\"\"},\"type\":\"choropleth\"}],\"contour\":[{\"colorbar\":{\"outlinewidth\":0,\"ticks\":\"\"},\"colorscale\":[[0.0,\"#0d0887\"],[0.1111111111111111,\"#46039f\"],[0.2222222222222222,\"#7201a8\"],[0.3333333333333333,\"#9c179e\"],[0.4444444444444444,\"#bd3786\"],[0.5555555555555556,\"#d8576b\"],[0.6666666666666666,\"#ed7953\"],[0.7777777777777778,\"#fb9f3a\"],[0.8888888888888888,\"#fdca26\"],[1.0,\"#f0f921\"]],\"type\":\"contour\"}],\"contourcarpet\":[{\"colorbar\":{\"outlinewidth\":0,\"ticks\":\"\"},\"type\":\"contourcarpet\"}],\"heatmap\":[{\"colorbar\":{\"outlinewidth\":0,\"ticks\":\"\"},\"colorscale\":[[0.0,\"#0d0887\"],[0.1111111111111111,\"#46039f\"],[0.2222222222222222,\"#7201a8\"],[0.3333333333333333,\"#9c179e\"],[0.4444444444444444,\"#bd3786\"],[0.5555555555555556,\"#d8576b\"],[0.6666666666666666,\"#ed7953\"],[0.7777777777777778,\"#fb9f3a\"],[0.8888888888888888,\"#fdca26\"],[1.0,\"#f0f921\"]],\"type\":\"heatmap\"}],\"heatmapgl\":[{\"colorbar\":{\"outlinewidth\":0,\"ticks\":\"\"},\"colorscale\":[[0.0,\"#0d0887\"],[0.1111111111111111,\"#46039f\"],[0.2222222222222222,\"#7201a8\"],[0.3333333333333333,\"#9c179e\"],[0.4444444444444444,\"#bd3786\"],[0.5555555555555556,\"#d8576b\"],[0.6666666666666666,\"#ed7953\"],[0.7777777777777778,\"#fb9f3a\"],[0.8888888888888888,\"#fdca26\"],[1.0,\"#f0f921\"]],\"type\":\"heatmapgl\"}],\"histogram\":[{\"marker\":{\"pattern\":{\"fillmode\":\"overlay\",\"size\":10,\"solidity\":0.2}},\"type\":\"histogram\"}],\"histogram2d\":[{\"colorbar\":{\"outlinewidth\":0,\"ticks\":\"\"},\"colorscale\":[[0.0,\"#0d0887\"],[0.1111111111111111,\"#46039f\"],[0.2222222222222222,\"#7201a8\"],[0.3333333333333333,\"#9c179e\"],[0.4444444444444444,\"#bd3786\"],[0.5555555555555556,\"#d8576b\"],[0.6666666666666666,\"#ed7953\"],[0.7777777777777778,\"#fb9f3a\"],[0.8888888888888888,\"#fdca26\"],[1.0,\"#f0f921\"]],\"type\":\"histogram2d\"}],\"histogram2dcontour\":[{\"colorbar\":{\"outlinewidth\":0,\"ticks\":\"\"},\"colorscale\":[[0.0,\"#0d0887\"],[0.1111111111111111,\"#46039f\"],[0.2222222222222222,\"#7201a8\"],[0.3333333333333333,\"#9c179e\"],[0.4444444444444444,\"#bd3786\"],[0.5555555555555556,\"#d8576b\"],[0.6666666666666666,\"#ed7953\"],[0.7777777777777778,\"#fb9f3a\"],[0.8888888888888888,\"#fdca26\"],[1.0,\"#f0f921\"]],\"type\":\"histogram2dcontour\"}],\"mesh3d\":[{\"colorbar\":{\"outlinewidth\":0,\"ticks\":\"\"},\"type\":\"mesh3d\"}],\"parcoords\":[{\"line\":{\"colorbar\":{\"outlinewidth\":0,\"ticks\":\"\"}},\"type\":\"parcoords\"}],\"pie\":[{\"automargin\":true,\"type\":\"pie\"}],\"scatter\":[{\"marker\":{\"colorbar\":{\"outlinewidth\":0,\"ticks\":\"\"}},\"type\":\"scatter\"}],\"scatter3d\":[{\"line\":{\"colorbar\":{\"outlinewidth\":0,\"ticks\":\"\"}},\"marker\":{\"colorbar\":{\"outlinewidth\":0,\"ticks\":\"\"}},\"type\":\"scatter3d\"}],\"scattercarpet\":[{\"marker\":{\"colorbar\":{\"outlinewidth\":0,\"ticks\":\"\"}},\"type\":\"scattercarpet\"}],\"scattergeo\":[{\"marker\":{\"colorbar\":{\"outlinewidth\":0,\"ticks\":\"\"}},\"type\":\"scattergeo\"}],\"scattergl\":[{\"marker\":{\"colorbar\":{\"outlinewidth\":0,\"ticks\":\"\"}},\"type\":\"scattergl\"}],\"scattermapbox\":[{\"marker\":{\"colorbar\":{\"outlinewidth\":0,\"ticks\":\"\"}},\"type\":\"scattermapbox\"}],\"scatterpolar\":[{\"marker\":{\"colorbar\":{\"outlinewidth\":0,\"ticks\":\"\"}},\"type\":\"scatterpolar\"}],\"scatterpolargl\":[{\"marker\":{\"colorbar\":{\"outlinewidth\":0,\"ticks\":\"\"}},\"type\":\"scatterpolargl\"}],\"scatterternary\":[{\"marker\":{\"colorbar\":{\"outlinewidth\":0,\"ticks\":\"\"}},\"type\":\"scatterternary\"}],\"surface\":[{\"colorbar\":{\"outlinewidth\":0,\"ticks\":\"\"},\"colorscale\":[[0.0,\"#0d0887\"],[0.1111111111111111,\"#46039f\"],[0.2222222222222222,\"#7201a8\"],[0.3333333333333333,\"#9c179e\"],[0.4444444444444444,\"#bd3786\"],[0.5555555555555556,\"#d8576b\"],[0.6666666666666666,\"#ed7953\"],[0.7777777777777778,\"#fb9f3a\"],[0.8888888888888888,\"#fdca26\"],[1.0,\"#f0f921\"]],\"type\":\"surface\"}],\"table\":[{\"cells\":{\"fill\":{\"color\":\"#EBF0F8\"},\"line\":{\"color\":\"white\"}},\"header\":{\"fill\":{\"color\":\"#C8D4E3\"},\"line\":{\"color\":\"white\"}},\"type\":\"table\"}]},\"layout\":{\"annotationdefaults\":{\"arrowcolor\":\"#2a3f5f\",\"arrowhead\":0,\"arrowwidth\":1},\"autotypenumbers\":\"strict\",\"coloraxis\":{\"colorbar\":{\"outlinewidth\":0,\"ticks\":\"\"}},\"colorscale\":{\"diverging\":[[0,\"#8e0152\"],[0.1,\"#c51b7d\"],[0.2,\"#de77ae\"],[0.3,\"#f1b6da\"],[0.4,\"#fde0ef\"],[0.5,\"#f7f7f7\"],[0.6,\"#e6f5d0\"],[0.7,\"#b8e186\"],[0.8,\"#7fbc41\"],[0.9,\"#4d9221\"],[1,\"#276419\"]],\"sequential\":[[0.0,\"#0d0887\"],[0.1111111111111111,\"#46039f\"],[0.2222222222222222,\"#7201a8\"],[0.3333333333333333,\"#9c179e\"],[0.4444444444444444,\"#bd3786\"],[0.5555555555555556,\"#d8576b\"],[0.6666666666666666,\"#ed7953\"],[0.7777777777777778,\"#fb9f3a\"],[0.8888888888888888,\"#fdca26\"],[1.0,\"#f0f921\"]],\"sequentialminus\":[[0.0,\"#0d0887\"],[0.1111111111111111,\"#46039f\"],[0.2222222222222222,\"#7201a8\"],[0.3333333333333333,\"#9c179e\"],[0.4444444444444444,\"#bd3786\"],[0.5555555555555556,\"#d8576b\"],[0.6666666666666666,\"#ed7953\"],[0.7777777777777778,\"#fb9f3a\"],[0.8888888888888888,\"#fdca26\"],[1.0,\"#f0f921\"]]},\"colorway\":[\"#636efa\",\"#EF553B\",\"#00cc96\",\"#ab63fa\",\"#FFA15A\",\"#19d3f3\",\"#FF6692\",\"#B6E880\",\"#FF97FF\",\"#FECB52\"],\"font\":{\"color\":\"#2a3f5f\"},\"geo\":{\"bgcolor\":\"white\",\"lakecolor\":\"white\",\"landcolor\":\"#E5ECF6\",\"showlakes\":true,\"showland\":true,\"subunitcolor\":\"white\"},\"hoverlabel\":{\"align\":\"left\"},\"hovermode\":\"closest\",\"mapbox\":{\"style\":\"light\"},\"paper_bgcolor\":\"white\",\"plot_bgcolor\":\"#E5ECF6\",\"polar\":{\"angularaxis\":{\"gridcolor\":\"white\",\"linecolor\":\"white\",\"ticks\":\"\"},\"bgcolor\":\"#E5ECF6\",\"radialaxis\":{\"gridcolor\":\"white\",\"linecolor\":\"white\",\"ticks\":\"\"}},\"scene\":{\"xaxis\":{\"backgroundcolor\":\"#E5ECF6\",\"gridcolor\":\"white\",\"gridwidth\":2,\"linecolor\":\"white\",\"showbackground\":true,\"ticks\":\"\",\"zerolinecolor\":\"white\"},\"yaxis\":{\"backgroundcolor\":\"#E5ECF6\",\"gridcolor\":\"white\",\"gridwidth\":2,\"linecolor\":\"white\",\"showbackground\":true,\"ticks\":\"\",\"zerolinecolor\":\"white\"},\"zaxis\":{\"backgroundcolor\":\"#E5ECF6\",\"gridcolor\":\"white\",\"gridwidth\":2,\"linecolor\":\"white\",\"showbackground\":true,\"ticks\":\"\",\"zerolinecolor\":\"white\"}},\"shapedefaults\":{\"line\":{\"color\":\"#2a3f5f\"}},\"ternary\":{\"aaxis\":{\"gridcolor\":\"white\",\"linecolor\":\"white\",\"ticks\":\"\"},\"baxis\":{\"gridcolor\":\"white\",\"linecolor\":\"white\",\"ticks\":\"\"},\"bgcolor\":\"#E5ECF6\",\"caxis\":{\"gridcolor\":\"white\",\"linecolor\":\"white\",\"ticks\":\"\"}},\"title\":{\"x\":0.05},\"xaxis\":{\"automargin\":true,\"gridcolor\":\"white\",\"linecolor\":\"white\",\"ticks\":\"\",\"title\":{\"standoff\":15},\"zerolinecolor\":\"white\",\"zerolinewidth\":2},\"yaxis\":{\"automargin\":true,\"gridcolor\":\"white\",\"linecolor\":\"white\",\"ticks\":\"\",\"title\":{\"standoff\":15},\"zerolinecolor\":\"white\",\"zerolinewidth\":2}}},\"xaxis\":{\"anchor\":\"y\",\"domain\":[0.0,1.0],\"title\":{\"text\":\"Date\"},\"showgrid\":false},\"yaxis\":{\"anchor\":\"x\",\"domain\":[0.0,1.0],\"title\":{\"text\":\"Close Bitcoin\"},\"showgrid\":false},\"legend\":{\"tracegroupgap\":0},\"margin\":{\"t\":60},\"title\":{\"text\":\"Considered period to predict Bitcoin close price\"},\"font\":{\"size\":15,\"color\":\"black\"},\"plot_bgcolor\":\"white\"},                        {\"responsive\": true}                    ).then(function(){\n",
              "                            \n",
              "var gd = document.getElementById('8902787a-75d7-451a-9507-d094dbe61a3a');\n",
              "var x = new MutationObserver(function (mutations, observer) {{\n",
              "        var display = window.getComputedStyle(gd).display;\n",
              "        if (!display || display === 'none') {{\n",
              "            console.log([gd, 'removed!']);\n",
              "            Plotly.purge(gd);\n",
              "            observer.disconnect();\n",
              "        }}\n",
              "}});\n",
              "\n",
              "// Listen for the removal of the full notebook cells\n",
              "var notebookContainer = gd.closest('#notebook-container');\n",
              "if (notebookContainer) {{\n",
              "    x.observe(notebookContainer, {childList: true});\n",
              "}}\n",
              "\n",
              "// Listen for the clearing of the current output cell\n",
              "var outputEl = gd.closest('.output');\n",
              "if (outputEl) {{\n",
              "    x.observe(outputEl, {childList: true});\n",
              "}}\n",
              "\n",
              "                        })                };                            </script>        </div>\n",
              "</body>\n",
              "</html>"
            ]
          },
          "metadata": {}
        }
      ]
    },
    {
      "cell_type": "markdown",
      "source": [
        "Normalizing Data"
      ],
      "metadata": {
        "id": "gVZkJT0AoH-S"
      }
    },
    {
      "cell_type": "code",
      "source": [
        "# deleting date column and normalizing using MinMax Scaler\n",
        "\n",
        "del closedf['date']\n",
        "scaler=MinMaxScaler(feature_range=(0,1))\n",
        "closedf=scaler.fit_transform(np.array(closedf).reshape(-1,1))\n",
        "print(closedf.shape)"
      ],
      "metadata": {
        "colab": {
          "base_uri": "https://localhost:8080/"
        },
        "id": "SGN3cZLEoK8t",
        "outputId": "e741f074-856c-4c93-bef7-c3aa64b75c52"
      },
      "execution_count": 54,
      "outputs": [
        {
          "output_type": "stream",
          "name": "stdout",
          "text": [
            "(1840, 1)\n"
          ]
        }
      ]
    },
    {
      "cell_type": "code",
      "source": [
        "closedf"
      ],
      "metadata": {
        "colab": {
          "base_uri": "https://localhost:8080/"
        },
        "id": "KHmHG5XtM8Aq",
        "outputId": "a5fcea38-35f1-47e9-aa62-290055709704"
      },
      "execution_count": 55,
      "outputs": [
        {
          "output_type": "execute_result",
          "data": {
            "text/plain": [
              "array([[0.24325191],\n",
              "       [0.21897963],\n",
              "       [0.20644397],\n",
              "       ...,\n",
              "       [0.2086906 ],\n",
              "       [0.20828649],\n",
              "       [0.20727458]])"
            ]
          },
          "metadata": {},
          "execution_count": 55
        }
      ]
    },
    {
      "cell_type": "markdown",
      "source": [
        "Slicing data into Training set and Testing set"
      ],
      "metadata": {
        "id": "X2kqc7CgoiMc"
      }
    },
    {
      "cell_type": "code",
      "source": [
        "# we keep the training set as 80% and 20% testing set\n",
        "\n",
        "training_size=int(len(closedf)*0.80)\n",
        "test_size=len(closedf)-training_size\n",
        "train_data,test_data=closedf[0:training_size,:],closedf[training_size:len(closedf),:1]\n",
        "print(\"train_data: \", train_data.shape)\n",
        "print(\"test_data: \", test_data.shape)"
      ],
      "metadata": {
        "colab": {
          "base_uri": "https://localhost:8080/"
        },
        "id": "Q_r4qrx2ogSb",
        "outputId": "df8aa2ec-25ac-41a5-a027-a515ee084bb7"
      },
      "execution_count": 56,
      "outputs": [
        {
          "output_type": "stream",
          "name": "stdout",
          "text": [
            "train_data:  (1472, 1)\n",
            "test_data:  (368, 1)\n"
          ]
        }
      ]
    },
    {
      "cell_type": "markdown",
      "source": [
        "Now we Transform the Close price based on Time-series-analysis forecasting requirement , Here we will take 30"
      ],
      "metadata": {
        "id": "_Iig69DNow1Q"
      }
    },
    {
      "cell_type": "code",
      "source": [
        "# convert an array of values into a dataset matrix\n",
        "\n",
        "def create_dataset(dataset, time_step=1):\n",
        "    dataX, dataY = [], []\n",
        "    for i in range(len(dataset)-time_step-1):\n",
        "        a = dataset[i:(i+time_step), 0]   ###i=0, 0,1,2,3-----99   100 \n",
        "        dataX.append(a)\n",
        "        dataY.append(dataset[i + time_step, 0])\n",
        "    return np.array(dataX), np.array(dataY)"
      ],
      "metadata": {
        "id": "F4VDvV1TouTf"
      },
      "execution_count": 57,
      "outputs": []
    },
    {
      "cell_type": "code",
      "source": [
        "time_step = 30\n",
        "X_train, y_train = create_dataset(train_data, time_step)\n",
        "X_test, y_test = create_dataset(test_data, time_step)\n",
        "\n",
        "print(\"X_train: \", X_train.shape)\n",
        "print(\"y_train: \", y_train.shape)\n",
        "print(\"X_test: \", X_test.shape)\n",
        "print(\"y_test\", y_test.shape)"
      ],
      "metadata": {
        "colab": {
          "base_uri": "https://localhost:8080/"
        },
        "id": "lPkq69Rgo6U6",
        "outputId": "e63a94e1-a3e8-4588-cf6c-5a6bdd844e4e"
      },
      "execution_count": 58,
      "outputs": [
        {
          "output_type": "stream",
          "name": "stdout",
          "text": [
            "X_train:  (1441, 30)\n",
            "y_train:  (1441,)\n",
            "X_test:  (337, 30)\n",
            "y_test (337,)\n"
          ]
        }
      ]
    },
    {
      "cell_type": "code",
      "source": [
        "# reshape input to be [samples, time steps, features] which is required for LSTM\n",
        "X_train =X_train.reshape(X_train.shape[0],X_train.shape[1] , 1)\n",
        "X_test = X_test.reshape(X_test.shape[0],X_test.shape[1] , 1)\n",
        "\n",
        "print(\"X_train: \", X_train.shape)\n",
        "print(\"X_test: \", X_test.shape)"
      ],
      "metadata": {
        "colab": {
          "base_uri": "https://localhost:8080/"
        },
        "id": "Da1RqOPlo8_i",
        "outputId": "e11959a4-66eb-4f2f-c0ee-909f49313571"
      },
      "execution_count": 59,
      "outputs": [
        {
          "output_type": "stream",
          "name": "stdout",
          "text": [
            "X_train:  (1441, 30, 1)\n",
            "X_test:  (337, 30, 1)\n"
          ]
        }
      ]
    },
    {
      "cell_type": "markdown",
      "source": [
        "Actual Model Building"
      ],
      "metadata": {
        "id": "Rj0nvMKdpDJY"
      }
    },
    {
      "cell_type": "code",
      "source": [
        "model=Sequential()\n",
        "\n",
        "model.add(LSTM(20, return_sequences=True, input_shape=(X_train.shape[1],1),activation=\"relu\"))\n",
        "model.add(LSTM(20, return_sequences=False))\n",
        "model.add(Dense(1, activation='linear'))\n",
        "\n",
        "model.compile(loss=\"mean_squared_error\",optimizer=\"adam\")"
      ],
      "metadata": {
        "id": "Lok_XhDfpAUC"
      },
      "execution_count": 60,
      "outputs": []
    },
    {
      "cell_type": "code",
      "source": [
        "history = model.fit(X_train,y_train,validation_data=(X_test,y_test),epochs=100,batch_size=32,verbose=1)"
      ],
      "metadata": {
        "colab": {
          "base_uri": "https://localhost:8080/"
        },
        "id": "FNXv4MSdpJxV",
        "outputId": "eb6ded7e-31ed-46f0-cc83-1d27b5922c8a"
      },
      "execution_count": 61,
      "outputs": [
        {
          "output_type": "stream",
          "name": "stdout",
          "text": [
            "Epoch 1/100\n",
            "46/46 [==============================] - 6s 39ms/step - loss: 0.0280 - val_loss: 0.0015\n",
            "Epoch 2/100\n",
            "46/46 [==============================] - 1s 26ms/step - loss: 0.0031 - val_loss: 0.0017\n",
            "Epoch 3/100\n",
            "46/46 [==============================] - 1s 27ms/step - loss: 0.0019 - val_loss: 0.0026\n",
            "Epoch 4/100\n",
            "46/46 [==============================] - 1s 26ms/step - loss: 0.0017 - val_loss: 0.0022\n",
            "Epoch 5/100\n",
            "46/46 [==============================] - 1s 27ms/step - loss: 0.0015 - val_loss: 0.0021\n",
            "Epoch 6/100\n",
            "46/46 [==============================] - 1s 27ms/step - loss: 0.0014 - val_loss: 0.0022\n",
            "Epoch 7/100\n",
            "46/46 [==============================] - 2s 46ms/step - loss: 0.0014 - val_loss: 0.0030\n",
            "Epoch 8/100\n",
            "46/46 [==============================] - 2s 54ms/step - loss: 0.0012 - val_loss: 0.0020\n",
            "Epoch 9/100\n",
            "46/46 [==============================] - 2s 39ms/step - loss: 0.0012 - val_loss: 0.0018\n",
            "Epoch 10/100\n",
            "46/46 [==============================] - 1s 30ms/step - loss: 0.0012 - val_loss: 0.0024\n",
            "Epoch 11/100\n",
            "46/46 [==============================] - 1s 27ms/step - loss: 0.0010 - val_loss: 0.0025\n",
            "Epoch 12/100\n",
            "46/46 [==============================] - 1s 27ms/step - loss: 9.5606e-04 - val_loss: 0.0010\n",
            "Epoch 13/100\n",
            "46/46 [==============================] - 1s 26ms/step - loss: 8.9121e-04 - val_loss: 0.0011\n",
            "Epoch 14/100\n",
            "46/46 [==============================] - 1s 27ms/step - loss: 8.2945e-04 - val_loss: 0.0011\n",
            "Epoch 15/100\n",
            "46/46 [==============================] - 1s 27ms/step - loss: 8.7048e-04 - val_loss: 0.0014\n",
            "Epoch 16/100\n",
            "46/46 [==============================] - 1s 32ms/step - loss: 7.2151e-04 - val_loss: 9.6595e-04\n",
            "Epoch 17/100\n",
            "46/46 [==============================] - 2s 40ms/step - loss: 6.9166e-04 - val_loss: 9.4860e-04\n",
            "Epoch 18/100\n",
            "46/46 [==============================] - 1s 30ms/step - loss: 6.4738e-04 - val_loss: 8.9578e-04\n",
            "Epoch 19/100\n",
            "46/46 [==============================] - 1s 26ms/step - loss: 6.5385e-04 - val_loss: 6.8375e-04\n",
            "Epoch 20/100\n",
            "46/46 [==============================] - 1s 27ms/step - loss: 6.2579e-04 - val_loss: 8.7088e-04\n",
            "Epoch 21/100\n",
            "46/46 [==============================] - 1s 26ms/step - loss: 0.0013 - val_loss: 7.4271e-04\n",
            "Epoch 22/100\n",
            "46/46 [==============================] - 1s 26ms/step - loss: 6.0967e-04 - val_loss: 0.0016\n",
            "Epoch 23/100\n",
            "46/46 [==============================] - 1s 26ms/step - loss: 6.3638e-04 - val_loss: 6.3490e-04\n",
            "Epoch 24/100\n",
            "46/46 [==============================] - 1s 27ms/step - loss: 6.7845e-04 - val_loss: 5.6415e-04\n",
            "Epoch 25/100\n",
            "46/46 [==============================] - 1s 27ms/step - loss: 5.4297e-04 - val_loss: 5.9994e-04\n",
            "Epoch 26/100\n",
            "46/46 [==============================] - 2s 36ms/step - loss: 5.7715e-04 - val_loss: 8.5285e-04\n",
            "Epoch 27/100\n",
            "46/46 [==============================] - 2s 38ms/step - loss: 5.1818e-04 - val_loss: 9.8891e-04\n",
            "Epoch 28/100\n",
            "46/46 [==============================] - 1s 28ms/step - loss: 5.8460e-04 - val_loss: 6.3266e-04\n",
            "Epoch 29/100\n",
            "46/46 [==============================] - 1s 27ms/step - loss: 4.9451e-04 - val_loss: 6.6905e-04\n",
            "Epoch 30/100\n",
            "46/46 [==============================] - 1s 27ms/step - loss: 5.0594e-04 - val_loss: 6.3355e-04\n",
            "Epoch 31/100\n",
            "46/46 [==============================] - 1s 27ms/step - loss: 5.1349e-04 - val_loss: 5.9270e-04\n",
            "Epoch 32/100\n",
            "46/46 [==============================] - 1s 27ms/step - loss: 4.8264e-04 - val_loss: 6.3287e-04\n",
            "Epoch 33/100\n",
            "46/46 [==============================] - 1s 27ms/step - loss: 4.9207e-04 - val_loss: 4.8611e-04\n",
            "Epoch 34/100\n",
            "46/46 [==============================] - 1s 27ms/step - loss: 6.8496e-04 - val_loss: 5.2372e-04\n",
            "Epoch 35/100\n",
            "46/46 [==============================] - 1s 30ms/step - loss: 4.5731e-04 - val_loss: 5.0032e-04\n",
            "Epoch 36/100\n",
            "46/46 [==============================] - 2s 41ms/step - loss: 4.5061e-04 - val_loss: 5.4514e-04\n",
            "Epoch 37/100\n",
            "46/46 [==============================] - 1s 30ms/step - loss: 4.4449e-04 - val_loss: 7.8436e-04\n",
            "Epoch 38/100\n",
            "46/46 [==============================] - 1s 27ms/step - loss: 4.6591e-04 - val_loss: 4.7962e-04\n",
            "Epoch 39/100\n",
            "46/46 [==============================] - 1s 26ms/step - loss: 4.8002e-04 - val_loss: 6.6544e-04\n",
            "Epoch 40/100\n",
            "46/46 [==============================] - 1s 27ms/step - loss: 4.9427e-04 - val_loss: 6.8890e-04\n",
            "Epoch 41/100\n",
            "46/46 [==============================] - 1s 28ms/step - loss: 5.9195e-04 - val_loss: 0.0011\n",
            "Epoch 42/100\n",
            "46/46 [==============================] - 1s 27ms/step - loss: 4.3079e-04 - val_loss: 4.4489e-04\n",
            "Epoch 43/100\n",
            "46/46 [==============================] - 1s 27ms/step - loss: 4.2432e-04 - val_loss: 4.3489e-04\n",
            "Epoch 44/100\n",
            "46/46 [==============================] - 1s 27ms/step - loss: 4.1147e-04 - val_loss: 4.4054e-04\n",
            "Epoch 45/100\n",
            "46/46 [==============================] - 2s 35ms/step - loss: 4.2628e-04 - val_loss: 4.1172e-04\n",
            "Epoch 46/100\n",
            "46/46 [==============================] - 2s 39ms/step - loss: 4.2836e-04 - val_loss: 4.3592e-04\n",
            "Epoch 47/100\n",
            "46/46 [==============================] - 1s 27ms/step - loss: 4.4784e-04 - val_loss: 4.8666e-04\n",
            "Epoch 48/100\n",
            "46/46 [==============================] - 1s 27ms/step - loss: 3.8487e-04 - val_loss: 4.1984e-04\n",
            "Epoch 49/100\n",
            "46/46 [==============================] - 1s 26ms/step - loss: 4.0904e-04 - val_loss: 5.9945e-04\n",
            "Epoch 50/100\n",
            "46/46 [==============================] - 1s 27ms/step - loss: 4.2116e-04 - val_loss: 6.0148e-04\n",
            "Epoch 51/100\n",
            "46/46 [==============================] - 1s 27ms/step - loss: 4.1523e-04 - val_loss: 4.3685e-04\n",
            "Epoch 52/100\n",
            "46/46 [==============================] - 1s 26ms/step - loss: 3.6882e-04 - val_loss: 3.8156e-04\n",
            "Epoch 53/100\n",
            "46/46 [==============================] - 1s 28ms/step - loss: 3.7248e-04 - val_loss: 4.9104e-04\n",
            "Epoch 54/100\n",
            "46/46 [==============================] - 1s 29ms/step - loss: 3.5849e-04 - val_loss: 8.7308e-04\n",
            "Epoch 55/100\n",
            "46/46 [==============================] - 2s 41ms/step - loss: 4.3178e-04 - val_loss: 3.7129e-04\n",
            "Epoch 56/100\n",
            "46/46 [==============================] - 1s 30ms/step - loss: 3.6766e-04 - val_loss: 0.0014\n",
            "Epoch 57/100\n",
            "46/46 [==============================] - 1s 27ms/step - loss: 4.8871e-04 - val_loss: 4.7513e-04\n",
            "Epoch 58/100\n",
            "46/46 [==============================] - 1s 27ms/step - loss: 3.4866e-04 - val_loss: 5.1251e-04\n",
            "Epoch 59/100\n",
            "46/46 [==============================] - 1s 27ms/step - loss: 4.7058e-04 - val_loss: 4.2015e-04\n",
            "Epoch 60/100\n",
            "46/46 [==============================] - 1s 27ms/step - loss: 3.4104e-04 - val_loss: 5.4716e-04\n",
            "Epoch 61/100\n",
            "46/46 [==============================] - 1s 27ms/step - loss: 3.4155e-04 - val_loss: 3.5125e-04\n",
            "Epoch 62/100\n",
            "46/46 [==============================] - 1s 27ms/step - loss: 3.4684e-04 - val_loss: 3.8284e-04\n",
            "Epoch 63/100\n",
            "46/46 [==============================] - 1s 27ms/step - loss: 3.2698e-04 - val_loss: 7.6858e-04\n",
            "Epoch 64/100\n",
            "46/46 [==============================] - 2s 36ms/step - loss: 3.6180e-04 - val_loss: 3.9043e-04\n",
            "Epoch 65/100\n",
            "46/46 [==============================] - 2s 37ms/step - loss: 3.5071e-04 - val_loss: 4.6484e-04\n",
            "Epoch 66/100\n",
            "46/46 [==============================] - 1s 27ms/step - loss: 3.4319e-04 - val_loss: 3.3383e-04\n",
            "Epoch 67/100\n",
            "46/46 [==============================] - 1s 27ms/step - loss: 3.3963e-04 - val_loss: 4.8131e-04\n",
            "Epoch 68/100\n",
            "46/46 [==============================] - 1s 27ms/step - loss: 3.4503e-04 - val_loss: 4.3468e-04\n",
            "Epoch 69/100\n",
            "46/46 [==============================] - 1s 27ms/step - loss: 3.2180e-04 - val_loss: 3.2201e-04\n",
            "Epoch 70/100\n",
            "46/46 [==============================] - 1s 27ms/step - loss: 3.3545e-04 - val_loss: 4.9162e-04\n",
            "Epoch 71/100\n",
            "46/46 [==============================] - 1s 27ms/step - loss: 3.1555e-04 - val_loss: 8.5212e-04\n",
            "Epoch 72/100\n",
            "46/46 [==============================] - 1s 27ms/step - loss: 4.2224e-04 - val_loss: 4.4757e-04\n",
            "Epoch 73/100\n",
            "46/46 [==============================] - 1s 29ms/step - loss: 3.5339e-04 - val_loss: 6.0019e-04\n",
            "Epoch 74/100\n",
            "46/46 [==============================] - 2s 39ms/step - loss: 3.0757e-04 - val_loss: 3.3734e-04\n",
            "Epoch 75/100\n",
            "46/46 [==============================] - 1s 31ms/step - loss: 3.1597e-04 - val_loss: 0.0015\n",
            "Epoch 76/100\n",
            "46/46 [==============================] - 1s 27ms/step - loss: 4.8791e-04 - val_loss: 3.6060e-04\n",
            "Epoch 77/100\n",
            "46/46 [==============================] - 1s 27ms/step - loss: 2.9761e-04 - val_loss: 3.1075e-04\n",
            "Epoch 78/100\n",
            "46/46 [==============================] - 1s 26ms/step - loss: 3.1092e-04 - val_loss: 3.8014e-04\n",
            "Epoch 79/100\n",
            "46/46 [==============================] - 1s 27ms/step - loss: 3.0342e-04 - val_loss: 4.0595e-04\n",
            "Epoch 80/100\n",
            "46/46 [==============================] - 1s 27ms/step - loss: 2.9337e-04 - val_loss: 3.5165e-04\n",
            "Epoch 81/100\n",
            "46/46 [==============================] - 1s 28ms/step - loss: 2.9529e-04 - val_loss: 3.9877e-04\n",
            "Epoch 82/100\n",
            "46/46 [==============================] - 1s 27ms/step - loss: 3.9711e-04 - val_loss: 3.7749e-04\n",
            "Epoch 83/100\n",
            "46/46 [==============================] - 2s 34ms/step - loss: 3.0229e-04 - val_loss: 3.0962e-04\n",
            "Epoch 84/100\n",
            "46/46 [==============================] - 2s 39ms/step - loss: 2.9134e-04 - val_loss: 4.3945e-04\n",
            "Epoch 85/100\n",
            "46/46 [==============================] - 1s 27ms/step - loss: 3.0532e-04 - val_loss: 3.4669e-04\n",
            "Epoch 86/100\n",
            "46/46 [==============================] - 1s 27ms/step - loss: 3.1896e-04 - val_loss: 5.1669e-04\n",
            "Epoch 87/100\n",
            "46/46 [==============================] - 1s 27ms/step - loss: 4.0194e-04 - val_loss: 3.6797e-04\n",
            "Epoch 88/100\n",
            "46/46 [==============================] - 1s 28ms/step - loss: 3.0162e-04 - val_loss: 3.0838e-04\n",
            "Epoch 89/100\n",
            "46/46 [==============================] - 1s 28ms/step - loss: 2.8717e-04 - val_loss: 4.2558e-04\n",
            "Epoch 90/100\n",
            "46/46 [==============================] - 1s 28ms/step - loss: 2.9504e-04 - val_loss: 4.9632e-04\n",
            "Epoch 91/100\n",
            "46/46 [==============================] - 1s 27ms/step - loss: 3.3740e-04 - val_loss: 0.0011\n",
            "Epoch 92/100\n",
            "46/46 [==============================] - 1s 29ms/step - loss: 4.9209e-04 - val_loss: 3.3556e-04\n",
            "Epoch 93/100\n",
            "46/46 [==============================] - 2s 41ms/step - loss: 3.2136e-04 - val_loss: 4.7554e-04\n",
            "Epoch 94/100\n",
            "46/46 [==============================] - 1s 30ms/step - loss: 2.8250e-04 - val_loss: 3.0838e-04\n",
            "Epoch 95/100\n",
            "46/46 [==============================] - 1s 27ms/step - loss: 3.0483e-04 - val_loss: 4.9483e-04\n",
            "Epoch 96/100\n",
            "46/46 [==============================] - 1s 27ms/step - loss: 3.6857e-04 - val_loss: 6.9721e-04\n",
            "Epoch 97/100\n",
            "46/46 [==============================] - 1s 27ms/step - loss: 3.0939e-04 - val_loss: 3.5804e-04\n",
            "Epoch 98/100\n",
            "46/46 [==============================] - 1s 28ms/step - loss: 3.3187e-04 - val_loss: 4.5037e-04\n",
            "Epoch 99/100\n",
            "46/46 [==============================] - 1s 27ms/step - loss: 3.3773e-04 - val_loss: 4.5567e-04\n",
            "Epoch 100/100\n",
            "46/46 [==============================] - 1s 27ms/step - loss: 2.9302e-04 - val_loss: 3.5097e-04\n"
          ]
        }
      ]
    },
    {
      "cell_type": "markdown",
      "source": [
        "Plotting Loss and Validation Loss"
      ],
      "metadata": {
        "id": "Ou7SkLORpguc"
      }
    },
    {
      "cell_type": "code",
      "source": [
        "import matplotlib.pyplot as plt\n",
        "\n",
        "loss = history.history['loss']\n",
        "val_loss = history.history['val_loss']\n",
        "\n",
        "epochs = range(len(loss))\n",
        "\n",
        "plt.plot(epochs, loss, 'r', label='Training loss')\n",
        "plt.plot(epochs, val_loss, 'b', label='Validation loss')\n",
        "plt.title('Training and validation loss')\n",
        "plt.legend(loc=0)\n",
        "plt.figure()\n",
        "\n",
        "\n",
        "plt.show()"
      ],
      "metadata": {
        "colab": {
          "base_uri": "https://localhost:8080/",
          "height": 298
        },
        "id": "7x-DZeBipea6",
        "outputId": "503003f4-d514-4b60-cd3c-d4f19d5f16ce"
      },
      "execution_count": 62,
      "outputs": [
        {
          "output_type": "display_data",
          "data": {
            "text/plain": [
              "<Figure size 432x288 with 1 Axes>"
            ],
            "image/png": "[encoded data removed]"
          },
          "metadata": {
            "needs_background": "light"
          }
        },
        {
          "output_type": "display_data",
          "data": {
            "text/plain": [
              "<Figure size 432x288 with 0 Axes>"
            ]
          },
          "metadata": {}
        }
      ]
    },
    {
      "cell_type": "code",
      "source": [
        "### Lets Do the prediction and check performance metrics\n",
        "train_predict=model.predict(X_train)\n",
        "test_predict=model.predict(X_test)\n",
        "train_predict.shape, test_predict.shape"
      ],
      "metadata": {
        "colab": {
          "base_uri": "https://localhost:8080/"
        },
        "id": "wehhQ4PIpwoS",
        "outputId": "b5dddfb3-d25d-4c65-bdd9-6584ccf02475"
      },
      "execution_count": 63,
      "outputs": [
        {
          "output_type": "stream",
          "name": "stdout",
          "text": [
            "46/46 [==============================] - 1s 6ms/step\n",
            "11/11 [==============================] - 0s 7ms/step\n"
          ]
        },
        {
          "output_type": "execute_result",
          "data": {
            "text/plain": [
              "((1441, 1), (337, 1))"
            ]
          },
          "metadata": {},
          "execution_count": 63
        }
      ]
    },
    {
      "cell_type": "markdown",
      "source": [
        "Model Evaluation"
      ],
      "metadata": {
        "id": "pBJs60lrp6oF"
      }
    },
    {
      "cell_type": "code",
      "source": [
        "# Transform back to original form\n",
        "\n",
        "train_predict = scaler.inverse_transform(train_predict)\n",
        "test_predict = scaler.inverse_transform(test_predict)\n",
        "original_ytrain = scaler.inverse_transform(y_train.reshape(-1,1)) \n",
        "original_ytest = scaler.inverse_transform(y_test.reshape(-1,1)) "
      ],
      "metadata": {
        "id": "lJknD52Lp3Hp"
      },
      "execution_count": 64,
      "outputs": []
    },
    {
      "cell_type": "markdown",
      "source": [
        "Evaluation Metrices "
      ],
      "metadata": {
        "id": "JXSiFlBMqBpj"
      }
    },
    {
      "cell_type": "markdown",
      "source": [
        "Variance Regression Score"
      ],
      "metadata": {
        "id": "T8XkfEpVqSxT"
      }
    },
    {
      "cell_type": "code",
      "source": [
        "print(\"Train data explained variance regression score:\", \n",
        "      explained_variance_score(original_ytrain, train_predict))\n",
        "print(\"Test data explained variance regression score:\", \n",
        "      explained_variance_score(original_ytest, test_predict))"
      ],
      "metadata": {
        "colab": {
          "base_uri": "https://localhost:8080/"
        },
        "id": "k4GeO98cqToc",
        "outputId": "54f87d06-1f70-4017-84cd-cca018ccb6f8"
      },
      "execution_count": 66,
      "outputs": [
        {
          "output_type": "stream",
          "name": "stdout",
          "text": [
            "Train data explained variance regression score: 0.99657327455261\n",
            "Test data explained variance regression score: 0.9877168345327332\n"
          ]
        }
      ]
    },
    {
      "cell_type": "markdown",
      "source": [
        "R square score for regression"
      ],
      "metadata": {
        "id": "5w6p0hqgqXXU"
      }
    },
    {
      "cell_type": "code",
      "source": [
        "print(\"Train data R2 score:\", r2_score(original_ytrain, train_predict))\n",
        "print(\"Test data R2 score:\", r2_score(original_ytest, test_predict))"
      ],
      "metadata": {
        "colab": {
          "base_uri": "https://localhost:8080/"
        },
        "id": "QU7QnEHYqZak",
        "outputId": "61d6e6ea-aa71-4b4b-eb4d-c50ca697eca6"
      },
      "execution_count": 67,
      "outputs": [
        {
          "output_type": "stream",
          "name": "stdout",
          "text": [
            "Train data R2 score: 0.9964996909182778\n",
            "Test data R2 score: 0.9847941066129319\n"
          ]
        }
      ]
    },
    {
      "cell_type": "markdown",
      "source": [
        "Comparision of original bitcoin close price and predicted close price"
      ],
      "metadata": {
        "id": "PcD8Xjm-qlBa"
      }
    },
    {
      "cell_type": "code",
      "source": [
        "# shift train predictions for plotting\n",
        "\n",
        "look_back=time_step\n",
        "trainPredictPlot = np.empty_like(closedf)\n",
        "trainPredictPlot[:, :] = np.nan\n",
        "trainPredictPlot[look_back:len(train_predict)+look_back, :] = train_predict\n",
        "print(\"Train predicted data: \", trainPredictPlot.shape)\n",
        "\n",
        "# shift test predictions for plotting\n",
        "testPredictPlot = np.empty_like(closedf)\n",
        "testPredictPlot[:, :] = np.nan\n",
        "testPredictPlot[len(train_predict)+(look_back*2)+1:len(closedf)-1, :] = test_predict\n",
        "print(\"Test predicted data: \", testPredictPlot.shape)\n",
        "\n",
        "names = cycle(['Original close price','Train predicted close price','Test predicted close price'])\n",
        "\n",
        "\n",
        "plotdf = pd.DataFrame({'date': close_bitcoin['date'],\n",
        "                       'original_close': close_bitcoin['close'],\n",
        "                      'train_predicted_close': trainPredictPlot.reshape(1,-1)[0].tolist(),\n",
        "                      'test_predicted_close': testPredictPlot.reshape(1,-1)[0].tolist()})\n",
        "\n",
        "fig = px.line(plotdf,x=plotdf['date'], y=[plotdf['original_close'],plotdf['train_predicted_close'],\n",
        "                                          plotdf['test_predicted_close']],\n",
        "              labels={'value':'Bitcoin price','date': 'Date'})\n",
        "fig.update_layout(title_text='Comparision between original close price vs predicted close price',\n",
        "                  plot_bgcolor='white', font_size=15, font_color='black', legend_title_text='Close Price')\n",
        "fig.for_each_trace(lambda t:  t.update(name = next(names)))\n",
        "\n",
        "fig.update_xaxes(showgrid=False)\n",
        "fig.update_yaxes(showgrid=False)\n",
        "fig.show()"
      ],
      "metadata": {
        "colab": {
          "base_uri": "https://localhost:8080/",
          "height": 577
        },
        "id": "YT89DIs-qoYE",
        "outputId": "d3566103-fa08-4363-cf1f-0a6380bf299f"
      },
      "execution_count": 69,
      "outputs": [
        {
          "output_type": "stream",
          "name": "stdout",
          "text": [
            "Train predicted data:  (1840, 1)\n",
            "Test predicted data:  (1840, 1)\n"
          ]
        },
        {
          "output_type": "display_data",
          "data": {
            "text/html": [
              "<html>\n",
              "<head><meta charset=\"utf-8\" /></head>\n",
              "<body>\n",
              "    <div>            <script src=\"https://cdnjs.cloudflare.com/ajax/libs/mathjax/2.7.5/MathJax.js?config=TeX-AMS-MML_SVG\"></script><script type=\"text/javascript\">if (window.MathJax) {MathJax.Hub.Config({SVG: {font: \"STIX-Web\"}});}</script>                <script type=\"text/javascript\">window.PlotlyConfig = {MathJaxConfig: 'local'};</script>\n",
              "        <script src=\"https://cdn.plot.ly/plotly-2.8.3.min.js\"></script>                <div id=\"815d88aa-95d3-4c8e-9fe6-b7f658ca1ad3\" class=\"plotly-graph-div\" style=\"height:525px; width:100%;\"></div>            <script type=\"text/javascript\">                                    window.PLOTLYENV=window.PLOTLYENV || {};                                    if (document.getElementById(\"815d88aa-95d3-4c8e-9fe6-b7f658ca1ad3\")) {                    Plotly.newPlot(                        \"815d88aa-95d3-4c8e-9fe6-b7f658ca1ad3\",                        [{\"hovertemplate\":\"variable=original_close<br>Date=%{x}<br>Bitcoin price=%{y}<extra></extra>\",\"legendgroup\":\"original_close\",\"line\":{\"color\":\"#636efa\",\"dash\":\"solid\"},\"marker\":{\"symbol\":\"circle\"},\"mode\":\"lines\",\"name\":\"Original close price\",\"showlegend\":true,\"x\":[\"2017-12-18\",\"2017-12-19\",\"2017-12-20\",\"2017-12-21\",\"2017-12-22\",\"2017-12-23\",\"2017-12-24\",\"2017-12-25\",\"2017-12-26\",\"2017-12-27\",\"2017-12-28\",\"2017-12-29\",\"2017-12-30\",\"2017-12-31\",\"2018-01-01\",\"2018-01-02\",\"2018-01-03\",\"2018-01-04\",\"2018-01-05\",\"2018-01-06\",\"2018-01-07\",\"2018-01-08\",\"2018-01-09\",\"2018-01-10\",\"2018-01-11\",\"2018-01-12\",\"2018-01-13\",\"2018-01-14\",\"2018-01-15\",\"2018-01-16\",\"2018-01-17\",\"2018-01-18\",\"2018-01-19\",\"2018-01-20\",\"2018-01-21\",\"2018-01-22\",\"2018-01-23\",\"2018-01-24\",\"2018-01-25\",\"2018-01-26\",\"2018-01-27\",\"2018-01-28\",\"2018-01-29\",\"2018-01-30\",\"2018-01-31\",\"2018-02-01\",\"2018-02-02\",\"2018-02-03\",\"2018-02-04\",\"2018-02-05\",\"2018-02-06\",\"2018-02-07\",\"2018-02-08\",\"2018-02-09\",\"2018-02-10\",\"2018-02-11\",\"2018-02-12\",\"2018-02-13\",\"2018-02-14\",\"2018-02-15\",\"2018-02-16\",\"2018-02-17\",\"2018-02-18\",\"2018-02-19\",\"2018-02-20\",\"2018-02-21\",\"2018-02-22\",\"2018-02-23\",\"2018-02-24\",\"2018-02-25\",\"2018-02-26\",\"2018-02-27\",\"2018-02-28\",\"2018-03-01\",\"2018-03-02\",\"2018-03-03\",\"2018-03-04\",\"2018-03-05\",\"2018-03-06\",\"2018-03-07\",\"2018-03-08\",\"2018-03-09\",\"2018-03-10\",\"2018-03-11\",\"2018-03-12\",\"2018-03-13\",\"2018-03-14\",\"2018-03-15\",\"2018-03-16\",\"2018-03-17\",\"2018-03-18\",\"2018-03-19\",\"2018-03-20\",\"2018-03-21\",\"2018-03-22\",\"2018-03-23\",\"2018-03-24\",\"2018-03-25\",\"2018-03-26\",\"2018-03-27\",\"2018-03-28\",\"2018-03-29\",\"2018-03-30\",\"2018-03-31\",\"2018-04-01\",\"2018-04-02\",\"2018-04-03\",\"2018-04-04\",\"2018-04-05\",\"2018-04-06\",\"2018-04-07\",\"2018-04-08\",\"2018-04-09\",\"2018-04-10\",\"2018-04-11\",\"2018-04-12\",\"2018-04-13\",\"2018-04-14\",\"2018-04-15\",\"2018-04-16\",\"2018-04-17\",\"2018-04-18\",\"2018-04-19\",\"2018-04-20\",\"2018-04-21\",\"2018-04-22\",\"2018-04-23\",\"2018-04-24\",\"2018-04-25\",\"2018-04-26\",\"2018-04-27\",\"2018-04-28\",\"2018-04-29\",\"2018-04-30\",\"2018-05-01\",\"2018-05-02\",\"2018-05-03\",\"2018-05-04\",\"2018-05-05\",\"2018-05-06\",\"2018-05-07\",\"2018-05-08\",\"2018-05-09\",\"2018-05-10\",\"2018-05-11\",\"2018-05-12\",\"2018-05-13\",\"2018-05-14\",\"2018-05-15\",\"2018-05-16\",\"2018-05-17\",\"2018-05-18\",\"2018-05-19\",\"2018-05-20\",\"2018-05-21\",\"2018-05-22\",\"2018-05-23\",\"2018-05-24\",\"2018-05-25\",\"2018-05-26\",\"2018-05-27\",\"2018-05-28\",\"2018-05-29\",\"2018-05-30\",\"2018-05-31\",\"2018-06-01\",\"2018-06-02\",\"2018-06-03\",\"2018-06-04\",\"2018-06-05\",\"2018-06-06\",\"2018-06-07\",\"2018-06-08\",\"2018-06-09\",\"2018-06-10\",\"2018-06-11\",\"2018-06-12\",\"2018-06-13\",\"2018-06-14\",\"2018-06-15\",\"2018-06-16\",\"2018-06-17\",\"2018-06-18\",\"2018-06-19\",\"2018-06-20\",\"2018-06-21\",\"2018-06-22\",\"2018-06-23\",\"2018-06-24\",\"2018-06-25\",\"2018-06-26\",\"2018-06-27\",\"2018-06-28\",\"2018-06-29\",\"2018-06-30\",\"2018-07-01\",\"2018-07-02\",\"2018-07-03\",\"2018-07-04\",\"2018-07-05\",\"2018-07-06\",\"2018-07-07\",\"2018-07-08\",\"2018-07-09\",\"2018-07-10\",\"2018-07-11\",\"2018-07-12\",\"2018-07-13\",\"2018-07-14\",\"2018-07-15\",\"2018-07-16\",\"2018-07-17\",\"2018-07-18\",\"2018-07-19\",\"2018-07-20\",\"2018-07-21\",\"2018-07-22\",\"2018-07-23\",\"2018-07-24\",\"2018-07-25\",\"2018-07-26\",\"2018-07-27\",\"2018-07-28\",\"2018-07-29\",\"2018-07-30\",\"2018-07-31\",\"2018-08-01\",\"2018-08-02\",\"2018-08-03\",\"2018-08-04\",\"2018-08-05\",\"2018-08-06\",\"2018-08-07\",\"2018-08-08\",\"2018-08-09\",\"2018-08-10\",\"2018-08-11\",\"2018-08-12\",\"2018-08-13\",\"2018-08-14\",\"2018-08-15\",\"2018-08-16\",\"2018-08-17\",\"2018-08-18\",\"2018-08-19\",\"2018-08-20\",\"2018-08-21\",\"2018-08-22\",\"2018-08-23\",\"2018-08-24\",\"2018-08-25\",\"2018-08-26\",\"2018-08-27\",\"2018-08-28\",\"2018-08-29\",\"2018-08-30\",\"2018-08-31\",\"2018-09-01\",\"2018-09-02\",\"2018-09-03\",\"2018-09-04\",\"2018-09-05\",\"2018-09-06\",\"2018-09-07\",\"2018-09-08\",\"2018-09-09\",\"2018-09-10\",\"2018-09-11\",\"2018-09-12\",\"2018-09-13\",\"2018-09-14\",\"2018-09-15\",\"2018-09-16\",\"2018-09-17\",\"2018-09-18\",\"2018-09-19\",\"2018-09-20\",\"2018-09-21\",\"2018-09-22\",\"2018-09-23\",\"2018-09-24\",\"2018-09-25\",\"2018-09-26\",\"2018-09-27\",\"2018-09-28\",\"2018-09-29\",\"2018-09-30\",\"2018-10-01\",\"2018-10-02\",\"2018-10-03\",\"2018-10-04\",\"2018-10-05\",\"2018-10-06\",\"2018-10-07\",\"2018-10-08\",\"2018-10-09\",\"2018-10-10\",\"2018-10-11\",\"2018-10-12\",\"2018-10-13\",\"2018-10-14\",\"2018-10-15\",\"2018-10-16\",\"2018-10-17\",\"2018-10-18\",\"2018-10-19\",\"2018-10-20\",\"2018-10-21\",\"2018-10-22\",\"2018-10-23\",\"2018-10-24\",\"2018-10-25\",\"2018-10-26\",\"2018-10-27\",\"2018-10-28\",\"2018-10-29\",\"2018-10-30\",\"2018-10-31\",\"2018-11-01\",\"2018-11-02\",\"2018-11-03\",\"2018-11-04\",\"2018-11-05\",\"2018-11-06\",\"2018-11-07\",\"2018-11-08\",\"2018-11-09\",\"2018-11-10\",\"2018-11-11\",\"2018-11-12\",\"2018-11-13\",\"2018-11-14\",\"2018-11-15\",\"2018-11-16\",\"2018-11-17\",\"2018-11-18\",\"2018-11-19\",\"2018-11-20\",\"2018-11-21\",\"2018-11-22\",\"2018-11-23\",\"2018-11-24\",\"2018-11-25\",\"2018-11-26\",\"2018-11-27\",\"2018-11-28\",\"2018-11-29\",\"2018-11-30\",\"2018-12-01\",\"2018-12-02\",\"2018-12-03\",\"2018-12-04\",\"2018-12-05\",\"2018-12-06\",\"2018-12-07\",\"2018-12-08\",\"2018-12-09\",\"2018-12-10\",\"2018-12-11\",\"2018-12-12\",\"2018-12-13\",\"2018-12-14\",\"2018-12-15\",\"2018-12-16\",\"2018-12-17\",\"2018-12-18\",\"2018-12-19\",\"2018-12-20\",\"2018-12-21\",\"2018-12-22\",\"2018-12-23\",\"2018-12-24\",\"2018-12-25\",\"2018-12-26\",\"2018-12-27\",\"2018-12-28\",\"2018-12-29\",\"2018-12-30\",\"2018-12-31\",\"2019-01-01\",\"2019-01-02\",\"2019-01-03\",\"2019-01-04\",\"2019-01-05\",\"2019-01-06\",\"2019-01-07\",\"2019-01-08\",\"2019-01-09\",\"2019-01-10\",\"2019-01-11\",\"2019-01-12\",\"2019-01-13\",\"2019-01-14\",\"2019-01-15\",\"2019-01-16\",\"2019-01-17\",\"2019-01-18\",\"2019-01-19\",\"2019-01-20\",\"2019-01-21\",\"2019-01-22\",\"2019-01-23\",\"2019-01-24\",\"2019-01-25\",\"2019-01-26\",\"2019-01-27\",\"2019-01-28\",\"2019-01-29\",\"2019-01-30\",\"2019-01-31\",\"2019-02-01\",\"2019-02-02\",\"2019-02-03\",\"2019-02-04\",\"2019-02-05\",\"2019-02-06\",\"2019-02-07\",\"2019-02-08\",\"2019-02-09\",\"2019-02-10\",\"2019-02-11\",\"2019-02-12\",\"2019-02-13\",\"2019-02-14\",\"2019-02-15\",\"2019-02-16\",\"2019-02-17\",\"2019-02-18\",\"2019-02-19\",\"2019-02-20\",\"2019-02-21\",\"2019-02-22\",\"2019-02-23\",\"2019-02-24\",\"2019-02-25\",\"2019-02-26\",\"2019-02-27\",\"2019-02-28\",\"2019-03-01\",\"2019-03-02\",\"2019-03-03\",\"2019-03-04\",\"2019-03-05\",\"2019-03-06\",\"2019-03-07\",\"2019-03-08\",\"2019-03-09\",\"2019-03-10\",\"2019-03-11\",\"2019-03-12\",\"2019-03-13\",\"2019-03-14\",\"2019-03-15\",\"2019-03-16\",\"2019-03-17\",\"2019-03-18\",\"2019-03-19\",\"2019-03-20\",\"2019-03-21\",\"2019-03-22\",\"2019-03-23\",\"2019-03-24\",\"2019-03-25\",\"2019-03-26\",\"2019-03-27\",\"2019-03-28\",\"2019-03-29\",\"2019-03-30\",\"2019-03-31\",\"2019-04-01\",\"2019-04-02\",\"2019-04-03\",\"2019-04-04\",\"2019-04-05\",\"2019-04-06\",\"2019-04-07\",\"2019-04-08\",\"2019-04-09\",\"2019-04-10\",\"2019-04-11\",\"2019-04-12\",\"2019-04-13\",\"2019-04-14\",\"2019-04-15\",\"2019-04-16\",\"2019-04-17\",\"2019-04-18\",\"2019-04-19\",\"2019-04-20\",\"2019-04-21\",\"2019-04-22\",\"2019-04-23\",\"2019-04-24\",\"2019-04-25\",\"2019-04-26\",\"2019-04-27\",\"2019-04-28\",\"2019-04-29\",\"2019-04-30\",\"2019-05-01\",\"2019-05-02\",\"2019-05-03\",\"2019-05-04\",\"2019-05-05\",\"2019-05-06\",\"2019-05-07\",\"2019-05-08\",\"2019-05-09\",\"2019-05-10\",\"2019-05-11\",\"2019-05-12\",\"2019-05-13\",\"2019-05-14\",\"2019-05-15\",\"2019-05-16\",\"2019-05-17\",\"2019-05-18\",\"2019-05-19\",\"2019-05-20\",\"2019-05-21\",\"2019-05-22\",\"2019-05-23\",\"2019-05-24\",\"2019-05-25\",\"2019-05-26\",\"2019-05-27\",\"2019-05-28\",\"2019-05-29\",\"2019-05-30\",\"2019-05-31\",\"2019-06-01\",\"2019-06-02\",\"2019-06-03\",\"2019-06-04\",\"2019-06-05\",\"2019-06-06\",\"2019-06-07\",\"2019-06-08\",\"2019-06-09\",\"2019-06-10\",\"2019-06-11\",\"2019-06-12\",\"2019-06-13\",\"2019-06-14\",\"2019-06-15\",\"2019-06-16\",\"2019-06-17\",\"2019-06-18\",\"2019-06-19\",\"2019-06-20\",\"2019-06-21\",\"2019-06-22\",\"2019-06-23\",\"2019-06-24\",\"2019-06-25\",\"2019-06-26\",\"2019-06-27\",\"2019-06-28\",\"2019-06-29\",\"2019-06-30\",\"2019-07-01\",\"2019-07-02\",\"2019-07-03\",\"2019-07-04\",\"2019-07-05\",\"2019-07-06\",\"2019-07-07\",\"2019-07-08\",\"2019-07-09\",\"2019-07-10\",\"2019-07-11\",\"2019-07-12\",\"2019-07-13\",\"2019-07-14\",\"2019-07-15\",\"2019-07-16\",\"2019-07-17\",\"2019-07-18\",\"2019-07-19\",\"2019-07-20\",\"2019-07-21\",\"2019-07-22\",\"2019-07-23\",\"2019-07-24\",\"2019-07-25\",\"2019-07-26\",\"2019-07-27\",\"2019-07-28\",\"2019-07-29\",\"2019-07-30\",\"2019-07-31\",\"2019-08-01\",\"2019-08-02\",\"2019-08-03\",\"2019-08-04\",\"2019-08-05\",\"2019-08-06\",\"2019-08-07\",\"2019-08-08\",\"2019-08-09\",\"2019-08-10\",\"2019-08-11\",\"2019-08-12\",\"2019-08-13\",\"2019-08-14\",\"2019-08-15\",\"2019-08-16\",\"2019-08-17\",\"2019-08-18\",\"2019-08-19\",\"2019-08-20\",\"2019-08-21\",\"2019-08-22\",\"2019-08-23\",\"2019-08-24\",\"2019-08-25\",\"2019-08-26\",\"2019-08-27\",\"2019-08-28\",\"2019-08-29\",\"2019-08-30\",\"2019-08-31\",\"2019-09-01\",\"2019-09-02\",\"2019-09-03\",\"2019-09-04\",\"2019-09-05\",\"2019-09-06\",\"2019-09-07\",\"2019-09-08\",\"2019-09-09\",\"2019-09-10\",\"2019-09-11\",\"2019-09-12\",\"2019-09-13\",\"2019-09-14\",\"2019-09-15\",\"2019-09-16\",\"2019-09-17\",\"2019-09-18\",\"2019-09-19\",\"2019-09-20\",\"2019-09-21\",\"2019-09-22\",\"2019-09-23\",\"2019-09-24\",\"2019-09-25\",\"2019-09-26\",\"2019-09-27\",\"2019-09-28\",\"2019-09-29\",\"2019-09-30\",\"2019-10-01\",\"2019-10-02\",\"2019-10-03\",\"2019-10-04\",\"2019-10-05\",\"2019-10-06\",\"2019-10-07\",\"2019-10-08\",\"2019-10-09\",\"2019-10-10\",\"2019-10-11\",\"2019-10-12\",\"2019-10-13\",\"2019-10-14\",\"2019-10-15\",\"2019-10-16\",\"2019-10-17\",\"2019-10-18\",\"2019-10-19\",\"2019-10-20\",\"2019-10-21\",\"2019-10-22\",\"2019-10-23\",\"2019-10-24\",\"2019-10-25\",\"2019-10-26\",\"2019-10-27\",\"2019-10-28\",\"2019-10-29\",\"2019-10-30\",\"2019-10-31\",\"2019-11-01\",\"2019-11-02\",\"2019-11-03\",\"2019-11-04\",\"2019-11-05\",\"2019-11-06\",\"2019-11-07\",\"2019-11-08\",\"2019-11-09\",\"2019-11-10\",\"2019-11-11\",\"2019-11-12\",\"2019-11-13\",\"2019-11-14\",\"2019-11-15\",\"2019-11-16\",\"2019-11-17\",\"2019-11-18\",\"2019-11-19\",\"2019-11-20\",\"2019-11-21\",\"2019-11-22\",\"2019-11-23\",\"2019-11-24\",\"2019-11-25\",\"2019-11-26\",\"2019-11-27\",\"2019-11-28\",\"2019-11-29\",\"2019-11-30\",\"2019-12-01\",\"2019-12-02\",\"2019-12-03\",\"2019-12-04\",\"2019-12-05\",\"2019-12-06\",\"2019-12-07\",\"2019-12-08\",\"2019-12-09\",\"2019-12-10\",\"2019-12-11\",\"2019-12-12\",\"2019-12-13\",\"2019-12-14\",\"2019-12-15\",\"2019-12-16\",\"2019-12-17\",\"2019-12-18\",\"2019-12-19\",\"2019-12-20\",\"2019-12-21\",\"2019-12-22\",\"2019-12-23\",\"2019-12-24\",\"2019-12-25\",\"2019-12-26\",\"2019-12-27\",\"2019-12-28\",\"2019-12-29\",\"2019-12-30\",\"2019-12-31\",\"2020-01-01\",\"2020-01-02\",\"2020-01-03\",\"2020-01-04\",\"2020-01-05\",\"2020-01-06\",\"2020-01-07\",\"2020-01-08\",\"2020-01-09\",\"2020-01-10\",\"2020-01-11\",\"2020-01-12\",\"2020-01-13\",\"2020-01-14\",\"2020-01-15\",\"2020-01-16\",\"2020-01-17\",\"2020-01-18\",\"2020-01-19\",\"2020-01-20\",\"2020-01-21\",\"2020-01-22\",\"2020-01-23\",\"2020-01-24\",\"2020-01-25\",\"2020-01-26\",\"2020-01-27\",\"2020-01-28\",\"2020-01-29\",\"2020-01-30\",\"2020-01-31\",\"2020-02-01\",\"2020-02-02\",\"2020-02-03\",\"2020-02-04\",\"2020-02-05\",\"2020-02-06\",\"2020-02-07\",\"2020-02-08\",\"2020-02-09\",\"2020-02-10\",\"2020-02-11\",\"2020-02-12\",\"2020-02-13\",\"2020-02-14\",\"2020-02-15\",\"2020-02-16\",\"2020-02-17\",\"2020-02-18\",\"2020-02-19\",\"2020-02-20\",\"2020-02-21\",\"2020-02-22\",\"2020-02-23\",\"2020-02-24\",\"2020-02-25\",\"2020-02-26\",\"2020-02-27\",\"2020-02-28\",\"2020-02-29\",\"2020-03-01\",\"2020-03-02\",\"2020-03-03\",\"2020-03-04\",\"2020-03-05\",\"2020-03-06\",\"2020-03-07\",\"2020-03-08\",\"2020-03-09\",\"2020-03-10\",\"2020-03-11\",\"2020-03-12\",\"2020-03-13\",\"2020-03-14\",\"2020-03-15\",\"2020-03-16\",\"2020-03-17\",\"2020-03-18\",\"2020-03-19\",\"2020-03-20\",\"2020-03-21\",\"2020-03-22\",\"2020-03-23\",\"2020-03-24\",\"2020-03-25\",\"2020-03-26\",\"2020-03-27\",\"2020-03-28\",\"2020-03-29\",\"2020-03-30\",\"2020-03-31\",\"2020-04-01\",\"2020-04-02\",\"2020-04-03\",\"2020-04-04\",\"2020-04-05\",\"2020-04-06\",\"2020-04-07\",\"2020-04-08\",\"2020-04-09\",\"2020-04-10\",\"2020-04-11\",\"2020-04-12\",\"2020-04-13\",\"2020-04-14\",\"2020-04-15\",\"2020-04-16\",\"2020-04-17\",\"2020-04-18\",\"2020-04-19\",\"2020-04-20\",\"2020-04-21\",\"2020-04-22\",\"2020-04-23\",\"2020-04-24\",\"2020-04-25\",\"2020-04-26\",\"2020-04-27\",\"2020-04-28\",\"2020-04-29\",\"2020-04-30\",\"2020-05-01\",\"2020-05-02\",\"2020-05-03\",\"2020-05-04\",\"2020-05-05\",\"2020-05-06\",\"2020-05-07\",\"2020-05-08\",\"2020-05-09\",\"2020-05-10\",\"2020-05-11\",\"2020-05-12\",\"2020-05-13\",\"2020-05-14\",\"2020-05-15\",\"2020-05-16\",\"2020-05-17\",\"2020-05-18\",\"2020-05-19\",\"2020-05-20\",\"2020-05-21\",\"2020-05-22\",\"2020-05-23\",\"2020-05-24\",\"2020-05-25\",\"2020-05-26\",\"2020-05-27\",\"2020-05-28\",\"2020-05-29\",\"2020-05-30\",\"2020-05-31\",\"2020-06-01\",\"2020-06-02\",\"2020-06-03\",\"2020-06-04\",\"2020-06-05\",\"2020-06-06\",\"2020-06-07\",\"2020-06-08\",\"2020-06-09\",\"2020-06-10\",\"2020-06-11\",\"2020-06-12\",\"2020-06-13\",\"2020-06-14\",\"2020-06-15\",\"2020-06-16\",\"2020-06-17\",\"2020-06-18\",\"2020-06-19\",\"2020-06-20\",\"2020-06-21\",\"2020-06-22\",\"2020-06-23\",\"2020-06-24\",\"2020-06-25\",\"2020-06-26\",\"2020-06-27\",\"2020-06-28\",\"2020-06-29\",\"2020-06-30\",\"2020-07-01\",\"2020-07-02\",\"2020-07-03\",\"2020-07-04\",\"2020-07-05\",\"2020-07-06\",\"2020-07-07\",\"2020-07-08\",\"2020-07-09\",\"2020-07-10\",\"2020-07-11\",\"2020-07-12\",\"2020-07-13\",\"2020-07-14\",\"2020-07-15\",\"2020-07-16\",\"2020-07-17\",\"2020-07-18\",\"2020-07-19\",\"2020-07-20\",\"2020-07-21\",\"2020-07-22\",\"2020-07-23\",\"2020-07-24\",\"2020-07-25\",\"2020-07-26\",\"2020-07-27\",\"2020-07-28\",\"2020-07-29\",\"2020-07-30\",\"2020-07-31\",\"2020-08-01\",\"2020-08-02\",\"2020-08-03\",\"2020-08-04\",\"2020-08-05\",\"2020-08-06\",\"2020-08-07\",\"2020-08-08\",\"2020-08-09\",\"2020-08-10\",\"2020-08-11\",\"2020-08-12\",\"2020-08-13\",\"2020-08-14\",\"2020-08-15\",\"2020-08-16\",\"2020-08-17\",\"2020-08-18\",\"2020-08-19\",\"2020-08-20\",\"2020-08-21\",\"2020-08-22\",\"2020-08-23\",\"2020-08-24\",\"2020-08-25\",\"2020-08-26\",\"2020-08-27\",\"2020-08-28\",\"2020-08-29\",\"2020-08-30\",\"2020-08-31\",\"2020-09-01\",\"2020-09-02\",\"2020-09-03\",\"2020-09-04\",\"2020-09-05\",\"2020-09-06\",\"2020-09-07\",\"2020-09-08\",\"2020-09-09\",\"2020-09-10\",\"2020-09-11\",\"2020-09-12\",\"2020-09-13\",\"2020-09-14\",\"2020-09-15\",\"2020-09-16\",\"2020-09-17\",\"2020-09-18\",\"2020-09-19\",\"2020-09-20\",\"2020-09-21\",\"2020-09-22\",\"2020-09-23\",\"2020-09-24\",\"2020-09-25\",\"2020-09-26\",\"2020-09-27\",\"2020-09-28\",\"2020-09-29\",\"2020-09-30\",\"2020-10-01\",\"2020-10-02\",\"2020-10-03\",\"2020-10-04\",\"2020-10-05\",\"2020-10-06\",\"2020-10-07\",\"2020-10-08\",\"2020-10-09\",\"2020-10-10\",\"2020-10-11\",\"2020-10-12\",\"2020-10-13\",\"2020-10-14\",\"2020-10-15\",\"2020-10-16\",\"2020-10-17\",\"2020-10-18\",\"2020-10-19\",\"2020-10-20\",\"2020-10-21\",\"2020-10-22\",\"2020-10-23\",\"2020-10-24\",\"2020-10-25\",\"2020-10-26\",\"2020-10-27\",\"2020-10-28\",\"2020-10-29\",\"2020-10-30\",\"2020-10-31\",\"2020-11-01\",\"2020-11-02\",\"2020-11-03\",\"2020-11-04\",\"2020-11-05\",\"2020-11-06\",\"2020-11-07\",\"2020-11-08\",\"2020-11-09\",\"2020-11-10\",\"2020-11-11\",\"2020-11-12\",\"2020-11-13\",\"2020-11-14\",\"2020-11-15\",\"2020-11-16\",\"2020-11-17\",\"2020-11-18\",\"2020-11-19\",\"2020-11-20\",\"2020-11-21\",\"2020-11-22\",\"2020-11-23\",\"2020-11-24\",\"2020-11-25\",\"2020-11-26\",\"2020-11-27\",\"2020-11-28\",\"2020-11-29\",\"2020-11-30\",\"2020-12-01\",\"2020-12-02\",\"2020-12-03\",\"2020-12-04\",\"2020-12-05\",\"2020-12-06\",\"2020-12-07\",\"2020-12-08\",\"2020-12-09\",\"2020-12-10\",\"2020-12-11\",\"2020-12-12\",\"2020-12-13\",\"2020-12-14\",\"2020-12-15\",\"2020-12-16\",\"2020-12-17\",\"2020-12-18\",\"2020-12-19\",\"2020-12-20\",\"2020-12-21\",\"2020-12-22\",\"2020-12-23\",\"2020-12-24\",\"2020-12-25\",\"2020-12-26\",\"2020-12-27\",\"2020-12-28\",\"2020-12-29\",\"2020-12-30\",\"2020-12-31\",\"2021-01-01\",\"2021-01-02\",\"2021-01-03\",\"2021-01-04\",\"2021-01-05\",\"2021-01-06\",\"2021-01-07\",\"2021-01-08\",\"2021-01-09\",\"2021-01-10\",\"2021-01-11\",\"2021-01-12\",\"2021-01-13\",\"2021-01-14\",\"2021-01-15\",\"2021-01-16\",\"2021-01-17\",\"2021-01-18\",\"2021-01-19\",\"2021-01-20\",\"2021-01-21\",\"2021-01-22\",\"2021-01-23\",\"2021-01-24\",\"2021-01-25\",\"2021-01-26\",\"2021-01-27\",\"2021-01-28\",\"2021-01-29\",\"2021-01-30\",\"2021-01-31\",\"2021-02-01\",\"2021-02-02\",\"2021-02-03\",\"2021-02-04\",\"2021-02-05\",\"2021-02-06\",\"2021-02-07\",\"2021-02-08\",\"2021-02-09\",\"2021-02-10\",\"2021-02-11\",\"2021-02-12\",\"2021-02-13\",\"2021-02-14\",\"2021-02-15\",\"2021-02-16\",\"2021-02-17\",\"2021-02-18\",\"2021-02-19\",\"2021-02-20\",\"2021-02-21\",\"2021-02-22\",\"2021-02-23\",\"2021-02-24\",\"2021-02-25\",\"2021-02-26\",\"2021-02-27\",\"2021-02-28\",\"2021-03-01\",\"2021-03-02\",\"2021-03-03\",\"2021-03-04\",\"2021-03-05\",\"2021-03-06\",\"2021-03-07\",\"2021-03-08\",\"2021-03-09\",\"2021-03-10\",\"2021-03-11\",\"2021-03-12\",\"2021-03-13\",\"2021-03-14\",\"2021-03-15\",\"2021-03-16\",\"2021-03-17\",\"2021-03-18\",\"2021-03-19\",\"2021-03-20\",\"2021-03-21\",\"2021-03-22\",\"2021-03-23\",\"2021-03-24\",\"2021-03-25\",\"2021-03-26\",\"2021-03-27\",\"2021-03-28\",\"2021-03-29\",\"2021-03-30\",\"2021-03-31\",\"2021-04-01\",\"2021-04-02\",\"2021-04-03\",\"2021-04-04\",\"2021-04-05\",\"2021-04-06\",\"2021-04-07\",\"2021-04-08\",\"2021-04-09\",\"2021-04-10\",\"2021-04-11\",\"2021-04-12\",\"2021-04-13\",\"2021-04-14\",\"2021-04-15\",\"2021-04-16\",\"2021-04-17\",\"2021-04-18\",\"2021-04-19\",\"2021-04-20\",\"2021-04-21\",\"2021-04-22\",\"2021-04-23\",\"2021-04-24\",\"2021-04-25\",\"2021-04-26\",\"2021-04-27\",\"2021-04-28\",\"2021-04-29\",\"2021-04-30\",\"2021-05-01\",\"2021-05-02\",\"2021-05-03\",\"2021-05-04\",\"2021-05-05\",\"2021-05-06\",\"2021-05-07\",\"2021-05-08\",\"2021-05-09\",\"2021-05-10\",\"2021-05-11\",\"2021-05-12\",\"2021-05-13\",\"2021-05-14\",\"2021-05-15\",\"2021-05-16\",\"2021-05-17\",\"2021-05-18\",\"2021-05-19\",\"2021-05-20\",\"2021-05-21\",\"2021-05-22\",\"2021-05-23\",\"2021-05-24\",\"2021-05-25\",\"2021-05-26\",\"2021-05-27\",\"2021-05-28\",\"2021-05-29\",\"2021-05-30\",\"2021-05-31\",\"2021-06-01\",\"2021-06-02\",\"2021-06-03\",\"2021-06-04\",\"2021-06-05\",\"2021-06-06\",\"2021-06-07\",\"2021-06-08\",\"2021-06-09\",\"2021-06-10\",\"2021-06-11\",\"2021-06-12\",\"2021-06-13\",\"2021-06-14\",\"2021-06-15\",\"2021-06-16\",\"2021-06-17\",\"2021-06-18\",\"2021-06-19\",\"2021-06-20\",\"2021-06-21\",\"2021-06-22\",\"2021-06-23\",\"2021-06-24\",\"2021-06-25\",\"2021-06-26\",\"2021-06-27\",\"2021-06-28\",\"2021-06-29\",\"2021-06-30\",\"2021-07-01\",\"2021-07-02\",\"2021-07-03\",\"2021-07-04\",\"2021-07-05\",\"2021-07-06\",\"2021-07-07\",\"2021-07-08\",\"2021-07-09\",\"2021-07-10\",\"2021-07-11\",\"2021-07-12\",\"2021-07-13\",\"2021-07-14\",\"2021-07-15\",\"2021-07-16\",\"2021-07-17\",\"2021-07-18\",\"2021-07-19\",\"2021-07-20\",\"2021-07-21\",\"2021-07-22\",\"2021-07-23\",\"2021-07-24\",\"2021-07-25\",\"2021-07-26\",\"2021-07-27\",\"2021-07-28\",\"2021-07-29\",\"2021-07-30\",\"2021-07-31\",\"2021-08-01\",\"2021-08-02\",\"2021-08-03\",\"2021-08-04\",\"2021-08-05\",\"2021-08-06\",\"2021-08-07\",\"2021-08-08\",\"2021-08-09\",\"2021-08-10\",\"2021-08-11\",\"2021-08-12\",\"2021-08-13\",\"2021-08-14\",\"2021-08-15\",\"2021-08-16\",\"2021-08-17\",\"2021-08-18\",\"2021-08-19\",\"2021-08-20\",\"2021-08-21\",\"2021-08-22\",\"2021-08-23\",\"2021-08-24\",\"2021-08-25\",\"2021-08-26\",\"2021-08-27\",\"2021-08-28\",\"2021-08-29\",\"2021-08-30\",\"2021-08-31\",\"2021-09-01\",\"2021-09-02\",\"2021-09-03\",\"2021-09-04\",\"2021-09-05\",\"2021-09-06\",\"2021-09-07\",\"2021-09-08\",\"2021-09-09\",\"2021-09-10\",\"2021-09-11\",\"2021-09-12\",\"2021-09-13\",\"2021-09-14\",\"2021-09-15\",\"2021-09-16\",\"2021-09-17\",\"2021-09-18\",\"2021-09-19\",\"2021-09-20\",\"2021-09-21\",\"2021-09-22\",\"2021-09-23\",\"2021-09-24\",\"2021-09-25\",\"2021-09-26\",\"2021-09-27\",\"2021-09-28\",\"2021-09-29\",\"2021-09-30\",\"2021-10-01\",\"2021-10-02\",\"2021-10-03\",\"2021-10-04\",\"2021-10-05\",\"2021-10-06\",\"2021-10-07\",\"2021-10-08\",\"2021-10-09\",\"2021-10-10\",\"2021-10-11\",\"2021-10-12\",\"2021-10-13\",\"2021-10-14\",\"2021-10-15\",\"2021-10-16\",\"2021-10-17\",\"2021-10-18\",\"2021-10-19\",\"2021-10-20\",\"2021-10-21\",\"2021-10-22\",\"2021-10-23\",\"2021-10-24\",\"2021-10-25\",\"2021-10-26\",\"2021-10-27\",\"2021-10-28\",\"2021-10-29\",\"2021-10-30\",\"2021-10-31\",\"2021-11-01\",\"2021-11-02\",\"2021-11-03\",\"2021-11-04\",\"2021-11-05\",\"2021-11-06\",\"2021-11-07\",\"2021-11-08\",\"2021-11-09\",\"2021-11-10\",\"2021-11-11\",\"2021-11-12\",\"2021-11-13\",\"2021-11-14\",\"2021-11-15\",\"2021-11-16\",\"2021-11-17\",\"2021-11-18\",\"2021-11-19\",\"2021-11-20\",\"2021-11-21\",\"2021-11-22\",\"2021-11-23\",\"2021-11-24\",\"2021-11-25\",\"2021-11-26\",\"2021-11-27\",\"2021-11-28\",\"2021-11-29\",\"2021-11-30\",\"2021-12-01\",\"2021-12-02\",\"2021-12-03\",\"2021-12-04\",\"2021-12-05\",\"2021-12-06\",\"2021-12-07\",\"2021-12-08\",\"2021-12-09\",\"2021-12-10\",\"2021-12-11\",\"2021-12-12\",\"2021-12-13\",\"2021-12-14\",\"2021-12-15\",\"2021-12-16\",\"2021-12-17\",\"2021-12-18\",\"2021-12-19\",\"2021-12-20\",\"2021-12-21\",\"2021-12-22\",\"2021-12-23\",\"2021-12-24\",\"2021-12-25\",\"2021-12-26\",\"2021-12-27\",\"2021-12-28\",\"2021-12-29\",\"2021-12-30\",\"2021-12-31\",\"2022-01-01\",\"2022-01-02\",\"2022-01-03\",\"2022-01-04\",\"2022-01-05\",\"2022-01-06\",\"2022-01-07\",\"2022-01-08\",\"2022-01-09\",\"2022-01-10\",\"2022-01-11\",\"2022-01-12\",\"2022-01-13\",\"2022-01-14\",\"2022-01-15\",\"2022-01-16\",\"2022-01-17\",\"2022-01-18\",\"2022-01-19\",\"2022-01-20\",\"2022-01-21\",\"2022-01-22\",\"2022-01-23\",\"2022-01-24\",\"2022-01-25\",\"2022-01-26\",\"2022-01-27\",\"2022-01-28\",\"2022-01-29\",\"2022-01-30\",\"2022-01-31\",\"2022-02-01\",\"2022-02-02\",\"2022-02-03\",\"2022-02-04\",\"2022-02-05\",\"2022-02-06\",\"2022-02-07\",\"2022-02-08\",\"2022-02-09\",\"2022-02-10\",\"2022-02-11\",\"2022-02-12\",\"2022-02-13\",\"2022-02-14\",\"2022-02-15\",\"2022-02-16\",\"2022-02-17\",\"2022-02-18\",\"2022-02-19\",\"2022-02-20\",\"2022-02-21\",\"2022-02-22\",\"2022-02-23\",\"2022-02-24\",\"2022-02-25\",\"2022-02-26\",\"2022-02-27\",\"2022-02-28\",\"2022-03-01\",\"2022-03-02\",\"2022-03-03\",\"2022-03-04\",\"2022-03-05\",\"2022-03-06\",\"2022-03-07\",\"2022-03-08\",\"2022-03-09\",\"2022-03-10\",\"2022-03-11\",\"2022-03-12\",\"2022-03-13\",\"2022-03-14\",\"2022-03-15\",\"2022-03-16\",\"2022-03-17\",\"2022-03-18\",\"2022-03-19\",\"2022-03-20\",\"2022-03-21\",\"2022-03-22\",\"2022-03-23\",\"2022-03-24\",\"2022-03-25\",\"2022-03-26\",\"2022-03-27\",\"2022-03-28\",\"2022-03-29\",\"2022-03-30\",\"2022-03-31\",\"2022-04-01\",\"2022-04-02\",\"2022-04-03\",\"2022-04-04\",\"2022-04-05\",\"2022-04-06\",\"2022-04-07\",\"2022-04-08\",\"2022-04-09\",\"2022-04-10\",\"2022-04-11\",\"2022-04-12\",\"2022-04-13\",\"2022-04-14\",\"2022-04-15\",\"2022-04-16\",\"2022-04-17\",\"2022-04-18\",\"2022-04-19\",\"2022-04-20\",\"2022-04-21\",\"2022-04-22\",\"2022-04-23\",\"2022-04-24\",\"2022-04-25\",\"2022-04-26\",\"2022-04-27\",\"2022-04-28\",\"2022-04-29\",\"2022-04-30\",\"2022-05-01\",\"2022-05-02\",\"2022-05-03\",\"2022-05-04\",\"2022-05-05\",\"2022-05-06\",\"2022-05-07\",\"2022-05-08\",\"2022-05-09\",\"2022-05-10\",\"2022-05-11\",\"2022-05-12\",\"2022-05-13\",\"2022-05-14\",\"2022-05-15\",\"2022-05-16\",\"2022-05-17\",\"2022-05-18\",\"2022-05-19\",\"2022-05-20\",\"2022-05-21\",\"2022-05-22\",\"2022-05-23\",\"2022-05-24\",\"2022-05-25\",\"2022-05-26\",\"2022-05-27\",\"2022-05-28\",\"2022-05-29\",\"2022-05-30\",\"2022-05-31\",\"2022-06-01\",\"2022-06-02\",\"2022-06-03\",\"2022-06-04\",\"2022-06-05\",\"2022-06-06\",\"2022-06-07\",\"2022-06-08\",\"2022-06-09\",\"2022-06-10\",\"2022-06-11\",\"2022-06-12\",\"2022-06-13\",\"2022-06-14\",\"2022-06-15\",\"2022-06-16\",\"2022-06-17\",\"2022-06-18\",\"2022-06-19\",\"2022-06-20\",\"2022-06-21\",\"2022-06-22\",\"2022-06-23\",\"2022-06-24\",\"2022-06-25\",\"2022-06-26\",\"2022-06-27\",\"2022-06-28\",\"2022-06-29\",\"2022-06-30\",\"2022-07-01\",\"2022-07-02\",\"2022-07-03\",\"2022-07-04\",\"2022-07-05\",\"2022-07-06\",\"2022-07-07\",\"2022-07-08\",\"2022-07-09\",\"2022-07-10\",\"2022-07-11\",\"2022-07-12\",\"2022-07-13\",\"2022-07-14\",\"2022-07-15\",\"2022-07-16\",\"2022-07-17\",\"2022-07-18\",\"2022-07-19\",\"2022-07-20\",\"2022-07-21\",\"2022-07-22\",\"2022-07-23\",\"2022-07-24\",\"2022-07-25\",\"2022-07-26\",\"2022-07-27\",\"2022-07-28\",\"2022-07-29\",\"2022-07-30\",\"2022-07-31\",\"2022-08-01\",\"2022-08-02\",\"2022-08-03\",\"2022-08-04\",\"2022-08-05\",\"2022-08-06\",\"2022-08-07\",\"2022-08-08\",\"2022-08-09\",\"2022-08-10\",\"2022-08-11\",\"2022-08-12\",\"2022-08-13\",\"2022-08-14\",\"2022-08-15\",\"2022-08-16\",\"2022-08-17\",\"2022-08-18\",\"2022-08-19\",\"2022-08-20\",\"2022-08-21\",\"2022-08-22\",\"2022-08-23\",\"2022-08-24\",\"2022-08-25\",\"2022-08-26\",\"2022-08-27\",\"2022-08-28\",\"2022-08-29\",\"2022-08-30\",\"2022-08-31\",\"2022-09-01\",\"2022-09-02\",\"2022-09-03\",\"2022-09-04\",\"2022-09-05\",\"2022-09-06\",\"2022-09-07\",\"2022-09-08\",\"2022-09-09\",\"2022-09-10\",\"2022-09-11\",\"2022-09-12\",\"2022-09-13\",\"2022-09-14\",\"2022-09-15\",\"2022-09-16\",\"2022-09-17\",\"2022-09-18\",\"2022-09-19\",\"2022-09-20\",\"2022-09-21\",\"2022-09-22\",\"2022-09-23\",\"2022-09-24\",\"2022-09-25\",\"2022-09-26\",\"2022-09-27\",\"2022-09-28\",\"2022-09-29\",\"2022-09-30\",\"2022-10-01\",\"2022-10-02\",\"2022-10-03\",\"2022-10-04\",\"2022-10-05\",\"2022-10-06\",\"2022-10-07\",\"2022-10-08\",\"2022-10-09\",\"2022-10-10\",\"2022-10-11\",\"2022-10-12\",\"2022-10-13\",\"2022-10-14\",\"2022-10-15\",\"2022-10-16\",\"2022-10-17\",\"2022-10-18\",\"2022-10-19\",\"2022-10-20\",\"2022-10-21\",\"2022-10-22\",\"2022-10-23\",\"2022-10-24\",\"2022-10-25\",\"2022-10-26\",\"2022-10-27\",\"2022-10-28\",\"2022-10-29\",\"2022-10-30\",\"2022-10-31\",\"2022-11-01\",\"2022-11-02\",\"2022-11-03\",\"2022-11-04\",\"2022-11-05\",\"2022-11-06\",\"2022-11-07\",\"2022-11-08\",\"2022-11-09\",\"2022-11-10\",\"2022-11-11\",\"2022-11-12\",\"2022-11-13\",\"2022-11-14\",\"2022-11-15\",\"2022-11-16\",\"2022-11-17\",\"2022-11-18\",\"2022-11-19\",\"2022-11-20\",\"2022-11-21\",\"2022-11-22\",\"2022-11-23\",\"2022-11-24\",\"2022-11-25\",\"2022-11-26\",\"2022-11-27\",\"2022-11-28\",\"2022-11-29\",\"2022-11-30\",\"2022-12-01\",\"2022-12-02\",\"2022-12-03\",\"2022-12-04\",\"2022-12-05\",\"2022-12-06\",\"2022-12-07\",\"2022-12-08\",\"2022-12-09\",\"2022-12-10\",\"2022-12-11\",\"2022-12-12\",\"2022-12-13\",\"2022-12-14\",\"2022-12-15\",\"2022-12-16\",\"2022-12-17\",\"2022-12-18\",\"2022-12-19\",\"2022-12-20\",\"2022-12-21\",\"2022-12-22\",\"2022-12-23\",\"2022-12-24\",\"2022-12-25\",\"2022-12-26\",\"2022-12-27\",\"2022-12-28\",\"2022-12-29\",\"2022-12-30\",\"2022-12-31\"],\"xaxis\":\"x\",\"y\":[18856.25,17295.2,16488.98,15492.64,13326.61,13300.0,13500.0,13699.34,15689.01,15459.99,14182.11,14378.9,12440.01,13716.36,13380.0,14675.11,14919.51,15059.54,16960.39,17069.79,16150.03,14902.54,14400.0,14907.09,13238.78,13740.01,14210.0,13474.99,13539.93,10900.0,10988.79,10961.97,11474.98,12799.94,11530.0,10760.05,10799.18,11349.99,11175.27,11089.0,11491.0,11879.95,11251.0,10237.51,10285.1,9224.52,8873.03,9199.96,8184.81,6939.99,7652.14,7599.0,7784.02,8683.92,8533.98,8063.88,8903.0,8539.9,9449.99,10000.09,10159.98,11039.55,10383.43,11153.0,11200.99,10437.6,9811.04,10131.04,9694.51,9590.0,10324.0,10569.04,10326.76,10920.0,11039.0,11464.48,11515.0,11454.0,10716.48,9910.0,9271.64,9227.0,8770.22,9533.57,9131.34,9150.0,8170.0,8240.98,8260.0,7824.8,8189.99,8600.0,8909.98,8885.0,8722.9,8898.03,8546.86,8470.15,8134.23,7795.51,7949.3,7090.14,6840.23,6923.91,6813.01,7056.0,7405.21,6796.1,6770.76,6601.39,6895.8,7018.0,6782.72,6843.9,6953.79,7923.0,7877.41,7999.01,8355.0,8064.92,7885.02,8173.0,8278.0,8856.98,8915.31,8787.02,8934.01,9619.99,8869.99,9266.0,8915.35,9348.0,9419.0,9246.01,9071.48,9247.84,9750.0,9713.99,9864.0,9659.01,9365.0,9187.56,9310.0,9002.2,8400.0,8465.94,8679.71,8663.34,8462.0,8330.0,8041.46,8239.81,8233.49,8526.98,8381.24,7977.11,7501.95,7575.01,7457.0,7333.96,7338.99,7099.0,7461.29,7375.96,7485.01,7521.01,7640.03,7714.26,7487.0,7625.0,7658.84,7691.08,7603.44,7491.73,6764.99,6872.0,6530.0,6292.78,6635.98,6388.9,6483.98,6449.61,6712.46,6741.21,6761.51,6718.84,6045.0,6149.98,6136.97,6252.0,6070.78,6133.73,5853.98,6197.92,6390.07,6356.81,6615.29,6513.86,6586.98,6529.2,6609.78,6756.98,6712.1,6662.12,6296.91,6378.07,6250.57,6214.57,6251.99,6353.01,6723.35,7317.44,7381.9,7466.21,7337.53,7398.78,7394.79,7721.01,8397.24,8175.64,7920.0,8188.57,8225.04,8211.0,8173.92,7730.93,7604.58,7525.71,7418.78,7009.84,7024.19,6934.82,6720.06,6285.0,6529.79,6144.01,6232.35,6308.33,6246.35,6188.08,6267.16,6311.75,6584.49,6387.96,6477.53,6254.84,6480.0,6360.89,6525.01,6681.64,6733.64,6700.0,6908.64,7076.11,7031.22,6984.84,7011.21,7200.01,7302.01,7263.02,7359.06,6700.0,6516.01,6395.54,6185.05,6250.81,6312.0,6294.91,6338.62,6487.38,6476.63,6514.96,6505.0,6248.69,6336.45,6391.89,6492.0,6759.02,6723.05,6708.0,6581.39,6447.54,6465.12,6689.13,6634.58,6596.38,6626.57,6611.61,6525.79,6510.0,6593.79,6635.65,6594.27,6615.26,6673.01,6656.61,6631.0,6252.68,6298.01,6332.93,6339.34,6752.5,6759.27,6740.89,6618.96,6528.88,6588.4,6590.11,6581.2,6553.51,6565.5,6528.09,6538.63,6505.6,6489.93,6344.5,6330.87,6371.93,6410.0,6433.98,6387.09,6485.85,6468.99,6519.11,6578.46,6479.84,6419.99,6433.05,6449.81,6453.07,6457.66,5922.41,5753.4,5655.94,5628.29,5662.0,4910.03,4558.86,4661.07,4370.0,4420.61,3932.44,4085.78,3862.2,3875.21,4264.85,4295.84,4041.32,4190.02,4161.01,3884.01,3951.64,3769.84,3508.75,3403.55,3410.93,3545.37,3432.88,3380.39,3445.0,3302.06,3224.17,3211.72,3228.67,3509.08,3652.98,3662.22,4049.62,3838.66,3948.91,3929.71,4008.01,3745.79,3777.74,3567.91,3839.26,3695.32,3801.91,3702.9,3797.14,3858.56,3766.78,3792.01,3770.96,3987.6,3975.45,3955.13,3966.65,3585.88,3601.31,3583.13,3476.81,3626.09,3553.06,3591.84,3616.21,3594.87,3665.3,3539.28,3526.9,3570.93,3552.82,3569.62,3565.29,3565.25,3550.84,3434.15,3411.04,3458.18,3434.1,3462.07,3504.77,3458.11,3463.22,3471.59,3405.37,3398.4,3659.04,3665.18,3680.06,3631.05,3631.46,3609.4,3590.56,3602.47,3618.41,3667.58,3898.6,3907.79,3969.74,3937.31,3962.0,4117.76,3743.56,3827.92,3809.23,3818.07,3813.69,3823.0,3819.93,3807.75,3715.3,3857.73,3861.84,3873.64,3864.89,3943.04,3916.82,3871.61,3882.73,3866.0,3877.12,3923.76,4005.98,3981.14,3987.81,4015.53,4043.04,3980.64,3986.93,4006.01,3992.18,3936.12,3948.55,4038.05,4027.81,4103.25,4106.97,4103.95,4144.56,4857.29,4932.6,4898.66,5004.95,5043.89,5170.27,5236.9,5150.0,5308.25,5017.37,5048.01,5045.22,5131.3,5024.95,5173.72,5202.82,5258.44,5258.68,5291.73,5256.14,5357.14,5493.31,5415.0,5219.9,5314.1,5295.69,5307.52,5238.14,5320.81,5383.2,5492.87,5772.69,5829.45,5775.62,5747.79,5846.34,5987.29,6209.18,6373.33,7076.22,6967.31,7790.71,7947.56,8169.87,7866.59,7355.26,7257.45,8148.48,7938.15,7904.87,7628.43,7851.51,7964.87,8025.41,8614.43,8756.32,8715.64,8645.68,8269.54,8555.0,8544.07,8725.98,8115.82,7687.03,7776.5,7786.7,7980.53,7893.62,7628.13,7982.75,7884.9,8127.64,8218.54,8650.0,8808.7,8953.33,9313.96,9081.55,9255.49,9517.12,10159.86,10729.5,10906.07,11056.59,11820.86,13093.8,11329.99,12400.63,11903.13,10854.1,10624.93,10842.85,11940.0,11145.67,10970.73,11256.49,11406.24,12238.6,12543.41,12108.37,11342.89,11757.22,11355.76,10174.18,10838.72,9439.59,9667.92,10627.16,10504.29,10740.23,10589.45,10340.31,9864.91,9763.28,9879.87,9824.0,9476.52,9541.54,9507.64,9574.21,10080.53,10374.99,10523.75,10816.86,10929.23,11828.8,11481.69,11975.03,11999.77,11879.99,11309.31,11549.97,11396.08,10892.71,10050.37,10293.93,10331.54,10216.02,10306.78,10915.54,10760.51,10142.57,10099.88,10389.55,10134.35,10142.69,10372.25,10185.05,9721.0,9498.44,9584.54,9587.47,9724.98,10340.0,10615.28,10567.02,10564.49,10298.73,10455.88,10381.18,10303.12,10098.15,10158.33,10415.01,10342.06,10335.02,10302.01,10251.31,10187.82,10156.99,10244.29,10168.59,9986.39,10028.87,9702.25,8493.14,8430.05,8063.73,8177.91,8198.81,8043.82,8289.34,8292.44,8359.94,8223.96,8137.13,8126.19,7854.25,8190.09,8168.39,8560.74,8558.03,8258.5,8300.09,8275.01,8348.2,8159.29,7991.74,8070.58,7947.01,7948.01,8223.35,8197.27,8020.0,7466.62,7412.41,8655.02,9230.0,9529.93,9205.14,9407.62,9154.72,9140.85,9231.61,9289.52,9194.71,9393.35,9308.66,9339.05,9216.2,8773.73,8809.41,9039.47,8733.27,8821.94,8777.12,8646.68,8471.73,8491.02,8502.4,8187.17,8133.64,8098.01,7627.74,7268.23,7311.57,6903.28,7109.57,7156.14,7508.52,7419.49,7739.68,7541.89,7390.89,7294.28,7292.71,7194.32,7389.0,7527.47,7488.21,7510.11,7338.64,7224.13,7210.0,7198.08,7258.48,7064.05,7118.59,6891.72,6623.82,7277.83,7150.3,7187.83,7132.75,7501.44,7317.09,7255.77,7204.63,7202.0,7254.74,7316.14,7388.24,7246.0,7195.23,7200.85,6965.71,7344.96,7354.11,7358.75,7758.0,8145.28,8055.98,7817.76,8197.02,8020.01,8184.98,8110.34,8810.01,8821.41,8720.01,8913.28,8915.96,8701.7,8642.35,8736.03,8682.36,8404.52,8439.0,8340.58,8615.0,8907.57,9374.21,9301.53,9513.21,9352.89,9384.61,9331.51,9292.24,9197.02,9612.04,9772.0,9813.73,9895.05,10151.75,9851.83,10223.08,10326.46,10229.63,10344.36,9904.72,9917.27,9706.0,10164.71,9593.79,9596.42,9677.05,9650.86,9936.4,9656.13,9315.84,8785.25,8823.21,8692.91,8523.61,8531.88,8915.24,8760.07,8750.87,9054.68,9131.88,8886.66,8033.31,7929.87,7894.56,7934.52,4800.0,5578.6,5172.06,5361.3,5028.97,5312.64,5393.04,6162.37,6208.36,6186.98,5816.19,6467.31,6744.72,6677.43,6737.36,6359.11,6236.65,5881.42,6394.38,6410.44,6642.92,6794.09,6734.1,6856.99,6772.78,7329.9,7197.32,7361.28,7283.54,6858.92,6876.83,6903.79,6837.91,6868.7,6621.24,7101.94,7027.55,7248.6,7120.74,6826.83,6841.37,7125.14,7482.39,7505.0,7538.67,7693.1,7774.62,7738.98,8778.57,8620.0,8826.96,8972.05,8894.16,8871.96,9021.83,9142.92,9986.4,9800.01,9539.4,8722.77,8561.52,8810.79,9309.37,9791.98,9316.42,9381.27,9680.04,9733.93,9775.53,9511.43,9068.65,9170.0,9179.15,8720.34,8900.35,8841.18,9204.07,9575.89,9427.07,9697.72,9448.27,10200.77,9518.04,9666.24,9789.06,9621.16,9666.3,9746.99,9782.01,9772.43,9885.0,9280.4,9465.13,9473.34,9342.1,9426.02,9525.59,9465.14,9386.32,9310.23,9358.95,9294.69,9685.69,9624.89,9296.49,9249.49,9162.21,9012.0,9116.35,9192.56,9138.55,9232.0,9086.54,9058.26,9135.46,9069.41,9344.2,9257.39,9436.06,9232.43,9288.34,9234.03,9302.75,9242.62,9255.85,9197.6,9133.72,9154.32,9170.28,9208.99,9160.78,9390.0,9518.16,9603.27,9537.8,9700.42,9931.54,11029.96,10906.27,11100.53,11099.61,11335.46,11801.17,11071.35,11219.81,11191.97,11744.91,11762.46,11594.23,11761.41,11681.68,11892.92,11392.08,11564.33,11780.0,11760.54,11852.4,11911.0,12281.13,11945.01,11754.59,11853.55,11531.34,11662.96,11648.13,11748.2,11318.42,11461.43,11330.38,11526.91,11465.84,11711.16,11649.51,11921.97,11388.54,10140.85,10446.25,10166.69,10256.2,10373.44,10126.65,10219.2,10336.87,10387.89,10440.92,10332.83,10671.77,10785.31,10954.01,10939.99,10933.39,11080.65,10920.28,10417.22,10529.61,10241.46,10736.32,10686.67,10728.6,10774.25,10696.12,10840.48,10776.59,10619.13,10570.4,10542.06,10666.63,10792.21,10599.66,10666.39,10925.57,11050.64,11293.22,11369.02,11528.25,11420.56,11417.89,11505.12,11319.32,11360.2,11503.14,11751.47,11909.99,12780.96,12968.52,12923.07,13111.73,13028.83,13052.19,13636.17,13266.4,13455.7,13560.1,13791.0,13761.5,13549.37,14023.53,14144.01,15590.02,15579.92,14818.3,15475.1,15328.41,15297.21,15684.24,16291.86,16320.7,16070.45,15957.0,16713.57,17659.38,17776.12,17802.82,18655.67,18703.8,18414.43,18368.0,19160.01,18719.11,17149.47,17139.52,17719.85,18184.99,19695.87,18764.96,19204.09,19421.9,18650.52,19147.66,19359.4,19166.9,18324.11,18541.28,18254.63,18036.53,18808.69,19174.99,19273.14,19426.43,21335.52,22797.16,23107.39,23821.61,23455.52,22719.71,23810.79,23232.76,23729.2,24712.47,26493.39,26281.66,27079.41,27385.0,28875.54,28923.63,29331.69,32178.33,33000.05,31988.71,33949.53,36769.36,39432.28,40582.81,40088.22,38150.02,35404.47,34051.24,37371.38,39144.5,36742.22,35994.98,35828.61,36631.27,35891.49,35468.23,30850.13,32945.17,32078.0,32259.9,32254.2,32467.77,30366.15,33364.86,34252.2,34262.88,33092.98,33526.37,35466.24,37618.87,36936.66,38290.24,39186.94,38795.69,46374.87,46420.42,44807.58,47969.51,47287.6,47153.69,48577.79,47911.1,49133.45,52119.71,51552.6,55906.0,55841.19,57408.57,54087.67,48891.0,49676.2,47073.73,46276.87,46106.43,45135.66,49587.03,48440.65,50349.37,48374.09,48751.71,48882.2,50971.75,52375.17,54884.5,55851.59,57773.16,57221.72,61188.39,58968.31,55605.2,56900.75,58912.97,57648.16,58030.01,58102.28,57351.56,54083.25,54340.89,52303.65,51293.78,55025.59,55817.14,55777.63,57635.47,58746.57,58740.55,58720.44,58950.01,57051.94,58202.01,59129.99,57991.15,55953.45,58077.52,58142.54,59769.13,60002.43,59860.0,63575.0,62959.53,63159.98,61334.8,60006.66,56150.01,55633.14,56425.0,53787.63,51690.96,51125.14,50047.84,49066.77,54001.39,55011.97,54846.22,53555.0,57694.27,57800.37,56578.21,57169.39,53200.01,57436.11,56393.68,57314.75,58862.05,58240.84,55816.14,56670.02,49631.32,49670.97,49841.45,46762.99,46431.5,43538.04,42849.78,36690.09,40526.64,37252.01,37449.73,34655.25,38796.29,38324.72,39241.91,38529.98,35663.49,34605.15,35641.27,37253.81,36693.09,37568.68,39246.79,36829.0,35513.2,35796.31,33552.79,33380.81,37388.05,36675.72,37331.98,35546.11,39020.57,40516.29,40144.04,38349.01,38092.97,35819.84,35483.72,35600.16,31608.93,32509.56,33678.07,34663.09,31584.45,32283.65,34700.34,34494.89,35911.73,35045.0,33504.69,33786.55,34669.13,35286.51,33690.14,34220.01,33862.12,32875.71,33815.81,33502.87,34258.99,33086.63,32729.77,32820.02,31880.0,31383.87,31520.07,31778.56,30839.65,29790.35,32144.51,32287.83,33634.09,34258.14,35381.02,37237.6,39457.87,40019.56,40016.48,42206.37,41461.83,39845.44,39147.82,38207.05,39723.18,40862.46,42836.87,44572.54,43794.37,46253.4,45584.99,45511.0,44399.0,47800.0,47068.51,46973.82,45901.29,44695.95,44705.29,46760.62,49322.47,48821.87,49239.22,49488.85,47674.01,48973.32,46843.87,49069.9,48895.35,48767.83,46982.91,47100.89,48810.52,49246.64,49999.14,49915.64,51756.88,52663.9,46863.73,46048.31,46395.14,44850.91,45173.69,46025.24,44940.73,47111.52,48121.41,47737.82,47299.98,48292.74,47241.75,43015.62,40734.38,43543.61,44865.26,42810.57,42670.64,43160.9,42147.35,41026.54,41524.28,43824.1,48141.61,47634.9,48200.01,49224.94,51471.99,55315.0,53785.22,53951.43,54949.72,54659.0,57471.35,55996.93,57367.0,57347.94,61672.42,60875.57,61528.33,62009.84,64280.59,66001.41,62193.15,60688.22,61286.75,60852.22,63078.78,60328.81,58413.44,60575.89,62253.71,61859.19,61299.8,60911.11,63219.99,62896.48,61395.01,60937.12,61470.61,63273.59,67525.83,66947.66,64882.43,64774.26,64122.23,64380.0,65519.1,63606.74,60058.87,60344.87,56891.62,58052.24,59707.51,58622.02,56247.18,57541.27,57138.29,58960.36,53726.53,54721.03,57274.88,57776.25,56950.56,57184.07,56480.34,53601.05,49152.47,49396.33,50441.92,50588.95,50471.19,47545.59,47140.54,49389.99,50053.9,46702.75,48343.28,48864.98,47632.38,46131.2,46834.48,46681.23,46914.16,48889.88,48588.16,50838.81,50820.0,50399.66,50775.49,50701.44,47543.74,46464.66,47120.87,46216.93,47722.65,47286.18,46446.1,45832.01,43451.13,43082.31,41566.48,41679.74,41864.62,41822.49,42729.29,43902.66,42560.11,43059.96,43084.29,43071.66,42201.62,42352.12,41660.01,40680.91,36445.31,35071.42,36244.55,36660.35,36958.32,36809.34,37160.1,37716.56,38166.84,37881.76,38466.9,38694.59,36896.36,37311.61,41574.25,41382.59,42380.87,43839.99,44042.99,44372.72,43495.44,42373.73,42217.87,42053.66,42535.94,44544.86,43873.56,40515.7,39974.44,40079.17,38386.89,37008.16,38230.33,37250.01,38327.21,39219.17,39116.72,37699.07,43160.0,44421.2,43892.98,42454.0,39148.66,39397.96,38420.81,37988.0,38730.63,41941.71,39422.0,38729.57,38807.36,37777.34,39671.37,39280.33,41114.0,40917.9,41757.51,42201.13,41262.11,41002.25,42364.13,42882.76,43991.46,44313.16,44511.27,46827.76,47122.21,47434.8,47067.99,45510.34,46283.49,45811.0,46407.35,46580.51,45497.55,43170.47,43444.19,42252.01,42753.97,42158.85,39530.45,40074.94,41147.79,39942.38,40551.9,40378.71,39678.12,40801.13,41493.18,41358.19,40480.01,39709.18,39441.6,39450.13,40426.08,38112.65,39235.72,39742.07,38596.11,37630.8,38468.35,38525.16,37728.95,39690.0,36552.97,36013.77,35472.39,34038.4,30076.31,31017.1,29103.94,29029.75,29287.05,30086.74,31328.89,29874.01,30444.93,28715.32,30319.23,29201.01,29445.06,30293.94,29109.15,29654.58,29542.15,29201.35,28629.8,29031.33,29468.1,31734.22,31801.04,29805.83,30452.62,29700.21,29864.04,29919.21,31373.1,31125.33,30204.77,30109.93,29091.88,28424.7,26574.53,22487.41,22136.41,22583.72,20401.31,20468.81,18970.79,20574.0,20573.89,20723.52,19987.99,21110.13,21237.69,21491.19,21038.07,20742.56,20281.29,20123.01,19942.21,19279.8,19252.81,19315.83,20236.71,20175.83,20564.51,21624.98,21594.75,21591.83,20862.47,19963.61,19328.75,20234.87,20588.84,20830.04,21195.6,20798.16,22432.58,23396.62,23223.3,23152.19,22684.83,22451.07,22579.68,21310.9,21254.67,22952.45,23842.93,23773.75,23643.51,23293.32,23268.01,22987.79,22818.37,22622.98,23312.42,22954.21,23174.39,23810.0,23149.95,23954.05,23934.39,24403.68,24441.38,24305.24,24094.82,23854.74,23342.66,23191.2,20834.39,21140.07,21515.61,21399.83,21529.12,21368.08,21559.04,20241.05,20037.6,19555.61,20285.73,19811.66,20050.02,20131.46,19951.86,19831.9,20000.3,19796.84,18790.61,19292.84,19319.77,21360.11,21648.34,21826.87,22395.74,20173.57,20226.71,19701.88,19803.3,20113.62,19416.18,19537.02,18875.0,18461.36,19401.63,19289.91,18920.5,18807.38,19227.82,19079.13,19412.82,19591.51,19422.61,19310.95,19056.8,19629.08,20337.82,20158.26,19960.67,19530.09,19417.96,19439.02,19131.87,19060.0,19155.53,19375.13,19176.93,19069.39,19262.98,19549.86,19327.44,19123.97,19041.92,19164.37,19204.35,19570.4,19329.72,20080.07,20771.59,20295.11,20591.84,20809.67,20627.48,20490.74,20483.62,20151.84,20207.82,21148.52,21299.37,20905.58,20591.13,18547.23,15922.81,17601.15,17070.31,16812.08,16329.85,16619.46,16900.57,16662.76,16692.56,16700.45,16700.68,16280.23,15781.29,16226.94,16603.11,16598.95,16522.14,16458.57,16428.78,16212.91,16442.53,16443.6,16977.37,17092.74,16885.2,17105.7,16966.35,17088.96,16836.64,17224.1,17128.56,17127.49,17085.05,17209.83,17774.7,17803.15,17356.34,16632.12,16776.52,16738.21,16438.88,16895.56,16824.67,16821.43,16778.5,16836.12,16832.11,16919.39,16706.36,16547.31,16633.47,16607.48,16542.4],\"yaxis\":\"y\",\"type\":\"scattergl\"},{\"hovertemplate\":\"variable=train_predicted_close<br>Date=%{x}<br>Bitcoin price=%{y}<extra></extra>\",\"legendgroup\":\"train_predicted_close\",\"line\":{\"color\":\"#EF553B\",\"dash\":\"solid\"},\"marker\":{\"symbol\":\"circle\"},\"mode\":\"lines\",\"name\":\"Train predicted close price\",\"showlegend\":true,\"x\":[\"2017-12-18\",\"2017-12-19\",\"2017-12-20\",\"2017-12-21\",\"2017-12-22\",\"2017-12-23\",\"2017-12-24\",\"2017-12-25\",\"2017-12-26\",\"2017-12-27\",\"2017-12-28\",\"2017-12-29\",\"2017-12-30\",\"2017-12-31\",\"2018-01-01\",\"2018-01-02\",\"2018-01-03\",\"2018-01-04\",\"2018-01-05\",\"2018-01-06\",\"2018-01-07\",\"2018-01-08\",\"2018-01-09\",\"2018-01-10\",\"2018-01-11\",\"2018-01-12\",\"2018-01-13\",\"2018-01-14\",\"2018-01-15\",\"2018-01-16\",\"2018-01-17\",\"2018-01-18\",\"2018-01-19\",\"2018-01-20\",\"2018-01-21\",\"2018-01-22\",\"2018-01-23\",\"2018-01-24\",\"2018-01-25\",\"2018-01-26\",\"2018-01-27\",\"2018-01-28\",\"2018-01-29\",\"2018-01-30\",\"2018-01-31\",\"2018-02-01\",\"2018-02-02\",\"2018-02-03\",\"2018-02-04\",\"2018-02-05\",\"2018-02-06\",\"2018-02-07\",\"2018-02-08\",\"2018-02-09\",\"2018-02-10\",\"2018-02-11\",\"2018-02-12\",\"2018-02-13\",\"2018-02-14\",\"2018-02-15\",\"2018-02-16\",\"2018-02-17\",\"2018-02-18\",\"2018-02-19\",\"2018-02-20\",\"2018-02-21\",\"2018-02-22\",\"2018-02-23\",\"2018-02-24\",\"2018-02-25\",\"2018-02-26\",\"2018-02-27\",\"2018-02-28\",\"2018-03-01\",\"2018-03-02\",\"2018-03-03\",\"2018-03-04\",\"2018-03-05\",\"2018-03-06\",\"2018-03-07\",\"2018-03-08\",\"2018-03-09\",\"2018-03-10\",\"2018-03-11\",\"2018-03-12\",\"2018-03-13\",\"2018-03-14\",\"2018-03-15\",\"2018-03-16\",\"2018-03-17\",\"2018-03-18\",\"2018-03-19\",\"2018-03-20\",\"2018-03-21\",\"2018-03-22\",\"2018-03-23\",\"2018-03-24\",\"2018-03-25\",\"2018-03-26\",\"2018-03-27\",\"2018-03-28\",\"2018-03-29\",\"2018-03-30\",\"2018-03-31\",\"2018-04-01\",\"2018-04-02\",\"2018-04-03\",\"2018-04-04\",\"2018-04-05\",\"2018-04-06\",\"2018-04-07\",\"2018-04-08\",\"2018-04-09\",\"2018-04-10\",\"2018-04-11\",\"2018-04-12\",\"2018-04-13\",\"2018-04-14\",\"2018-04-15\",\"2018-04-16\",\"2018-04-17\",\"2018-04-18\",\"2018-04-19\",\"2018-04-20\",\"2018-04-21\",\"2018-04-22\",\"2018-04-23\",\"2018-04-24\",\"2018-04-25\",\"2018-04-26\",\"2018-04-27\",\"2018-04-28\",\"2018-04-29\",\"2018-04-30\",\"2018-05-01\",\"2018-05-02\",\"2018-05-03\",\"2018-05-04\",\"2018-05-05\",\"2018-05-06\",\"2018-05-07\",\"2018-05-08\",\"2018-05-09\",\"2018-05-10\",\"2018-05-11\",\"2018-05-12\",\"2018-05-13\",\"2018-05-14\",\"2018-05-15\",\"2018-05-16\",\"2018-05-17\",\"2018-05-18\",\"2018-05-19\",\"2018-05-20\",\"2018-05-21\",\"2018-05-22\",\"2018-05-23\",\"2018-05-24\",\"2018-05-25\",\"2018-05-26\",\"2018-05-27\",\"2018-05-28\",\"2018-05-29\",\"2018-05-30\",\"2018-05-31\",\"2018-06-01\",\"2018-06-02\",\"2018-06-03\",\"2018-06-04\",\"2018-06-05\",\"2018-06-06\",\"2018-06-07\",\"2018-06-08\",\"2018-06-09\",\"2018-06-10\",\"2018-06-11\",\"2018-06-12\",\"2018-06-13\",\"2018-06-14\",\"2018-06-15\",\"2018-06-16\",\"2018-06-17\",\"2018-06-18\",\"2018-06-19\",\"2018-06-20\",\"2018-06-21\",\"2018-06-22\",\"2018-06-23\",\"2018-06-24\",\"2018-06-25\",\"2018-06-26\",\"2018-06-27\",\"2018-06-28\",\"2018-06-29\",\"2018-06-30\",\"2018-07-01\",\"2018-07-02\",\"2018-07-03\",\"2018-07-04\",\"2018-07-05\",\"2018-07-06\",\"2018-07-07\",\"2018-07-08\",\"2018-07-09\",\"2018-07-10\",\"2018-07-11\",\"2018-07-12\",\"2018-07-13\",\"2018-07-14\",\"2018-07-15\",\"2018-07-16\",\"2018-07-17\",\"2018-07-18\",\"2018-07-19\",\"2018-07-20\",\"2018-07-21\",\"2018-07-22\",\"2018-07-23\",\"2018-07-24\",\"2018-07-25\",\"2018-07-26\",\"2018-07-27\",\"2018-07-28\",\"2018-07-29\",\"2018-07-30\",\"2018-07-31\",\"2018-08-01\",\"2018-08-02\",\"2018-08-03\",\"2018-08-04\",\"2018-08-05\",\"2018-08-06\",\"2018-08-07\",\"2018-08-08\",\"2018-08-09\",\"2018-08-10\",\"2018-08-11\",\"2018-08-12\",\"2018-08-13\",\"2018-08-14\",\"2018-08-15\",\"2018-08-16\",\"2018-08-17\",\"2018-08-18\",\"2018-08-19\",\"2018-08-20\",\"2018-08-21\",\"2018-08-22\",\"2018-08-23\",\"2018-08-24\",\"2018-08-25\",\"2018-08-26\",\"2018-08-27\",\"2018-08-28\",\"2018-08-29\",\"2018-08-30\",\"2018-08-31\",\"2018-09-01\",\"2018-09-02\",\"2018-09-03\",\"2018-09-04\",\"2018-09-05\",\"2018-09-06\",\"2018-09-07\",\"2018-09-08\",\"2018-09-09\",\"2018-09-10\",\"2018-09-11\",\"2018-09-12\",\"2018-09-13\",\"2018-09-14\",\"2018-09-15\",\"2018-09-16\",\"2018-09-17\",\"2018-09-18\",\"2018-09-19\",\"2018-09-20\",\"2018-09-21\",\"2018-09-22\",\"2018-09-23\",\"2018-09-24\",\"2018-09-25\",\"2018-09-26\",\"2018-09-27\",\"2018-09-28\",\"2018-09-29\",\"2018-09-30\",\"2018-10-01\",\"2018-10-02\",\"2018-10-03\",\"2018-10-04\",\"2018-10-05\",\"2018-10-06\",\"2018-10-07\",\"2018-10-08\",\"2018-10-09\",\"2018-10-10\",\"2018-10-11\",\"2018-10-12\",\"2018-10-13\",\"2018-10-14\",\"2018-10-15\",\"2018-10-16\",\"2018-10-17\",\"2018-10-18\",\"2018-10-19\",\"2018-10-20\",\"2018-10-21\",\"2018-10-22\",\"2018-10-23\",\"2018-10-24\",\"2018-10-25\",\"2018-10-26\",\"2018-10-27\",\"2018-10-28\",\"2018-10-29\",\"2018-10-30\",\"2018-10-31\",\"2018-11-01\",\"2018-11-02\",\"2018-11-03\",\"2018-11-04\",\"2018-11-05\",\"2018-11-06\",\"2018-11-07\",\"2018-11-08\",\"2018-11-09\",\"2018-11-10\",\"2018-11-11\",\"2018-11-12\",\"2018-11-13\",\"2018-11-14\",\"2018-11-15\",\"2018-11-16\",\"2018-11-17\",\"2018-11-18\",\"2018-11-19\",\"2018-11-20\",\"2018-11-21\",\"2018-11-22\",\"2018-11-23\",\"2018-11-24\",\"2018-11-25\",\"2018-11-26\",\"2018-11-27\",\"2018-11-28\",\"2018-11-29\",\"2018-11-30\",\"2018-12-01\",\"2018-12-02\",\"2018-12-03\",\"2018-12-04\",\"2018-12-05\",\"2018-12-06\",\"2018-12-07\",\"2018-12-08\",\"2018-12-09\",\"2018-12-10\",\"2018-12-11\",\"2018-12-12\",\"2018-12-13\",\"2018-12-14\",\"2018-12-15\",\"2018-12-16\",\"2018-12-17\",\"2018-12-18\",\"2018-12-19\",\"2018-12-20\",\"2018-12-21\",\"2018-12-22\",\"2018-12-23\",\"2018-12-24\",\"2018-12-25\",\"2018-12-26\",\"2018-12-27\",\"2018-12-28\",\"2018-12-29\",\"2018-12-30\",\"2018-12-31\",\"2019-01-01\",\"2019-01-02\",\"2019-01-03\",\"2019-01-04\",\"2019-01-05\",\"2019-01-06\",\"2019-01-07\",\"2019-01-08\",\"2019-01-09\",\"2019-01-10\",\"2019-01-11\",\"2019-01-12\",\"2019-01-13\",\"2019-01-14\",\"2019-01-15\",\"2019-01-16\",\"2019-01-17\",\"2019-01-18\",\"2019-01-19\",\"2019-01-20\",\"2019-01-21\",\"2019-01-22\",\"2019-01-23\",\"2019-01-24\",\"2019-01-25\",\"2019-01-26\",\"2019-01-27\",\"2019-01-28\",\"2019-01-29\",\"2019-01-30\",\"2019-01-31\",\"2019-02-01\",\"2019-02-02\",\"2019-02-03\",\"2019-02-04\",\"2019-02-05\",\"2019-02-06\",\"2019-02-07\",\"2019-02-08\",\"2019-02-09\",\"2019-02-10\",\"2019-02-11\",\"2019-02-12\",\"2019-02-13\",\"2019-02-14\",\"2019-02-15\",\"2019-02-16\",\"2019-02-17\",\"2019-02-18\",\"2019-02-19\",\"2019-02-20\",\"2019-02-21\",\"2019-02-22\",\"2019-02-23\",\"2019-02-24\",\"2019-02-25\",\"2019-02-26\",\"2019-02-27\",\"2019-02-28\",\"2019-03-01\",\"2019-03-02\",\"2019-03-03\",\"2019-03-04\",\"2019-03-05\",\"2019-03-06\",\"2019-03-07\",\"2019-03-08\",\"2019-03-09\",\"2019-03-10\",\"2019-03-11\",\"2019-03-12\",\"2019-03-13\",\"2019-03-14\",\"2019-03-15\",\"2019-03-16\",\"2019-03-17\",\"2019-03-18\",\"2019-03-19\",\"2019-03-20\",\"2019-03-21\",\"2019-03-22\",\"2019-03-23\",\"2019-03-24\",\"2019-03-25\",\"2019-03-26\",\"2019-03-27\",\"2019-03-28\",\"2019-03-29\",\"2019-03-30\",\"2019-03-31\",\"2019-04-01\",\"2019-04-02\",\"2019-04-03\",\"2019-04-04\",\"2019-04-05\",\"2019-04-06\",\"2019-04-07\",\"2019-04-08\",\"2019-04-09\",\"2019-04-10\",\"2019-04-11\",\"2019-04-12\",\"2019-04-13\",\"2019-04-14\",\"2019-04-15\",\"2019-04-16\",\"2019-04-17\",\"2019-04-18\",\"2019-04-19\",\"2019-04-20\",\"2019-04-21\",\"2019-04-22\",\"2019-04-23\",\"2019-04-24\",\"2019-04-25\",\"2019-04-26\",\"2019-04-27\",\"2019-04-28\",\"2019-04-29\",\"2019-04-30\",\"2019-05-01\",\"2019-05-02\",\"2019-05-03\",\"2019-05-04\",\"2019-05-05\",\"2019-05-06\",\"2019-05-07\",\"2019-05-08\",\"2019-05-09\",\"2019-05-10\",\"2019-05-11\",\"2019-05-12\",\"2019-05-13\",\"2019-05-14\",\"2019-05-15\",\"2019-05-16\",\"2019-05-17\",\"2019-05-18\",\"2019-05-19\",\"2019-05-20\",\"2019-05-21\",\"2019-05-22\",\"2019-05-23\",\"2019-05-24\",\"2019-05-25\",\"2019-05-26\",\"2019-05-27\",\"2019-05-28\",\"2019-05-29\",\"2019-05-30\",\"2019-05-31\",\"2019-06-01\",\"2019-06-02\",\"2019-06-03\",\"2019-06-04\",\"2019-06-05\",\"2019-06-06\",\"2019-06-07\",\"2019-06-08\",\"2019-06-09\",\"2019-06-10\",\"2019-06-11\",\"2019-06-12\",\"2019-06-13\",\"2019-06-14\",\"2019-06-15\",\"2019-06-16\",\"2019-06-17\",\"2019-06-18\",\"2019-06-19\",\"2019-06-20\",\"2019-06-21\",\"2019-06-22\",\"2019-06-23\",\"2019-06-24\",\"2019-06-25\",\"2019-06-26\",\"2019-06-27\",\"2019-06-28\",\"2019-06-29\",\"2019-06-30\",\"2019-07-01\",\"2019-07-02\",\"2019-07-03\",\"2019-07-04\",\"2019-07-05\",\"2019-07-06\",\"2019-07-07\",\"2019-07-08\",\"2019-07-09\",\"2019-07-10\",\"2019-07-11\",\"2019-07-12\",\"2019-07-13\",\"2019-07-14\",\"2019-07-15\",\"2019-07-16\",\"2019-07-17\",\"2019-07-18\",\"2019-07-19\",\"2019-07-20\",\"2019-07-21\",\"2019-07-22\",\"2019-07-23\",\"2019-07-24\",\"2019-07-25\",\"2019-07-26\",\"2019-07-27\",\"2019-07-28\",\"2019-07-29\",\"2019-07-30\",\"2019-07-31\",\"2019-08-01\",\"2019-08-02\",\"2019-08-03\",\"2019-08-04\",\"2019-08-05\",\"2019-08-06\",\"2019-08-07\",\"2019-08-08\",\"2019-08-09\",\"2019-08-10\",\"2019-08-11\",\"2019-08-12\",\"2019-08-13\",\"2019-08-14\",\"2019-08-15\",\"2019-08-16\",\"2019-08-17\",\"2019-08-18\",\"2019-08-19\",\"2019-08-20\",\"2019-08-21\",\"2019-08-22\",\"2019-08-23\",\"2019-08-24\",\"2019-08-25\",\"2019-08-26\",\"2019-08-27\",\"2019-08-28\",\"2019-08-29\",\"2019-08-30\",\"2019-08-31\",\"2019-09-01\",\"2019-09-02\",\"2019-09-03\",\"2019-09-04\",\"2019-09-05\",\"2019-09-06\",\"2019-09-07\",\"2019-09-08\",\"2019-09-09\",\"2019-09-10\",\"2019-09-11\",\"2019-09-12\",\"2019-09-13\",\"2019-09-14\",\"2019-09-15\",\"2019-09-16\",\"2019-09-17\",\"2019-09-18\",\"2019-09-19\",\"2019-09-20\",\"2019-09-21\",\"2019-09-22\",\"2019-09-23\",\"2019-09-24\",\"2019-09-25\",\"2019-09-26\",\"2019-09-27\",\"2019-09-28\",\"2019-09-29\",\"2019-09-30\",\"2019-10-01\",\"2019-10-02\",\"2019-10-03\",\"2019-10-04\",\"2019-10-05\",\"2019-10-06\",\"2019-10-07\",\"2019-10-08\",\"2019-10-09\",\"2019-10-10\",\"2019-10-11\",\"2019-10-12\",\"2019-10-13\",\"2019-10-14\",\"2019-10-15\",\"2019-10-16\",\"2019-10-17\",\"2019-10-18\",\"2019-10-19\",\"2019-10-20\",\"2019-10-21\",\"2019-10-22\",\"2019-10-23\",\"2019-10-24\",\"2019-10-25\",\"2019-10-26\",\"2019-10-27\",\"2019-10-28\",\"2019-10-29\",\"2019-10-30\",\"2019-10-31\",\"2019-11-01\",\"2019-11-02\",\"2019-11-03\",\"2019-11-04\",\"2019-11-05\",\"2019-11-06\",\"2019-11-07\",\"2019-11-08\",\"2019-11-09\",\"2019-11-10\",\"2019-11-11\",\"2019-11-12\",\"2019-11-13\",\"2019-11-14\",\"2019-11-15\",\"2019-11-16\",\"2019-11-17\",\"2019-11-18\",\"2019-11-19\",\"2019-11-20\",\"2019-11-21\",\"2019-11-22\",\"2019-11-23\",\"2019-11-24\",\"2019-11-25\",\"2019-11-26\",\"2019-11-27\",\"2019-11-28\",\"2019-11-29\",\"2019-11-30\",\"2019-12-01\",\"2019-12-02\",\"2019-12-03\",\"2019-12-04\",\"2019-12-05\",\"2019-12-06\",\"2019-12-07\",\"2019-12-08\",\"2019-12-09\",\"2019-12-10\",\"2019-12-11\",\"2019-12-12\",\"2019-12-13\",\"2019-12-14\",\"2019-12-15\",\"2019-12-16\",\"2019-12-17\",\"2019-12-18\",\"2019-12-19\",\"2019-12-20\",\"2019-12-21\",\"2019-12-22\",\"2019-12-23\",\"2019-12-24\",\"2019-12-25\",\"2019-12-26\",\"2019-12-27\",\"2019-12-28\",\"2019-12-29\",\"2019-12-30\",\"2019-12-31\",\"2020-01-01\",\"2020-01-02\",\"2020-01-03\",\"2020-01-04\",\"2020-01-05\",\"2020-01-06\",\"2020-01-07\",\"2020-01-08\",\"2020-01-09\",\"2020-01-10\",\"2020-01-11\",\"2020-01-12\",\"2020-01-13\",\"2020-01-14\",\"2020-01-15\",\"2020-01-16\",\"2020-01-17\",\"2020-01-18\",\"2020-01-19\",\"2020-01-20\",\"2020-01-21\",\"2020-01-22\",\"2020-01-23\",\"2020-01-24\",\"2020-01-25\",\"2020-01-26\",\"2020-01-27\",\"2020-01-28\",\"2020-01-29\",\"2020-01-30\",\"2020-01-31\",\"2020-02-01\",\"2020-02-02\",\"2020-02-03\",\"2020-02-04\",\"2020-02-05\",\"2020-02-06\",\"2020-02-07\",\"2020-02-08\",\"2020-02-09\",\"2020-02-10\",\"2020-02-11\",\"2020-02-12\",\"2020-02-13\",\"2020-02-14\",\"2020-02-15\",\"2020-02-16\",\"2020-02-17\",\"2020-02-18\",\"2020-02-19\",\"2020-02-20\",\"2020-02-21\",\"2020-02-22\",\"2020-02-23\",\"2020-02-24\",\"2020-02-25\",\"2020-02-26\",\"2020-02-27\",\"2020-02-28\",\"2020-02-29\",\"2020-03-01\",\"2020-03-02\",\"2020-03-03\",\"2020-03-04\",\"2020-03-05\",\"2020-03-06\",\"2020-03-07\",\"2020-03-08\",\"2020-03-09\",\"2020-03-10\",\"2020-03-11\",\"2020-03-12\",\"2020-03-13\",\"2020-03-14\",\"2020-03-15\",\"2020-03-16\",\"2020-03-17\",\"2020-03-18\",\"2020-03-19\",\"2020-03-20\",\"2020-03-21\",\"2020-03-22\",\"2020-03-23\",\"2020-03-24\",\"2020-03-25\",\"2020-03-26\",\"2020-03-27\",\"2020-03-28\",\"2020-03-29\",\"2020-03-30\",\"2020-03-31\",\"2020-04-01\",\"2020-04-02\",\"2020-04-03\",\"2020-04-04\",\"2020-04-05\",\"2020-04-06\",\"2020-04-07\",\"2020-04-08\",\"2020-04-09\",\"2020-04-10\",\"2020-04-11\",\"2020-04-12\",\"2020-04-13\",\"2020-04-14\",\"2020-04-15\",\"2020-04-16\",\"2020-04-17\",\"2020-04-18\",\"2020-04-19\",\"2020-04-20\",\"2020-04-21\",\"2020-04-22\",\"2020-04-23\",\"2020-04-24\",\"2020-04-25\",\"2020-04-26\",\"2020-04-27\",\"2020-04-28\",\"2020-04-29\",\"2020-04-30\",\"2020-05-01\",\"2020-05-02\",\"2020-05-03\",\"2020-05-04\",\"2020-05-05\",\"2020-05-06\",\"2020-05-07\",\"2020-05-08\",\"2020-05-09\",\"2020-05-10\",\"2020-05-11\",\"2020-05-12\",\"2020-05-13\",\"2020-05-14\",\"2020-05-15\",\"2020-05-16\",\"2020-05-17\",\"2020-05-18\",\"2020-05-19\",\"2020-05-20\",\"2020-05-21\",\"2020-05-22\",\"2020-05-23\",\"2020-05-24\",\"2020-05-25\",\"2020-05-26\",\"2020-05-27\",\"2020-05-28\",\"2020-05-29\",\"2020-05-30\",\"2020-05-31\",\"2020-06-01\",\"2020-06-02\",\"2020-06-03\",\"2020-06-04\",\"2020-06-05\",\"2020-06-06\",\"2020-06-07\",\"2020-06-08\",\"2020-06-09\",\"2020-06-10\",\"2020-06-11\",\"2020-06-12\",\"2020-06-13\",\"2020-06-14\",\"2020-06-15\",\"2020-06-16\",\"2020-06-17\",\"2020-06-18\",\"2020-06-19\",\"2020-06-20\",\"2020-06-21\",\"2020-06-22\",\"2020-06-23\",\"2020-06-24\",\"2020-06-25\",\"2020-06-26\",\"2020-06-27\",\"2020-06-28\",\"2020-06-29\",\"2020-06-30\",\"2020-07-01\",\"2020-07-02\",\"2020-07-03\",\"2020-07-04\",\"2020-07-05\",\"2020-07-06\",\"2020-07-07\",\"2020-07-08\",\"2020-07-09\",\"2020-07-10\",\"2020-07-11\",\"2020-07-12\",\"2020-07-13\",\"2020-07-14\",\"2020-07-15\",\"2020-07-16\",\"2020-07-17\",\"2020-07-18\",\"2020-07-19\",\"2020-07-20\",\"2020-07-21\",\"2020-07-22\",\"2020-07-23\",\"2020-07-24\",\"2020-07-25\",\"2020-07-26\",\"2020-07-27\",\"2020-07-28\",\"2020-07-29\",\"2020-07-30\",\"2020-07-31\",\"2020-08-01\",\"2020-08-02\",\"2020-08-03\",\"2020-08-04\",\"2020-08-05\",\"2020-08-06\",\"2020-08-07\",\"2020-08-08\",\"2020-08-09\",\"2020-08-10\",\"2020-08-11\",\"2020-08-12\",\"2020-08-13\",\"2020-08-14\",\"2020-08-15\",\"2020-08-16\",\"2020-08-17\",\"2020-08-18\",\"2020-08-19\",\"2020-08-20\",\"2020-08-21\",\"2020-08-22\",\"2020-08-23\",\"2020-08-24\",\"2020-08-25\",\"2020-08-26\",\"2020-08-27\",\"2020-08-28\",\"2020-08-29\",\"2020-08-30\",\"2020-08-31\",\"2020-09-01\",\"2020-09-02\",\"2020-09-03\",\"2020-09-04\",\"2020-09-05\",\"2020-09-06\",\"2020-09-07\",\"2020-09-08\",\"2020-09-09\",\"2020-09-10\",\"2020-09-11\",\"2020-09-12\",\"2020-09-13\",\"2020-09-14\",\"2020-09-15\",\"2020-09-16\",\"2020-09-17\",\"2020-09-18\",\"2020-09-19\",\"2020-09-20\",\"2020-09-21\",\"2020-09-22\",\"2020-09-23\",\"2020-09-24\",\"2020-09-25\",\"2020-09-26\",\"2020-09-27\",\"2020-09-28\",\"2020-09-29\",\"2020-09-30\",\"2020-10-01\",\"2020-10-02\",\"2020-10-03\",\"2020-10-04\",\"2020-10-05\",\"2020-10-06\",\"2020-10-07\",\"2020-10-08\",\"2020-10-09\",\"2020-10-10\",\"2020-10-11\",\"2020-10-12\",\"2020-10-13\",\"2020-10-14\",\"2020-10-15\",\"2020-10-16\",\"2020-10-17\",\"2020-10-18\",\"2020-10-19\",\"2020-10-20\",\"2020-10-21\",\"2020-10-22\",\"2020-10-23\",\"2020-10-24\",\"2020-10-25\",\"2020-10-26\",\"2020-10-27\",\"2020-10-28\",\"2020-10-29\",\"2020-10-30\",\"2020-10-31\",\"2020-11-01\",\"2020-11-02\",\"2020-11-03\",\"2020-11-04\",\"2020-11-05\",\"2020-11-06\",\"2020-11-07\",\"2020-11-08\",\"2020-11-09\",\"2020-11-10\",\"2020-11-11\",\"2020-11-12\",\"2020-11-13\",\"2020-11-14\",\"2020-11-15\",\"2020-11-16\",\"2020-11-17\",\"2020-11-18\",\"2020-11-19\",\"2020-11-20\",\"2020-11-21\",\"2020-11-22\",\"2020-11-23\",\"2020-11-24\",\"2020-11-25\",\"2020-11-26\",\"2020-11-27\",\"2020-11-28\",\"2020-11-29\",\"2020-11-30\",\"2020-12-01\",\"2020-12-02\",\"2020-12-03\",\"2020-12-04\",\"2020-12-05\",\"2020-12-06\",\"2020-12-07\",\"2020-12-08\",\"2020-12-09\",\"2020-12-10\",\"2020-12-11\",\"2020-12-12\",\"2020-12-13\",\"2020-12-14\",\"2020-12-15\",\"2020-12-16\",\"2020-12-17\",\"2020-12-18\",\"2020-12-19\",\"2020-12-20\",\"2020-12-21\",\"2020-12-22\",\"2020-12-23\",\"2020-12-24\",\"2020-12-25\",\"2020-12-26\",\"2020-12-27\",\"2020-12-28\",\"2020-12-29\",\"2020-12-30\",\"2020-12-31\",\"2021-01-01\",\"2021-01-02\",\"2021-01-03\",\"2021-01-04\",\"2021-01-05\",\"2021-01-06\",\"2021-01-07\",\"2021-01-08\",\"2021-01-09\",\"2021-01-10\",\"2021-01-11\",\"2021-01-12\",\"2021-01-13\",\"2021-01-14\",\"2021-01-15\",\"2021-01-16\",\"2021-01-17\",\"2021-01-18\",\"2021-01-19\",\"2021-01-20\",\"2021-01-21\",\"2021-01-22\",\"2021-01-23\",\"2021-01-24\",\"2021-01-25\",\"2021-01-26\",\"2021-01-27\",\"2021-01-28\",\"2021-01-29\",\"2021-01-30\",\"2021-01-31\",\"2021-02-01\",\"2021-02-02\",\"2021-02-03\",\"2021-02-04\",\"2021-02-05\",\"2021-02-06\",\"2021-02-07\",\"2021-02-08\",\"2021-02-09\",\"2021-02-10\",\"2021-02-11\",\"2021-02-12\",\"2021-02-13\",\"2021-02-14\",\"2021-02-15\",\"2021-02-16\",\"2021-02-17\",\"2021-02-18\",\"2021-02-19\",\"2021-02-20\",\"2021-02-21\",\"2021-02-22\",\"2021-02-23\",\"2021-02-24\",\"2021-02-25\",\"2021-02-26\",\"2021-02-27\",\"2021-02-28\",\"2021-03-01\",\"2021-03-02\",\"2021-03-03\",\"2021-03-04\",\"2021-03-05\",\"2021-03-06\",\"2021-03-07\",\"2021-03-08\",\"2021-03-09\",\"2021-03-10\",\"2021-03-11\",\"2021-03-12\",\"2021-03-13\",\"2021-03-14\",\"2021-03-15\",\"2021-03-16\",\"2021-03-17\",\"2021-03-18\",\"2021-03-19\",\"2021-03-20\",\"2021-03-21\",\"2021-03-22\",\"2021-03-23\",\"2021-03-24\",\"2021-03-25\",\"2021-03-26\",\"2021-03-27\",\"2021-03-28\",\"2021-03-29\",\"2021-03-30\",\"2021-03-31\",\"2021-04-01\",\"2021-04-02\",\"2021-04-03\",\"2021-04-04\",\"2021-04-05\",\"2021-04-06\",\"2021-04-07\",\"2021-04-08\",\"2021-04-09\",\"2021-04-10\",\"2021-04-11\",\"2021-04-12\",\"2021-04-13\",\"2021-04-14\",\"2021-04-15\",\"2021-04-16\",\"2021-04-17\",\"2021-04-18\",\"2021-04-19\",\"2021-04-20\",\"2021-04-21\",\"2021-04-22\",\"2021-04-23\",\"2021-04-24\",\"2021-04-25\",\"2021-04-26\",\"2021-04-27\",\"2021-04-28\",\"2021-04-29\",\"2021-04-30\",\"2021-05-01\",\"2021-05-02\",\"2021-05-03\",\"2021-05-04\",\"2021-05-05\",\"2021-05-06\",\"2021-05-07\",\"2021-05-08\",\"2021-05-09\",\"2021-05-10\",\"2021-05-11\",\"2021-05-12\",\"2021-05-13\",\"2021-05-14\",\"2021-05-15\",\"2021-05-16\",\"2021-05-17\",\"2021-05-18\",\"2021-05-19\",\"2021-05-20\",\"2021-05-21\",\"2021-05-22\",\"2021-05-23\",\"2021-05-24\",\"2021-05-25\",\"2021-05-26\",\"2021-05-27\",\"2021-05-28\",\"2021-05-29\",\"2021-05-30\",\"2021-05-31\",\"2021-06-01\",\"2021-06-02\",\"2021-06-03\",\"2021-06-04\",\"2021-06-05\",\"2021-06-06\",\"2021-06-07\",\"2021-06-08\",\"2021-06-09\",\"2021-06-10\",\"2021-06-11\",\"2021-06-12\",\"2021-06-13\",\"2021-06-14\",\"2021-06-15\",\"2021-06-16\",\"2021-06-17\",\"2021-06-18\",\"2021-06-19\",\"2021-06-20\",\"2021-06-21\",\"2021-06-22\",\"2021-06-23\",\"2021-06-24\",\"2021-06-25\",\"2021-06-26\",\"2021-06-27\",\"2021-06-28\",\"2021-06-29\",\"2021-06-30\",\"2021-07-01\",\"2021-07-02\",\"2021-07-03\",\"2021-07-04\",\"2021-07-05\",\"2021-07-06\",\"2021-07-07\",\"2021-07-08\",\"2021-07-09\",\"2021-07-10\",\"2021-07-11\",\"2021-07-12\",\"2021-07-13\",\"2021-07-14\",\"2021-07-15\",\"2021-07-16\",\"2021-07-17\",\"2021-07-18\",\"2021-07-19\",\"2021-07-20\",\"2021-07-21\",\"2021-07-22\",\"2021-07-23\",\"2021-07-24\",\"2021-07-25\",\"2021-07-26\",\"2021-07-27\",\"2021-07-28\",\"2021-07-29\",\"2021-07-30\",\"2021-07-31\",\"2021-08-01\",\"2021-08-02\",\"2021-08-03\",\"2021-08-04\",\"2021-08-05\",\"2021-08-06\",\"2021-08-07\",\"2021-08-08\",\"2021-08-09\",\"2021-08-10\",\"2021-08-11\",\"2021-08-12\",\"2021-08-13\",\"2021-08-14\",\"2021-08-15\",\"2021-08-16\",\"2021-08-17\",\"2021-08-18\",\"2021-08-19\",\"2021-08-20\",\"2021-08-21\",\"2021-08-22\",\"2021-08-23\",\"2021-08-24\",\"2021-08-25\",\"2021-08-26\",\"2021-08-27\",\"2021-08-28\",\"2021-08-29\",\"2021-08-30\",\"2021-08-31\",\"2021-09-01\",\"2021-09-02\",\"2021-09-03\",\"2021-09-04\",\"2021-09-05\",\"2021-09-06\",\"2021-09-07\",\"2021-09-08\",\"2021-09-09\",\"2021-09-10\",\"2021-09-11\",\"2021-09-12\",\"2021-09-13\",\"2021-09-14\",\"2021-09-15\",\"2021-09-16\",\"2021-09-17\",\"2021-09-18\",\"2021-09-19\",\"2021-09-20\",\"2021-09-21\",\"2021-09-22\",\"2021-09-23\",\"2021-09-24\",\"2021-09-25\",\"2021-09-26\",\"2021-09-27\",\"2021-09-28\",\"2021-09-29\",\"2021-09-30\",\"2021-10-01\",\"2021-10-02\",\"2021-10-03\",\"2021-10-04\",\"2021-10-05\",\"2021-10-06\",\"2021-10-07\",\"2021-10-08\",\"2021-10-09\",\"2021-10-10\",\"2021-10-11\",\"2021-10-12\",\"2021-10-13\",\"2021-10-14\",\"2021-10-15\",\"2021-10-16\",\"2021-10-17\",\"2021-10-18\",\"2021-10-19\",\"2021-10-20\",\"2021-10-21\",\"2021-10-22\",\"2021-10-23\",\"2021-10-24\",\"2021-10-25\",\"2021-10-26\",\"2021-10-27\",\"2021-10-28\",\"2021-10-29\",\"2021-10-30\",\"2021-10-31\",\"2021-11-01\",\"2021-11-02\",\"2021-11-03\",\"2021-11-04\",\"2021-11-05\",\"2021-11-06\",\"2021-11-07\",\"2021-11-08\",\"2021-11-09\",\"2021-11-10\",\"2021-11-11\",\"2021-11-12\",\"2021-11-13\",\"2021-11-14\",\"2021-11-15\",\"2021-11-16\",\"2021-11-17\",\"2021-11-18\",\"2021-11-19\",\"2021-11-20\",\"2021-11-21\",\"2021-11-22\",\"2021-11-23\",\"2021-11-24\",\"2021-11-25\",\"2021-11-26\",\"2021-11-27\",\"2021-11-28\",\"2021-11-29\",\"2021-11-30\",\"2021-12-01\",\"2021-12-02\",\"2021-12-03\",\"2021-12-04\",\"2021-12-05\",\"2021-12-06\",\"2021-12-07\",\"2021-12-08\",\"2021-12-09\",\"2021-12-10\",\"2021-12-11\",\"2021-12-12\",\"2021-12-13\",\"2021-12-14\",\"2021-12-15\",\"2021-12-16\",\"2021-12-17\",\"2021-12-18\",\"2021-12-19\",\"2021-12-20\",\"2021-12-21\",\"2021-12-22\",\"2021-12-23\",\"2021-12-24\",\"2021-12-25\",\"2021-12-26\",\"2021-12-27\",\"2021-12-28\",\"2021-12-29\",\"2021-12-30\",\"2021-12-31\",\"2022-01-01\",\"2022-01-02\",\"2022-01-03\",\"2022-01-04\",\"2022-01-05\",\"2022-01-06\",\"2022-01-07\",\"2022-01-08\",\"2022-01-09\",\"2022-01-10\",\"2022-01-11\",\"2022-01-12\",\"2022-01-13\",\"2022-01-14\",\"2022-01-15\",\"2022-01-16\",\"2022-01-17\",\"2022-01-18\",\"2022-01-19\",\"2022-01-20\",\"2022-01-21\",\"2022-01-22\",\"2022-01-23\",\"2022-01-24\",\"2022-01-25\",\"2022-01-26\",\"2022-01-27\",\"2022-01-28\",\"2022-01-29\",\"2022-01-30\",\"2022-01-31\",\"2022-02-01\",\"2022-02-02\",\"2022-02-03\",\"2022-02-04\",\"2022-02-05\",\"2022-02-06\",\"2022-02-07\",\"2022-02-08\",\"2022-02-09\",\"2022-02-10\",\"2022-02-11\",\"2022-02-12\",\"2022-02-13\",\"2022-02-14\",\"2022-02-15\",\"2022-02-16\",\"2022-02-17\",\"2022-02-18\",\"2022-02-19\",\"2022-02-20\",\"2022-02-21\",\"2022-02-22\",\"2022-02-23\",\"2022-02-24\",\"2022-02-25\",\"2022-02-26\",\"2022-02-27\",\"2022-02-28\",\"2022-03-01\",\"2022-03-02\",\"2022-03-03\",\"2022-03-04\",\"2022-03-05\",\"2022-03-06\",\"2022-03-07\",\"2022-03-08\",\"2022-03-09\",\"2022-03-10\",\"2022-03-11\",\"2022-03-12\",\"2022-03-13\",\"2022-03-14\",\"2022-03-15\",\"2022-03-16\",\"2022-03-17\",\"2022-03-18\",\"2022-03-19\",\"2022-03-20\",\"2022-03-21\",\"2022-03-22\",\"2022-03-23\",\"2022-03-24\",\"2022-03-25\",\"2022-03-26\",\"2022-03-27\",\"2022-03-28\",\"2022-03-29\",\"2022-03-30\",\"2022-03-31\",\"2022-04-01\",\"2022-04-02\",\"2022-04-03\",\"2022-04-04\",\"2022-04-05\",\"2022-04-06\",\"2022-04-07\",\"2022-04-08\",\"2022-04-09\",\"2022-04-10\",\"2022-04-11\",\"2022-04-12\",\"2022-04-13\",\"2022-04-14\",\"2022-04-15\",\"2022-04-16\",\"2022-04-17\",\"2022-04-18\",\"2022-04-19\",\"2022-04-20\",\"2022-04-21\",\"2022-04-22\",\"2022-04-23\",\"2022-04-24\",\"2022-04-25\",\"2022-04-26\",\"2022-04-27\",\"2022-04-28\",\"2022-04-29\",\"2022-04-30\",\"2022-05-01\",\"2022-05-02\",\"2022-05-03\",\"2022-05-04\",\"2022-05-05\",\"2022-05-06\",\"2022-05-07\",\"2022-05-08\",\"2022-05-09\",\"2022-05-10\",\"2022-05-11\",\"2022-05-12\",\"2022-05-13\",\"2022-05-14\",\"2022-05-15\",\"2022-05-16\",\"2022-05-17\",\"2022-05-18\",\"2022-05-19\",\"2022-05-20\",\"2022-05-21\",\"2022-05-22\",\"2022-05-23\",\"2022-05-24\",\"2022-05-25\",\"2022-05-26\",\"2022-05-27\",\"2022-05-28\",\"2022-05-29\",\"2022-05-30\",\"2022-05-31\",\"2022-06-01\",\"2022-06-02\",\"2022-06-03\",\"2022-06-04\",\"2022-06-05\",\"2022-06-06\",\"2022-06-07\",\"2022-06-08\",\"2022-06-09\",\"2022-06-10\",\"2022-06-11\",\"2022-06-12\",\"2022-06-13\",\"2022-06-14\",\"2022-06-15\",\"2022-06-16\",\"2022-06-17\",\"2022-06-18\",\"2022-06-19\",\"2022-06-20\",\"2022-06-21\",\"2022-06-22\",\"2022-06-23\",\"2022-06-24\",\"2022-06-25\",\"2022-06-26\",\"2022-06-27\",\"2022-06-28\",\"2022-06-29\",\"2022-06-30\",\"2022-07-01\",\"2022-07-02\",\"2022-07-03\",\"2022-07-04\",\"2022-07-05\",\"2022-07-06\",\"2022-07-07\",\"2022-07-08\",\"2022-07-09\",\"2022-07-10\",\"2022-07-11\",\"2022-07-12\",\"2022-07-13\",\"2022-07-14\",\"2022-07-15\",\"2022-07-16\",\"2022-07-17\",\"2022-07-18\",\"2022-07-19\",\"2022-07-20\",\"2022-07-21\",\"2022-07-22\",\"2022-07-23\",\"2022-07-24\",\"2022-07-25\",\"2022-07-26\",\"2022-07-27\",\"2022-07-28\",\"2022-07-29\",\"2022-07-30\",\"2022-07-31\",\"2022-08-01\",\"2022-08-02\",\"2022-08-03\",\"2022-08-04\",\"2022-08-05\",\"2022-08-06\",\"2022-08-07\",\"2022-08-08\",\"2022-08-09\",\"2022-08-10\",\"2022-08-11\",\"2022-08-12\",\"2022-08-13\",\"2022-08-14\",\"2022-08-15\",\"2022-08-16\",\"2022-08-17\",\"2022-08-18\",\"2022-08-19\",\"2022-08-20\",\"2022-08-21\",\"2022-08-22\",\"2022-08-23\",\"2022-08-24\",\"2022-08-25\",\"2022-08-26\",\"2022-08-27\",\"2022-08-28\",\"2022-08-29\",\"2022-08-30\",\"2022-08-31\",\"2022-09-01\",\"2022-09-02\",\"2022-09-03\",\"2022-09-04\",\"2022-09-05\",\"2022-09-06\",\"2022-09-07\",\"2022-09-08\",\"2022-09-09\",\"2022-09-10\",\"2022-09-11\",\"2022-09-12\",\"2022-09-13\",\"2022-09-14\",\"2022-09-15\",\"2022-09-16\",\"2022-09-17\",\"2022-09-18\",\"2022-09-19\",\"2022-09-20\",\"2022-09-21\",\"2022-09-22\",\"2022-09-23\",\"2022-09-24\",\"2022-09-25\",\"2022-09-26\",\"2022-09-27\",\"2022-09-28\",\"2022-09-29\",\"2022-09-30\",\"2022-10-01\",\"2022-10-02\",\"2022-10-03\",\"2022-10-04\",\"2022-10-05\",\"2022-10-06\",\"2022-10-07\",\"2022-10-08\",\"2022-10-09\",\"2022-10-10\",\"2022-10-11\",\"2022-10-12\",\"2022-10-13\",\"2022-10-14\",\"2022-10-15\",\"2022-10-16\",\"2022-10-17\",\"2022-10-18\",\"2022-10-19\",\"2022-10-20\",\"2022-10-21\",\"2022-10-22\",\"2022-10-23\",\"2022-10-24\",\"2022-10-25\",\"2022-10-26\",\"2022-10-27\",\"2022-10-28\",\"2022-10-29\",\"2022-10-30\",\"2022-10-31\",\"2022-11-01\",\"2022-11-02\",\"2022-11-03\",\"2022-11-04\",\"2022-11-05\",\"2022-11-06\",\"2022-11-07\",\"2022-11-08\",\"2022-11-09\",\"2022-11-10\",\"2022-11-11\",\"2022-11-12\",\"2022-11-13\",\"2022-11-14\",\"2022-11-15\",\"2022-11-16\",\"2022-11-17\",\"2022-11-18\",\"2022-11-19\",\"2022-11-20\",\"2022-11-21\",\"2022-11-22\",\"2022-11-23\",\"2022-11-24\",\"2022-11-25\",\"2022-11-26\",\"2022-11-27\",\"2022-11-28\",\"2022-11-29\",\"2022-11-30\",\"2022-12-01\",\"2022-12-02\",\"2022-12-03\",\"2022-12-04\",\"2022-12-05\",\"2022-12-06\",\"2022-12-07\",\"2022-12-08\",\"2022-12-09\",\"2022-12-10\",\"2022-12-11\",\"2022-12-12\",\"2022-12-13\",\"2022-12-14\",\"2022-12-15\",\"2022-12-16\",\"2022-12-17\",\"2022-12-18\",\"2022-12-19\",\"2022-12-20\",\"2022-12-21\",\"2022-12-22\",\"2022-12-23\",\"2022-12-24\",\"2022-12-25\",\"2022-12-26\",\"2022-12-27\",\"2022-12-28\",\"2022-12-29\",\"2022-12-30\",\"2022-12-31\"],\"xaxis\":\"x\",\"y\":[null,null,null,null,null,null,null,null,null,null,null,null,null,null,null,null,null,null,null,null,null,null,null,null,null,null,null,null,null,null,12642.802734375,11809.0166015625,11301.7490234375,11242.3330078125,11815.296875,11873.6982421875,11540.6123046875,11252.451171875,11268.123046875,11282.080078125,11267.24609375,11399.9853515625,11664.513671875,11644.2109375,11202.8125,10827.935546875,10206.6650390625,9614.6279296875,9333.806640625,8873.0673828125,8115.9677734375,7770.52783203125,7615.669921875,7631.22119140625,7989.68505859375,8293.587890625,8353.982421875,8607.2919921875,8712.935546875,9044.572265625,9510.4384765625,9923.251953125,10489.703125,10691.43359375,10996.7607421875,11233.560546875,11104.3876953125,10702.7578125,10465.00390625,10180.5029296875,9941.2841796875,10043.38671875,10283.3349609375,10406.6767578125,10676.845703125,10937.7939453125,11264.9462890625,11518.177734375,11647.220703125,11434.6552734375,10919.3095703125,10270.5595703125,9779.890625,9323.533203125,9289.1298828125,9235.287109375,9216.783203125,8891.9814453125,8626.8505859375,8464.412109375,8239.1298828125,8192.38671875,8340.958984375,8602.2373046875,8812.8359375,8898.0830078125,8981.9423828125,8921.326171875,8814.7333984375,8614.826171875,8339.9111328125,8176.3466796875,7815.017578125,7437.30126953125,7193.9482421875,7025.6396484375,7008.18994140625,7150.36572265625,7114.8837890625,7041.578125,6928.0009765625,6926.048828125,6992.2216796875,6989.3896484375,6989.365234375,7022.787109375,7350.16943359375,7652.556640625,7903.4384765625,8177.29931640625,8283.890625,8254.3037109375,8280.5546875,8340.388671875,8572.427734375,8798.7314453125,8916.1796875,9015.7294921875,9299.8291015625,9296.9697265625,9351.5615234375,9281.283203125,9341.0537109375,9434.4091796875,9450.576171875,9384.275390625,9374.5283203125,9547.02734375,9699.837890625,9853.9443359375,9890.6044921875,9786.33203125,9616.5908203125,9520.494140625,9366.1904296875,9046.041015625,8807.7109375,8732.205078125,8718.4658203125,8664.9697265625,8579.9931640625,8421.865234375,8359.69140625,8339.1416015625,8433.7138671875,8484.955078125,8383.0751953125,8121.1904296875,7918.4326171875,7750.92822265625,7605.19482421875,7512.326171875,7388.92333984375,7410.11865234375,7439.22900390625,7500.7587890625,7566.8154296875,7653.908203125,7745.13232421875,7740.58837890625,7754.10205078125,7776.4033203125,7803.56103515625,7796.07275390625,7746.04443359375,7472.8359375,7252.6513671875,7002.1005859375,6745.2861328125,6665.86376953125,6585.22705078125,6562.1123046875,6555.06591796875,6637.14599609375,6732.421875,6813.828125,6856.94921875,6676.0859375,6514.68017578125,6395.7890625,6355.2314453125,6295.51708984375,6267.89404296875,6176.40576171875,6194.6240234375,6295.345703125,6384.6591796875,6524.3720703125,6610.4072265625,6679.34716796875,6705.677734375,6734.83837890625,6798.17041015625,6838.65380859375,6845.85498046875,6731.68359375,6638.5703125,6536.92919921875,6450.56298828125,6403.98095703125,6412.34716796875,6545.0517578125,6854.76318359375,7151.2255859375,7389.61572265625,7504.5771484375,7567.76220703125,7591.79248046875,7693.37353515625,7991.75732421875,8187.84814453125,8220.0498046875,8279.13671875,8333.6533203125,8363.6611328125,8364.103515625,8213.9873046875,8027.4677734375,7858.50146484375,7709.50244140625,7483.08203125,7309.85498046875,7174.8779296875,7026.962890625,6789.86328125,6674.7724609375,6510.8818359375,6411.9521484375,6383.95166015625,6368.87255859375,6348.31005859375,6357.96923828125,6388.20654296875,6497.77978515625,6542.19287109375,6583.7333984375,6546.04248046875,6562.13232421875,6551.7119140625,6585.2490234375,6667.23095703125,6755.71142578125,6811.9375,6905.26513671875,7031.77197265625,7118.16015625,7154.3994140625,7172.50244140625,7235.09521484375,7321.2783203125,7376.93017578125,7436.974609375,7278.81298828125,7050.12109375,6827.1953125,6604.46533203125,6465.1884765625,6408.04833984375,6388.50634765625,6402.306640625,6469.2080078125,6532.0595703125,6590.07177734375,6628.5029296875,6574.84326171875,6535.70263671875,6525.75,6555.7978515625,6667.814453125,6761.64990234375,6820.9140625,6815.6875,6752.75732421875,6694.6357421875,6718.7978515625,6742.31396484375,6748.87939453125,6758.19189453125,6761.12744140625,6735.982421875,6705.28955078125,6706.1962890625,6727.8583984375,6737.5322265625,6747.97216796875,6772.83984375,6789.87109375,6792.43896484375,6677.38720703125,6575.1875,6513.5830078125,6482.46728515625,6592.08349609375,6714.15625,6803.29541015625,6822.9345703125,6790.201171875,6767.9208984375,6753.46240234375,6741.83056640625,6725.6962890625,6716.265625,6700.1318359375,6690.0009765625,6674.70458984375,6657.89111328125,6602.400390625,6547.9326171875,6520.8505859375,6520.55859375,6535.896484375,6538.5859375,6567.037109375,6590.00146484375,6620.40869140625,6661.9794921875,6665.7939453125,6640.12109375,6616.205078125,6603.486328125,6598.0654296875,6597.61328125,6440.95947265625,6235.3984375,6043.0693359375,5899.2919921875,5819.8837890625,5567.1279296875,5238.81298828125,5007.580078125,4788.7001953125,4649.83642578125,4446.35009765625,4318.14501953125,4187.8232421875,4093.998779296875,4132.951171875,4212.6162109375,4222.2958984375,4249.49853515625,4268.4609375,4209.95751953125,4159.94970703125,4079.111328125,3944.09228515625,3798.882568359375,3686.189208984375,3642.492431640625,3603.22705078125,3563.00830078125,3548.479736328125,3511.44580078125,3458.27197265625,3409.998779296875,3378.8876953125,3428.302978515625,3526.91845703125,3621.7998046875,3788.848388671875,3889.384521484375,3973.837890625,4028.688720703125,4081.067138671875,4054.673583984375,4017.55322265625,3933.170166015625,3919.4970703125,3894.304931640625,3897.563232421875,3884.26611328125,3892.1845703125,3919.621337890625,3924.35693359375,3927.428955078125,3923.970458984375,3972.3232421875,4022.1767578125,4056.291259765625,4080.591796875,4002.456298828125,3915.100341796875,3839.739990234375,3759.139404296875,3731.90380859375,3709.443115234375,3703.737060546875,3710.823974609375,3715.546630859375,3736.12353515625,3726.491455078125,3707.26611328125,3700.231201171875,3694.21337890625,3694.16845703125,3695.0849609375,3696.263671875,3693.904052734375,3662.818603515625,3624.544189453125,3604.1337890625,3588.062255859375,3584.0009765625,3595.072509765625,3597.266357421875,3597.768310546875,3599.7900390625,3585.918212890625,3568.763916015625,3617.466064453125,3676.896728515625,3730.214599609375,3757.760009765625,3771.126708984375,3771.397216796875,3762.653076171875,3755.691650390625,3754.4091796875,3766.8974609375,3836.85205078125,3910.619873046875,3984.074462890625,4032.51513671875,4068.0068359375,4130.72021484375,4092.479736328125,4053.189697265625,4016.943359375,3991.628173828125,3974.044921875,3965.003173828125,3959.829345703125,3954.05810546875,3926.833984375,3934.359375,3951.55908203125,3970.916259765625,3984.48193359375,4012.432861328125,4031.833251953125,4033.12109375,4031.257568359375,4024.5166015625,4020.45556640625,4029.4541015625,4060.617431640625,4085.157470703125,4103.93603515625,4123.60205078125,4145.8740234375,4147.56787109375,4144.083984375,4144.3798828125,4141.93115234375,4124.8203125,4110.3056640625,4122.54443359375,4137.3037109375,4168.95458984375,4199.28857421875,4221.43115234375,4246.287109375,4450.4697265625,4681.96240234375,4860.48828125,5008.66259765625,5120.087890625,5224.78369140625,5316.4482421875,5354.09619140625,5406.8427734375,5366.85791015625,5316.22314453125,5272.123046875,5263.91259765625,5238.46044921875,5256.09814453125,5289.91015625,5335.85888671875,5373.82861328125,5408.810546875,5423.48779296875,5456.0654296875,5522.72412109375,5559.5966796875,5522.99755859375,5499.94921875,5480.13818359375,5469.37841796875,5444.4560546875,5445.23388671875,5470.775390625,5528.2421875,5659.1943359375,5793.64111328125,5878.810546875,5918.25927734375,5960.017578125,6029.31787109375,6150.0439453125,6299.51904296875,6620.521484375,6871.39990234375,7277.7568359375,7660.7197265625,7995.99169921875,8125.03369140625,7996.087890625,7795.07421875,7898.05712890625,7982.31005859375,8029.2880859375,7965.75390625,7960.09765625,8004.55517578125,8068.70654296875,8306.2080078125,8565.76953125,8744.056640625,8824.849609375,8731.3994140625,8708.0751953125,8700.0595703125,8755.650390625,8612.595703125,8324.7548828125,8112.1650390625,7982.9658203125,7977.47314453125,7981.95458984375,7908.8701171875,7952.80712890625,7984.05029296875,8083.04736328125,8200.4580078125,8426.9140625,8666.052734375,8884.6640625,9147.853515625,9264.6650390625,9362.013671875,9504.265625,9822.931640625,10277.275390625,10685.333984375,11004.41796875,11460.8037109375,12246.962890625,12221.9140625,12396.798828125,12355.814453125,11890.2802734375,11393.5361328125,11121.966796875,11383.681640625,11397.6884765625,11303.505859375,11321.01953125,11412.4736328125,11796.5478515625,12234.4169921875,12383.2216796875,12134.16015625,12024.814453125,11822.396484375,11234.9638671875,10999.83203125,10411.6884765625,10031.9482421875,10160.7646484375,10330.8876953125,10556.970703125,10678.708984375,10654.1875,10436.4150390625,10206.0908203125,10082.9921875,10004.099609375,9843.806640625,9741.166015625,9673.98046875,9662.548828125,9844.2470703125,10119.94921875,10388.1220703125,10673.443359375,10910.1083984375,11372.7060546875,11612.4658203125,11895.939453125,12095.8994140625,12160.0341796875,11955.931640625,11838.2783203125,11712.923828125,11442.8974609375,10927.166015625,10615.125,10462.7177734375,10363.3603515625,10350.5078125,10584.853515625,10753.263671875,10642.123046875,10489.08203125,10472.64453125,10401.740234375,10346.1787109375,10391.8515625,10381.990234375,10203.4794921875,9966.0849609375,9818.2236328125,9739.017578125,9751.6708984375,9997.1953125,10321.0419921875,10551.1259765625,10686.7705078125,10660.8720703125,10654.65625,10622.2109375,10563.5263671875,10443.55859375,10366.94921875,10412.775390625,10448.3193359375,10470.91796875,10472.8447265625,10452.041015625,10410.462890625,10366.3515625,10365.7900390625,10349.4609375,10272.654296875,10221.353515625,10078.931640625,9547.419921875,9074.0166015625,8635.9951171875,8384.6259765625,8268.71484375,8181.2314453125,8217.4716796875,8282.2998046875,8364.2412109375,8386.3720703125,8361.0185546875,8327.3974609375,8213.626953125,8220.1748046875,8247.1494140625,8398.8134765625,8537.7607421875,8538.0048828125,8515.33203125,8482.134765625,8477.75390625,8420.29296875,8312.7626953125,8248.900390625,8175.2705078125,8122.7890625,8180.107421875,8242.2783203125,8234.009765625,8035.49267578125,7829.18310546875,8071.51708984375,8544.251953125,9044.62890625,9302.953125,9485.5703125,9501.986328125,9459.01171875,9435.474609375,9436.9755859375,9409.5888671875,9447.8681640625,9460.927734375,9474.525390625,9442.58984375,9261.9404296875,9111.923828125,9089.5810546875,9005.3203125,8964.86328125,8934.0166015625,8874.4873046875,8770.4951171875,8694.5078125,8652.7744140625,8531.390625,8411.6533203125,8317.1728515625,8107.8310546875,7819.97216796875,7612.24169921875,7359.5927734375,7238.525390625,7204.62353515625,7318.7041015625,7417.2529296875,7588.1455078125,7669.71142578125,7658.63525390625,7594.33837890625,7531.16455078125,7453.9501953125,7454.3388671875,7517.60693359375,7568.77880859375,7610.16015625,7584.1875,7512.1826171875,7442.94970703125,7389.75634765625,7374.796875,7315.42529296875,7279.36279296875,7190.8173828125,7033.26806640625,7101.31591796875,7172.12939453125,7239.66064453125,7271.7568359375,7398.185546875,7457.142578125,7462.8173828125,7435.03173828125,7403.26416015625,7394.03125,7411.376953125,7453.07421875,7445.98876953125,7412.5869140625,7382.60595703125,7289.55517578125,7322.328125,7381.75390625,7435.13916015625,7595.55078125,7859.078125,8048.30126953125,8088.865234375,8193.6181640625,8224.0078125,8275.59765625,8290.28125,8511.0771484375,8722.48046875,8837.712890625,8954.4091796875,9033.361328125,9006.232421875,8937.5,8905.3427734375,8871.91796875,8757.3896484375,8668.201171875,8579.419921875,8607.640625,8753.4716796875,9041.400390625,9258.3798828125,9463.9970703125,9548.5673828125,9584.0791015625,9573.1953125,9536.3544921875,9468.7255859375,9550.3876953125,9695.5693359375,9827.41796875,9943.3974609375,10105.5751953125,10124.31640625,10227.73046875,10349.8798828125,10403.638671875,10461.681640625,10347.150390625,10230.453125,10073.044921875,10112.58984375,9989.361328125,9872.2099609375,9820.259765625,9792.6279296875,9880.02734375,9874.05859375,9735.3212890625,9428.67578125,9189.732421875,8995.7333984375,8819.3779296875,8708.5556640625,8778.521484375,8825.787109375,8856.7802734375,8976.8935546875,9109.4873046875,9125.7509765625,8827.701171875,8506.8251953125,8260.1767578125,8118.4130859375,7057.40185546875,6336.94140625,5779.0078125,5489.55126953125,5267.20068359375,5222.65380859375,5274.5126953125,5572.66259765625,5882.73681640625,6114.1953125,6154.95849609375,6316.59033203125,6544.7041015625,6708.1240234375,6823.3681640625,6777.18408203125,6657.94677734375,6441.5126953125,6404.6396484375,6430.23876953125,6537.4404296875,6684.9296875,6787.642578125,6887.134765625,6932.19921875,7115.1669921875,7243.431640625,7370.42138671875,7435.2666015625,7333.54150390625,7216.99658203125,7133.4013671875,7060.53857421875,7020.69287109375,6927.0078125,6991.8037109375,7059.51171875,7179.48974609375,7242.224609375,7183.412109375,7111.50146484375,7139.89599609375,7295.11181640625,7449.11572265625,7571.17138671875,7696.57861328125,7810.27490234375,7875.0302734375,8229.822265625,8507.59375,8751.1123046875,8956.400390625,9060.857421875,9095.2314453125,9143.3798828125,9214.595703125,9544.18359375,9775.9873046875,9826.923828125,9540.5791015625,9200.462890625,9025.8603515625,9107.45703125,9391.890625,9488.193359375,9535.998046875,9655.111328125,9771.3681640625,9864.517578125,9831.9921875,9627.2607421875,9474.7333984375,9380.697265625,9176.7724609375,9071.4208984375,9002.9951171875,9088.9375,9313.9609375,9460.2568359375,9636.5888671875,9681.22265625,9931.9296875,9920.3134765625,9898.5390625,9915.7685546875,9876.755859375,9850.3173828125,9860.3759765625,9887.3740234375,9906.9716796875,9957.3076171875,9793.529296875,9693.1787109375,9638.7080078125,9568.865234375,9547.4775390625,9579.4482421875,9596.275390625,9579.935546875,9535.72265625,9514.765625,9484.162109375,9592.9091796875,9681.568359375,9629.6142578125,9543.6513671875,9444.0224609375,9320.4541015625,9263.9052734375,9266.990234375,9267.990234375,9302.0869140625,9286.6123046875,9255.8779296875,9256.3701171875,9242.3544921875,9321.298828125,9370.0732421875,9457.6650390625,9459.3203125,9458.0,9435.861328125,9437.3291015625,9422.955078125,9413.4560546875,9388.248046875,9345.712890625,9318.798828125,9309.291015625,9320.5341796875,9318.2373046875,9390.693359375,9502.416015625,9619.27734375,9679.7666015625,9761.701171875,9899.1640625,10380.0859375,10752.6689453125,11051.78515625,11232.1787109375,11401.984375,11670.8330078125,11607.8671875,11537.3369140625,11467.2783203125,11614.2548828125,11766.07421875,11810.4130859375,11876.2783203125,11892.8837890625,11968.822265625,11846.7998046875,11784.599609375,11830.990234375,11878.833984375,11946.8369140625,12018.53125,12203.814453125,12226.7509765625,12136.55859375,12084.4755859375,11935.02734375,11862.666015625,11824.076171875,11844.591796875,11715.2578125,11651.9794921875,11575.201171875,11595.443359375,11609.4228515625,11710.4677734375,11775.755859375,11913.3154296875,11824.537109375,11261.9501953125,10891.22265625,10576.18359375,10413.5556640625,10385.6865234375,10319.2880859375,10307.2294921875,10357.732421875,10429.265625,10505.203125,10521.951171875,10638.86328125,10780.0419921875,10941.4912109375,11049.607421875,11106.1943359375,11181.1416015625,11175.0126953125,10971.12109375,10825.09765625,10632.9970703125,10667.8505859375,10726.53515625,10792.6806640625,10858.3994140625,10876.8193359375,10930.0966796875,10950.587890625,10901.0029296875,10832.8662109375,10770.533203125,10772.939453125,10833.962890625,10822.2099609375,10822.7861328125,10916.869140625,11046.4990234375,11230.0703125,11393.5751953125,11555.7509765625,11623.1005859375,11642.6552734375,11671.4794921875,11621.373046875,11582.435546875,11607.5771484375,11727.96484375,11888.24609375,12325.7001953125,12749.3876953125,13013.044921875,13218.7529296875,13300.8916015625,13328.2490234375,13548.2421875,13583.2275390625,13638.294921875,13711.6513671875,13849.18359375,13937.373046875,13899.8330078125,14032.9951171875,14196.396484375,14883.8642578125,15427.2744140625,15440.55859375,15603.2607421875,15656.369140625,15647.8037109375,15781.1396484375,16137.3095703125,16412.400390625,16463.017578125,16398.9375,16649.46484375,17259.40234375,17752.681640625,18046.63671875,18556.4296875,18909.79296875,18955.76171875,18894.951171875,19181.908203125,19195.580078125,18442.85546875,17864.21875,17794.09765625,18047.939453125,18957.51953125,19196.21484375,19443.93359375,19678.232421875,19446.1171875,19456.86328125,19582.77734375,19581.177734375,19167.01171875,18958.939453125,18728.05078125,18493.248046875,18715.43359375,19093.65234375,19400.10546875,19646.328125,20674.083984375,22027.234375,23028.9296875,23883.943359375,24147.861328125,23808.087890625,24052.216796875,23933.40234375,24067.267578125,24668.095703125,25969.240234375,26653.9921875,27365.478515625,27875.904296875,28901.09765625,29476.578125,29919.494140625,31611.919921875,32992.63671875,33065.6953125,34112.9453125,36175.37109375,38640.83203125,40410.02734375,40871.69140625,39668.578125,37208.828125,35230.67578125,36676.62890625,38705.3828125,38032.984375,37148.171875,36648.8984375,37001.62890625,36706.546875,36292.0546875,33064.1640625,32984.04296875,32569.013671875,32576.583984375,32663.787109375,32890.734375,31695.84765625,32983.90625,34283.484375,34885.27734375,34339.61328125,34259.703125,35449.3125,37359.59765625,37798.30078125,38740.23046875,39686.390625,39751.05078125,43578.1328125,45965.953125,45856.3828125,47759.6796875,47988.52734375,47852.484375,48785.77734375,48575.5859375,49375.3515625,51878.9453125,52206.84765625,55395.6640625,56258.078125,57547.84375,55101.8359375,50158.78515625,49513.7109375,47393.17578125,46380.51171875,46172.79296875,45544.55078125,48954.91796875,49232.62890625,50713.0546875,49551.34765625,49357.34765625,49340.15625,50923.171875,52470.33984375,54800.03515625,56117.55859375,57817.81640625,57656.01171875,60507.94140625,59366.890625,56187.34765625,56483.1953125,58272.40625,57719.53515625,57939.35546875,58052.484375,57452.9765625,54590.98046875,54210.9140625,52523.65234375,51423.12109375,54368.30078125,55867.35546875,56197.0859375,57687.109375,58830.078125,58953.328125,58820.609375,58871.34375,57240.25,57826.00390625,58758.5859375,58044.33203125,56187.01171875,57584.67578125,58003.54296875,59480.81640625,59975.44140625,59889.4453125,62879.96484375,62897.34375,62922.27734375,61253.60546875,59740.44140625,56172.52734375,55170.21875,55844.03515625,53975.13671875,51962.4453125,51167.46875,50242.546875,49359.11328125,53262.19140625,55198.2578125,55491.59765625,54360.44140625,57249.9765625,57972.60546875,57020.796875,57150.375,53859.15234375,56574.8828125,56433.9453125,57188.85546875,58632.41015625,58414.23828125,56284.1796875,56476.71484375,50687.76171875,49479.38671875,49507.01953125,47257.8359375,46584.30859375,44270.68359375,43198.90625,38296.22265625,39716.375,38053.6484375,37726.16796875,35755.9140625,37993.078125,38738.23046875,39654.0,39497.1875,37372.09765625,35713.78125,35772.0703125,37003.72265625,37243.23828125,37919.67578125,39340.43359375,38291.359375,36841.0625,36399.16796875,34767.64453125,33974.17578125,36388.46484375,37161.07421875,37871.85546875,36946.8984375,38764.6796875,40578.328125,41038.43359375,39867.6015625,39092.77734375,37208.21484375,36200.51171875,35948.23828125,33274.5859375,32742.705078125,33457.03515625,34576.21875,33150.49609375,32874.25390625,34369.04296875,35014.78125,36162.32421875,36092.6953125,34951.4140625,34539.27734375,34947.171875,35576.07421875,34838.37109375,34791.0390625,34571.0703125,33841.20703125,34115.47265625,34105.546875,34594.60546875,34093.1640625,33594.72265625,33431.296875,32788.8046875,32180.046875,32015.578125,32158.76171875,31686.06640625,30804.380859375,31847.498046875,32565.298828125,33731.69140625,34671.95703125,35753.7421875,37306.71484375,39255.8125,40428.28125,40851.14453125,42306.8515625,42385.35546875,41182.98046875,40139.76953125,39078.7890625,39753.9375,40924.44921875,42821.53125,44764.59765625,44888.99609375,46536.44140625,46573.140625,46384.25390625,45412.1171875,47529.15234375,47737.921875,47665.46875,46787.28125,45556.0390625,45166.99609375,46643.7265625,49134.88671875,49575.73828125,49919.0625,50113.34765625,48692.04296875,49187.671875,47706.09765625,48970.3984375,49280.96484375,49280.45703125,47889.2578125,47541.34375,48789.71484375,49557.703125,50363.765625,50501.18359375,51900.0859375,52960.09375,48644.90234375,46673.85546875,46418.24609375,45283.05078125,45318.02734375,46117.53125,45640.48046875,47159.046875,48446.25,48522.42578125,48119.15625,48671.08984375,48004.79296875,44526.98046875,41686.39453125,42968.75,44603.05078125,43754.2421875,43359.95703125,43609.14453125,42976.1484375,41930.2421875,41936.9296875,43671.83203125,47324.90625,48346.765625,48940.53515625,49746.85546875,51553.984375,54218.5234375,54336.91796875,54350.62109375,55022.875,54907.7890625,57062.40234375,56412.24609375,57278.6484375,57430.80859375,60935.8828125,61048.2890625,61461.20703125,61812.45703125,63667.97265625,65383.00390625,62376.09765625,60417.62109375,60580.70703125,60345.01953125,62330.26953125,60414.625,58421.21875,59935.96875,61731.1328125,61773.953125,61244.00390625,60735.81640625,62565.1171875,62613.61328125,61288.921875,60604.34375,60941.00390625,62586.7890625,66495.4453125,66663.4921875,64721.43359375,64127.43359375,63408.9140625,63555.12109375,64635.45703125,63202.31640625,59887.82421875,59656.01953125,56745.80859375,57425.6796875,59159.97265625,58710.34375,56621.19140625,57291.0234375,57120.3984375,58648.078125,54585.66796875,54531.4921875,56702.21484375,57694.34765625,57232.109375,57254.33984375,56623.4765625,54064.640625,49808.4296875,49110.8046875,49999.16015625,50581.40234375,50779.85546875,48538.85546875,47605.28515625,49176.42578125,50236.88671875,47931.79296875,48493.39453125,49094.40234375,48328.921875,46922.95703125,47049.85546875,47027.34375,47244.78515625,48860.51171875,49153.484375,50912.2890625,51384.47265625,51092.703125,51198.6953125,null,null,null,null,null,null,null,null,null,null,null,null,null,null,null,null,null,null,null,null,null,null,null,null,null,null,null,null,null,null,null,null,null,null,null,null,null,null,null,null,null,null,null,null,null,null,null,null,null,null,null,null,null,null,null,null,null,null,null,null,null,null,null,null,null,null,null,null,null,null,null,null,null,null,null,null,null,null,null,null,null,null,null,null,null,null,null,null,null,null,null,null,null,null,null,null,null,null,null,null,null,null,null,null,null,null,null,null,null,null,null,null,null,null,null,null,null,null,null,null,null,null,null,null,null,null,null,null,null,null,null,null,null,null,null,null,null,null,null,null,null,null,null,null,null,null,null,null,null,null,null,null,null,null,null,null,null,null,null,null,null,null,null,null,null,null,null,null,null,null,null,null,null,null,null,null,null,null,null,null,null,null,null,null,null,null,null,null,null,null,null,null,null,null,null,null,null,null,null,null,null,null,null,null,null,null,null,null,null,null,null,null,null,null,null,null,null,null,null,null,null,null,null,null,null,null,null,null,null,null,null,null,null,null,null,null,null,null,null,null,null,null,null,null,null,null,null,null,null,null,null,null,null,null,null,null,null,null,null,null,null,null,null,null,null,null,null,null,null,null,null,null,null,null,null,null,null,null,null,null,null,null,null,null,null,null,null,null,null,null,null,null,null,null,null,null,null,null,null,null,null,null,null,null,null,null,null,null,null,null,null,null,null,null,null,null,null,null,null,null,null,null,null,null,null,null,null,null,null,null,null,null,null,null,null,null,null,null,null,null,null,null,null,null,null,null,null,null,null,null,null,null,null,null,null,null,null,null,null,null,null,null,null,null,null,null,null,null,null],\"yaxis\":\"y\",\"type\":\"scattergl\"},{\"hovertemplate\":\"variable=test_predicted_close<br>Date=%{x}<br>Bitcoin price=%{y}<extra></extra>\",\"legendgroup\":\"test_predicted_close\",\"line\":{\"color\":\"#00cc96\",\"dash\":\"solid\"},\"marker\":{\"symbol\":\"circle\"},\"mode\":\"lines\",\"name\":\"Test predicted close price\",\"showlegend\":true,\"x\":[\"2017-12-18\",\"2017-12-19\",\"2017-12-20\",\"2017-12-21\",\"2017-12-22\",\"2017-12-23\",\"2017-12-24\",\"2017-12-25\",\"2017-12-26\",\"2017-12-27\",\"2017-12-28\",\"2017-12-29\",\"2017-12-30\",\"2017-12-31\",\"2018-01-01\",\"2018-01-02\",\"2018-01-03\",\"2018-01-04\",\"2018-01-05\",\"2018-01-06\",\"2018-01-07\",\"2018-01-08\",\"2018-01-09\",\"2018-01-10\",\"2018-01-11\",\"2018-01-12\",\"2018-01-13\",\"2018-01-14\",\"2018-01-15\",\"2018-01-16\",\"2018-01-17\",\"2018-01-18\",\"2018-01-19\",\"2018-01-20\",\"2018-01-21\",\"2018-01-22\",\"2018-01-23\",\"2018-01-24\",\"2018-01-25\",\"2018-01-26\",\"2018-01-27\",\"2018-01-28\",\"2018-01-29\",\"2018-01-30\",\"2018-01-31\",\"2018-02-01\",\"2018-02-02\",\"2018-02-03\",\"2018-02-04\",\"2018-02-05\",\"2018-02-06\",\"2018-02-07\",\"2018-02-08\",\"2018-02-09\",\"2018-02-10\",\"2018-02-11\",\"2018-02-12\",\"2018-02-13\",\"2018-02-14\",\"2018-02-15\",\"2018-02-16\",\"2018-02-17\",\"2018-02-18\",\"2018-02-19\",\"2018-02-20\",\"2018-02-21\",\"2018-02-22\",\"2018-02-23\",\"2018-02-24\",\"2018-02-25\",\"2018-02-26\",\"2018-02-27\",\"2018-02-28\",\"2018-03-01\",\"2018-03-02\",\"2018-03-03\",\"2018-03-04\",\"2018-03-05\",\"2018-03-06\",\"2018-03-07\",\"2018-03-08\",\"2018-03-09\",\"2018-03-10\",\"2018-03-11\",\"2018-03-12\",\"2018-03-13\",\"2018-03-14\",\"2018-03-15\",\"2018-03-16\",\"2018-03-17\",\"2018-03-18\",\"2018-03-19\",\"2018-03-20\",\"2018-03-21\",\"2018-03-22\",\"2018-03-23\",\"2018-03-24\",\"2018-03-25\",\"2018-03-26\",\"2018-03-27\",\"2018-03-28\",\"2018-03-29\",\"2018-03-30\",\"2018-03-31\",\"2018-04-01\",\"2018-04-02\",\"2018-04-03\",\"2018-04-04\",\"2018-04-05\",\"2018-04-06\",\"2018-04-07\",\"2018-04-08\",\"2018-04-09\",\"2018-04-10\",\"2018-04-11\",\"2018-04-12\",\"2018-04-13\",\"2018-04-14\",\"2018-04-15\",\"2018-04-16\",\"2018-04-17\",\"2018-04-18\",\"2018-04-19\",\"2018-04-20\",\"2018-04-21\",\"2018-04-22\",\"2018-04-23\",\"2018-04-24\",\"2018-04-25\",\"2018-04-26\",\"2018-04-27\",\"2018-04-28\",\"2018-04-29\",\"2018-04-30\",\"2018-05-01\",\"2018-05-02\",\"2018-05-03\",\"2018-05-04\",\"2018-05-05\",\"2018-05-06\",\"2018-05-07\",\"2018-05-08\",\"2018-05-09\",\"2018-05-10\",\"2018-05-11\",\"2018-05-12\",\"2018-05-13\",\"2018-05-14\",\"2018-05-15\",\"2018-05-16\",\"2018-05-17\",\"2018-05-18\",\"2018-05-19\",\"2018-05-20\",\"2018-05-21\",\"2018-05-22\",\"2018-05-23\",\"2018-05-24\",\"2018-05-25\",\"2018-05-26\",\"2018-05-27\",\"2018-05-28\",\"2018-05-29\",\"2018-05-30\",\"2018-05-31\",\"2018-06-01\",\"2018-06-02\",\"2018-06-03\",\"2018-06-04\",\"2018-06-05\",\"2018-06-06\",\"2018-06-07\",\"2018-06-08\",\"2018-06-09\",\"2018-06-10\",\"2018-06-11\",\"2018-06-12\",\"2018-06-13\",\"2018-06-14\",\"2018-06-15\",\"2018-06-16\",\"2018-06-17\",\"2018-06-18\",\"2018-06-19\",\"2018-06-20\",\"2018-06-21\",\"2018-06-22\",\"2018-06-23\",\"2018-06-24\",\"2018-06-25\",\"2018-06-26\",\"2018-06-27\",\"2018-06-28\",\"2018-06-29\",\"2018-06-30\",\"2018-07-01\",\"2018-07-02\",\"2018-07-03\",\"2018-07-04\",\"2018-07-05\",\"2018-07-06\",\"2018-07-07\",\"2018-07-08\",\"2018-07-09\",\"2018-07-10\",\"2018-07-11\",\"2018-07-12\",\"2018-07-13\",\"2018-07-14\",\"2018-07-15\",\"2018-07-16\",\"2018-07-17\",\"2018-07-18\",\"2018-07-19\",\"2018-07-20\",\"2018-07-21\",\"2018-07-22\",\"2018-07-23\",\"2018-07-24\",\"2018-07-25\",\"2018-07-26\",\"2018-07-27\",\"2018-07-28\",\"2018-07-29\",\"2018-07-30\",\"2018-07-31\",\"2018-08-01\",\"2018-08-02\",\"2018-08-03\",\"2018-08-04\",\"2018-08-05\",\"2018-08-06\",\"2018-08-07\",\"2018-08-08\",\"2018-08-09\",\"2018-08-10\",\"2018-08-11\",\"2018-08-12\",\"2018-08-13\",\"2018-08-14\",\"2018-08-15\",\"2018-08-16\",\"2018-08-17\",\"2018-08-18\",\"2018-08-19\",\"2018-08-20\",\"2018-08-21\",\"2018-08-22\",\"2018-08-23\",\"2018-08-24\",\"2018-08-25\",\"2018-08-26\",\"2018-08-27\",\"2018-08-28\",\"2018-08-29\",\"2018-08-30\",\"2018-08-31\",\"2018-09-01\",\"2018-09-02\",\"2018-09-03\",\"2018-09-04\",\"2018-09-05\",\"2018-09-06\",\"2018-09-07\",\"2018-09-08\",\"2018-09-09\",\"2018-09-10\",\"2018-09-11\",\"2018-09-12\",\"2018-09-13\",\"2018-09-14\",\"2018-09-15\",\"2018-09-16\",\"2018-09-17\",\"2018-09-18\",\"2018-09-19\",\"2018-09-20\",\"2018-09-21\",\"2018-09-22\",\"2018-09-23\",\"2018-09-24\",\"2018-09-25\",\"2018-09-26\",\"2018-09-27\",\"2018-09-28\",\"2018-09-29\",\"2018-09-30\",\"2018-10-01\",\"2018-10-02\",\"2018-10-03\",\"2018-10-04\",\"2018-10-05\",\"2018-10-06\",\"2018-10-07\",\"2018-10-08\",\"2018-10-09\",\"2018-10-10\",\"2018-10-11\",\"2018-10-12\",\"2018-10-13\",\"2018-10-14\",\"2018-10-15\",\"2018-10-16\",\"2018-10-17\",\"2018-10-18\",\"2018-10-19\",\"2018-10-20\",\"2018-10-21\",\"2018-10-22\",\"2018-10-23\",\"2018-10-24\",\"2018-10-25\",\"2018-10-26\",\"2018-10-27\",\"2018-10-28\",\"2018-10-29\",\"2018-10-30\",\"2018-10-31\",\"2018-11-01\",\"2018-11-02\",\"2018-11-03\",\"2018-11-04\",\"2018-11-05\",\"2018-11-06\",\"2018-11-07\",\"2018-11-08\",\"2018-11-09\",\"2018-11-10\",\"2018-11-11\",\"2018-11-12\",\"2018-11-13\",\"2018-11-14\",\"2018-11-15\",\"2018-11-16\",\"2018-11-17\",\"2018-11-18\",\"2018-11-19\",\"2018-11-20\",\"2018-11-21\",\"2018-11-22\",\"2018-11-23\",\"2018-11-24\",\"2018-11-25\",\"2018-11-26\",\"2018-11-27\",\"2018-11-28\",\"2018-11-29\",\"2018-11-30\",\"2018-12-01\",\"2018-12-02\",\"2018-12-03\",\"2018-12-04\",\"2018-12-05\",\"2018-12-06\",\"2018-12-07\",\"2018-12-08\",\"2018-12-09\",\"2018-12-10\",\"2018-12-11\",\"2018-12-12\",\"2018-12-13\",\"2018-12-14\",\"2018-12-15\",\"2018-12-16\",\"2018-12-17\",\"2018-12-18\",\"2018-12-19\",\"2018-12-20\",\"2018-12-21\",\"2018-12-22\",\"2018-12-23\",\"2018-12-24\",\"2018-12-25\",\"2018-12-26\",\"2018-12-27\",\"2018-12-28\",\"2018-12-29\",\"2018-12-30\",\"2018-12-31\",\"2019-01-01\",\"2019-01-02\",\"2019-01-03\",\"2019-01-04\",\"2019-01-05\",\"2019-01-06\",\"2019-01-07\",\"2019-01-08\",\"2019-01-09\",\"2019-01-10\",\"2019-01-11\",\"2019-01-12\",\"2019-01-13\",\"2019-01-14\",\"2019-01-15\",\"2019-01-16\",\"2019-01-17\",\"2019-01-18\",\"2019-01-19\",\"2019-01-20\",\"2019-01-21\",\"2019-01-22\",\"2019-01-23\",\"2019-01-24\",\"2019-01-25\",\"2019-01-26\",\"2019-01-27\",\"2019-01-28\",\"2019-01-29\",\"2019-01-30\",\"2019-01-31\",\"2019-02-01\",\"2019-02-02\",\"2019-02-03\",\"2019-02-04\",\"2019-02-05\",\"2019-02-06\",\"2019-02-07\",\"2019-02-08\",\"2019-02-09\",\"2019-02-10\",\"2019-02-11\",\"2019-02-12\",\"2019-02-13\",\"2019-02-14\",\"2019-02-15\",\"2019-02-16\",\"2019-02-17\",\"2019-02-18\",\"2019-02-19\",\"2019-02-20\",\"2019-02-21\",\"2019-02-22\",\"2019-02-23\",\"2019-02-24\",\"2019-02-25\",\"2019-02-26\",\"2019-02-27\",\"2019-02-28\",\"2019-03-01\",\"2019-03-02\",\"2019-03-03\",\"2019-03-04\",\"2019-03-05\",\"2019-03-06\",\"2019-03-07\",\"2019-03-08\",\"2019-03-09\",\"2019-03-10\",\"2019-03-11\",\"2019-03-12\",\"2019-03-13\",\"2019-03-14\",\"2019-03-15\",\"2019-03-16\",\"2019-03-17\",\"2019-03-18\",\"2019-03-19\",\"2019-03-20\",\"2019-03-21\",\"2019-03-22\",\"2019-03-23\",\"2019-03-24\",\"2019-03-25\",\"2019-03-26\",\"2019-03-27\",\"2019-03-28\",\"2019-03-29\",\"2019-03-30\",\"2019-03-31\",\"2019-04-01\",\"2019-04-02\",\"2019-04-03\",\"2019-04-04\",\"2019-04-05\",\"2019-04-06\",\"2019-04-07\",\"2019-04-08\",\"2019-04-09\",\"2019-04-10\",\"2019-04-11\",\"2019-04-12\",\"2019-04-13\",\"2019-04-14\",\"2019-04-15\",\"2019-04-16\",\"2019-04-17\",\"2019-04-18\",\"2019-04-19\",\"2019-04-20\",\"2019-04-21\",\"2019-04-22\",\"2019-04-23\",\"2019-04-24\",\"2019-04-25\",\"2019-04-26\",\"2019-04-27\",\"2019-04-28\",\"2019-04-29\",\"2019-04-30\",\"2019-05-01\",\"2019-05-02\",\"2019-05-03\",\"2019-05-04\",\"2019-05-05\",\"2019-05-06\",\"2019-05-07\",\"2019-05-08\",\"2019-05-09\",\"2019-05-10\",\"2019-05-11\",\"2019-05-12\",\"2019-05-13\",\"2019-05-14\",\"2019-05-15\",\"2019-05-16\",\"2019-05-17\",\"2019-05-18\",\"2019-05-19\",\"2019-05-20\",\"2019-05-21\",\"2019-05-22\",\"2019-05-23\",\"2019-05-24\",\"2019-05-25\",\"2019-05-26\",\"2019-05-27\",\"2019-05-28\",\"2019-05-29\",\"2019-05-30\",\"2019-05-31\",\"2019-06-01\",\"2019-06-02\",\"2019-06-03\",\"2019-06-04\",\"2019-06-05\",\"2019-06-06\",\"2019-06-07\",\"2019-06-08\",\"2019-06-09\",\"2019-06-10\",\"2019-06-11\",\"2019-06-12\",\"2019-06-13\",\"2019-06-14\",\"2019-06-15\",\"2019-06-16\",\"2019-06-17\",\"2019-06-18\",\"2019-06-19\",\"2019-06-20\",\"2019-06-21\",\"2019-06-22\",\"2019-06-23\",\"2019-06-24\",\"2019-06-25\",\"2019-06-26\",\"2019-06-27\",\"2019-06-28\",\"2019-06-29\",\"2019-06-30\",\"2019-07-01\",\"2019-07-02\",\"2019-07-03\",\"2019-07-04\",\"2019-07-05\",\"2019-07-06\",\"2019-07-07\",\"2019-07-08\",\"2019-07-09\",\"2019-07-10\",\"2019-07-11\",\"2019-07-12\",\"2019-07-13\",\"2019-07-14\",\"2019-07-15\",\"2019-07-16\",\"2019-07-17\",\"2019-07-18\",\"2019-07-19\",\"2019-07-20\",\"2019-07-21\",\"2019-07-22\",\"2019-07-23\",\"2019-07-24\",\"2019-07-25\",\"2019-07-26\",\"2019-07-27\",\"2019-07-28\",\"2019-07-29\",\"2019-07-30\",\"2019-07-31\",\"2019-08-01\",\"2019-08-02\",\"2019-08-03\",\"2019-08-04\",\"2019-08-05\",\"2019-08-06\",\"2019-08-07\",\"2019-08-08\",\"2019-08-09\",\"2019-08-10\",\"2019-08-11\",\"2019-08-12\",\"2019-08-13\",\"2019-08-14\",\"2019-08-15\",\"2019-08-16\",\"2019-08-17\",\"2019-08-18\",\"2019-08-19\",\"2019-08-20\",\"2019-08-21\",\"2019-08-22\",\"2019-08-23\",\"2019-08-24\",\"2019-08-25\",\"2019-08-26\",\"2019-08-27\",\"2019-08-28\",\"2019-08-29\",\"2019-08-30\",\"2019-08-31\",\"2019-09-01\",\"2019-09-02\",\"2019-09-03\",\"2019-09-04\",\"2019-09-05\",\"2019-09-06\",\"2019-09-07\",\"2019-09-08\",\"2019-09-09\",\"2019-09-10\",\"2019-09-11\",\"2019-09-12\",\"2019-09-13\",\"2019-09-14\",\"2019-09-15\",\"2019-09-16\",\"2019-09-17\",\"2019-09-18\",\"2019-09-19\",\"2019-09-20\",\"2019-09-21\",\"2019-09-22\",\"2019-09-23\",\"2019-09-24\",\"2019-09-25\",\"2019-09-26\",\"2019-09-27\",\"2019-09-28\",\"2019-09-29\",\"2019-09-30\",\"2019-10-01\",\"2019-10-02\",\"2019-10-03\",\"2019-10-04\",\"2019-10-05\",\"2019-10-06\",\"2019-10-07\",\"2019-10-08\",\"2019-10-09\",\"2019-10-10\",\"2019-10-11\",\"2019-10-12\",\"2019-10-13\",\"2019-10-14\",\"2019-10-15\",\"2019-10-16\",\"2019-10-17\",\"2019-10-18\",\"2019-10-19\",\"2019-10-20\",\"2019-10-21\",\"2019-10-22\",\"2019-10-23\",\"2019-10-24\",\"2019-10-25\",\"2019-10-26\",\"2019-10-27\",\"2019-10-28\",\"2019-10-29\",\"2019-10-30\",\"2019-10-31\",\"2019-11-01\",\"2019-11-02\",\"2019-11-03\",\"2019-11-04\",\"2019-11-05\",\"2019-11-06\",\"2019-11-07\",\"2019-11-08\",\"2019-11-09\",\"2019-11-10\",\"2019-11-11\",\"2019-11-12\",\"2019-11-13\",\"2019-11-14\",\"2019-11-15\",\"2019-11-16\",\"2019-11-17\",\"2019-11-18\",\"2019-11-19\",\"2019-11-20\",\"2019-11-21\",\"2019-11-22\",\"2019-11-23\",\"2019-11-24\",\"2019-11-25\",\"2019-11-26\",\"2019-11-27\",\"2019-11-28\",\"2019-11-29\",\"2019-11-30\",\"2019-12-01\",\"2019-12-02\",\"2019-12-03\",\"2019-12-04\",\"2019-12-05\",\"2019-12-06\",\"2019-12-07\",\"2019-12-08\",\"2019-12-09\",\"2019-12-10\",\"2019-12-11\",\"2019-12-12\",\"2019-12-13\",\"2019-12-14\",\"2019-12-15\",\"2019-12-16\",\"2019-12-17\",\"2019-12-18\",\"2019-12-19\",\"2019-12-20\",\"2019-12-21\",\"2019-12-22\",\"2019-12-23\",\"2019-12-24\",\"2019-12-25\",\"2019-12-26\",\"2019-12-27\",\"2019-12-28\",\"2019-12-29\",\"2019-12-30\",\"2019-12-31\",\"2020-01-01\",\"2020-01-02\",\"2020-01-03\",\"2020-01-04\",\"2020-01-05\",\"2020-01-06\",\"2020-01-07\",\"2020-01-08\",\"2020-01-09\",\"2020-01-10\",\"2020-01-11\",\"2020-01-12\",\"2020-01-13\",\"2020-01-14\",\"2020-01-15\",\"2020-01-16\",\"2020-01-17\",\"2020-01-18\",\"2020-01-19\",\"2020-01-20\",\"2020-01-21\",\"2020-01-22\",\"2020-01-23\",\"2020-01-24\",\"2020-01-25\",\"2020-01-26\",\"2020-01-27\",\"2020-01-28\",\"2020-01-29\",\"2020-01-30\",\"2020-01-31\",\"2020-02-01\",\"2020-02-02\",\"2020-02-03\",\"2020-02-04\",\"2020-02-05\",\"2020-02-06\",\"2020-02-07\",\"2020-02-08\",\"2020-02-09\",\"2020-02-10\",\"2020-02-11\",\"2020-02-12\",\"2020-02-13\",\"2020-02-14\",\"2020-02-15\",\"2020-02-16\",\"2020-02-17\",\"2020-02-18\",\"2020-02-19\",\"2020-02-20\",\"2020-02-21\",\"2020-02-22\",\"2020-02-23\",\"2020-02-24\",\"2020-02-25\",\"2020-02-26\",\"2020-02-27\",\"2020-02-28\",\"2020-02-29\",\"2020-03-01\",\"2020-03-02\",\"2020-03-03\",\"2020-03-04\",\"2020-03-05\",\"2020-03-06\",\"2020-03-07\",\"2020-03-08\",\"2020-03-09\",\"2020-03-10\",\"2020-03-11\",\"2020-03-12\",\"2020-03-13\",\"2020-03-14\",\"2020-03-15\",\"2020-03-16\",\"2020-03-17\",\"2020-03-18\",\"2020-03-19\",\"2020-03-20\",\"2020-03-21\",\"2020-03-22\",\"2020-03-23\",\"2020-03-24\",\"2020-03-25\",\"2020-03-26\",\"2020-03-27\",\"2020-03-28\",\"2020-03-29\",\"2020-03-30\",\"2020-03-31\",\"2020-04-01\",\"2020-04-02\",\"2020-04-03\",\"2020-04-04\",\"2020-04-05\",\"2020-04-06\",\"2020-04-07\",\"2020-04-08\",\"2020-04-09\",\"2020-04-10\",\"2020-04-11\",\"2020-04-12\",\"2020-04-13\",\"2020-04-14\",\"2020-04-15\",\"2020-04-16\",\"2020-04-17\",\"2020-04-18\",\"2020-04-19\",\"2020-04-20\",\"2020-04-21\",\"2020-04-22\",\"2020-04-23\",\"2020-04-24\",\"2020-04-25\",\"2020-04-26\",\"2020-04-27\",\"2020-04-28\",\"2020-04-29\",\"2020-04-30\",\"2020-05-01\",\"2020-05-02\",\"2020-05-03\",\"2020-05-04\",\"2020-05-05\",\"2020-05-06\",\"2020-05-07\",\"2020-05-08\",\"2020-05-09\",\"2020-05-10\",\"2020-05-11\",\"2020-05-12\",\"2020-05-13\",\"2020-05-14\",\"2020-05-15\",\"2020-05-16\",\"2020-05-17\",\"2020-05-18\",\"2020-05-19\",\"2020-05-20\",\"2020-05-21\",\"2020-05-22\",\"2020-05-23\",\"2020-05-24\",\"2020-05-25\",\"2020-05-26\",\"2020-05-27\",\"2020-05-28\",\"2020-05-29\",\"2020-05-30\",\"2020-05-31\",\"2020-06-01\",\"2020-06-02\",\"2020-06-03\",\"2020-06-04\",\"2020-06-05\",\"2020-06-06\",\"2020-06-07\",\"2020-06-08\",\"2020-06-09\",\"2020-06-10\",\"2020-06-11\",\"2020-06-12\",\"2020-06-13\",\"2020-06-14\",\"2020-06-15\",\"2020-06-16\",\"2020-06-17\",\"2020-06-18\",\"2020-06-19\",\"2020-06-20\",\"2020-06-21\",\"2020-06-22\",\"2020-06-23\",\"2020-06-24\",\"2020-06-25\",\"2020-06-26\",\"2020-06-27\",\"2020-06-28\",\"2020-06-29\",\"2020-06-30\",\"2020-07-01\",\"2020-07-02\",\"2020-07-03\",\"2020-07-04\",\"2020-07-05\",\"2020-07-06\",\"2020-07-07\",\"2020-07-08\",\"2020-07-09\",\"2020-07-10\",\"2020-07-11\",\"2020-07-12\",\"2020-07-13\",\"2020-07-14\",\"2020-07-15\",\"2020-07-16\",\"2020-07-17\",\"2020-07-18\",\"2020-07-19\",\"2020-07-20\",\"2020-07-21\",\"2020-07-22\",\"2020-07-23\",\"2020-07-24\",\"2020-07-25\",\"2020-07-26\",\"2020-07-27\",\"2020-07-28\",\"2020-07-29\",\"2020-07-30\",\"2020-07-31\",\"2020-08-01\",\"2020-08-02\",\"2020-08-03\",\"2020-08-04\",\"2020-08-05\",\"2020-08-06\",\"2020-08-07\",\"2020-08-08\",\"2020-08-09\",\"2020-08-10\",\"2020-08-11\",\"2020-08-12\",\"2020-08-13\",\"2020-08-14\",\"2020-08-15\",\"2020-08-16\",\"2020-08-17\",\"2020-08-18\",\"2020-08-19\",\"2020-08-20\",\"2020-08-21\",\"2020-08-22\",\"2020-08-23\",\"2020-08-24\",\"2020-08-25\",\"2020-08-26\",\"2020-08-27\",\"2020-08-28\",\"2020-08-29\",\"2020-08-30\",\"2020-08-31\",\"2020-09-01\",\"2020-09-02\",\"2020-09-03\",\"2020-09-04\",\"2020-09-05\",\"2020-09-06\",\"2020-09-07\",\"2020-09-08\",\"2020-09-09\",\"2020-09-10\",\"2020-09-11\",\"2020-09-12\",\"2020-09-13\",\"2020-09-14\",\"2020-09-15\",\"2020-09-16\",\"2020-09-17\",\"2020-09-18\",\"2020-09-19\",\"2020-09-20\",\"2020-09-21\",\"2020-09-22\",\"2020-09-23\",\"2020-09-24\",\"2020-09-25\",\"2020-09-26\",\"2020-09-27\",\"2020-09-28\",\"2020-09-29\",\"2020-09-30\",\"2020-10-01\",\"2020-10-02\",\"2020-10-03\",\"2020-10-04\",\"2020-10-05\",\"2020-10-06\",\"2020-10-07\",\"2020-10-08\",\"2020-10-09\",\"2020-10-10\",\"2020-10-11\",\"2020-10-12\",\"2020-10-13\",\"2020-10-14\",\"2020-10-15\",\"2020-10-16\",\"2020-10-17\",\"2020-10-18\",\"2020-10-19\",\"2020-10-20\",\"2020-10-21\",\"2020-10-22\",\"2020-10-23\",\"2020-10-24\",\"2020-10-25\",\"2020-10-26\",\"2020-10-27\",\"2020-10-28\",\"2020-10-29\",\"2020-10-30\",\"2020-10-31\",\"2020-11-01\",\"2020-11-02\",\"2020-11-03\",\"2020-11-04\",\"2020-11-05\",\"2020-11-06\",\"2020-11-07\",\"2020-11-08\",\"2020-11-09\",\"2020-11-10\",\"2020-11-11\",\"2020-11-12\",\"2020-11-13\",\"2020-11-14\",\"2020-11-15\",\"2020-11-16\",\"2020-11-17\",\"2020-11-18\",\"2020-11-19\",\"2020-11-20\",\"2020-11-21\",\"2020-11-22\",\"2020-11-23\",\"2020-11-24\",\"2020-11-25\",\"2020-11-26\",\"2020-11-27\",\"2020-11-28\",\"2020-11-29\",\"2020-11-30\",\"2020-12-01\",\"2020-12-02\",\"2020-12-03\",\"2020-12-04\",\"2020-12-05\",\"2020-12-06\",\"2020-12-07\",\"2020-12-08\",\"2020-12-09\",\"2020-12-10\",\"2020-12-11\",\"2020-12-12\",\"2020-12-13\",\"2020-12-14\",\"2020-12-15\",\"2020-12-16\",\"2020-12-17\",\"2020-12-18\",\"2020-12-19\",\"2020-12-20\",\"2020-12-21\",\"2020-12-22\",\"2020-12-23\",\"2020-12-24\",\"2020-12-25\",\"2020-12-26\",\"2020-12-27\",\"2020-12-28\",\"2020-12-29\",\"2020-12-30\",\"2020-12-31\",\"2021-01-01\",\"2021-01-02\",\"2021-01-03\",\"2021-01-04\",\"2021-01-05\",\"2021-01-06\",\"2021-01-07\",\"2021-01-08\",\"2021-01-09\",\"2021-01-10\",\"2021-01-11\",\"2021-01-12\",\"2021-01-13\",\"2021-01-14\",\"2021-01-15\",\"2021-01-16\",\"2021-01-17\",\"2021-01-18\",\"2021-01-19\",\"2021-01-20\",\"2021-01-21\",\"2021-01-22\",\"2021-01-23\",\"2021-01-24\",\"2021-01-25\",\"2021-01-26\",\"2021-01-27\",\"2021-01-28\",\"2021-01-29\",\"2021-01-30\",\"2021-01-31\",\"2021-02-01\",\"2021-02-02\",\"2021-02-03\",\"2021-02-04\",\"2021-02-05\",\"2021-02-06\",\"2021-02-07\",\"2021-02-08\",\"2021-02-09\",\"2021-02-10\",\"2021-02-11\",\"2021-02-12\",\"2021-02-13\",\"2021-02-14\",\"2021-02-15\",\"2021-02-16\",\"2021-02-17\",\"2021-02-18\",\"2021-02-19\",\"2021-02-20\",\"2021-02-21\",\"2021-02-22\",\"2021-02-23\",\"2021-02-24\",\"2021-02-25\",\"2021-02-26\",\"2021-02-27\",\"2021-02-28\",\"2021-03-01\",\"2021-03-02\",\"2021-03-03\",\"2021-03-04\",\"2021-03-05\",\"2021-03-06\",\"2021-03-07\",\"2021-03-08\",\"2021-03-09\",\"2021-03-10\",\"2021-03-11\",\"2021-03-12\",\"2021-03-13\",\"2021-03-14\",\"2021-03-15\",\"2021-03-16\",\"2021-03-17\",\"2021-03-18\",\"2021-03-19\",\"2021-03-20\",\"2021-03-21\",\"2021-03-22\",\"2021-03-23\",\"2021-03-24\",\"2021-03-25\",\"2021-03-26\",\"2021-03-27\",\"2021-03-28\",\"2021-03-29\",\"2021-03-30\",\"2021-03-31\",\"2021-04-01\",\"2021-04-02\",\"2021-04-03\",\"2021-04-04\",\"2021-04-05\",\"2021-04-06\",\"2021-04-07\",\"2021-04-08\",\"2021-04-09\",\"2021-04-10\",\"2021-04-11\",\"2021-04-12\",\"2021-04-13\",\"2021-04-14\",\"2021-04-15\",\"2021-04-16\",\"2021-04-17\",\"2021-04-18\",\"2021-04-19\",\"2021-04-20\",\"2021-04-21\",\"2021-04-22\",\"2021-04-23\",\"2021-04-24\",\"2021-04-25\",\"2021-04-26\",\"2021-04-27\",\"2021-04-28\",\"2021-04-29\",\"2021-04-30\",\"2021-05-01\",\"2021-05-02\",\"2021-05-03\",\"2021-05-04\",\"2021-05-05\",\"2021-05-06\",\"2021-05-07\",\"2021-05-08\",\"2021-05-09\",\"2021-05-10\",\"2021-05-11\",\"2021-05-12\",\"2021-05-13\",\"2021-05-14\",\"2021-05-15\",\"2021-05-16\",\"2021-05-17\",\"2021-05-18\",\"2021-05-19\",\"2021-05-20\",\"2021-05-21\",\"2021-05-22\",\"2021-05-23\",\"2021-05-24\",\"2021-05-25\",\"2021-05-26\",\"2021-05-27\",\"2021-05-28\",\"2021-05-29\",\"2021-05-30\",\"2021-05-31\",\"2021-06-01\",\"2021-06-02\",\"2021-06-03\",\"2021-06-04\",\"2021-06-05\",\"2021-06-06\",\"2021-06-07\",\"2021-06-08\",\"2021-06-09\",\"2021-06-10\",\"2021-06-11\",\"2021-06-12\",\"2021-06-13\",\"2021-06-14\",\"2021-06-15\",\"2021-06-16\",\"2021-06-17\",\"2021-06-18\",\"2021-06-19\",\"2021-06-20\",\"2021-06-21\",\"2021-06-22\",\"2021-06-23\",\"2021-06-24\",\"2021-06-25\",\"2021-06-26\",\"2021-06-27\",\"2021-06-28\",\"2021-06-29\",\"2021-06-30\",\"2021-07-01\",\"2021-07-02\",\"2021-07-03\",\"2021-07-04\",\"2021-07-05\",\"2021-07-06\",\"2021-07-07\",\"2021-07-08\",\"2021-07-09\",\"2021-07-10\",\"2021-07-11\",\"2021-07-12\",\"2021-07-13\",\"2021-07-14\",\"2021-07-15\",\"2021-07-16\",\"2021-07-17\",\"2021-07-18\",\"2021-07-19\",\"2021-07-20\",\"2021-07-21\",\"2021-07-22\",\"2021-07-23\",\"2021-07-24\",\"2021-07-25\",\"2021-07-26\",\"2021-07-27\",\"2021-07-28\",\"2021-07-29\",\"2021-07-30\",\"2021-07-31\",\"2021-08-01\",\"2021-08-02\",\"2021-08-03\",\"2021-08-04\",\"2021-08-05\",\"2021-08-06\",\"2021-08-07\",\"2021-08-08\",\"2021-08-09\",\"2021-08-10\",\"2021-08-11\",\"2021-08-12\",\"2021-08-13\",\"2021-08-14\",\"2021-08-15\",\"2021-08-16\",\"2021-08-17\",\"2021-08-18\",\"2021-08-19\",\"2021-08-20\",\"2021-08-21\",\"2021-08-22\",\"2021-08-23\",\"2021-08-24\",\"2021-08-25\",\"2021-08-26\",\"2021-08-27\",\"2021-08-28\",\"2021-08-29\",\"2021-08-30\",\"2021-08-31\",\"2021-09-01\",\"2021-09-02\",\"2021-09-03\",\"2021-09-04\",\"2021-09-05\",\"2021-09-06\",\"2021-09-07\",\"2021-09-08\",\"2021-09-09\",\"2021-09-10\",\"2021-09-11\",\"2021-09-12\",\"2021-09-13\",\"2021-09-14\",\"2021-09-15\",\"2021-09-16\",\"2021-09-17\",\"2021-09-18\",\"2021-09-19\",\"2021-09-20\",\"2021-09-21\",\"2021-09-22\",\"2021-09-23\",\"2021-09-24\",\"2021-09-25\",\"2021-09-26\",\"2021-09-27\",\"2021-09-28\",\"2021-09-29\",\"2021-09-30\",\"2021-10-01\",\"2021-10-02\",\"2021-10-03\",\"2021-10-04\",\"2021-10-05\",\"2021-10-06\",\"2021-10-07\",\"2021-10-08\",\"2021-10-09\",\"2021-10-10\",\"2021-10-11\",\"2021-10-12\",\"2021-10-13\",\"2021-10-14\",\"2021-10-15\",\"2021-10-16\",\"2021-10-17\",\"2021-10-18\",\"2021-10-19\",\"2021-10-20\",\"2021-10-21\",\"2021-10-22\",\"2021-10-23\",\"2021-10-24\",\"2021-10-25\",\"2021-10-26\",\"2021-10-27\",\"2021-10-28\",\"2021-10-29\",\"2021-10-30\",\"2021-10-31\",\"2021-11-01\",\"2021-11-02\",\"2021-11-03\",\"2021-11-04\",\"2021-11-05\",\"2021-11-06\",\"2021-11-07\",\"2021-11-08\",\"2021-11-09\",\"2021-11-10\",\"2021-11-11\",\"2021-11-12\",\"2021-11-13\",\"2021-11-14\",\"2021-11-15\",\"2021-11-16\",\"2021-11-17\",\"2021-11-18\",\"2021-11-19\",\"2021-11-20\",\"2021-11-21\",\"2021-11-22\",\"2021-11-23\",\"2021-11-24\",\"2021-11-25\",\"2021-11-26\",\"2021-11-27\",\"2021-11-28\",\"2021-11-29\",\"2021-11-30\",\"2021-12-01\",\"2021-12-02\",\"2021-12-03\",\"2021-12-04\",\"2021-12-05\",\"2021-12-06\",\"2021-12-07\",\"2021-12-08\",\"2021-12-09\",\"2021-12-10\",\"2021-12-11\",\"2021-12-12\",\"2021-12-13\",\"2021-12-14\",\"2021-12-15\",\"2021-12-16\",\"2021-12-17\",\"2021-12-18\",\"2021-12-19\",\"2021-12-20\",\"2021-12-21\",\"2021-12-22\",\"2021-12-23\",\"2021-12-24\",\"2021-12-25\",\"2021-12-26\",\"2021-12-27\",\"2021-12-28\",\"2021-12-29\",\"2021-12-30\",\"2021-12-31\",\"2022-01-01\",\"2022-01-02\",\"2022-01-03\",\"2022-01-04\",\"2022-01-05\",\"2022-01-06\",\"2022-01-07\",\"2022-01-08\",\"2022-01-09\",\"2022-01-10\",\"2022-01-11\",\"2022-01-12\",\"2022-01-13\",\"2022-01-14\",\"2022-01-15\",\"2022-01-16\",\"2022-01-17\",\"2022-01-18\",\"2022-01-19\",\"2022-01-20\",\"2022-01-21\",\"2022-01-22\",\"2022-01-23\",\"2022-01-24\",\"2022-01-25\",\"2022-01-26\",\"2022-01-27\",\"2022-01-28\",\"2022-01-29\",\"2022-01-30\",\"2022-01-31\",\"2022-02-01\",\"2022-02-02\",\"2022-02-03\",\"2022-02-04\",\"2022-02-05\",\"2022-02-06\",\"2022-02-07\",\"2022-02-08\",\"2022-02-09\",\"2022-02-10\",\"2022-02-11\",\"2022-02-12\",\"2022-02-13\",\"2022-02-14\",\"2022-02-15\",\"2022-02-16\",\"2022-02-17\",\"2022-02-18\",\"2022-02-19\",\"2022-02-20\",\"2022-02-21\",\"2022-02-22\",\"2022-02-23\",\"2022-02-24\",\"2022-02-25\",\"2022-02-26\",\"2022-02-27\",\"2022-02-28\",\"2022-03-01\",\"2022-03-02\",\"2022-03-03\",\"2022-03-04\",\"2022-03-05\",\"2022-03-06\",\"2022-03-07\",\"2022-03-08\",\"2022-03-09\",\"2022-03-10\",\"2022-03-11\",\"2022-03-12\",\"2022-03-13\",\"2022-03-14\",\"2022-03-15\",\"2022-03-16\",\"2022-03-17\",\"2022-03-18\",\"2022-03-19\",\"2022-03-20\",\"2022-03-21\",\"2022-03-22\",\"2022-03-23\",\"2022-03-24\",\"2022-03-25\",\"2022-03-26\",\"2022-03-27\",\"2022-03-28\",\"2022-03-29\",\"2022-03-30\",\"2022-03-31\",\"2022-04-01\",\"2022-04-02\",\"2022-04-03\",\"2022-04-04\",\"2022-04-05\",\"2022-04-06\",\"2022-04-07\",\"2022-04-08\",\"2022-04-09\",\"2022-04-10\",\"2022-04-11\",\"2022-04-12\",\"2022-04-13\",\"2022-04-14\",\"2022-04-15\",\"2022-04-16\",\"2022-04-17\",\"2022-04-18\",\"2022-04-19\",\"2022-04-20\",\"2022-04-21\",\"2022-04-22\",\"2022-04-23\",\"2022-04-24\",\"2022-04-25\",\"2022-04-26\",\"2022-04-27\",\"2022-04-28\",\"2022-04-29\",\"2022-04-30\",\"2022-05-01\",\"2022-05-02\",\"2022-05-03\",\"2022-05-04\",\"2022-05-05\",\"2022-05-06\",\"2022-05-07\",\"2022-05-08\",\"2022-05-09\",\"2022-05-10\",\"2022-05-11\",\"2022-05-12\",\"2022-05-13\",\"2022-05-14\",\"2022-05-15\",\"2022-05-16\",\"2022-05-17\",\"2022-05-18\",\"2022-05-19\",\"2022-05-20\",\"2022-05-21\",\"2022-05-22\",\"2022-05-23\",\"2022-05-24\",\"2022-05-25\",\"2022-05-26\",\"2022-05-27\",\"2022-05-28\",\"2022-05-29\",\"2022-05-30\",\"2022-05-31\",\"2022-06-01\",\"2022-06-02\",\"2022-06-03\",\"2022-06-04\",\"2022-06-05\",\"2022-06-06\",\"2022-06-07\",\"2022-06-08\",\"2022-06-09\",\"2022-06-10\",\"2022-06-11\",\"2022-06-12\",\"2022-06-13\",\"2022-06-14\",\"2022-06-15\",\"2022-06-16\",\"2022-06-17\",\"2022-06-18\",\"2022-06-19\",\"2022-06-20\",\"2022-06-21\",\"2022-06-22\",\"2022-06-23\",\"2022-06-24\",\"2022-06-25\",\"2022-06-26\",\"2022-06-27\",\"2022-06-28\",\"2022-06-29\",\"2022-06-30\",\"2022-07-01\",\"2022-07-02\",\"2022-07-03\",\"2022-07-04\",\"2022-07-05\",\"2022-07-06\",\"2022-07-07\",\"2022-07-08\",\"2022-07-09\",\"2022-07-10\",\"2022-07-11\",\"2022-07-12\",\"2022-07-13\",\"2022-07-14\",\"2022-07-15\",\"2022-07-16\",\"2022-07-17\",\"2022-07-18\",\"2022-07-19\",\"2022-07-20\",\"2022-07-21\",\"2022-07-22\",\"2022-07-23\",\"2022-07-24\",\"2022-07-25\",\"2022-07-26\",\"2022-07-27\",\"2022-07-28\",\"2022-07-29\",\"2022-07-30\",\"2022-07-31\",\"2022-08-01\",\"2022-08-02\",\"2022-08-03\",\"2022-08-04\",\"2022-08-05\",\"2022-08-06\",\"2022-08-07\",\"2022-08-08\",\"2022-08-09\",\"2022-08-10\",\"2022-08-11\",\"2022-08-12\",\"2022-08-13\",\"2022-08-14\",\"2022-08-15\",\"2022-08-16\",\"2022-08-17\",\"2022-08-18\",\"2022-08-19\",\"2022-08-20\",\"2022-08-21\",\"2022-08-22\",\"2022-08-23\",\"2022-08-24\",\"2022-08-25\",\"2022-08-26\",\"2022-08-27\",\"2022-08-28\",\"2022-08-29\",\"2022-08-30\",\"2022-08-31\",\"2022-09-01\",\"2022-09-02\",\"2022-09-03\",\"2022-09-04\",\"2022-09-05\",\"2022-09-06\",\"2022-09-07\",\"2022-09-08\",\"2022-09-09\",\"2022-09-10\",\"2022-09-11\",\"2022-09-12\",\"2022-09-13\",\"2022-09-14\",\"2022-09-15\",\"2022-09-16\",\"2022-09-17\",\"2022-09-18\",\"2022-09-19\",\"2022-09-20\",\"2022-09-21\",\"2022-09-22\",\"2022-09-23\",\"2022-09-24\",\"2022-09-25\",\"2022-09-26\",\"2022-09-27\",\"2022-09-28\",\"2022-09-29\",\"2022-09-30\",\"2022-10-01\",\"2022-10-02\",\"2022-10-03\",\"2022-10-04\",\"2022-10-05\",\"2022-10-06\",\"2022-10-07\",\"2022-10-08\",\"2022-10-09\",\"2022-10-10\",\"2022-10-11\",\"2022-10-12\",\"2022-10-13\",\"2022-10-14\",\"2022-10-15\",\"2022-10-16\",\"2022-10-17\",\"2022-10-18\",\"2022-10-19\",\"2022-10-20\",\"2022-10-21\",\"2022-10-22\",\"2022-10-23\",\"2022-10-24\",\"2022-10-25\",\"2022-10-26\",\"2022-10-27\",\"2022-10-28\",\"2022-10-29\",\"2022-10-30\",\"2022-10-31\",\"2022-11-01\",\"2022-11-02\",\"2022-11-03\",\"2022-11-04\",\"2022-11-05\",\"2022-11-06\",\"2022-11-07\",\"2022-11-08\",\"2022-11-09\",\"2022-11-10\",\"2022-11-11\",\"2022-11-12\",\"2022-11-13\",\"2022-11-14\",\"2022-11-15\",\"2022-11-16\",\"2022-11-17\",\"2022-11-18\",\"2022-11-19\",\"2022-11-20\",\"2022-11-21\",\"2022-11-22\",\"2022-11-23\",\"2022-11-24\",\"2022-11-25\",\"2022-11-26\",\"2022-11-27\",\"2022-11-28\",\"2022-11-29\",\"2022-11-30\",\"2022-12-01\",\"2022-12-02\",\"2022-12-03\",\"2022-12-04\",\"2022-12-05\",\"2022-12-06\",\"2022-12-07\",\"2022-12-08\",\"2022-12-09\",\"2022-12-10\",\"2022-12-11\",\"2022-12-12\",\"2022-12-13\",\"2022-12-14\",\"2022-12-15\",\"2022-12-16\",\"2022-12-17\",\"2022-12-18\",\"2022-12-19\",\"2022-12-20\",\"2022-12-21\",\"2022-12-22\",\"2022-12-23\",\"2022-12-24\",\"2022-12-25\",\"2022-12-26\",\"2022-12-27\",\"2022-12-28\",\"2022-12-29\",\"2022-12-30\",\"2022-12-31\"],\"xaxis\":\"x\",\"y\":[null,null,null,null,null,null,null,null,null,null,null,null,null,null,null,null,null,null,null,null,null,null,null,null,null,null,null,null,null,null,null,null,null,null,null,null,null,null,null,null,null,null,null,null,null,null,null,null,null,null,null,null,null,null,null,null,null,null,null,null,null,null,null,null,null,null,null,null,null,null,null,null,null,null,null,null,null,null,null,null,null,null,null,null,null,null,null,null,null,null,null,null,null,null,null,null,null,null,null,null,null,null,null,null,null,null,null,null,null,null,null,null,null,null,null,null,null,null,null,null,null,null,null,null,null,null,null,null,null,null,null,null,null,null,null,null,null,null,null,null,null,null,null,null,null,null,null,null,null,null,null,null,null,null,null,null,null,null,null,null,null,null,null,null,null,null,null,null,null,null,null,null,null,null,null,null,null,null,null,null,null,null,null,null,null,null,null,null,null,null,null,null,null,null,null,null,null,null,null,null,null,null,null,null,null,null,null,null,null,null,null,null,null,null,null,null,null,null,null,null,null,null,null,null,null,null,null,null,null,null,null,null,null,null,null,null,null,null,null,null,null,null,null,null,null,null,null,null,null,null,null,null,null,null,null,null,null,null,null,null,null,null,null,null,null,null,null,null,null,null,null,null,null,null,null,null,null,null,null,null,null,null,null,null,null,null,null,null,null,null,null,null,null,null,null,null,null,null,null,null,null,null,null,null,null,null,null,null,null,null,null,null,null,null,null,null,null,null,null,null,null,null,null,null,null,null,null,null,null,null,null,null,null,null,null,null,null,null,null,null,null,null,null,null,null,null,null,null,null,null,null,null,null,null,null,null,null,null,null,null,null,null,null,null,null,null,null,null,null,null,null,null,null,null,null,null,null,null,null,null,null,null,null,null,null,null,null,null,null,null,null,null,null,null,null,null,null,null,null,null,null,null,null,null,null,null,null,null,null,null,null,null,null,null,null,null,null,null,null,null,null,null,null,null,null,null,null,null,null,null,null,null,null,null,null,null,null,null,null,null,null,null,null,null,null,null,null,null,null,null,null,null,null,null,null,null,null,null,null,null,null,null,null,null,null,null,null,null,null,null,null,null,null,null,null,null,null,null,null,null,null,null,null,null,null,null,null,null,null,null,null,null,null,null,null,null,null,null,null,null,null,null,null,null,null,null,null,null,null,null,null,null,null,null,null,null,null,null,null,null,null,null,null,null,null,null,null,null,null,null,null,null,null,null,null,null,null,null,null,null,null,null,null,null,null,null,null,null,null,null,null,null,null,null,null,null,null,null,null,null,null,null,null,null,null,null,null,null,null,null,null,null,null,null,null,null,null,null,null,null,null,null,null,null,null,null,null,null,null,null,null,null,null,null,null,null,null,null,null,null,null,null,null,null,null,null,null,null,null,null,null,null,null,null,null,null,null,null,null,null,null,null,null,null,null,null,null,null,null,null,null,null,null,null,null,null,null,null,null,null,null,null,null,null,null,null,null,null,null,null,null,null,null,null,null,null,null,null,null,null,null,null,null,null,null,null,null,null,null,null,null,null,null,null,null,null,null,null,null,null,null,null,null,null,null,null,null,null,null,null,null,null,null,null,null,null,null,null,null,null,null,null,null,null,null,null,null,null,null,null,null,null,null,null,null,null,null,null,null,null,null,null,null,null,null,null,null,null,null,null,null,null,null,null,null,null,null,null,null,null,null,null,null,null,null,null,null,null,null,null,null,null,null,null,null,null,null,null,null,null,null,null,null,null,null,null,null,null,null,null,null,null,null,null,null,null,null,null,null,null,null,null,null,null,null,null,null,null,null,null,null,null,null,null,null,null,null,null,null,null,null,null,null,null,null,null,null,null,null,null,null,null,null,null,null,null,null,null,null,null,null,null,null,null,null,null,null,null,null,null,null,null,null,null,null,null,null,null,null,null,null,null,null,null,null,null,null,null,null,null,null,null,null,null,null,null,null,null,null,null,null,null,null,null,null,null,null,null,null,null,null,null,null,null,null,null,null,null,null,null,null,null,null,null,null,null,null,null,null,null,null,null,null,null,null,null,null,null,null,null,null,null,null,null,null,null,null,null,null,null,null,null,null,null,null,null,null,null,null,null,null,null,null,null,null,null,null,null,null,null,null,null,null,null,null,null,null,null,null,null,null,null,null,null,null,null,null,null,null,null,null,null,null,null,null,null,null,null,null,null,null,null,null,null,null,null,null,null,null,null,null,null,null,null,null,null,null,null,null,null,null,null,null,null,null,null,null,null,null,null,null,null,null,null,null,null,null,null,null,null,null,null,null,null,null,null,null,null,null,null,null,null,null,null,null,null,null,null,null,null,null,null,null,null,null,null,null,null,null,null,null,null,null,null,null,null,null,null,null,null,null,null,null,null,null,null,null,null,null,null,null,null,null,null,null,null,null,null,null,null,null,null,null,null,null,null,null,null,null,null,null,null,null,null,null,null,null,null,null,null,null,null,null,null,null,null,null,null,null,null,null,null,null,null,null,null,null,null,null,null,null,null,null,null,null,null,null,null,null,null,null,null,null,null,null,null,null,null,null,null,null,null,null,null,null,null,null,null,null,null,null,null,null,null,null,null,null,null,null,null,null,null,null,null,null,null,null,null,null,null,null,null,null,null,null,null,null,null,null,null,null,null,null,null,null,null,null,null,null,null,null,null,null,null,null,null,null,null,null,null,null,null,null,null,null,null,null,null,null,null,null,null,null,null,null,null,null,null,null,null,null,null,null,null,null,null,null,null,null,null,null,null,null,null,null,null,null,null,null,null,null,null,null,null,null,null,null,null,null,null,null,null,null,null,null,null,null,null,null,null,null,null,null,null,null,null,null,null,null,null,null,null,null,null,null,null,null,null,null,null,null,null,null,null,null,null,null,null,null,null,null,null,null,null,null,null,null,null,null,null,null,null,null,null,null,null,null,null,null,null,null,null,null,null,null,null,null,null,null,null,null,null,null,null,null,null,null,null,null,null,null,null,null,null,null,null,null,null,null,null,null,null,null,null,null,null,null,null,null,null,null,null,null,null,null,null,null,null,null,null,null,null,null,null,null,null,null,null,null,null,null,null,null,null,null,null,null,null,null,null,null,null,null,null,null,null,null,null,null,null,null,null,null,null,null,null,null,null,null,null,null,null,null,null,null,null,null,null,null,null,null,null,null,null,null,null,null,null,null,null,null,null,null,null,null,null,null,null,null,null,null,null,null,null,null,null,null,null,null,null,null,null,null,null,null,null,null,null,null,null,null,null,null,null,null,null,null,null,null,null,null,null,null,null,null,null,null,null,null,null,null,null,null,null,null,null,null,null,null,null,null,null,null,null,null,null,null,null,null,null,null,null,null,null,null,null,null,null,null,null,null,null,null,null,null,null,null,null,null,null,null,null,null,null,null,null,null,null,null,null,null,null,37722.859375,38240.03125,38744.37109375,38721.99609375,39054.4609375,39322.63671875,38172.46875,37925.24609375,40747.7890625,41885.671875,42925.35546875,44259.96875,44819.68359375,45135.65625,44522.6015625,43406.08984375,42859.9140625,42575.6875,42872.390625,44496.94921875,44640.71484375,42193.3359375,40861.26171875,40501.8828125,39244.1796875,37857.22265625,38276.921875,37889.890625,38539.1015625,39490.02734375,39815.453125,38920.109375,42186.015625,44377.64453125,44817.19921875,43799.1953125,40932.90625,39977.94921875,39006.703125,38423.7890625,38834.77734375,41371.03515625,40701.97265625,39847.30078125,39537.78515625,38709.32421875,39707.578125,39905.234375,41243.4296875,41645.6171875,42317.1640625,42837.31640625,42306.94921875,41845.51171875,42615.2265625,43296.65234375,44329.1015625,44914.09375,45205.16796875,46927.6796875,47711.0859375,48106.3046875,47869.703125,46543.375,46640.9453125,46344.0546875,46719.62890625,47009.93359375,46298.5078125,44303.03515625,43863.7890625,42906.44921875,43031.12890625,42728.91015625,40743.546875,40462.5234375,41238.93359375,40744.22265625,41008.39453125,41018.546875,40523.61328125,41125.5390625,41874.39453125,42054.83984375,41456.56640625,40638.078125,40128.23046875,39967.5,40639.265625,39323.8828125,39573.90625,40093.03515625,39523.93359375,38608.1015625,38834.0,39023.00390625,38569.97265625,39739.796875,38097.80859375,36985.2890625,36197.859375,34962.390625,31860.560546875,31170.125,29834.333984375,29286.2734375,29347.029296875,30002.59765625,31181.125,30907.447265625,31025.1015625,30032.109375,30443.8828125,30054.966796875,29970.71484375,30463.685546875,30039.8515625,30102.775390625,30099.3984375,29895.978515625,29448.595703125,29457.337890625,29764.1640625,31300.365234375,32184.6328125,31343.23828125,31168.94921875,30643.384765625,30459.091796875,30430.9921875,31318.634765625,31670.021484375,31243.65625,30915.93359375,30139.755859375,29341.884765625,27870.955078125,24765.25390625,22960.615234375,22443.16015625,21202.275390625,20618.84765625,19667.240234375,19998.013671875,20385.900390625,20742.759765625,20599.326171875,21017.4296875,21385.021484375,21711.818359375,21657.220703125,21417.732421875,21015.75,20680.466796875,20408.416015625,19947.63671875,19656.427734375,19552.16796875,19975.390625,20283.529296875,20649.361328125,21383.376953125,21840.30078125,22053.966796875,21764.806640625,21073.08203125,20300.076171875,20275.931640625,20539.4296875,20869.697265625,21262.33203125,21307.626953125,22085.876953125,23098.591796875,23613.4453125,23781.94921875,23561.951171875,23242.888671875,23096.515625,22381.205078125,21889.49609375,22502.509765625,23451.9609375,24010.5546875,24205.73828125,24069.765625,23920.919921875,23674.162109375,23431.189453125,23194.265625,23424.7734375,23426.341796875,23524.626953125,23920.96875,23830.177734375,24142.2734375,24338.5859375,24674.578125,24883.26953125,24900.103515625,24763.064453125,24532.81640625,24120.21484375,23796.46875,22403.6484375,21702.8125,21595.62109375,21582.5234375,21690.748046875,21710.4609375,21823.89453125,21246.388671875,20740.994140625,20224.515625,20295.796875,20195.349609375,20251.830078125,20354.279296875,20341.69921875,20265.685546875,20294.26171875,20227.541015625,19696.880859375,19565.166015625,19554.751953125,20549.373046875,21423.37109375,22010.447265625,22572.173828125,21774.13671875,21141.994140625,20516.154296875,20204.623046875,20225.04296875,19963.22265625,19851.416015625,19501.109375,19081.96875,19280.736328125,19442.603515625,19375.908203125,19257.15234375,19376.82421875,19412.576171875,19581.53125,19782.912109375,19825.755859375,19771.70703125,19599.69921875,19745.41015625,20208.505859375,20444.427734375,20456.296875,20217.666015625,19980.466796875,19845.166015625,19634.45703125,19471.71875,19433.01953125,19538.640625,19536.298828125,19475.1640625,19523.341796875,19703.111328125,19725.01171875,19620.322265625,19498.37109375,19478.279296875,19499.56640625,19692.400390625,19719.20703125,20066.3125,20640.931640625,20782.212890625,20937.98828125,21118.677734375,21127.24609375,21032.107421875,20949.20703125,20736.05859375,20620.74609375,21022.88671875,21403.380859375,21433.94140625,21247.357421875,20110.65625,18084.78515625,17577.732421875,17244.728515625,17005.623046875,16697.189453125,16662.568359375,16832.041015625,16882.857421875,16922.3359375,16952.4375,16970.953125,16795.78125,16438.83984375,16380.173828125,16555.3515625,16708.708984375,16773.279296875,16771.4140625,16744.171875,16627.55859375,16638.28515625,16665.78125,16919.24609375,17165.6875,17228.44140625,17329.89453125,17330.6015625,17363.4765625,17273.072265625,17364.58984375,17404.927734375,17422.025390625,17408.439453125,17448.728515625,17730.439453125,17954.73828125,17884.4140625,17468.458984375,17216.328125,17065.734375,16863.09375,16938.05859375,17004.1953125,17051.447265625,17062.572265625,17090.21484375,17107.986328125,17155.373046875,17095.251953125,16970.560546875,16919.0078125,null],\"yaxis\":\"y\",\"type\":\"scattergl\"}],                        {\"template\":{\"data\":{\"bar\":[{\"error_x\":{\"color\":\"#2a3f5f\"},\"error_y\":{\"color\":\"#2a3f5f\"},\"marker\":{\"line\":{\"color\":\"#E5ECF6\",\"width\":0.5},\"pattern\":{\"fillmode\":\"overlay\",\"size\":10,\"solidity\":0.2}},\"type\":\"bar\"}],\"barpolar\":[{\"marker\":{\"line\":{\"color\":\"#E5ECF6\",\"width\":0.5},\"pattern\":{\"fillmode\":\"overlay\",\"size\":10,\"solidity\":0.2}},\"type\":\"barpolar\"}],\"carpet\":[{\"aaxis\":{\"endlinecolor\":\"#2a3f5f\",\"gridcolor\":\"white\",\"linecolor\":\"white\",\"minorgridcolor\":\"white\",\"startlinecolor\":\"#2a3f5f\"},\"baxis\":{\"endlinecolor\":\"#2a3f5f\",\"gridcolor\":\"white\",\"linecolor\":\"white\",\"minorgridcolor\":\"white\",\"startlinecolor\":\"#2a3f5f\"},\"type\":\"carpet\"}],\"choropleth\":[{\"colorbar\":{\"outlinewidth\":0,\"ticks\":\"\"},\"type\":\"choropleth\"}],\"contour\":[{\"colorbar\":{\"outlinewidth\":0,\"ticks\":\"\"},\"colorscale\":[[0.0,\"#0d0887\"],[0.1111111111111111,\"#46039f\"],[0.2222222222222222,\"#7201a8\"],[0.3333333333333333,\"#9c179e\"],[0.4444444444444444,\"#bd3786\"],[0.5555555555555556,\"#d8576b\"],[0.6666666666666666,\"#ed7953\"],[0.7777777777777778,\"#fb9f3a\"],[0.8888888888888888,\"#fdca26\"],[1.0,\"#f0f921\"]],\"type\":\"contour\"}],\"contourcarpet\":[{\"colorbar\":{\"outlinewidth\":0,\"ticks\":\"\"},\"type\":\"contourcarpet\"}],\"heatmap\":[{\"colorbar\":{\"outlinewidth\":0,\"ticks\":\"\"},\"colorscale\":[[0.0,\"#0d0887\"],[0.1111111111111111,\"#46039f\"],[0.2222222222222222,\"#7201a8\"],[0.3333333333333333,\"#9c179e\"],[0.4444444444444444,\"#bd3786\"],[0.5555555555555556,\"#d8576b\"],[0.6666666666666666,\"#ed7953\"],[0.7777777777777778,\"#fb9f3a\"],[0.8888888888888888,\"#fdca26\"],[1.0,\"#f0f921\"]],\"type\":\"heatmap\"}],\"heatmapgl\":[{\"colorbar\":{\"outlinewidth\":0,\"ticks\":\"\"},\"colorscale\":[[0.0,\"#0d0887\"],[0.1111111111111111,\"#46039f\"],[0.2222222222222222,\"#7201a8\"],[0.3333333333333333,\"#9c179e\"],[0.4444444444444444,\"#bd3786\"],[0.5555555555555556,\"#d8576b\"],[0.6666666666666666,\"#ed7953\"],[0.7777777777777778,\"#fb9f3a\"],[0.8888888888888888,\"#fdca26\"],[1.0,\"#f0f921\"]],\"type\":\"heatmapgl\"}],\"histogram\":[{\"marker\":{\"pattern\":{\"fillmode\":\"overlay\",\"size\":10,\"solidity\":0.2}},\"type\":\"histogram\"}],\"histogram2d\":[{\"colorbar\":{\"outlinewidth\":0,\"ticks\":\"\"},\"colorscale\":[[0.0,\"#0d0887\"],[0.1111111111111111,\"#46039f\"],[0.2222222222222222,\"#7201a8\"],[0.3333333333333333,\"#9c179e\"],[0.4444444444444444,\"#bd3786\"],[0.5555555555555556,\"#d8576b\"],[0.6666666666666666,\"#ed7953\"],[0.7777777777777778,\"#fb9f3a\"],[0.8888888888888888,\"#fdca26\"],[1.0,\"#f0f921\"]],\"type\":\"histogram2d\"}],\"histogram2dcontour\":[{\"colorbar\":{\"outlinewidth\":0,\"ticks\":\"\"},\"colorscale\":[[0.0,\"#0d0887\"],[0.1111111111111111,\"#46039f\"],[0.2222222222222222,\"#7201a8\"],[0.3333333333333333,\"#9c179e\"],[0.4444444444444444,\"#bd3786\"],[0.5555555555555556,\"#d8576b\"],[0.6666666666666666,\"#ed7953\"],[0.7777777777777778,\"#fb9f3a\"],[0.8888888888888888,\"#fdca26\"],[1.0,\"#f0f921\"]],\"type\":\"histogram2dcontour\"}],\"mesh3d\":[{\"colorbar\":{\"outlinewidth\":0,\"ticks\":\"\"},\"type\":\"mesh3d\"}],\"parcoords\":[{\"line\":{\"colorbar\":{\"outlinewidth\":0,\"ticks\":\"\"}},\"type\":\"parcoords\"}],\"pie\":[{\"automargin\":true,\"type\":\"pie\"}],\"scatter\":[{\"marker\":{\"colorbar\":{\"outlinewidth\":0,\"ticks\":\"\"}},\"type\":\"scatter\"}],\"scatter3d\":[{\"line\":{\"colorbar\":{\"outlinewidth\":0,\"ticks\":\"\"}},\"marker\":{\"colorbar\":{\"outlinewidth\":0,\"ticks\":\"\"}},\"type\":\"scatter3d\"}],\"scattercarpet\":[{\"marker\":{\"colorbar\":{\"outlinewidth\":0,\"ticks\":\"\"}},\"type\":\"scattercarpet\"}],\"scattergeo\":[{\"marker\":{\"colorbar\":{\"outlinewidth\":0,\"ticks\":\"\"}},\"type\":\"scattergeo\"}],\"scattergl\":[{\"marker\":{\"colorbar\":{\"outlinewidth\":0,\"ticks\":\"\"}},\"type\":\"scattergl\"}],\"scattermapbox\":[{\"marker\":{\"colorbar\":{\"outlinewidth\":0,\"ticks\":\"\"}},\"type\":\"scattermapbox\"}],\"scatterpolar\":[{\"marker\":{\"colorbar\":{\"outlinewidth\":0,\"ticks\":\"\"}},\"type\":\"scatterpolar\"}],\"scatterpolargl\":[{\"marker\":{\"colorbar\":{\"outlinewidth\":0,\"ticks\":\"\"}},\"type\":\"scatterpolargl\"}],\"scatterternary\":[{\"marker\":{\"colorbar\":{\"outlinewidth\":0,\"ticks\":\"\"}},\"type\":\"scatterternary\"}],\"surface\":[{\"colorbar\":{\"outlinewidth\":0,\"ticks\":\"\"},\"colorscale\":[[0.0,\"#0d0887\"],[0.1111111111111111,\"#46039f\"],[0.2222222222222222,\"#7201a8\"],[0.3333333333333333,\"#9c179e\"],[0.4444444444444444,\"#bd3786\"],[0.5555555555555556,\"#d8576b\"],[0.6666666666666666,\"#ed7953\"],[0.7777777777777778,\"#fb9f3a\"],[0.8888888888888888,\"#fdca26\"],[1.0,\"#f0f921\"]],\"type\":\"surface\"}],\"table\":[{\"cells\":{\"fill\":{\"color\":\"#EBF0F8\"},\"line\":{\"color\":\"white\"}},\"header\":{\"fill\":{\"color\":\"#C8D4E3\"},\"line\":{\"color\":\"white\"}},\"type\":\"table\"}]},\"layout\":{\"annotationdefaults\":{\"arrowcolor\":\"#2a3f5f\",\"arrowhead\":0,\"arrowwidth\":1},\"autotypenumbers\":\"strict\",\"coloraxis\":{\"colorbar\":{\"outlinewidth\":0,\"ticks\":\"\"}},\"colorscale\":{\"diverging\":[[0,\"#8e0152\"],[0.1,\"#c51b7d\"],[0.2,\"#de77ae\"],[0.3,\"#f1b6da\"],[0.4,\"#fde0ef\"],[0.5,\"#f7f7f7\"],[0.6,\"#e6f5d0\"],[0.7,\"#b8e186\"],[0.8,\"#7fbc41\"],[0.9,\"#4d9221\"],[1,\"#276419\"]],\"sequential\":[[0.0,\"#0d0887\"],[0.1111111111111111,\"#46039f\"],[0.2222222222222222,\"#7201a8\"],[0.3333333333333333,\"#9c179e\"],[0.4444444444444444,\"#bd3786\"],[0.5555555555555556,\"#d8576b\"],[0.6666666666666666,\"#ed7953\"],[0.7777777777777778,\"#fb9f3a\"],[0.8888888888888888,\"#fdca26\"],[1.0,\"#f0f921\"]],\"sequentialminus\":[[0.0,\"#0d0887\"],[0.1111111111111111,\"#46039f\"],[0.2222222222222222,\"#7201a8\"],[0.3333333333333333,\"#9c179e\"],[0.4444444444444444,\"#bd3786\"],[0.5555555555555556,\"#d8576b\"],[0.6666666666666666,\"#ed7953\"],[0.7777777777777778,\"#fb9f3a\"],[0.8888888888888888,\"#fdca26\"],[1.0,\"#f0f921\"]]},\"colorway\":[\"#636efa\",\"#EF553B\",\"#00cc96\",\"#ab63fa\",\"#FFA15A\",\"#19d3f3\",\"#FF6692\",\"#B6E880\",\"#FF97FF\",\"#FECB52\"],\"font\":{\"color\":\"#2a3f5f\"},\"geo\":{\"bgcolor\":\"white\",\"lakecolor\":\"white\",\"landcolor\":\"#E5ECF6\",\"showlakes\":true,\"showland\":true,\"subunitcolor\":\"white\"},\"hoverlabel\":{\"align\":\"left\"},\"hovermode\":\"closest\",\"mapbox\":{\"style\":\"light\"},\"paper_bgcolor\":\"white\",\"plot_bgcolor\":\"#E5ECF6\",\"polar\":{\"angularaxis\":{\"gridcolor\":\"white\",\"linecolor\":\"white\",\"ticks\":\"\"},\"bgcolor\":\"#E5ECF6\",\"radialaxis\":{\"gridcolor\":\"white\",\"linecolor\":\"white\",\"ticks\":\"\"}},\"scene\":{\"xaxis\":{\"backgroundcolor\":\"#E5ECF6\",\"gridcolor\":\"white\",\"gridwidth\":2,\"linecolor\":\"white\",\"showbackground\":true,\"ticks\":\"\",\"zerolinecolor\":\"white\"},\"yaxis\":{\"backgroundcolor\":\"#E5ECF6\",\"gridcolor\":\"white\",\"gridwidth\":2,\"linecolor\":\"white\",\"showbackground\":true,\"ticks\":\"\",\"zerolinecolor\":\"white\"},\"zaxis\":{\"backgroundcolor\":\"#E5ECF6\",\"gridcolor\":\"white\",\"gridwidth\":2,\"linecolor\":\"white\",\"showbackground\":true,\"ticks\":\"\",\"zerolinecolor\":\"white\"}},\"shapedefaults\":{\"line\":{\"color\":\"#2a3f5f\"}},\"ternary\":{\"aaxis\":{\"gridcolor\":\"white\",\"linecolor\":\"white\",\"ticks\":\"\"},\"baxis\":{\"gridcolor\":\"white\",\"linecolor\":\"white\",\"ticks\":\"\"},\"bgcolor\":\"#E5ECF6\",\"caxis\":{\"gridcolor\":\"white\",\"linecolor\":\"white\",\"ticks\":\"\"}},\"title\":{\"x\":0.05},\"xaxis\":{\"automargin\":true,\"gridcolor\":\"white\",\"linecolor\":\"white\",\"ticks\":\"\",\"title\":{\"standoff\":15},\"zerolinecolor\":\"white\",\"zerolinewidth\":2},\"yaxis\":{\"automargin\":true,\"gridcolor\":\"white\",\"linecolor\":\"white\",\"ticks\":\"\",\"title\":{\"standoff\":15},\"zerolinecolor\":\"white\",\"zerolinewidth\":2}}},\"xaxis\":{\"anchor\":\"y\",\"domain\":[0.0,1.0],\"title\":{\"text\":\"Date\"},\"showgrid\":false},\"yaxis\":{\"anchor\":\"x\",\"domain\":[0.0,1.0],\"title\":{\"text\":\"Bitcoin price\"},\"showgrid\":false},\"legend\":{\"title\":{\"text\":\"Close Price\"},\"tracegroupgap\":0},\"margin\":{\"t\":60},\"title\":{\"text\":\"Comparision between original close price vs predicted close price\"},\"font\":{\"size\":15,\"color\":\"black\"},\"plot_bgcolor\":\"white\"},                        {\"responsive\": true}                    ).then(function(){\n",
              "                            \n",
              "var gd = document.getElementById('815d88aa-95d3-4c8e-9fe6-b7f658ca1ad3');\n",
              "var x = new MutationObserver(function (mutations, observer) {{\n",
              "        var display = window.getComputedStyle(gd).display;\n",
              "        if (!display || display === 'none') {{\n",
              "            console.log([gd, 'removed!']);\n",
              "            Plotly.purge(gd);\n",
              "            observer.disconnect();\n",
              "        }}\n",
              "}});\n",
              "\n",
              "// Listen for the removal of the full notebook cells\n",
              "var notebookContainer = gd.closest('#notebook-container');\n",
              "if (notebookContainer) {{\n",
              "    x.observe(notebookContainer, {childList: true});\n",
              "}}\n",
              "\n",
              "// Listen for the clearing of the current output cell\n",
              "var outputEl = gd.closest('.output');\n",
              "if (outputEl) {{\n",
              "    x.observe(outputEl, {childList: true});\n",
              "}}\n",
              "\n",
              "                        })                };                            </script>        </div>\n",
              "</body>\n",
              "</html>"
            ]
          },
          "metadata": {}
        }
      ]
    },
    {
      "cell_type": "markdown",
      "source": [
        "Predicting next 30 days"
      ],
      "metadata": {
        "id": "T4v3PcwHrFD_"
      }
    },
    {
      "cell_type": "code",
      "source": [
        "x_input=test_data[len(test_data)-time_step:].reshape(1,-1)\n",
        "temp_input=list(x_input)\n",
        "temp_input=temp_input[0].tolist()\n",
        "\n",
        "from numpy import array\n",
        "\n",
        "lst_output=[]\n",
        "n_steps=time_step\n",
        "i=0\n",
        "pred_days = 30\n",
        "while(i<pred_days):\n",
        "    \n",
        "    if(len(temp_input)>time_step):\n",
        "        \n",
        "        x_input=np.array(temp_input[1:])\n",
        "        #print(\"{} day input {}\".format(i,x_input))\n",
        "        x_input = x_input.reshape(1,-1)\n",
        "        x_input = x_input.reshape((1, n_steps, 1))\n",
        "        \n",
        "        yhat = model.predict(x_input, verbose=0)\n",
        "        #print(\"{} day output {}\".format(i,yhat))\n",
        "        temp_input.extend(yhat[0].tolist())\n",
        "        temp_input=temp_input[1:]\n",
        "        #print(temp_input)\n",
        "       \n",
        "        lst_output.extend(yhat.tolist())\n",
        "        i=i+1\n",
        "        \n",
        "    else:\n",
        "        \n",
        "        x_input = x_input.reshape((1, n_steps,1))\n",
        "        yhat = model.predict(x_input, verbose=0)\n",
        "        temp_input.extend(yhat[0].tolist())\n",
        "        \n",
        "        lst_output.extend(yhat.tolist())\n",
        "        i=i+1\n",
        "               \n",
        "print(\"Output of predicted next days: \", len(lst_output))"
      ],
      "metadata": {
        "colab": {
          "base_uri": "https://localhost:8080/"
        },
        "id": "2ZwEtcUgrE2U",
        "outputId": "c6b8af0f-84a9-4c32-f13a-7fdd21ba415e"
      },
      "execution_count": 70,
      "outputs": [
        {
          "output_type": "stream",
          "name": "stdout",
          "text": [
            "Output of predicted next days:  30\n"
          ]
        }
      ]
    },
    {
      "cell_type": "markdown",
      "source": [
        "Plotting last 30 days of dataset and next predicted 30 days\n"
      ],
      "metadata": {
        "id": "CXLgxQm2rOWd"
      }
    },
    {
      "cell_type": "code",
      "source": [
        "last_days=np.arange(1,time_step+1)\n",
        "day_pred=np.arange(time_step+1,time_step+pred_days+1)\n",
        "print(last_days)\n",
        "print(day_pred)"
      ],
      "metadata": {
        "colab": {
          "base_uri": "https://localhost:8080/"
        },
        "id": "0aulXMQ9rLS9",
        "outputId": "992a31a0-5c7c-468f-a7b4-84e35bce2517"
      },
      "execution_count": 71,
      "outputs": [
        {
          "output_type": "stream",
          "name": "stdout",
          "text": [
            "[ 1  2  3  4  5  6  7  8  9 10 11 12 13 14 15 16 17 18 19 20 21 22 23 24\n",
            " 25 26 27 28 29 30]\n",
            "[31 32 33 34 35 36 37 38 39 40 41 42 43 44 45 46 47 48 49 50 51 52 53 54\n",
            " 55 56 57 58 59 60]\n"
          ]
        }
      ]
    },
    {
      "cell_type": "code",
      "source": [
        "temp_mat = np.empty((len(last_days)+pred_days+1,1))\n",
        "temp_mat[:] = np.nan\n",
        "temp_mat = temp_mat.reshape(1,-1).tolist()[0]\n",
        "\n",
        "last_original_days_value = temp_mat\n",
        "next_predicted_days_value = temp_mat\n",
        "\n",
        "last_original_days_value[0:time_step+1] = scaler.inverse_transform(closedf[len(closedf)-time_step:]).reshape(1,-1).tolist()[0]\n",
        "next_predicted_days_value[time_step+1:] = scaler.inverse_transform(np.array(lst_output).reshape(-1,1)).reshape(1,-1).tolist()[0]\n",
        "\n",
        "new_pred_plot = pd.DataFrame({\n",
        "    'last_original_days_value':last_original_days_value,\n",
        "    'next_predicted_days_value':next_predicted_days_value\n",
        "})\n",
        "\n",
        "names = cycle(['Last 30 days close price','Predicted next 30 days close price'])\n",
        "\n",
        "fig = px.line(new_pred_plot,x=new_pred_plot.index, y=[new_pred_plot['last_original_days_value'],\n",
        "                                                      new_pred_plot['next_predicted_days_value']],\n",
        "              labels={'value': 'Bitcoin price','index': 'Timestamp'})\n",
        "fig.update_layout(title_text='Compare last 30 days vs next 30 days',\n",
        "                  plot_bgcolor='white', font_size=15, font_color='black',legend_title_text='Close Price')\n",
        "\n",
        "fig.for_each_trace(lambda t:  t.update(name = next(names)))\n",
        "fig.update_xaxes(showgrid=False)\n",
        "fig.update_yaxes(showgrid=False)\n",
        "fig.show()"
      ],
      "metadata": {
        "colab": {
          "base_uri": "https://localhost:8080/",
          "height": 542
        },
        "id": "Yrz2bREerZtY",
        "outputId": "85419188-b52a-4453-c0fa-d0f4e1be6143"
      },
      "execution_count": 72,
      "outputs": [
        {
          "output_type": "display_data",
          "data": {
            "text/html": [
              "<html>\n",
              "<head><meta charset=\"utf-8\" /></head>\n",
              "<body>\n",
              "    <div>            <script src=\"https://cdnjs.cloudflare.com/ajax/libs/mathjax/2.7.5/MathJax.js?config=TeX-AMS-MML_SVG\"></script><script type=\"text/javascript\">if (window.MathJax) {MathJax.Hub.Config({SVG: {font: \"STIX-Web\"}});}</script>                <script type=\"text/javascript\">window.PlotlyConfig = {MathJaxConfig: 'local'};</script>\n",
              "        <script src=\"https://cdn.plot.ly/plotly-2.8.3.min.js\"></script>                <div id=\"a9279aab-7c33-4929-9a0a-5db4aa4577e8\" class=\"plotly-graph-div\" style=\"height:525px; width:100%;\"></div>            <script type=\"text/javascript\">                                    window.PLOTLYENV=window.PLOTLYENV || {};                                    if (document.getElementById(\"a9279aab-7c33-4929-9a0a-5db4aa4577e8\")) {                    Plotly.newPlot(                        \"a9279aab-7c33-4929-9a0a-5db4aa4577e8\",                        [{\"hovertemplate\":\"variable=last_original_days_value<br>Timestamp=%{x}<br>Bitcoin price=%{y}<extra></extra>\",\"legendgroup\":\"last_original_days_value\",\"line\":{\"color\":\"#636efa\",\"dash\":\"solid\"},\"marker\":{\"symbol\":\"circle\"},\"mode\":\"lines\",\"name\":\"Last 30 days close price\",\"orientation\":\"v\",\"showlegend\":true,\"x\":[0,1,2,3,4,5,6,7,8,9,10,11,12,13,14,15,16,17,18,19,20,21,22,23,24,25,26,27,28,29,30,31,32,33,34,35,36,37,38,39,40,41,42,43,44,45,46,47,48,49,50,51,52,53,54,55,56,57,58,59,60],\"xaxis\":\"x\",\"y\":[17092.74,16885.2,17105.7,16966.35,17088.96,16836.64,17224.1,17128.56,17127.49,17085.05,17209.83,17774.7,17803.15,17356.34,16632.12,16776.52,16738.21,16438.88,16895.56,16824.67,16821.43,16778.5,16836.12,16832.11,16919.39,16706.36,16547.31,16633.47,16607.48,16542.4,null,16844.733706797808,16950.542798466682,17088.078229767085,17240.994299180955,17404.578775565922,17576.549815857114,17755.430595122576,17940.31259289801,18130.48087641299,18325.6402723521,18525.42948091045,18729.664497943373,18938.361615484508,19151.548625826537,19369.432533632218,19592.046881323757,19819.729009833038,20052.647589626016,20290.921456712782,20534.818950470984,20784.524075045287,21040.228501419722,21302.075982832313,21570.231356329325,21844.838375148775,22126.065709756615,22414.074363779426,22709.002340325715,23011.07964457631,23320.49986422509],\"yaxis\":\"y\",\"type\":\"scatter\"},{\"hovertemplate\":\"variable=next_predicted_days_value<br>Timestamp=%{x}<br>Bitcoin price=%{y}<extra></extra>\",\"legendgroup\":\"next_predicted_days_value\",\"line\":{\"color\":\"#EF553B\",\"dash\":\"solid\"},\"marker\":{\"symbol\":\"circle\"},\"mode\":\"lines\",\"name\":\"Predicted next 30 days close price\",\"orientation\":\"v\",\"showlegend\":true,\"x\":[0,1,2,3,4,5,6,7,8,9,10,11,12,13,14,15,16,17,18,19,20,21,22,23,24,25,26,27,28,29,30,31,32,33,34,35,36,37,38,39,40,41,42,43,44,45,46,47,48,49,50,51,52,53,54,55,56,57,58,59,60],\"xaxis\":\"x\",\"y\":[17092.74,16885.2,17105.7,16966.35,17088.96,16836.64,17224.1,17128.56,17127.49,17085.05,17209.83,17774.7,17803.15,17356.34,16632.12,16776.52,16738.21,16438.88,16895.56,16824.67,16821.43,16778.5,16836.12,16832.11,16919.39,16706.36,16547.31,16633.47,16607.48,16542.4,null,16844.733706797808,16950.542798466682,17088.078229767085,17240.994299180955,17404.578775565922,17576.549815857114,17755.430595122576,17940.31259289801,18130.48087641299,18325.6402723521,18525.42948091045,18729.664497943373,18938.361615484508,19151.548625826537,19369.432533632218,19592.046881323757,19819.729009833038,20052.647589626016,20290.921456712782,20534.818950470984,20784.524075045287,21040.228501419722,21302.075982832313,21570.231356329325,21844.838375148775,22126.065709756615,22414.074363779426,22709.002340325715,23011.07964457631,23320.49986422509],\"yaxis\":\"y\",\"type\":\"scatter\"}],                        {\"template\":{\"data\":{\"bar\":[{\"error_x\":{\"color\":\"#2a3f5f\"},\"error_y\":{\"color\":\"#2a3f5f\"},\"marker\":{\"line\":{\"color\":\"#E5ECF6\",\"width\":0.5},\"pattern\":{\"fillmode\":\"overlay\",\"size\":10,\"solidity\":0.2}},\"type\":\"bar\"}],\"barpolar\":[{\"marker\":{\"line\":{\"color\":\"#E5ECF6\",\"width\":0.5},\"pattern\":{\"fillmode\":\"overlay\",\"size\":10,\"solidity\":0.2}},\"type\":\"barpolar\"}],\"carpet\":[{\"aaxis\":{\"endlinecolor\":\"#2a3f5f\",\"gridcolor\":\"white\",\"linecolor\":\"white\",\"minorgridcolor\":\"white\",\"startlinecolor\":\"#2a3f5f\"},\"baxis\":{\"endlinecolor\":\"#2a3f5f\",\"gridcolor\":\"white\",\"linecolor\":\"white\",\"minorgridcolor\":\"white\",\"startlinecolor\":\"#2a3f5f\"},\"type\":\"carpet\"}],\"choropleth\":[{\"colorbar\":{\"outlinewidth\":0,\"ticks\":\"\"},\"type\":\"choropleth\"}],\"contour\":[{\"colorbar\":{\"outlinewidth\":0,\"ticks\":\"\"},\"colorscale\":[[0.0,\"#0d0887\"],[0.1111111111111111,\"#46039f\"],[0.2222222222222222,\"#7201a8\"],[0.3333333333333333,\"#9c179e\"],[0.4444444444444444,\"#bd3786\"],[0.5555555555555556,\"#d8576b\"],[0.6666666666666666,\"#ed7953\"],[0.7777777777777778,\"#fb9f3a\"],[0.8888888888888888,\"#fdca26\"],[1.0,\"#f0f921\"]],\"type\":\"contour\"}],\"contourcarpet\":[{\"colorbar\":{\"outlinewidth\":0,\"ticks\":\"\"},\"type\":\"contourcarpet\"}],\"heatmap\":[{\"colorbar\":{\"outlinewidth\":0,\"ticks\":\"\"},\"colorscale\":[[0.0,\"#0d0887\"],[0.1111111111111111,\"#46039f\"],[0.2222222222222222,\"#7201a8\"],[0.3333333333333333,\"#9c179e\"],[0.4444444444444444,\"#bd3786\"],[0.5555555555555556,\"#d8576b\"],[0.6666666666666666,\"#ed7953\"],[0.7777777777777778,\"#fb9f3a\"],[0.8888888888888888,\"#fdca26\"],[1.0,\"#f0f921\"]],\"type\":\"heatmap\"}],\"heatmapgl\":[{\"colorbar\":{\"outlinewidth\":0,\"ticks\":\"\"},\"colorscale\":[[0.0,\"#0d0887\"],[0.1111111111111111,\"#46039f\"],[0.2222222222222222,\"#7201a8\"],[0.3333333333333333,\"#9c179e\"],[0.4444444444444444,\"#bd3786\"],[0.5555555555555556,\"#d8576b\"],[0.6666666666666666,\"#ed7953\"],[0.7777777777777778,\"#fb9f3a\"],[0.8888888888888888,\"#fdca26\"],[1.0,\"#f0f921\"]],\"type\":\"heatmapgl\"}],\"histogram\":[{\"marker\":{\"pattern\":{\"fillmode\":\"overlay\",\"size\":10,\"solidity\":0.2}},\"type\":\"histogram\"}],\"histogram2d\":[{\"colorbar\":{\"outlinewidth\":0,\"ticks\":\"\"},\"colorscale\":[[0.0,\"#0d0887\"],[0.1111111111111111,\"#46039f\"],[0.2222222222222222,\"#7201a8\"],[0.3333333333333333,\"#9c179e\"],[0.4444444444444444,\"#bd3786\"],[0.5555555555555556,\"#d8576b\"],[0.6666666666666666,\"#ed7953\"],[0.7777777777777778,\"#fb9f3a\"],[0.8888888888888888,\"#fdca26\"],[1.0,\"#f0f921\"]],\"type\":\"histogram2d\"}],\"histogram2dcontour\":[{\"colorbar\":{\"outlinewidth\":0,\"ticks\":\"\"},\"colorscale\":[[0.0,\"#0d0887\"],[0.1111111111111111,\"#46039f\"],[0.2222222222222222,\"#7201a8\"],[0.3333333333333333,\"#9c179e\"],[0.4444444444444444,\"#bd3786\"],[0.5555555555555556,\"#d8576b\"],[0.6666666666666666,\"#ed7953\"],[0.7777777777777778,\"#fb9f3a\"],[0.8888888888888888,\"#fdca26\"],[1.0,\"#f0f921\"]],\"type\":\"histogram2dcontour\"}],\"mesh3d\":[{\"colorbar\":{\"outlinewidth\":0,\"ticks\":\"\"},\"type\":\"mesh3d\"}],\"parcoords\":[{\"line\":{\"colorbar\":{\"outlinewidth\":0,\"ticks\":\"\"}},\"type\":\"parcoords\"}],\"pie\":[{\"automargin\":true,\"type\":\"pie\"}],\"scatter\":[{\"marker\":{\"colorbar\":{\"outlinewidth\":0,\"ticks\":\"\"}},\"type\":\"scatter\"}],\"scatter3d\":[{\"line\":{\"colorbar\":{\"outlinewidth\":0,\"ticks\":\"\"}},\"marker\":{\"colorbar\":{\"outlinewidth\":0,\"ticks\":\"\"}},\"type\":\"scatter3d\"}],\"scattercarpet\":[{\"marker\":{\"colorbar\":{\"outlinewidth\":0,\"ticks\":\"\"}},\"type\":\"scattercarpet\"}],\"scattergeo\":[{\"marker\":{\"colorbar\":{\"outlinewidth\":0,\"ticks\":\"\"}},\"type\":\"scattergeo\"}],\"scattergl\":[{\"marker\":{\"colorbar\":{\"outlinewidth\":0,\"ticks\":\"\"}},\"type\":\"scattergl\"}],\"scattermapbox\":[{\"marker\":{\"colorbar\":{\"outlinewidth\":0,\"ticks\":\"\"}},\"type\":\"scattermapbox\"}],\"scatterpolar\":[{\"marker\":{\"colorbar\":{\"outlinewidth\":0,\"ticks\":\"\"}},\"type\":\"scatterpolar\"}],\"scatterpolargl\":[{\"marker\":{\"colorbar\":{\"outlinewidth\":0,\"ticks\":\"\"}},\"type\":\"scatterpolargl\"}],\"scatterternary\":[{\"marker\":{\"colorbar\":{\"outlinewidth\":0,\"ticks\":\"\"}},\"type\":\"scatterternary\"}],\"surface\":[{\"colorbar\":{\"outlinewidth\":0,\"ticks\":\"\"},\"colorscale\":[[0.0,\"#0d0887\"],[0.1111111111111111,\"#46039f\"],[0.2222222222222222,\"#7201a8\"],[0.3333333333333333,\"#9c179e\"],[0.4444444444444444,\"#bd3786\"],[0.5555555555555556,\"#d8576b\"],[0.6666666666666666,\"#ed7953\"],[0.7777777777777778,\"#fb9f3a\"],[0.8888888888888888,\"#fdca26\"],[1.0,\"#f0f921\"]],\"type\":\"surface\"}],\"table\":[{\"cells\":{\"fill\":{\"color\":\"#EBF0F8\"},\"line\":{\"color\":\"white\"}},\"header\":{\"fill\":{\"color\":\"#C8D4E3\"},\"line\":{\"color\":\"white\"}},\"type\":\"table\"}]},\"layout\":{\"annotationdefaults\":{\"arrowcolor\":\"#2a3f5f\",\"arrowhead\":0,\"arrowwidth\":1},\"autotypenumbers\":\"strict\",\"coloraxis\":{\"colorbar\":{\"outlinewidth\":0,\"ticks\":\"\"}},\"colorscale\":{\"diverging\":[[0,\"#8e0152\"],[0.1,\"#c51b7d\"],[0.2,\"#de77ae\"],[0.3,\"#f1b6da\"],[0.4,\"#fde0ef\"],[0.5,\"#f7f7f7\"],[0.6,\"#e6f5d0\"],[0.7,\"#b8e186\"],[0.8,\"#7fbc41\"],[0.9,\"#4d9221\"],[1,\"#276419\"]],\"sequential\":[[0.0,\"#0d0887\"],[0.1111111111111111,\"#46039f\"],[0.2222222222222222,\"#7201a8\"],[0.3333333333333333,\"#9c179e\"],[0.4444444444444444,\"#bd3786\"],[0.5555555555555556,\"#d8576b\"],[0.6666666666666666,\"#ed7953\"],[0.7777777777777778,\"#fb9f3a\"],[0.8888888888888888,\"#fdca26\"],[1.0,\"#f0f921\"]],\"sequentialminus\":[[0.0,\"#0d0887\"],[0.1111111111111111,\"#46039f\"],[0.2222222222222222,\"#7201a8\"],[0.3333333333333333,\"#9c179e\"],[0.4444444444444444,\"#bd3786\"],[0.5555555555555556,\"#d8576b\"],[0.6666666666666666,\"#ed7953\"],[0.7777777777777778,\"#fb9f3a\"],[0.8888888888888888,\"#fdca26\"],[1.0,\"#f0f921\"]]},\"colorway\":[\"#636efa\",\"#EF553B\",\"#00cc96\",\"#ab63fa\",\"#FFA15A\",\"#19d3f3\",\"#FF6692\",\"#B6E880\",\"#FF97FF\",\"#FECB52\"],\"font\":{\"color\":\"#2a3f5f\"},\"geo\":{\"bgcolor\":\"white\",\"lakecolor\":\"white\",\"landcolor\":\"#E5ECF6\",\"showlakes\":true,\"showland\":true,\"subunitcolor\":\"white\"},\"hoverlabel\":{\"align\":\"left\"},\"hovermode\":\"closest\",\"mapbox\":{\"style\":\"light\"},\"paper_bgcolor\":\"white\",\"plot_bgcolor\":\"#E5ECF6\",\"polar\":{\"angularaxis\":{\"gridcolor\":\"white\",\"linecolor\":\"white\",\"ticks\":\"\"},\"bgcolor\":\"#E5ECF6\",\"radialaxis\":{\"gridcolor\":\"white\",\"linecolor\":\"white\",\"ticks\":\"\"}},\"scene\":{\"xaxis\":{\"backgroundcolor\":\"#E5ECF6\",\"gridcolor\":\"white\",\"gridwidth\":2,\"linecolor\":\"white\",\"showbackground\":true,\"ticks\":\"\",\"zerolinecolor\":\"white\"},\"yaxis\":{\"backgroundcolor\":\"#E5ECF6\",\"gridcolor\":\"white\",\"gridwidth\":2,\"linecolor\":\"white\",\"showbackground\":true,\"ticks\":\"\",\"zerolinecolor\":\"white\"},\"zaxis\":{\"backgroundcolor\":\"#E5ECF6\",\"gridcolor\":\"white\",\"gridwidth\":2,\"linecolor\":\"white\",\"showbackground\":true,\"ticks\":\"\",\"zerolinecolor\":\"white\"}},\"shapedefaults\":{\"line\":{\"color\":\"#2a3f5f\"}},\"ternary\":{\"aaxis\":{\"gridcolor\":\"white\",\"linecolor\":\"white\",\"ticks\":\"\"},\"baxis\":{\"gridcolor\":\"white\",\"linecolor\":\"white\",\"ticks\":\"\"},\"bgcolor\":\"#E5ECF6\",\"caxis\":{\"gridcolor\":\"white\",\"linecolor\":\"white\",\"ticks\":\"\"}},\"title\":{\"x\":0.05},\"xaxis\":{\"automargin\":true,\"gridcolor\":\"white\",\"linecolor\":\"white\",\"ticks\":\"\",\"title\":{\"standoff\":15},\"zerolinecolor\":\"white\",\"zerolinewidth\":2},\"yaxis\":{\"automargin\":true,\"gridcolor\":\"white\",\"linecolor\":\"white\",\"ticks\":\"\",\"title\":{\"standoff\":15},\"zerolinecolor\":\"white\",\"zerolinewidth\":2}}},\"xaxis\":{\"anchor\":\"y\",\"domain\":[0.0,1.0],\"title\":{\"text\":\"Timestamp\"},\"showgrid\":false},\"yaxis\":{\"anchor\":\"x\",\"domain\":[0.0,1.0],\"title\":{\"text\":\"Bitcoin price\"},\"showgrid\":false},\"legend\":{\"title\":{\"text\":\"Close Price\"},\"tracegroupgap\":0},\"margin\":{\"t\":60},\"title\":{\"text\":\"Compare last 30 days vs next 30 days\"},\"font\":{\"size\":15,\"color\":\"black\"},\"plot_bgcolor\":\"white\"},                        {\"responsive\": true}                    ).then(function(){\n",
              "                            \n",
              "var gd = document.getElementById('a9279aab-7c33-4929-9a0a-5db4aa4577e8');\n",
              "var x = new MutationObserver(function (mutations, observer) {{\n",
              "        var display = window.getComputedStyle(gd).display;\n",
              "        if (!display || display === 'none') {{\n",
              "            console.log([gd, 'removed!']);\n",
              "            Plotly.purge(gd);\n",
              "            observer.disconnect();\n",
              "        }}\n",
              "}});\n",
              "\n",
              "// Listen for the removal of the full notebook cells\n",
              "var notebookContainer = gd.closest('#notebook-container');\n",
              "if (notebookContainer) {{\n",
              "    x.observe(notebookContainer, {childList: true});\n",
              "}}\n",
              "\n",
              "// Listen for the clearing of the current output cell\n",
              "var outputEl = gd.closest('.output');\n",
              "if (outputEl) {{\n",
              "    x.observe(outputEl, {childList: true});\n",
              "}}\n",
              "\n",
              "                        })                };                            </script>        </div>\n",
              "</body>\n",
              "</html>"
            ]
          },
          "metadata": {}
        }
      ]
    },
    {
      "cell_type": "markdown",
      "source": [
        "Plotting entire Closing Bitcoin Price with next 30 days period of prediction"
      ],
      "metadata": {
        "id": "2-sSVTZrsKj7"
      }
    },
    {
      "cell_type": "code",
      "source": [
        "lstmdf=closedf.tolist()\n",
        "lstmdf.extend((np.array(lst_output).reshape(-1,1)).tolist())\n",
        "lstmdf=scaler.inverse_transform(lstmdf).reshape(1,-1).tolist()[0]\n",
        "\n",
        "names = cycle(['Close Price'])\n",
        "\n",
        "fig = px.line(lstmdf,labels={'value': 'Bitcoin Price','index': 'Timestamp'})\n",
        "fig.update_layout(title_text='Plotting Whole Closing Bitcoin Price With Prediction',\n",
        "                  plot_bgcolor='white', font_size=15, font_color='black',legend_title_text='Bitcoin')\n",
        "\n",
        "fig.for_each_trace(lambda t:  t.update(name = next(names)))\n",
        "\n",
        "fig.update_xaxes(showgrid=False)\n",
        "fig.update_yaxes(showgrid=False)\n",
        "fig.show()"
      ],
      "metadata": {
        "colab": {
          "base_uri": "https://localhost:8080/",
          "height": 542
        },
        "id": "tBUylygDsEEH",
        "outputId": "65b302d0-126d-4fdf-833b-1cd17a49aea3"
      },
      "execution_count": 73,
      "outputs": [
        {
          "output_type": "display_data",
          "data": {
            "text/html": [
              "<html>\n",
              "<head><meta charset=\"utf-8\" /></head>\n",
              "<body>\n",
              "    <div>            <script src=\"https://cdnjs.cloudflare.com/ajax/libs/mathjax/2.7.5/MathJax.js?config=TeX-AMS-MML_SVG\"></script><script type=\"text/javascript\">if (window.MathJax) {MathJax.Hub.Config({SVG: {font: \"STIX-Web\"}});}</script>                <script type=\"text/javascript\">window.PlotlyConfig = {MathJaxConfig: 'local'};</script>\n",
              "        <script src=\"https://cdn.plot.ly/plotly-2.8.3.min.js\"></script>                <div id=\"d2d7a7df-1b6e-4973-8f4e-56209e76b419\" class=\"plotly-graph-div\" style=\"height:525px; width:100%;\"></div>            <script type=\"text/javascript\">                                    window.PLOTLYENV=window.PLOTLYENV || {};                                    if (document.getElementById(\"d2d7a7df-1b6e-4973-8f4e-56209e76b419\")) {                    Plotly.newPlot(                        \"d2d7a7df-1b6e-4973-8f4e-56209e76b419\",                        [{\"hovertemplate\":\"variable=0<br>Timestamp=%{x}<br>Bitcoin Price=%{y}<extra></extra>\",\"legendgroup\":\"0\",\"line\":{\"color\":\"#636efa\",\"dash\":\"solid\"},\"marker\":{\"symbol\":\"circle\"},\"mode\":\"lines\",\"name\":\"Close Price\",\"showlegend\":true,\"x\":[0,1,2,3,4,5,6,7,8,9,10,11,12,13,14,15,16,17,18,19,20,21,22,23,24,25,26,27,28,29,30,31,32,33,34,35,36,37,38,39,40,41,42,43,44,45,46,47,48,49,50,51,52,53,54,55,56,57,58,59,60,61,62,63,64,65,66,67,68,69,70,71,72,73,74,75,76,77,78,79,80,81,82,83,84,85,86,87,88,89,90,91,92,93,94,95,96,97,98,99,100,101,102,103,104,105,106,107,108,109,110,111,112,113,114,115,116,117,118,119,120,121,122,123,124,125,126,127,128,129,130,131,132,133,134,135,136,137,138,139,140,141,142,143,144,145,146,147,148,149,150,151,152,153,154,155,156,157,158,159,160,161,162,163,164,165,166,167,168,169,170,171,172,173,174,175,176,177,178,179,180,181,182,183,184,185,186,187,188,189,190,191,192,193,194,195,196,197,198,199,200,201,202,203,204,205,206,207,208,209,210,211,212,213,214,215,216,217,218,219,220,221,222,223,224,225,226,227,228,229,230,231,232,233,234,235,236,237,238,239,240,241,242,243,244,245,246,247,248,249,250,251,252,253,254,255,256,257,258,259,260,261,262,263,264,265,266,267,268,269,270,271,272,273,274,275,276,277,278,279,280,281,282,283,284,285,286,287,288,289,290,291,292,293,294,295,296,297,298,299,300,301,302,303,304,305,306,307,308,309,310,311,312,313,314,315,316,317,318,319,320,321,322,323,324,325,326,327,328,329,330,331,332,333,334,335,336,337,338,339,340,341,342,343,344,345,346,347,348,349,350,351,352,353,354,355,356,357,358,359,360,361,362,363,364,365,366,367,368,369,370,371,372,373,374,375,376,377,378,379,380,381,382,383,384,385,386,387,388,389,390,391,392,393,394,395,396,397,398,399,400,401,402,403,404,405,406,407,408,409,410,411,412,413,414,415,416,417,418,419,420,421,422,423,424,425,426,427,428,429,430,431,432,433,434,435,436,437,438,439,440,441,442,443,444,445,446,447,448,449,450,451,452,453,454,455,456,457,458,459,460,461,462,463,464,465,466,467,468,469,470,471,472,473,474,475,476,477,478,479,480,481,482,483,484,485,486,487,488,489,490,491,492,493,494,495,496,497,498,499,500,501,502,503,504,505,506,507,508,509,510,511,512,513,514,515,516,517,518,519,520,521,522,523,524,525,526,527,528,529,530,531,532,533,534,535,536,537,538,539,540,541,542,543,544,545,546,547,548,549,550,551,552,553,554,555,556,557,558,559,560,561,562,563,564,565,566,567,568,569,570,571,572,573,574,575,576,577,578,579,580,581,582,583,584,585,586,587,588,589,590,591,592,593,594,595,596,597,598,599,600,601,602,603,604,605,606,607,608,609,610,611,612,613,614,615,616,617,618,619,620,621,622,623,624,625,626,627,628,629,630,631,632,633,634,635,636,637,638,639,640,641,642,643,644,645,646,647,648,649,650,651,652,653,654,655,656,657,658,659,660,661,662,663,664,665,666,667,668,669,670,671,672,673,674,675,676,677,678,679,680,681,682,683,684,685,686,687,688,689,690,691,692,693,694,695,696,697,698,699,700,701,702,703,704,705,706,707,708,709,710,711,712,713,714,715,716,717,718,719,720,721,722,723,724,725,726,727,728,729,730,731,732,733,734,735,736,737,738,739,740,741,742,743,744,745,746,747,748,749,750,751,752,753,754,755,756,757,758,759,760,761,762,763,764,765,766,767,768,769,770,771,772,773,774,775,776,777,778,779,780,781,782,783,784,785,786,787,788,789,790,791,792,793,794,795,796,797,798,799,800,801,802,803,804,805,806,807,808,809,810,811,812,813,814,815,816,817,818,819,820,821,822,823,824,825,826,827,828,829,830,831,832,833,834,835,836,837,838,839,840,841,842,843,844,845,846,847,848,849,850,851,852,853,854,855,856,857,858,859,860,861,862,863,864,865,866,867,868,869,870,871,872,873,874,875,876,877,878,879,880,881,882,883,884,885,886,887,888,889,890,891,892,893,894,895,896,897,898,899,900,901,902,903,904,905,906,907,908,909,910,911,912,913,914,915,916,917,918,919,920,921,922,923,924,925,926,927,928,929,930,931,932,933,934,935,936,937,938,939,940,941,942,943,944,945,946,947,948,949,950,951,952,953,954,955,956,957,958,959,960,961,962,963,964,965,966,967,968,969,970,971,972,973,974,975,976,977,978,979,980,981,982,983,984,985,986,987,988,989,990,991,992,993,994,995,996,997,998,999,1000,1001,1002,1003,1004,1005,1006,1007,1008,1009,1010,1011,1012,1013,1014,1015,1016,1017,1018,1019,1020,1021,1022,1023,1024,1025,1026,1027,1028,1029,1030,1031,1032,1033,1034,1035,1036,1037,1038,1039,1040,1041,1042,1043,1044,1045,1046,1047,1048,1049,1050,1051,1052,1053,1054,1055,1056,1057,1058,1059,1060,1061,1062,1063,1064,1065,1066,1067,1068,1069,1070,1071,1072,1073,1074,1075,1076,1077,1078,1079,1080,1081,1082,1083,1084,1085,1086,1087,1088,1089,1090,1091,1092,1093,1094,1095,1096,1097,1098,1099,1100,1101,1102,1103,1104,1105,1106,1107,1108,1109,1110,1111,1112,1113,1114,1115,1116,1117,1118,1119,1120,1121,1122,1123,1124,1125,1126,1127,1128,1129,1130,1131,1132,1133,1134,1135,1136,1137,1138,1139,1140,1141,1142,1143,1144,1145,1146,1147,1148,1149,1150,1151,1152,1153,1154,1155,1156,1157,1158,1159,1160,1161,1162,1163,1164,1165,1166,1167,1168,1169,1170,1171,1172,1173,1174,1175,1176,1177,1178,1179,1180,1181,1182,1183,1184,1185,1186,1187,1188,1189,1190,1191,1192,1193,1194,1195,1196,1197,1198,1199,1200,1201,1202,1203,1204,1205,1206,1207,1208,1209,1210,1211,1212,1213,1214,1215,1216,1217,1218,1219,1220,1221,1222,1223,1224,1225,1226,1227,1228,1229,1230,1231,1232,1233,1234,1235,1236,1237,1238,1239,1240,1241,1242,1243,1244,1245,1246,1247,1248,1249,1250,1251,1252,1253,1254,1255,1256,1257,1258,1259,1260,1261,1262,1263,1264,1265,1266,1267,1268,1269,1270,1271,1272,1273,1274,1275,1276,1277,1278,1279,1280,1281,1282,1283,1284,1285,1286,1287,1288,1289,1290,1291,1292,1293,1294,1295,1296,1297,1298,1299,1300,1301,1302,1303,1304,1305,1306,1307,1308,1309,1310,1311,1312,1313,1314,1315,1316,1317,1318,1319,1320,1321,1322,1323,1324,1325,1326,1327,1328,1329,1330,1331,1332,1333,1334,1335,1336,1337,1338,1339,1340,1341,1342,1343,1344,1345,1346,1347,1348,1349,1350,1351,1352,1353,1354,1355,1356,1357,1358,1359,1360,1361,1362,1363,1364,1365,1366,1367,1368,1369,1370,1371,1372,1373,1374,1375,1376,1377,1378,1379,1380,1381,1382,1383,1384,1385,1386,1387,1388,1389,1390,1391,1392,1393,1394,1395,1396,1397,1398,1399,1400,1401,1402,1403,1404,1405,1406,1407,1408,1409,1410,1411,1412,1413,1414,1415,1416,1417,1418,1419,1420,1421,1422,1423,1424,1425,1426,1427,1428,1429,1430,1431,1432,1433,1434,1435,1436,1437,1438,1439,1440,1441,1442,1443,1444,1445,1446,1447,1448,1449,1450,1451,1452,1453,1454,1455,1456,1457,1458,1459,1460,1461,1462,1463,1464,1465,1466,1467,1468,1469,1470,1471,1472,1473,1474,1475,1476,1477,1478,1479,1480,1481,1482,1483,1484,1485,1486,1487,1488,1489,1490,1491,1492,1493,1494,1495,1496,1497,1498,1499,1500,1501,1502,1503,1504,1505,1506,1507,1508,1509,1510,1511,1512,1513,1514,1515,1516,1517,1518,1519,1520,1521,1522,1523,1524,1525,1526,1527,1528,1529,1530,1531,1532,1533,1534,1535,1536,1537,1538,1539,1540,1541,1542,1543,1544,1545,1546,1547,1548,1549,1550,1551,1552,1553,1554,1555,1556,1557,1558,1559,1560,1561,1562,1563,1564,1565,1566,1567,1568,1569,1570,1571,1572,1573,1574,1575,1576,1577,1578,1579,1580,1581,1582,1583,1584,1585,1586,1587,1588,1589,1590,1591,1592,1593,1594,1595,1596,1597,1598,1599,1600,1601,1602,1603,1604,1605,1606,1607,1608,1609,1610,1611,1612,1613,1614,1615,1616,1617,1618,1619,1620,1621,1622,1623,1624,1625,1626,1627,1628,1629,1630,1631,1632,1633,1634,1635,1636,1637,1638,1639,1640,1641,1642,1643,1644,1645,1646,1647,1648,1649,1650,1651,1652,1653,1654,1655,1656,1657,1658,1659,1660,1661,1662,1663,1664,1665,1666,1667,1668,1669,1670,1671,1672,1673,1674,1675,1676,1677,1678,1679,1680,1681,1682,1683,1684,1685,1686,1687,1688,1689,1690,1691,1692,1693,1694,1695,1696,1697,1698,1699,1700,1701,1702,1703,1704,1705,1706,1707,1708,1709,1710,1711,1712,1713,1714,1715,1716,1717,1718,1719,1720,1721,1722,1723,1724,1725,1726,1727,1728,1729,1730,1731,1732,1733,1734,1735,1736,1737,1738,1739,1740,1741,1742,1743,1744,1745,1746,1747,1748,1749,1750,1751,1752,1753,1754,1755,1756,1757,1758,1759,1760,1761,1762,1763,1764,1765,1766,1767,1768,1769,1770,1771,1772,1773,1774,1775,1776,1777,1778,1779,1780,1781,1782,1783,1784,1785,1786,1787,1788,1789,1790,1791,1792,1793,1794,1795,1796,1797,1798,1799,1800,1801,1802,1803,1804,1805,1806,1807,1808,1809,1810,1811,1812,1813,1814,1815,1816,1817,1818,1819,1820,1821,1822,1823,1824,1825,1826,1827,1828,1829,1830,1831,1832,1833,1834,1835,1836,1837,1838,1839,1840,1841,1842,1843,1844,1845,1846,1847,1848,1849,1850,1851,1852,1853,1854,1855,1856,1857,1858,1859,1860,1861,1862,1863,1864,1865,1866,1867,1868,1869],\"xaxis\":\"x\",\"y\":[18856.25,17295.2,16488.98,15492.640000000001,13326.610000000002,13300.0,13500.0,13699.340000000002,15689.01,15459.990000000002,14182.110000000002,14378.9,12440.010000000002,13716.36,13380.000000000002,14675.110000000002,14919.51,15059.540000000003,16960.39,17069.79,16150.03,14902.54,14400.0,14907.090000000002,13238.780000000002,13740.01,14210.000000000002,13474.990000000002,13539.930000000002,10900.0,10988.79,10961.97,11474.98,12799.940000000002,11530.0,10760.05,10799.18,11349.99,11175.27,11089.0,11491.000000000002,11879.950000000003,11251.0,10237.51,10285.1,9224.52,8873.03,9199.96,8184.810000000001,6939.99,7652.14,7599.0,7784.02,8683.92,8533.98,8063.879999999999,8903.0,8539.9,9449.99,10000.09,10159.98,11039.55,10383.43,11153.0,11200.99,10437.6,9811.04,10131.04,9694.51,9590.0,10324.0,10569.04,10326.76,10920.0,11039.0,11464.48,11515.0,11454.000000000002,10716.48,9910.0,9271.64,9227.0,8770.22,9533.57,9131.34,9150.0,8170.0,8240.98,8260.0,7824.8,8189.989999999999,8600.0,8909.98,8885.0,8722.9,8898.03,8546.86,8470.15,8134.2300000000005,7795.51,7949.3,7090.14,6840.23,6923.91,6813.01,7056.0,7405.21,6796.1,6770.76,6601.39,6895.8,7018.0,6782.72,6843.9,6953.79,7923.0,7877.41,7999.01,8355.0,8064.92,7885.02,8173.0,8278.0,8856.98,8915.31,8787.02,8934.01,9619.99,8869.99,9266.0,8915.35,9348.0,9419.0,9246.01,9071.48,9247.84,9750.0,9713.99,9864.0,9659.01,9365.0,9187.56,9310.0,9002.2,8400.0,8465.94,8679.71,8663.34,8462.0,8330.0,8041.459999999999,8239.81,8233.49,8526.98,8381.24,7977.11,7501.95,7575.01,7457.0,7333.96,7338.99,7099.0,7461.29,7375.96,7485.01,7521.01,7640.03,7714.26,7487.0,7625.0,7658.84,7691.08,7603.44,7491.73,6764.99,6872.0,6530.0,6292.78,6635.98,6388.9,6483.98,6449.61,6712.46,6741.21,6761.51,6718.84,6045.0,6149.98,6136.97,6252.0,6070.78,6133.73,5853.98,6197.92,6390.07,6356.81,6615.29,6513.86,6586.98,6529.2,6609.78,6756.98,6712.1,6662.12,6296.91,6378.07,6250.57,6214.57,6251.99,6353.01,6723.35,7317.44,7381.9,7466.21,7337.53,7398.78,7394.79,7721.01,8397.24,8175.640000000001,7920.0,8188.570000000001,8225.04,8211.0,8173.920000000001,7730.93,7604.58,7525.71,7418.78,7009.84,7024.19,6934.82,6720.06,6285.0,6529.79,6144.01,6232.35,6308.33,6246.35,6188.08,6267.16,6311.75,6584.49,6387.96,6477.53,6254.84,6480.0,6360.89,6525.01,6681.64,6733.64,6700.0,6908.64,7076.11,7031.22,6984.84,7011.21,7200.01,7302.01,7263.02,7359.06,6700.0,6516.01,6395.54,6185.05,6250.81,6312.0,6294.91,6338.62,6487.38,6476.63,6514.96,6505.0,6248.69,6336.45,6391.89,6492.0,6759.02,6723.05,6708.0,6581.39,6447.54,6465.12,6689.13,6634.58,6596.38,6626.57,6611.61,6525.79,6510.0,6593.79,6635.65,6594.27,6615.26,6673.01,6656.61,6631.0,6252.68,6298.01,6332.93,6339.34,6752.5,6759.27,6740.89,6618.96,6528.88,6588.4,6590.11,6581.2,6553.51,6565.5,6528.09,6538.63,6505.6,6489.93,6344.5,6330.87,6371.93,6410.0,6433.98,6387.09,6485.85,6468.99,6519.11,6578.46,6479.84,6419.99,6433.05,6449.81,6453.07,6457.66,5922.41,5753.4,5655.94,5628.29,5662.0,4910.03,4558.86,4661.07,4370.0,4420.61,3932.44,4085.7799999999997,3862.2,3875.21,4264.85,4295.84,4041.32,4190.02,4161.01,3884.01,3951.64,3769.84,3508.75,3403.55,3410.93,3545.37,3432.88,3380.39,3445.0,3302.06,3224.17,3211.72,3228.67,3509.08,3652.98,3662.22,4049.62,3838.66,3948.91,3929.71,4008.01,3745.79,3777.74,3567.91,3839.26,3695.32,3801.91,3702.9,3797.14,3858.56,3766.78,3792.01,3770.96,3987.6,3975.45,3955.13,3966.65,3585.88,3601.31,3583.13,3476.81,3626.09,3553.06,3591.84,3616.21,3594.87,3665.3,3539.28,3526.9,3570.93,3552.82,3569.62,3565.29,3565.25,3550.84,3434.15,3411.04,3458.18,3434.1,3462.07,3504.77,3458.11,3463.22,3471.59,3405.37,3398.4,3659.04,3665.18,3680.06,3631.05,3631.46,3609.4,3590.56,3602.47,3618.41,3667.58,3898.6,3907.79,3969.74,3937.31,3962.0,4117.76,3743.56,3827.92,3809.23,3818.07,3813.69,3823.0,3819.93,3807.75,3715.3,3857.73,3861.84,3873.64,3864.89,3943.04,3916.82,3871.61,3882.73,3866.0,3877.12,3923.76,4005.98,3981.14,3987.81,4015.53,4043.0399999999995,3980.64,3986.93,4006.01,3992.18,3936.12,3948.55,4038.0499999999997,4027.81,4103.25,4106.97,4103.95,4144.56,4857.29,4932.6,4898.66,5004.95,5043.89,5170.27,5236.9,5150.0,5308.25,5017.37,5048.01,5045.22,5131.3,5024.95,5173.72,5202.82,5258.44,5258.68,5291.73,5256.14,5357.14,5493.31,5415.0,5219.9,5314.1,5295.69,5307.52,5238.14,5320.81,5383.2,5492.87,5772.69,5829.45,5775.62,5747.79,5846.34,5987.29,6209.18,6373.33,7076.22,6967.31,7790.71,7947.56,8169.870000000001,7866.59,7355.26,7257.45,8148.4800000000005,7938.15,7904.87,7628.43,7851.51,7964.87,8025.41,8614.43,8756.32,8715.64,8645.68,8269.54,8555.0,8544.07,8725.98,8115.82,7687.03,7776.5,7786.7,7980.53,7893.62,7628.13,7982.75,7884.9,8127.639999999999,8218.54,8650.0,8808.7,8953.33,9313.96,9081.55,9255.49,9517.12,10159.86,10729.5,10906.07,11056.59,11820.86,13093.8,11329.99,12400.630000000001,11903.130000000001,10854.1,10624.93,10842.85,11940.000000000002,11145.67,10970.73,11256.490000000002,11406.24,12238.600000000002,12543.410000000002,12108.370000000003,11342.89,11757.22,11355.760000000002,10174.18,10838.72,9439.59,9667.92,10627.16,10504.29,10740.23,10589.45,10340.31,9864.91,9763.28,9879.87,9824.0,9476.52,9541.54,9507.64,9574.21,10080.53,10374.99,10523.75,10816.86,10929.23,11828.800000000001,11481.690000000002,11975.03,11999.77,11879.99,11309.31,11549.97,11396.08,10892.71,10050.37,10293.93,10331.54,10216.02,10306.78,10915.54,10760.51,10142.57,10099.88,10389.55,10134.35,10142.69,10372.25,10185.05,9721.0,9498.44,9584.54,9587.47,9724.98,10340.0,10615.28,10567.02,10564.49,10298.73,10455.88,10381.18,10303.12,10098.15,10158.33,10415.01,10342.06,10335.02,10302.01,10251.31,10187.82,10156.99,10244.29,10168.59,9986.39,10028.87,9702.25,8493.14,8430.05,8063.73,8177.91,8198.81,8043.820000000001,8289.34,8292.44,8359.94,8223.96,8137.13,8126.19,7854.25,8190.090000000001,8168.390000000001,8560.74,8558.03,8258.5,8300.09,8275.01,8348.2,8159.289999999999,7991.74,8070.579999999999,7947.01,7948.01,8223.35,8197.27,8020.0,7466.62,7412.41,8655.02,9230.0,9529.93,9205.14,9407.62,9154.72,9140.85,9231.61,9289.52,9194.71,9393.35,9308.66,9339.05,9216.2,8773.73,8809.41,9039.47,8733.27,8821.94,8777.12,8646.68,8471.73,8491.02,8502.4,8187.17,8133.639999999999,8098.01,7627.74,7268.23,7311.57,6903.28,7109.57,7156.14,7508.52,7419.49,7739.68,7541.89,7390.89,7294.28,7292.71,7194.32,7389.0,7527.47,7488.21,7510.11,7338.64,7224.13,7210.0,7198.08,7258.48,7064.05,7118.59,6891.72,6623.82,7277.83,7150.3,7187.83,7132.75,7501.44,7317.09,7255.77,7204.63,7202.0,7254.74,7316.14,7388.24,7246.0,7195.23,7200.85,6965.71,7344.96,7354.11,7358.75,7758.0,8145.280000000001,8055.98,7817.76,8197.02,8020.01,8184.98,8110.34,8810.01,8821.41,8720.01,8913.28,8915.96,8701.7,8642.35,8736.03,8682.36,8404.52,8439.0,8340.58,8615.0,8907.57,9374.21,9301.53,9513.21,9352.89,9384.61,9331.51,9292.24,9197.02,9612.04,9772.0,9813.73,9895.05,10151.75,9851.83,10223.08,10326.46,10229.63,10344.36,9904.72,9917.27,9706.0,10164.71,9593.79,9596.42,9677.05,9650.86,9936.4,9656.13,9315.84,8785.25,8823.21,8692.91,8523.61,8531.88,8915.24,8760.07,8750.87,9054.68,9131.88,8886.66,8033.31,7929.87,7894.56,7934.52,4800.0,5578.6,5172.06,5361.3,5028.97,5312.64,5393.04,6162.37,6208.36,6186.98,5816.19,6467.31,6744.72,6677.43,6737.36,6359.11,6236.65,5881.42,6394.38,6410.44,6642.92,6794.09,6734.1,6856.99,6772.78,7329.9,7197.32,7361.28,7283.54,6858.92,6876.83,6903.79,6837.91,6868.7,6621.24,7101.94,7027.55,7248.6,7120.74,6826.83,6841.37,7125.14,7482.39,7505.0,7538.67,7693.1,7774.62,7738.98,8778.57,8620.0,8826.96,8972.05,8894.16,8871.96,9021.83,9142.92,9986.4,9800.01,9539.4,8722.77,8561.52,8810.79,9309.37,9791.98,9316.42,9381.27,9680.04,9733.93,9775.53,9511.43,9068.65,9170.0,9179.15,8720.34,8900.35,8841.18,9204.07,9575.89,9427.07,9697.72,9448.27,10200.77,9518.04,9666.24,9789.06,9621.16,9666.3,9746.99,9782.01,9772.43,9885.0,9280.4,9465.13,9473.34,9342.1,9426.02,9525.59,9465.14,9386.32,9310.23,9358.95,9294.69,9685.69,9624.89,9296.49,9249.49,9162.21,9012.0,9116.35,9192.56,9138.55,9232.0,9086.54,9058.26,9135.46,9069.41,9344.2,9257.39,9436.06,9232.43,9288.34,9234.03,9302.75,9242.62,9255.85,9197.6,9133.72,9154.32,9170.28,9208.99,9160.78,9390.0,9518.16,9603.27,9537.8,9700.42,9931.54,11029.96,10906.27,11100.53,11099.61,11335.46,11801.17,11071.35,11219.81,11191.97,11744.910000000002,11762.460000000001,11594.230000000001,11761.41,11681.68,11892.920000000002,11392.08,11564.330000000002,11780.000000000002,11760.540000000003,11852.4,11911.0,12281.13,11945.010000000002,11754.590000000002,11853.55,11531.340000000002,11662.96,11648.130000000001,11748.2,11318.420000000002,11461.430000000002,11330.380000000001,11526.91,11465.840000000002,11711.160000000002,11649.510000000002,11921.970000000001,11388.540000000003,10140.85,10446.25,10166.69,10256.2,10373.44,10126.65,10219.2,10336.87,10387.89,10440.92,10332.83,10671.77,10785.31,10954.01,10939.99,10933.39,11080.65,10920.28,10417.22,10529.61,10241.46,10736.32,10686.67,10728.6,10774.25,10696.12,10840.48,10776.59,10619.13,10570.4,10542.06,10666.63,10792.21,10599.66,10666.39,10925.57,11050.64,11293.22,11369.02,11528.25,11420.560000000001,11417.89,11505.120000000003,11319.320000000002,11360.200000000003,11503.140000000001,11751.47,11909.99,12780.96,12968.520000000002,12923.07,13111.73,13028.830000000002,13052.19,13636.170000000002,13266.4,13455.7,13560.1,13791.0,13761.500000000002,13549.370000000003,14023.530000000002,14144.010000000002,15590.020000000002,15579.920000000002,14818.300000000001,15475.1,15328.410000000002,15297.21,15684.240000000002,16291.86,16320.7,16070.45,15957.000000000002,16713.57,17659.38,17776.12,17802.82,18655.67,18703.8,18414.43,18368.0,19160.01,18719.11,17149.47,17139.52,17719.85,18184.99,19695.87,18764.96,19204.09,19421.9,18650.52,19147.66,19359.4,19166.9,18324.11,18541.28,18254.63,18036.53,18808.69,19174.99,19273.14,19426.43,21335.52,22797.16,23107.39,23821.61,23455.52,22719.71,23810.79,23232.76,23729.2,24712.47,26493.39,26281.66,27079.41,27385.0,28875.54,28923.63,29331.69,32178.330000000005,33000.05,31988.71,33949.53,36769.36,39432.28,40582.81,40088.22,38150.02,35404.47,34051.24,37371.38,39144.5,36742.22,35994.98,35828.61,36631.27,35891.49,35468.23,30850.13,32945.17,32078.0,32259.899999999998,32254.2,32467.77,30366.15,33364.86,34252.2,34262.88,33092.98,33526.37,35466.24,37618.87,36936.66,38290.24,39186.94,38795.69,46374.87,46420.42,44807.58,47969.51,47287.6,47153.69,48577.79,47911.1,49133.45,52119.71,51552.6,55906.0,55841.19,57408.57,54087.67,48891.0,49676.2,47073.73,46276.87,46106.43,45135.66,49587.03,48440.65,50349.37,48374.09,48751.71,48882.2,50971.75,52375.17,54884.5,55851.59,57773.16,57221.72,61188.39,58968.31,55605.2,56900.75,58912.97,57648.16,58030.01,58102.28,57351.56,54083.25,54340.89,52303.65,51293.78,55025.59,55817.14,55777.63,57635.47,58746.57,58740.55,58720.44,58950.01,57051.94,58202.01,59129.99,57991.15,55953.45,58077.52,58142.54,59769.13,60002.43,59860.0,63575.0,62959.53,63159.98,61334.8,60006.66,56150.01,55633.14,56425.0,53787.63,51690.96,51125.14,50047.84,49066.77,54001.39,55011.97,54846.22,53555.0,57694.27,57800.37,56578.21,57169.39,53200.01,57436.11,56393.68,57314.75,58862.05,58240.84,55816.14,56670.02,49631.32,49670.97,49841.45,46762.99,46431.5,43538.04,42849.78,36690.09,40526.64,37252.01,37449.73,34655.25,38796.29,38324.72,39241.91,38529.98,35663.49,34605.15,35641.27,37253.81,36693.09,37568.68,39246.79,36829.0,35513.2,35796.31,33552.79,33380.81,37388.05,36675.72,37331.98,35546.11,39020.57,40516.29,40144.04,38349.01,38092.97,35819.84,35483.72,35600.16,31608.93,32509.559999999998,33678.07,34663.09,31584.45,32283.65,34700.34,34494.89,35911.73,35045.0,33504.69,33786.55,34669.13,35286.51,33690.14,34220.01,33862.12,32875.71,33815.81,33502.87,34258.99,33086.63,32729.770000000004,32820.02,31880.0,31383.87,31520.07,31778.56,30839.65,29790.35,32144.51,32287.830000000005,33634.09,34258.14,35381.02,37237.6,39457.87,40019.56,40016.48,42206.37,41461.83,39845.44,39147.82,38207.05,39723.18,40862.46,42836.87,44572.54,43794.37,46253.4,45584.99,45511.0,44399.0,47800.0,47068.51,46973.82,45901.29,44695.95,44705.29,46760.62,49322.47,48821.87,49239.22,49488.85,47674.01,48973.32,46843.87,49069.9,48895.35,48767.83,46982.91,47100.89,48810.52,49246.64,49999.14,49915.64,51756.88,52663.9,46863.73,46048.31,46395.14,44850.91,45173.69,46025.24,44940.73,47111.52,48121.41,47737.82,47299.98,48292.74,47241.75,43015.62,40734.38,43543.61,44865.26,42810.57,42670.64,43160.9,42147.35,41026.54,41524.28,43824.1,48141.61,47634.9,48200.01,49224.94,51471.99,55315.0,53785.22,53951.43,54949.72,54659.0,57471.35,55996.93,57367.0,57347.94,61672.42,60875.57,61528.33,62009.84,64280.59,66001.41,62193.15,60688.22,61286.75,60852.22,63078.78,60328.81,58413.44,60575.89,62253.71,61859.19,61299.8,60911.11,63219.99,62896.48,61395.01,60937.12,61470.61,63273.59,67525.83,66947.66,64882.43,64774.26,64122.23,64380.0,65519.09999999999,63606.74,60058.87,60344.87,56891.62,58052.24,59707.51,58622.02,56247.18,57541.27,57138.29,58960.36,53726.53,54721.03,57274.88,57776.25,56950.56,57184.07,56480.34,53601.05,49152.47,49396.33,50441.92,50588.95,50471.19,47545.59,47140.54,49389.99,50053.9,46702.75,48343.28,48864.98,47632.38,46131.2,46834.48,46681.23,46914.16,48889.88,48588.16,50838.81,50820.0,50399.66,50775.49,50701.44,47543.74,46464.66,47120.87,46216.93,47722.65,47286.18,46446.1,45832.01,43451.13,43082.31,41566.48,41679.74,41864.62,41822.49,42729.29,43902.66,42560.11,43059.96,43084.29,43071.66,42201.62,42352.12,41660.01,40680.91,36445.31,35071.42,36244.55,36660.35,36958.32,36809.34,37160.1,37716.56,38166.84,37881.76,38466.9,38694.59,36896.36,37311.61,41574.25,41382.59,42380.87,43839.99,44042.99,44372.72,43495.44,42373.73,42217.87,42053.66,42535.94,44544.86,43873.56,40515.7,39974.44,40079.17,38386.89,37008.16,38230.33,37250.01,38327.21,39219.17,39116.72,37699.07,43160.0,44421.2,43892.98,42454.0,39148.66,39397.96,38420.81,37988.0,38730.63,41941.71,39422.0,38729.57,38807.36,37777.34,39671.37,39280.33,41114.0,40917.9,41757.51,42201.13,41262.11,41002.25,42364.13,42882.76,43991.46,44313.16,44511.27,46827.76,47122.21,47434.8,47067.99,45510.34,46283.49,45811.0,46407.35,46580.51,45497.55,43170.47,43444.19,42252.01,42753.97,42158.85,39530.45,40074.94,41147.79,39942.38,40551.9,40378.71,39678.12,40801.13,41493.18,41358.19,40480.01,39709.18,39441.6,39450.13,40426.08,38112.65,39235.72,39742.07,38596.11,37630.8,38468.35,38525.16,37728.95,39690.0,36552.97,36013.77,35472.39,34038.4,30076.31,31017.1,29103.94,29029.75,29287.05,30086.74,31328.89,29874.01,30444.93,28715.32,30319.23,29201.01,29445.06,30293.94,29109.15,29654.58,29542.15,29201.35,28629.8,29031.33,29468.1,31734.22,31801.04,29805.83,30452.62,29700.21,29864.04,29919.21,31373.1,31125.33,30204.77,30109.93,29091.88,28424.7,26574.53,22487.41,22136.41,22583.72,20401.31,20468.81,18970.79,20574.0,20573.89,20723.52,19987.99,21110.13,21237.69,21491.19,21038.07,20742.56,20281.29,20123.01,19942.21,19279.8,19252.81,19315.83,20236.71,20175.83,20564.51,21624.98,21594.75,21591.83,20862.47,19963.61,19328.75,20234.87,20588.84,20830.04,21195.6,20798.16,22432.58,23396.62,23223.3,23152.19,22684.83,22451.07,22579.68,21310.9,21254.67,22952.45,23842.93,23773.75,23643.51,23293.32,23268.01,22987.79,22818.37,22622.98,23312.42,22954.21,23174.39,23810.0,23149.95,23954.05,23934.39,24403.68,24441.38,24305.24,24094.82,23854.74,23342.66,23191.2,20834.39,21140.07,21515.61,21399.83,21529.12,21368.08,21559.04,20241.05,20037.6,19555.61,20285.73,19811.66,20050.02,20131.46,19951.86,19831.9,20000.3,19796.84,18790.61,19292.84,19319.77,21360.11,21648.34,21826.87,22395.74,20173.57,20226.71,19701.88,19803.3,20113.62,19416.18,19537.02,18875.0,18461.36,19401.63,19289.91,18920.5,18807.38,19227.82,19079.13,19412.82,19591.51,19422.61,19310.95,19056.8,19629.08,20337.82,20158.26,19960.67,19530.09,19417.96,19439.02,19131.87,19060.0,19155.53,19375.13,19176.93,19069.39,19262.98,19549.86,19327.44,19123.97,19041.92,19164.37,19204.35,19570.4,19329.72,20080.07,20771.59,20295.11,20591.84,20809.67,20627.48,20490.74,20483.62,20151.84,20207.82,21148.52,21299.37,20905.58,20591.13,18547.23,15922.810000000001,17601.15,17070.31,16812.08,16329.85,16619.46,16900.57,16662.76,16692.56,16700.45,16700.68,16280.23,15781.29,16226.939999999999,16603.11,16598.95,16522.14,16458.57,16428.78,16212.910000000002,16442.53,16443.6,16977.37,17092.74,16885.2,17105.7,16966.35,17088.96,16836.64,17224.1,17128.56,17127.49,17085.05,17209.83,17774.7,17803.15,17356.34,16632.12,16776.52,16738.21,16438.88,16895.56,16824.67,16821.43,16778.5,16836.12,16832.11,16919.39,16706.36,16547.31,16633.47,16607.48,16542.4,16844.733706797808,16950.542798466682,17088.078229767085,17240.994299180955,17404.578775565922,17576.549815857114,17755.430595122576,17940.31259289801,18130.48087641299,18325.6402723521,18525.42948091045,18729.664497943373,18938.361615484508,19151.548625826537,19369.432533632218,19592.046881323757,19819.729009833038,20052.647589626016,20290.921456712782,20534.818950470984,20784.524075045287,21040.228501419722,21302.075982832313,21570.231356329325,21844.838375148775,22126.065709756615,22414.074363779426,22709.002340325715,23011.07964457631,23320.49986422509],\"yaxis\":\"y\",\"type\":\"scattergl\"}],                        {\"template\":{\"data\":{\"bar\":[{\"error_x\":{\"color\":\"#2a3f5f\"},\"error_y\":{\"color\":\"#2a3f5f\"},\"marker\":{\"line\":{\"color\":\"#E5ECF6\",\"width\":0.5},\"pattern\":{\"fillmode\":\"overlay\",\"size\":10,\"solidity\":0.2}},\"type\":\"bar\"}],\"barpolar\":[{\"marker\":{\"line\":{\"color\":\"#E5ECF6\",\"width\":0.5},\"pattern\":{\"fillmode\":\"overlay\",\"size\":10,\"solidity\":0.2}},\"type\":\"barpolar\"}],\"carpet\":[{\"aaxis\":{\"endlinecolor\":\"#2a3f5f\",\"gridcolor\":\"white\",\"linecolor\":\"white\",\"minorgridcolor\":\"white\",\"startlinecolor\":\"#2a3f5f\"},\"baxis\":{\"endlinecolor\":\"#2a3f5f\",\"gridcolor\":\"white\",\"linecolor\":\"white\",\"minorgridcolor\":\"white\",\"startlinecolor\":\"#2a3f5f\"},\"type\":\"carpet\"}],\"choropleth\":[{\"colorbar\":{\"outlinewidth\":0,\"ticks\":\"\"},\"type\":\"choropleth\"}],\"contour\":[{\"colorbar\":{\"outlinewidth\":0,\"ticks\":\"\"},\"colorscale\":[[0.0,\"#0d0887\"],[0.1111111111111111,\"#46039f\"],[0.2222222222222222,\"#7201a8\"],[0.3333333333333333,\"#9c179e\"],[0.4444444444444444,\"#bd3786\"],[0.5555555555555556,\"#d8576b\"],[0.6666666666666666,\"#ed7953\"],[0.7777777777777778,\"#fb9f3a\"],[0.8888888888888888,\"#fdca26\"],[1.0,\"#f0f921\"]],\"type\":\"contour\"}],\"contourcarpet\":[{\"colorbar\":{\"outlinewidth\":0,\"ticks\":\"\"},\"type\":\"contourcarpet\"}],\"heatmap\":[{\"colorbar\":{\"outlinewidth\":0,\"ticks\":\"\"},\"colorscale\":[[0.0,\"#0d0887\"],[0.1111111111111111,\"#46039f\"],[0.2222222222222222,\"#7201a8\"],[0.3333333333333333,\"#9c179e\"],[0.4444444444444444,\"#bd3786\"],[0.5555555555555556,\"#d8576b\"],[0.6666666666666666,\"#ed7953\"],[0.7777777777777778,\"#fb9f3a\"],[0.8888888888888888,\"#fdca26\"],[1.0,\"#f0f921\"]],\"type\":\"heatmap\"}],\"heatmapgl\":[{\"colorbar\":{\"outlinewidth\":0,\"ticks\":\"\"},\"colorscale\":[[0.0,\"#0d0887\"],[0.1111111111111111,\"#46039f\"],[0.2222222222222222,\"#7201a8\"],[0.3333333333333333,\"#9c179e\"],[0.4444444444444444,\"#bd3786\"],[0.5555555555555556,\"#d8576b\"],[0.6666666666666666,\"#ed7953\"],[0.7777777777777778,\"#fb9f3a\"],[0.8888888888888888,\"#fdca26\"],[1.0,\"#f0f921\"]],\"type\":\"heatmapgl\"}],\"histogram\":[{\"marker\":{\"pattern\":{\"fillmode\":\"overlay\",\"size\":10,\"solidity\":0.2}},\"type\":\"histogram\"}],\"histogram2d\":[{\"colorbar\":{\"outlinewidth\":0,\"ticks\":\"\"},\"colorscale\":[[0.0,\"#0d0887\"],[0.1111111111111111,\"#46039f\"],[0.2222222222222222,\"#7201a8\"],[0.3333333333333333,\"#9c179e\"],[0.4444444444444444,\"#bd3786\"],[0.5555555555555556,\"#d8576b\"],[0.6666666666666666,\"#ed7953\"],[0.7777777777777778,\"#fb9f3a\"],[0.8888888888888888,\"#fdca26\"],[1.0,\"#f0f921\"]],\"type\":\"histogram2d\"}],\"histogram2dcontour\":[{\"colorbar\":{\"outlinewidth\":0,\"ticks\":\"\"},\"colorscale\":[[0.0,\"#0d0887\"],[0.1111111111111111,\"#46039f\"],[0.2222222222222222,\"#7201a8\"],[0.3333333333333333,\"#9c179e\"],[0.4444444444444444,\"#bd3786\"],[0.5555555555555556,\"#d8576b\"],[0.6666666666666666,\"#ed7953\"],[0.7777777777777778,\"#fb9f3a\"],[0.8888888888888888,\"#fdca26\"],[1.0,\"#f0f921\"]],\"type\":\"histogram2dcontour\"}],\"mesh3d\":[{\"colorbar\":{\"outlinewidth\":0,\"ticks\":\"\"},\"type\":\"mesh3d\"}],\"parcoords\":[{\"line\":{\"colorbar\":{\"outlinewidth\":0,\"ticks\":\"\"}},\"type\":\"parcoords\"}],\"pie\":[{\"automargin\":true,\"type\":\"pie\"}],\"scatter\":[{\"marker\":{\"colorbar\":{\"outlinewidth\":0,\"ticks\":\"\"}},\"type\":\"scatter\"}],\"scatter3d\":[{\"line\":{\"colorbar\":{\"outlinewidth\":0,\"ticks\":\"\"}},\"marker\":{\"colorbar\":{\"outlinewidth\":0,\"ticks\":\"\"}},\"type\":\"scatter3d\"}],\"scattercarpet\":[{\"marker\":{\"colorbar\":{\"outlinewidth\":0,\"ticks\":\"\"}},\"type\":\"scattercarpet\"}],\"scattergeo\":[{\"marker\":{\"colorbar\":{\"outlinewidth\":0,\"ticks\":\"\"}},\"type\":\"scattergeo\"}],\"scattergl\":[{\"marker\":{\"colorbar\":{\"outlinewidth\":0,\"ticks\":\"\"}},\"type\":\"scattergl\"}],\"scattermapbox\":[{\"marker\":{\"colorbar\":{\"outlinewidth\":0,\"ticks\":\"\"}},\"type\":\"scattermapbox\"}],\"scatterpolar\":[{\"marker\":{\"colorbar\":{\"outlinewidth\":0,\"ticks\":\"\"}},\"type\":\"scatterpolar\"}],\"scatterpolargl\":[{\"marker\":{\"colorbar\":{\"outlinewidth\":0,\"ticks\":\"\"}},\"type\":\"scatterpolargl\"}],\"scatterternary\":[{\"marker\":{\"colorbar\":{\"outlinewidth\":0,\"ticks\":\"\"}},\"type\":\"scatterternary\"}],\"surface\":[{\"colorbar\":{\"outlinewidth\":0,\"ticks\":\"\"},\"colorscale\":[[0.0,\"#0d0887\"],[0.1111111111111111,\"#46039f\"],[0.2222222222222222,\"#7201a8\"],[0.3333333333333333,\"#9c179e\"],[0.4444444444444444,\"#bd3786\"],[0.5555555555555556,\"#d8576b\"],[0.6666666666666666,\"#ed7953\"],[0.7777777777777778,\"#fb9f3a\"],[0.8888888888888888,\"#fdca26\"],[1.0,\"#f0f921\"]],\"type\":\"surface\"}],\"table\":[{\"cells\":{\"fill\":{\"color\":\"#EBF0F8\"},\"line\":{\"color\":\"white\"}},\"header\":{\"fill\":{\"color\":\"#C8D4E3\"},\"line\":{\"color\":\"white\"}},\"type\":\"table\"}]},\"layout\":{\"annotationdefaults\":{\"arrowcolor\":\"#2a3f5f\",\"arrowhead\":0,\"arrowwidth\":1},\"autotypenumbers\":\"strict\",\"coloraxis\":{\"colorbar\":{\"outlinewidth\":0,\"ticks\":\"\"}},\"colorscale\":{\"diverging\":[[0,\"#8e0152\"],[0.1,\"#c51b7d\"],[0.2,\"#de77ae\"],[0.3,\"#f1b6da\"],[0.4,\"#fde0ef\"],[0.5,\"#f7f7f7\"],[0.6,\"#e6f5d0\"],[0.7,\"#b8e186\"],[0.8,\"#7fbc41\"],[0.9,\"#4d9221\"],[1,\"#276419\"]],\"sequential\":[[0.0,\"#0d0887\"],[0.1111111111111111,\"#46039f\"],[0.2222222222222222,\"#7201a8\"],[0.3333333333333333,\"#9c179e\"],[0.4444444444444444,\"#bd3786\"],[0.5555555555555556,\"#d8576b\"],[0.6666666666666666,\"#ed7953\"],[0.7777777777777778,\"#fb9f3a\"],[0.8888888888888888,\"#fdca26\"],[1.0,\"#f0f921\"]],\"sequentialminus\":[[0.0,\"#0d0887\"],[0.1111111111111111,\"#46039f\"],[0.2222222222222222,\"#7201a8\"],[0.3333333333333333,\"#9c179e\"],[0.4444444444444444,\"#bd3786\"],[0.5555555555555556,\"#d8576b\"],[0.6666666666666666,\"#ed7953\"],[0.7777777777777778,\"#fb9f3a\"],[0.8888888888888888,\"#fdca26\"],[1.0,\"#f0f921\"]]},\"colorway\":[\"#636efa\",\"#EF553B\",\"#00cc96\",\"#ab63fa\",\"#FFA15A\",\"#19d3f3\",\"#FF6692\",\"#B6E880\",\"#FF97FF\",\"#FECB52\"],\"font\":{\"color\":\"#2a3f5f\"},\"geo\":{\"bgcolor\":\"white\",\"lakecolor\":\"white\",\"landcolor\":\"#E5ECF6\",\"showlakes\":true,\"showland\":true,\"subunitcolor\":\"white\"},\"hoverlabel\":{\"align\":\"left\"},\"hovermode\":\"closest\",\"mapbox\":{\"style\":\"light\"},\"paper_bgcolor\":\"white\",\"plot_bgcolor\":\"#E5ECF6\",\"polar\":{\"angularaxis\":{\"gridcolor\":\"white\",\"linecolor\":\"white\",\"ticks\":\"\"},\"bgcolor\":\"#E5ECF6\",\"radialaxis\":{\"gridcolor\":\"white\",\"linecolor\":\"white\",\"ticks\":\"\"}},\"scene\":{\"xaxis\":{\"backgroundcolor\":\"#E5ECF6\",\"gridcolor\":\"white\",\"gridwidth\":2,\"linecolor\":\"white\",\"showbackground\":true,\"ticks\":\"\",\"zerolinecolor\":\"white\"},\"yaxis\":{\"backgroundcolor\":\"#E5ECF6\",\"gridcolor\":\"white\",\"gridwidth\":2,\"linecolor\":\"white\",\"showbackground\":true,\"ticks\":\"\",\"zerolinecolor\":\"white\"},\"zaxis\":{\"backgroundcolor\":\"#E5ECF6\",\"gridcolor\":\"white\",\"gridwidth\":2,\"linecolor\":\"white\",\"showbackground\":true,\"ticks\":\"\",\"zerolinecolor\":\"white\"}},\"shapedefaults\":{\"line\":{\"color\":\"#2a3f5f\"}},\"ternary\":{\"aaxis\":{\"gridcolor\":\"white\",\"linecolor\":\"white\",\"ticks\":\"\"},\"baxis\":{\"gridcolor\":\"white\",\"linecolor\":\"white\",\"ticks\":\"\"},\"bgcolor\":\"#E5ECF6\",\"caxis\":{\"gridcolor\":\"white\",\"linecolor\":\"white\",\"ticks\":\"\"}},\"title\":{\"x\":0.05},\"xaxis\":{\"automargin\":true,\"gridcolor\":\"white\",\"linecolor\":\"white\",\"ticks\":\"\",\"title\":{\"standoff\":15},\"zerolinecolor\":\"white\",\"zerolinewidth\":2},\"yaxis\":{\"automargin\":true,\"gridcolor\":\"white\",\"linecolor\":\"white\",\"ticks\":\"\",\"title\":{\"standoff\":15},\"zerolinecolor\":\"white\",\"zerolinewidth\":2}}},\"xaxis\":{\"anchor\":\"y\",\"domain\":[0.0,1.0],\"title\":{\"text\":\"Timestamp\"},\"showgrid\":false},\"yaxis\":{\"anchor\":\"x\",\"domain\":[0.0,1.0],\"title\":{\"text\":\"Bitcoin Price\"},\"showgrid\":false},\"legend\":{\"title\":{\"text\":\"Bitcoin\"},\"tracegroupgap\":0},\"margin\":{\"t\":60},\"title\":{\"text\":\"Plotting Whole Closing Bitcoin Price With Prediction\"},\"font\":{\"size\":15,\"color\":\"black\"},\"plot_bgcolor\":\"white\"},                        {\"responsive\": true}                    ).then(function(){\n",
              "                            \n",
              "var gd = document.getElementById('d2d7a7df-1b6e-4973-8f4e-56209e76b419');\n",
              "var x = new MutationObserver(function (mutations, observer) {{\n",
              "        var display = window.getComputedStyle(gd).display;\n",
              "        if (!display || display === 'none') {{\n",
              "            console.log([gd, 'removed!']);\n",
              "            Plotly.purge(gd);\n",
              "            observer.disconnect();\n",
              "        }}\n",
              "}});\n",
              "\n",
              "// Listen for the removal of the full notebook cells\n",
              "var notebookContainer = gd.closest('#notebook-container');\n",
              "if (notebookContainer) {{\n",
              "    x.observe(notebookContainer, {childList: true});\n",
              "}}\n",
              "\n",
              "// Listen for the clearing of the current output cell\n",
              "var outputEl = gd.closest('.output');\n",
              "if (outputEl) {{\n",
              "    x.observe(outputEl, {childList: true});\n",
              "}}\n",
              "\n",
              "                        })                };                            </script>        </div>\n",
              "</body>\n",
              "</html>"
            ]
          },
          "metadata": {}
        }
      ]
    },
    {
      "cell_type": "code",
      "source": [
        "df = pd.DataFrame(lstmdf)\n",
        "df.to_csv('predicted output.csv')"
      ],
      "metadata": {
        "id": "4h1ZqVszEjX2"
      },
      "execution_count": 74,
      "outputs": []
    }
  ]
}